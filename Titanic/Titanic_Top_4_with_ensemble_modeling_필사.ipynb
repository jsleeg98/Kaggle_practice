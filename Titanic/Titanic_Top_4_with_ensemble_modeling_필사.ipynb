{
  "nbformat": 4,
  "nbformat_minor": 0,
  "metadata": {
    "colab": {
      "name": "Titanic Top 4% with ensemble modeling - 필사.ipynb",
      "provenance": [],
      "collapsed_sections": [],
      "toc_visible": true,
      "authorship_tag": "ABX9TyPdp5eSpo0RPBtgzCaPBAMH",
      "include_colab_link": true
    },
    "kernelspec": {
      "name": "python3",
      "display_name": "Python 3"
    }
  },
  "cells": [
    {
      "cell_type": "markdown",
      "metadata": {
        "id": "view-in-github",
        "colab_type": "text"
      },
      "source": [
        "<a href=\"https://colab.research.google.com/github/jsleeg98/Kaggle_practice/blob/main/Titanic/Titanic_Top_4_with_ensemble_modeling_%ED%95%84%EC%82%AC.ipynb\" target=\"_parent\"><img src=\"https://colab.research.google.com/assets/colab-badge.svg\" alt=\"Open In Colab\"/></a>"
      ]
    },
    {
      "cell_type": "markdown",
      "metadata": {
        "id": "fFImd0aD8XHH"
      },
      "source": [
        "google drive mount"
      ]
    },
    {
      "cell_type": "code",
      "metadata": {
        "colab": {
          "base_uri": "https://localhost:8080/"
        },
        "id": "ApDe8EMV8fp8",
        "outputId": "cca8032c-c145-4e1c-e773-ecc6f9f4bdc3"
      },
      "source": [
        "from google.colab import drive\r\n",
        "drive.mount('/content/drive')"
      ],
      "execution_count": 1,
      "outputs": [
        {
          "output_type": "stream",
          "text": [
            "Mounted at /content/drive\n"
          ],
          "name": "stdout"
        }
      ]
    },
    {
      "cell_type": "markdown",
      "metadata": {
        "id": "bdhd6EWI8gfw"
      },
      "source": [
        "현재 위치 바꾸기"
      ]
    },
    {
      "cell_type": "code",
      "metadata": {
        "colab": {
          "base_uri": "https://localhost:8080/"
        },
        "id": "XOk3fscW8hHR",
        "outputId": "f77da184-d90c-493b-a38a-858dfc2270b7"
      },
      "source": [
        "%cd drive/MyDrive/kaggle/Titanic/"
      ],
      "execution_count": 2,
      "outputs": [
        {
          "output_type": "stream",
          "text": [
            "/content/drive/MyDrive/kaggle/Titanic\n"
          ],
          "name": "stdout"
        }
      ]
    },
    {
      "cell_type": "markdown",
      "metadata": {
        "id": "dJ7fZCua46NE"
      },
      "source": [
        "# Titanic Top 4% with ensemble modeling"
      ]
    },
    {
      "cell_type": "markdown",
      "metadata": {
        "id": "cX6l6nY05OuF"
      },
      "source": [
        "1. Introduction\r\n",
        "2. Load and check data\r\n",
        "  - 2.1 load data\r\n",
        "  - 2.2 Outlier detection\r\n",
        "  - 2.3 joining train and test set\r\n",
        "  - 2.4 check for null and missing values\r\n",
        "3. Feature analysis\r\n",
        "  - 3.1 Numerical values\r\n",
        "  - 3.2 Categorical values\r\n",
        "4. Filling missing Values\r\n",
        "  - 4.1 Age\r\n",
        "5. Feature Engineering\r\n",
        "  - 5.1 Name / Title\r\n",
        "  - 5.2 Family Size\r\n",
        "  - 5.3 Cabin\r\n",
        "  - 5.4 Ticket\r\n",
        "6. Modeling\r\n",
        "  - 6.1 Simple modeling\r\n",
        "    - 6.1.1 Cross validate moeels\r\n",
        "    - 6.1.2 Hyperparameter tunning for best moedels\r\n",
        "    - 6.1.3 Plot learning curves\r\n",
        "    - 6.1.4 Feature importance of the tree based classifiers\r\n",
        "  - 6.2 Ensemble modeling\r\n",
        "    - 6.2.1 Combining models\r\n",
        "  - 6.3 Prediction\r\n",
        "    - 6.3.1 Predict and Submit results\r\n",
        "  "
      ]
    },
    {
      "cell_type": "markdown",
      "metadata": {
        "id": "ud3FAuHs6T8x"
      },
      "source": [
        "# 1. Introduction\r\n",
        "\r\n",
        "This is my first kernel at Kaggle. I choosed the Titanic competition whick is a good way to introduce feature engineering and ensemble modeling. Firstly, I will display some feature analyses then ill focus on the feature engineering. Last part concerns modeling and predicting the survival on the Titanic using and voting precedure.\r\n",
        "\r\n",
        "This script follows three main parts:\r\n",
        "* Feature analysis\r\n",
        "* Feature engineering\r\n",
        "* Modeling"
      ]
    },
    {
      "cell_type": "code",
      "metadata": {
        "id": "zOcXNDRZ68YV"
      },
      "source": [
        "import pandas as pd\r\n",
        "import numpy as np\r\n",
        "import matplotlib.pyplot as plt\r\n",
        "import seaborn as sns\r\n",
        "%matplotlib inline\r\n",
        "\r\n",
        "from collections import Counter\r\n",
        "\r\n",
        "from sklearn.ensemble import RandomForestClassifier, AdaBoostClassifier, GradientBoostingClassifier, ExtraTreesClassifier, VotingClassifier\r\n",
        "from sklearn.discriminant_analysis import LinearDiscriminantAnalysis\r\n",
        "from sklearn.linear_model import LogisticRegression\r\n",
        "from sklearn.neighbors import KNeighborsClassifier\r\n",
        "from sklearn.tree import DecisionTreeClassifier\r\n",
        "from sklearn.neural_network import MLPClassifier\r\n",
        "from sklearn.svm import SVC\r\n",
        "from sklearn.model_selection import GridSearchCV, cross_val_score, StratifiedKFold, learning_curve\r\n",
        "\r\n",
        "sns.set(style = 'white', context = 'notebook', palette = 'deep')\r\n"
      ],
      "execution_count": 3,
      "outputs": []
    },
    {
      "cell_type": "markdown",
      "metadata": {
        "id": "JVs-OnRC71C8"
      },
      "source": [
        "# 2. Load and check data"
      ]
    },
    {
      "cell_type": "markdown",
      "metadata": {
        "id": "cpiBveKv4xE4"
      },
      "source": [
        "## 2.1 load data"
      ]
    },
    {
      "cell_type": "code",
      "metadata": {
        "id": "eoUHwlS08BhA"
      },
      "source": [
        "train = pd.read_csv('train.csv')\r\n",
        "test = pd.read_csv('test.csv')\r\n",
        "IDtest = test['PassengerId']"
      ],
      "execution_count": 4,
      "outputs": []
    },
    {
      "cell_type": "markdown",
      "metadata": {
        "id": "-OfIAJzc8MgQ"
      },
      "source": [
        "## 2.2 Outlier detection\r\n",
        "\r\n",
        "특이치 검출"
      ]
    },
    {
      "cell_type": "code",
      "metadata": {
        "id": "SeLPmnHsER3S"
      },
      "source": [
        "# Outlier detection \r\n",
        "\r\n",
        "def detect_outliers(df,n,features):\r\n",
        "    \"\"\"\r\n",
        "    Takes a dataframe df of features and returns a list of the indices\r\n",
        "    corresponding to the observations containing more than n outliers according\r\n",
        "    to the Tukey method.\r\n",
        "    데이터프레임의 특징을 가져와서 투키법(평균과 특히 다른 것 찾는 것)에 의해 \r\n",
        "    n개 보다 많은 특이 값을 포함한 인덱스의 리스트를 출력한다.\r\n",
        "    \"\"\"\r\n",
        "    outlier_indices = []\r\n",
        "    \r\n",
        "    # iterate over features(columns)\r\n",
        "    for col in features:\r\n",
        "        # 1st quartile (25%)\r\n",
        "        Q1 = np.percentile(df[col], 25)\r\n",
        "        # 3rd quartile (75%)\r\n",
        "        Q3 = np.percentile(df[col],75)\r\n",
        "        # Interquartile range (IQR)\r\n",
        "        IQR = Q3 - Q1\r\n",
        "        \r\n",
        "        # outlier step\r\n",
        "        outlier_step = 1.5 * IQR\r\n",
        "        \r\n",
        "        # Determine a list of indices of outliers for feature col\r\n",
        "        outlier_list_col = df[(df[col] < Q1 - outlier_step) | (df[col] > Q3 + outlier_step )].index\r\n",
        "        \r\n",
        "        # append the found outlier indices for col to the list of outlier indices \r\n",
        "        outlier_indices.extend(outlier_list_col)\r\n",
        "        \r\n",
        "    # select observations containing more than 2 outliers\r\n",
        "    outlier_indices = Counter(outlier_indices)        \r\n",
        "    multiple_outliers = list( k for k, v in outlier_indices.items() if v > n )\r\n",
        "    \r\n",
        "    return multiple_outliers   \r\n",
        "\r\n",
        "# detect outliers from Age, SibSp , Parch and Fare\r\n",
        "Outliers_to_drop = detect_outliers(train,2,[\"Age\",\"SibSp\",\"Parch\",\"Fare\"])"
      ],
      "execution_count": 5,
      "outputs": []
    },
    {
      "cell_type": "markdown",
      "metadata": {
        "id": "aFuFNal79Wl9"
      },
      "source": [
        "Since outliers can have a dramatic effect on the prediction (espacially for regression problems), I choosed to manage them.\r\n",
        "- 특이치가 예측(특히 regression 문제)에 극적인 영향을 줄 수 있기 때문에, 나는 그들을 관리한다.\r\n",
        "\r\n",
        "I used the Tucky method(Tukey JW., 1977) to detect outliers which defines an interquartile range comprised between the 1st and 3rd quartile of the distribution values(IQR). An Outlier is a row that have a feature value outside the (IQR +- an outlier step).\r\n",
        "- 나느 Tucky method를 분포값의 1사분면과 3사분면 사이로 구성된 사분의 범위를 정의하는 특이치를 찾기위해 사용한다. 한 특이점은 특징값이 IQR의 outlier 단계 밖에 값을 가진 한 행이다.\r\n",
        "\r\n",
        "I decided to detect outliers from the numerical values features(Age, SibSp, Parch and Fare). Then, I considered outliers as rows that have at least two outlied numerical values\r\n",
        "- 나는 숫자의 값(Age, SibSp, Parch, Fare)으로부터 특이점을 찾기로 결정한다. 그리고 나는 적어도 두개의 숫자적 특이금을 가지면 한 행을 특이점이라고 간주했다.\r\n"
      ]
    },
    {
      "cell_type": "code",
      "metadata": {
        "colab": {
          "base_uri": "https://localhost:8080/",
          "height": 529
        },
        "id": "4XPkTmQvB_7s",
        "outputId": "07129b79-c38f-4faa-bc4f-b041c256df8e"
      },
      "source": [
        "train.loc[Outliers_to_drop]"
      ],
      "execution_count": 6,
      "outputs": [
        {
          "output_type": "execute_result",
          "data": {
            "text/html": [
              "<div>\n",
              "<style scoped>\n",
              "    .dataframe tbody tr th:only-of-type {\n",
              "        vertical-align: middle;\n",
              "    }\n",
              "\n",
              "    .dataframe tbody tr th {\n",
              "        vertical-align: top;\n",
              "    }\n",
              "\n",
              "    .dataframe thead th {\n",
              "        text-align: right;\n",
              "    }\n",
              "</style>\n",
              "<table border=\"1\" class=\"dataframe\">\n",
              "  <thead>\n",
              "    <tr style=\"text-align: right;\">\n",
              "      <th></th>\n",
              "      <th>PassengerId</th>\n",
              "      <th>Survived</th>\n",
              "      <th>Pclass</th>\n",
              "      <th>Name</th>\n",
              "      <th>Sex</th>\n",
              "      <th>Age</th>\n",
              "      <th>SibSp</th>\n",
              "      <th>Parch</th>\n",
              "      <th>Ticket</th>\n",
              "      <th>Fare</th>\n",
              "      <th>Cabin</th>\n",
              "      <th>Embarked</th>\n",
              "    </tr>\n",
              "  </thead>\n",
              "  <tbody>\n",
              "    <tr>\n",
              "      <th>27</th>\n",
              "      <td>28</td>\n",
              "      <td>0</td>\n",
              "      <td>1</td>\n",
              "      <td>Fortune, Mr. Charles Alexander</td>\n",
              "      <td>male</td>\n",
              "      <td>19.0</td>\n",
              "      <td>3</td>\n",
              "      <td>2</td>\n",
              "      <td>19950</td>\n",
              "      <td>263.00</td>\n",
              "      <td>C23 C25 C27</td>\n",
              "      <td>S</td>\n",
              "    </tr>\n",
              "    <tr>\n",
              "      <th>88</th>\n",
              "      <td>89</td>\n",
              "      <td>1</td>\n",
              "      <td>1</td>\n",
              "      <td>Fortune, Miss. Mabel Helen</td>\n",
              "      <td>female</td>\n",
              "      <td>23.0</td>\n",
              "      <td>3</td>\n",
              "      <td>2</td>\n",
              "      <td>19950</td>\n",
              "      <td>263.00</td>\n",
              "      <td>C23 C25 C27</td>\n",
              "      <td>S</td>\n",
              "    </tr>\n",
              "    <tr>\n",
              "      <th>159</th>\n",
              "      <td>160</td>\n",
              "      <td>0</td>\n",
              "      <td>3</td>\n",
              "      <td>Sage, Master. Thomas Henry</td>\n",
              "      <td>male</td>\n",
              "      <td>NaN</td>\n",
              "      <td>8</td>\n",
              "      <td>2</td>\n",
              "      <td>CA. 2343</td>\n",
              "      <td>69.55</td>\n",
              "      <td>NaN</td>\n",
              "      <td>S</td>\n",
              "    </tr>\n",
              "    <tr>\n",
              "      <th>180</th>\n",
              "      <td>181</td>\n",
              "      <td>0</td>\n",
              "      <td>3</td>\n",
              "      <td>Sage, Miss. Constance Gladys</td>\n",
              "      <td>female</td>\n",
              "      <td>NaN</td>\n",
              "      <td>8</td>\n",
              "      <td>2</td>\n",
              "      <td>CA. 2343</td>\n",
              "      <td>69.55</td>\n",
              "      <td>NaN</td>\n",
              "      <td>S</td>\n",
              "    </tr>\n",
              "    <tr>\n",
              "      <th>201</th>\n",
              "      <td>202</td>\n",
              "      <td>0</td>\n",
              "      <td>3</td>\n",
              "      <td>Sage, Mr. Frederick</td>\n",
              "      <td>male</td>\n",
              "      <td>NaN</td>\n",
              "      <td>8</td>\n",
              "      <td>2</td>\n",
              "      <td>CA. 2343</td>\n",
              "      <td>69.55</td>\n",
              "      <td>NaN</td>\n",
              "      <td>S</td>\n",
              "    </tr>\n",
              "    <tr>\n",
              "      <th>324</th>\n",
              "      <td>325</td>\n",
              "      <td>0</td>\n",
              "      <td>3</td>\n",
              "      <td>Sage, Mr. George John Jr</td>\n",
              "      <td>male</td>\n",
              "      <td>NaN</td>\n",
              "      <td>8</td>\n",
              "      <td>2</td>\n",
              "      <td>CA. 2343</td>\n",
              "      <td>69.55</td>\n",
              "      <td>NaN</td>\n",
              "      <td>S</td>\n",
              "    </tr>\n",
              "    <tr>\n",
              "      <th>341</th>\n",
              "      <td>342</td>\n",
              "      <td>1</td>\n",
              "      <td>1</td>\n",
              "      <td>Fortune, Miss. Alice Elizabeth</td>\n",
              "      <td>female</td>\n",
              "      <td>24.0</td>\n",
              "      <td>3</td>\n",
              "      <td>2</td>\n",
              "      <td>19950</td>\n",
              "      <td>263.00</td>\n",
              "      <td>C23 C25 C27</td>\n",
              "      <td>S</td>\n",
              "    </tr>\n",
              "    <tr>\n",
              "      <th>792</th>\n",
              "      <td>793</td>\n",
              "      <td>0</td>\n",
              "      <td>3</td>\n",
              "      <td>Sage, Miss. Stella Anna</td>\n",
              "      <td>female</td>\n",
              "      <td>NaN</td>\n",
              "      <td>8</td>\n",
              "      <td>2</td>\n",
              "      <td>CA. 2343</td>\n",
              "      <td>69.55</td>\n",
              "      <td>NaN</td>\n",
              "      <td>S</td>\n",
              "    </tr>\n",
              "    <tr>\n",
              "      <th>846</th>\n",
              "      <td>847</td>\n",
              "      <td>0</td>\n",
              "      <td>3</td>\n",
              "      <td>Sage, Mr. Douglas Bullen</td>\n",
              "      <td>male</td>\n",
              "      <td>NaN</td>\n",
              "      <td>8</td>\n",
              "      <td>2</td>\n",
              "      <td>CA. 2343</td>\n",
              "      <td>69.55</td>\n",
              "      <td>NaN</td>\n",
              "      <td>S</td>\n",
              "    </tr>\n",
              "    <tr>\n",
              "      <th>863</th>\n",
              "      <td>864</td>\n",
              "      <td>0</td>\n",
              "      <td>3</td>\n",
              "      <td>Sage, Miss. Dorothy Edith \"Dolly\"</td>\n",
              "      <td>female</td>\n",
              "      <td>NaN</td>\n",
              "      <td>8</td>\n",
              "      <td>2</td>\n",
              "      <td>CA. 2343</td>\n",
              "      <td>69.55</td>\n",
              "      <td>NaN</td>\n",
              "      <td>S</td>\n",
              "    </tr>\n",
              "  </tbody>\n",
              "</table>\n",
              "</div>"
            ],
            "text/plain": [
              "     PassengerId  Survived  Pclass  ...    Fare        Cabin  Embarked\n",
              "27            28         0       1  ...  263.00  C23 C25 C27         S\n",
              "88            89         1       1  ...  263.00  C23 C25 C27         S\n",
              "159          160         0       3  ...   69.55          NaN         S\n",
              "180          181         0       3  ...   69.55          NaN         S\n",
              "201          202         0       3  ...   69.55          NaN         S\n",
              "324          325         0       3  ...   69.55          NaN         S\n",
              "341          342         1       1  ...  263.00  C23 C25 C27         S\n",
              "792          793         0       3  ...   69.55          NaN         S\n",
              "846          847         0       3  ...   69.55          NaN         S\n",
              "863          864         0       3  ...   69.55          NaN         S\n",
              "\n",
              "[10 rows x 12 columns]"
            ]
          },
          "metadata": {
            "tags": []
          },
          "execution_count": 6
        }
      ]
    },
    {
      "cell_type": "markdown",
      "metadata": {
        "id": "rOY3Gk_vDJrL"
      },
      "source": [
        "We detect 10 outliers. The 28, 89 and 342 paseenger have an high Ticket Fare\r\n",
        "- 우리는 10개의 특이점을 찾았다. 28, 89, 342번 승객은 높은 티켓 비용을 가지고 있었다.\r\n",
        "\r\n",
        "The 7 others have very high values of SibSp.\r\n",
        "- 다른 7개는 아주 높은 SibSp 값을 가고 있었다."
      ]
    },
    {
      "cell_type": "code",
      "metadata": {
        "id": "etQsGCCjFVNM"
      },
      "source": [
        "# Drop outliers\r\n",
        "train = train.drop(Outliers_to_drop, axis = 0).reset_index(drop = True)\r\n",
        "# Outliers_to_drop 행 인덱스를 기준으로 행을 삭제한다."
      ],
      "execution_count": 7,
      "outputs": []
    },
    {
      "cell_type": "markdown",
      "metadata": {
        "id": "Gfk3CPCwFz62"
      },
      "source": [
        "## 2.3 joining train and test set\r\n"
      ]
    },
    {
      "cell_type": "code",
      "metadata": {
        "id": "IMGa1LYpH84T"
      },
      "source": [
        "# Join train and test datasets in order to obtain the same number of features during categorical conversion\r\n",
        "# 분류 합병을 할 때 같은 숫자를 얻기 위해서 train 데이터와 test 데이터를 합친다.\r\n",
        "train_len = len(train)\r\n",
        "dataset = pd.concat(objs = [train, test], axis = 0).reset_index(drop = True)"
      ],
      "execution_count": 8,
      "outputs": []
    },
    {
      "cell_type": "markdown",
      "metadata": {
        "id": "sC2Cq7n6IgQg"
      },
      "source": [
        "I join train and test datasets to obtain the same number of features during categorical conversion(See feature engineering).\r\n",
        "- 나는 분류 병합 때 같은 값의 특징을 얻기 위해 trian, test 데이터 셋을 합친다."
      ]
    },
    {
      "cell_type": "markdown",
      "metadata": {
        "id": "U3Tx05PpI5L9"
      },
      "source": [
        "2.4 check for null and missing values"
      ]
    },
    {
      "cell_type": "code",
      "metadata": {
        "colab": {
          "base_uri": "https://localhost:8080/"
        },
        "id": "ES9ubQxZTnKz",
        "outputId": "5c0c5d79-b19e-4837-ac75-3ff2df6ea86a"
      },
      "source": [
        "# Fill empty and NaNs values with NaN\r\n",
        "dataset = dataset.fillna(np.nan)\r\n",
        "\r\n",
        "# Check for Null values\r\n",
        "dataset.isnull().sum()"
      ],
      "execution_count": 9,
      "outputs": [
        {
          "output_type": "execute_result",
          "data": {
            "text/plain": [
              "PassengerId       0\n",
              "Survived        418\n",
              "Pclass            0\n",
              "Name              0\n",
              "Sex               0\n",
              "Age             256\n",
              "SibSp             0\n",
              "Parch             0\n",
              "Ticket            0\n",
              "Fare              1\n",
              "Cabin          1007\n",
              "Embarked          2\n",
              "dtype: int64"
            ]
          },
          "metadata": {
            "tags": []
          },
          "execution_count": 9
        }
      ]
    },
    {
      "cell_type": "markdown",
      "metadata": {
        "id": "kkJCYuKETwpJ"
      },
      "source": [
        "Age and Cabin features have an important part of missing values. \r\n",
        "- Age과 Cabin feature는 빈 값의 중요한 부분이다.\r\n",
        "\r\n",
        "Survived missing values correspond to the join testing dataset(Survived column doesn't exist in test set and has been replace by NaN values when concatenateing the train and test set)\r\n",
        "- Survived 빈 값은 testing 데이터 셋과 일치한다.(test 데이터에는 Survived 열이 없다. 그리고 train과 test 데이터 셋을 연결할 때 NaN으로 대체되었다."
      ]
    },
    {
      "cell_type": "code",
      "metadata": {
        "colab": {
          "base_uri": "https://localhost:8080/"
        },
        "id": "IK20hfZ7afPD",
        "outputId": "39459d5d-a98a-4c2f-c804-1e2c729dd302"
      },
      "source": [
        "# Infos\r\n",
        "train.info()\r\n",
        "train.isnull().sum()"
      ],
      "execution_count": 10,
      "outputs": [
        {
          "output_type": "stream",
          "text": [
            "<class 'pandas.core.frame.DataFrame'>\n",
            "RangeIndex: 881 entries, 0 to 880\n",
            "Data columns (total 12 columns):\n",
            " #   Column       Non-Null Count  Dtype  \n",
            "---  ------       --------------  -----  \n",
            " 0   PassengerId  881 non-null    int64  \n",
            " 1   Survived     881 non-null    int64  \n",
            " 2   Pclass       881 non-null    int64  \n",
            " 3   Name         881 non-null    object \n",
            " 4   Sex          881 non-null    object \n",
            " 5   Age          711 non-null    float64\n",
            " 6   SibSp        881 non-null    int64  \n",
            " 7   Parch        881 non-null    int64  \n",
            " 8   Ticket       881 non-null    object \n",
            " 9   Fare         881 non-null    float64\n",
            " 10  Cabin        201 non-null    object \n",
            " 11  Embarked     879 non-null    object \n",
            "dtypes: float64(2), int64(5), object(5)\n",
            "memory usage: 82.7+ KB\n"
          ],
          "name": "stdout"
        },
        {
          "output_type": "execute_result",
          "data": {
            "text/plain": [
              "PassengerId      0\n",
              "Survived         0\n",
              "Pclass           0\n",
              "Name             0\n",
              "Sex              0\n",
              "Age            170\n",
              "SibSp            0\n",
              "Parch            0\n",
              "Ticket           0\n",
              "Fare             0\n",
              "Cabin          680\n",
              "Embarked         2\n",
              "dtype: int64"
            ]
          },
          "metadata": {
            "tags": []
          },
          "execution_count": 10
        }
      ]
    },
    {
      "cell_type": "code",
      "metadata": {
        "colab": {
          "base_uri": "https://localhost:8080/",
          "height": 496
        },
        "id": "2hhELoOVakwC",
        "outputId": "9f4c159a-f4c7-49fc-a19a-e37dc8ded1e5"
      },
      "source": [
        "train.head()"
      ],
      "execution_count": 11,
      "outputs": [
        {
          "output_type": "execute_result",
          "data": {
            "text/html": [
              "<div>\n",
              "<style scoped>\n",
              "    .dataframe tbody tr th:only-of-type {\n",
              "        vertical-align: middle;\n",
              "    }\n",
              "\n",
              "    .dataframe tbody tr th {\n",
              "        vertical-align: top;\n",
              "    }\n",
              "\n",
              "    .dataframe thead th {\n",
              "        text-align: right;\n",
              "    }\n",
              "</style>\n",
              "<table border=\"1\" class=\"dataframe\">\n",
              "  <thead>\n",
              "    <tr style=\"text-align: right;\">\n",
              "      <th></th>\n",
              "      <th>PassengerId</th>\n",
              "      <th>Survived</th>\n",
              "      <th>Pclass</th>\n",
              "      <th>Name</th>\n",
              "      <th>Sex</th>\n",
              "      <th>Age</th>\n",
              "      <th>SibSp</th>\n",
              "      <th>Parch</th>\n",
              "      <th>Ticket</th>\n",
              "      <th>Fare</th>\n",
              "      <th>Cabin</th>\n",
              "      <th>Embarked</th>\n",
              "    </tr>\n",
              "  </thead>\n",
              "  <tbody>\n",
              "    <tr>\n",
              "      <th>0</th>\n",
              "      <td>1</td>\n",
              "      <td>0</td>\n",
              "      <td>3</td>\n",
              "      <td>Braund, Mr. Owen Harris</td>\n",
              "      <td>male</td>\n",
              "      <td>22.0</td>\n",
              "      <td>1</td>\n",
              "      <td>0</td>\n",
              "      <td>A/5 21171</td>\n",
              "      <td>7.2500</td>\n",
              "      <td>NaN</td>\n",
              "      <td>S</td>\n",
              "    </tr>\n",
              "    <tr>\n",
              "      <th>1</th>\n",
              "      <td>2</td>\n",
              "      <td>1</td>\n",
              "      <td>1</td>\n",
              "      <td>Cumings, Mrs. John Bradley (Florence Briggs Th...</td>\n",
              "      <td>female</td>\n",
              "      <td>38.0</td>\n",
              "      <td>1</td>\n",
              "      <td>0</td>\n",
              "      <td>PC 17599</td>\n",
              "      <td>71.2833</td>\n",
              "      <td>C85</td>\n",
              "      <td>C</td>\n",
              "    </tr>\n",
              "    <tr>\n",
              "      <th>2</th>\n",
              "      <td>3</td>\n",
              "      <td>1</td>\n",
              "      <td>3</td>\n",
              "      <td>Heikkinen, Miss. Laina</td>\n",
              "      <td>female</td>\n",
              "      <td>26.0</td>\n",
              "      <td>0</td>\n",
              "      <td>0</td>\n",
              "      <td>STON/O2. 3101282</td>\n",
              "      <td>7.9250</td>\n",
              "      <td>NaN</td>\n",
              "      <td>S</td>\n",
              "    </tr>\n",
              "    <tr>\n",
              "      <th>3</th>\n",
              "      <td>4</td>\n",
              "      <td>1</td>\n",
              "      <td>1</td>\n",
              "      <td>Futrelle, Mrs. Jacques Heath (Lily May Peel)</td>\n",
              "      <td>female</td>\n",
              "      <td>35.0</td>\n",
              "      <td>1</td>\n",
              "      <td>0</td>\n",
              "      <td>113803</td>\n",
              "      <td>53.1000</td>\n",
              "      <td>C123</td>\n",
              "      <td>S</td>\n",
              "    </tr>\n",
              "    <tr>\n",
              "      <th>4</th>\n",
              "      <td>5</td>\n",
              "      <td>0</td>\n",
              "      <td>3</td>\n",
              "      <td>Allen, Mr. William Henry</td>\n",
              "      <td>male</td>\n",
              "      <td>35.0</td>\n",
              "      <td>0</td>\n",
              "      <td>0</td>\n",
              "      <td>373450</td>\n",
              "      <td>8.0500</td>\n",
              "      <td>NaN</td>\n",
              "      <td>S</td>\n",
              "    </tr>\n",
              "  </tbody>\n",
              "</table>\n",
              "</div>"
            ],
            "text/plain": [
              "   PassengerId  Survived  Pclass  ...     Fare Cabin  Embarked\n",
              "0            1         0       3  ...   7.2500   NaN         S\n",
              "1            2         1       1  ...  71.2833   C85         C\n",
              "2            3         1       3  ...   7.9250   NaN         S\n",
              "3            4         1       1  ...  53.1000  C123         S\n",
              "4            5         0       3  ...   8.0500   NaN         S\n",
              "\n",
              "[5 rows x 12 columns]"
            ]
          },
          "metadata": {
            "tags": []
          },
          "execution_count": 11
        }
      ]
    },
    {
      "cell_type": "code",
      "metadata": {
        "colab": {
          "base_uri": "https://localhost:8080/"
        },
        "id": "6Kd1en2Xavng",
        "outputId": "ab17f026-4dad-430a-afb0-d2059f7b5ec3"
      },
      "source": [
        "train.dtypes"
      ],
      "execution_count": 12,
      "outputs": [
        {
          "output_type": "execute_result",
          "data": {
            "text/plain": [
              "PassengerId      int64\n",
              "Survived         int64\n",
              "Pclass           int64\n",
              "Name            object\n",
              "Sex             object\n",
              "Age            float64\n",
              "SibSp            int64\n",
              "Parch            int64\n",
              "Ticket          object\n",
              "Fare           float64\n",
              "Cabin           object\n",
              "Embarked        object\n",
              "dtype: object"
            ]
          },
          "metadata": {
            "tags": []
          },
          "execution_count": 12
        }
      ]
    },
    {
      "cell_type": "code",
      "metadata": {
        "colab": {
          "base_uri": "https://localhost:8080/",
          "height": 317
        },
        "id": "icEBIr9La2iQ",
        "outputId": "1886d939-1185-4261-f051-1eb0a0ad3120"
      },
      "source": [
        "# Summarize data\r\n",
        "# Summarie and statistics\r\n",
        "train.describe()"
      ],
      "execution_count": 13,
      "outputs": [
        {
          "output_type": "execute_result",
          "data": {
            "text/html": [
              "<div>\n",
              "<style scoped>\n",
              "    .dataframe tbody tr th:only-of-type {\n",
              "        vertical-align: middle;\n",
              "    }\n",
              "\n",
              "    .dataframe tbody tr th {\n",
              "        vertical-align: top;\n",
              "    }\n",
              "\n",
              "    .dataframe thead th {\n",
              "        text-align: right;\n",
              "    }\n",
              "</style>\n",
              "<table border=\"1\" class=\"dataframe\">\n",
              "  <thead>\n",
              "    <tr style=\"text-align: right;\">\n",
              "      <th></th>\n",
              "      <th>PassengerId</th>\n",
              "      <th>Survived</th>\n",
              "      <th>Pclass</th>\n",
              "      <th>Age</th>\n",
              "      <th>SibSp</th>\n",
              "      <th>Parch</th>\n",
              "      <th>Fare</th>\n",
              "    </tr>\n",
              "  </thead>\n",
              "  <tbody>\n",
              "    <tr>\n",
              "      <th>count</th>\n",
              "      <td>881.000000</td>\n",
              "      <td>881.000000</td>\n",
              "      <td>881.000000</td>\n",
              "      <td>711.000000</td>\n",
              "      <td>881.000000</td>\n",
              "      <td>881.000000</td>\n",
              "      <td>881.000000</td>\n",
              "    </tr>\n",
              "    <tr>\n",
              "      <th>mean</th>\n",
              "      <td>446.713961</td>\n",
              "      <td>0.385925</td>\n",
              "      <td>2.307605</td>\n",
              "      <td>29.731603</td>\n",
              "      <td>0.455165</td>\n",
              "      <td>0.363224</td>\n",
              "      <td>31.121566</td>\n",
              "    </tr>\n",
              "    <tr>\n",
              "      <th>std</th>\n",
              "      <td>256.617021</td>\n",
              "      <td>0.487090</td>\n",
              "      <td>0.835055</td>\n",
              "      <td>14.547835</td>\n",
              "      <td>0.871571</td>\n",
              "      <td>0.791839</td>\n",
              "      <td>47.996249</td>\n",
              "    </tr>\n",
              "    <tr>\n",
              "      <th>min</th>\n",
              "      <td>1.000000</td>\n",
              "      <td>0.000000</td>\n",
              "      <td>1.000000</td>\n",
              "      <td>0.420000</td>\n",
              "      <td>0.000000</td>\n",
              "      <td>0.000000</td>\n",
              "      <td>0.000000</td>\n",
              "    </tr>\n",
              "    <tr>\n",
              "      <th>25%</th>\n",
              "      <td>226.000000</td>\n",
              "      <td>0.000000</td>\n",
              "      <td>2.000000</td>\n",
              "      <td>20.250000</td>\n",
              "      <td>0.000000</td>\n",
              "      <td>0.000000</td>\n",
              "      <td>7.895800</td>\n",
              "    </tr>\n",
              "    <tr>\n",
              "      <th>50%</th>\n",
              "      <td>448.000000</td>\n",
              "      <td>0.000000</td>\n",
              "      <td>3.000000</td>\n",
              "      <td>28.000000</td>\n",
              "      <td>0.000000</td>\n",
              "      <td>0.000000</td>\n",
              "      <td>14.454200</td>\n",
              "    </tr>\n",
              "    <tr>\n",
              "      <th>75%</th>\n",
              "      <td>668.000000</td>\n",
              "      <td>1.000000</td>\n",
              "      <td>3.000000</td>\n",
              "      <td>38.000000</td>\n",
              "      <td>1.000000</td>\n",
              "      <td>0.000000</td>\n",
              "      <td>30.500000</td>\n",
              "    </tr>\n",
              "    <tr>\n",
              "      <th>max</th>\n",
              "      <td>891.000000</td>\n",
              "      <td>1.000000</td>\n",
              "      <td>3.000000</td>\n",
              "      <td>80.000000</td>\n",
              "      <td>5.000000</td>\n",
              "      <td>6.000000</td>\n",
              "      <td>512.329200</td>\n",
              "    </tr>\n",
              "  </tbody>\n",
              "</table>\n",
              "</div>"
            ],
            "text/plain": [
              "       PassengerId    Survived      Pclass  ...       SibSp       Parch        Fare\n",
              "count   881.000000  881.000000  881.000000  ...  881.000000  881.000000  881.000000\n",
              "mean    446.713961    0.385925    2.307605  ...    0.455165    0.363224   31.121566\n",
              "std     256.617021    0.487090    0.835055  ...    0.871571    0.791839   47.996249\n",
              "min       1.000000    0.000000    1.000000  ...    0.000000    0.000000    0.000000\n",
              "25%     226.000000    0.000000    2.000000  ...    0.000000    0.000000    7.895800\n",
              "50%     448.000000    0.000000    3.000000  ...    0.000000    0.000000   14.454200\n",
              "75%     668.000000    1.000000    3.000000  ...    1.000000    0.000000   30.500000\n",
              "max     891.000000    1.000000    3.000000  ...    5.000000    6.000000  512.329200\n",
              "\n",
              "[8 rows x 7 columns]"
            ]
          },
          "metadata": {
            "tags": []
          },
          "execution_count": 13
        }
      ]
    },
    {
      "cell_type": "markdown",
      "metadata": {
        "id": "oU60Lpvza8V5"
      },
      "source": [
        "# 3. Feature analysis\r\n",
        "\r\n"
      ]
    },
    {
      "cell_type": "markdown",
      "metadata": {
        "id": "uOwH9aD546Ho"
      },
      "source": [
        "## 3.1 Numerical values"
      ]
    },
    {
      "cell_type": "code",
      "metadata": {
        "colab": {
          "base_uri": "https://localhost:8080/",
          "height": 272
        },
        "id": "-oTAbFk-bEa0",
        "outputId": "93953458-28db-4e26-e017-8645f86d2720"
      },
      "source": [
        "# Correlation matrix between numerical values (SibSp Parch Age and Fare values) and Survived \r\n",
        "g = sns.heatmap(train[[\"Survived\",\"SibSp\",\"Parch\",\"Age\",\"Fare\"]].corr(),annot=True, fmt = \".2f\", cmap = \"coolwarm\")\r\n",
        "# annot - 값의 칸에 값 출력\r\n",
        "# fmt - 값 출력 형태 설정\r\n",
        "# coor - 상관관계 데이터 프레임"
      ],
      "execution_count": 14,
      "outputs": [
        {
          "output_type": "display_data",
          "data": {
            "image/png": "[encoded data removed]",
            "text/plain": [
              "<Figure size 432x288 with 2 Axes>"
            ]
          },
          "metadata": {
            "tags": []
          }
        }
      ]
    },
    {
      "cell_type": "markdown",
      "metadata": {
        "id": "6UXgZDBAbW8r"
      },
      "source": [
        "Only Fare feature seems to have a significative correlation with the survival probability.\r\n",
        "- 오직 Fare 특징만 Survival 확률과 상관관계가 있어보인다.\r\n",
        "\r\n",
        "It doesn't mean that the other features are not usefull. subpopulations in these features can be correlated with the survival. To determine this, we need to explore in detail these features.\r\n",
        "- 이는 다른 특징이 쓸모없다는 것이 아니다. 이러만 특징의 부분모집단은 상관관계가 있다. 이를 판단하기 위해, 우리는 이러한 특징을 자세하게 알아봐야한다."
      ]
    },
    {
      "cell_type": "markdown",
      "metadata": {
        "id": "CF0bk8EKcsFi"
      },
      "source": [
        "### SibSp"
      ]
    },
    {
      "cell_type": "code",
      "metadata": {
        "colab": {
          "base_uri": "https://localhost:8080/",
          "height": 546
        },
        "id": "9uiPbDaVxPsT",
        "outputId": "805d2ef9-452c-4752-b849-3eb91135e2f2"
      },
      "source": [
        "# Explore SibSp feature vs Survived\r\n",
        "g = sns.factorplot(x = 'SibSp', y = 'Survived', data = train, kind = 'bar', size = 6, palette = 'muted')\r\n",
        "g.despine(left = True) # 세로축 없애기 \r\n",
        "g = g.set_ylabels('survival probability') # y축 라벨 재설정\r\n"
      ],
      "execution_count": 15,
      "outputs": [
        {
          "output_type": "stream",
          "text": [
            "/usr/local/lib/python3.7/dist-packages/seaborn/categorical.py:3714: UserWarning: The `factorplot` function has been renamed to `catplot`. The original name will be removed in a future release. Please update your code. Note that the default `kind` in `factorplot` (`'point'`) has changed `'strip'` in `catplot`.\n",
            "  warnings.warn(msg)\n",
            "/usr/local/lib/python3.7/dist-packages/seaborn/categorical.py:3720: UserWarning: The `size` parameter has been renamed to `height`; please update your code.\n",
            "  warnings.warn(msg, UserWarning)\n"
          ],
          "name": "stderr"
        },
        {
          "output_type": "display_data",
          "data": {
            "image/png": "[encoded data removed]",
            "text/plain": [
              "<Figure size 432x432 with 1 Axes>"
            ]
          },
          "metadata": {
            "tags": []
          }
        }
      ]
    },
    {
      "cell_type": "markdown",
      "metadata": {
        "id": "egEBdVBpxek1"
      },
      "source": [
        "It seems that passengers having a lot of siblings/spouses have less chance to survived\r\n",
        "- 많은 Siblings/Spouses를 가진 사람들은 살아남기 힘들어보인다.\r\n",
        "\r\n",
        "Single passengers (0 SibSp) or with two other persons(SibSp 1 or 2) have more chance to survive\r\n",
        "- 혼자온 승객이나 Sibsp가 1 또는 2인 승객은 생존률이 더 높았다.\r\n",
        "\r\n",
        "This observation is quite interesting, we can consider a new feature describing these categories (See feature engineering)\r\n",
        "- 이 현상은 꽤 흥미롭다, 우리는 이러한 분류를 표현하는 새로운 특징을 만드는 것을 고려할 수 있다.\r\n"
      ]
    },
    {
      "cell_type": "markdown",
      "metadata": {
        "id": "Q1va6dn2KH4D"
      },
      "source": [
        "### Parch"
      ]
    },
    {
      "cell_type": "code",
      "metadata": {
        "colab": {
          "base_uri": "https://localhost:8080/",
          "height": 546
        },
        "id": "_yxG883_KJ7I",
        "outputId": "de95f889-496d-4e27-e331-8b1ebc069997"
      },
      "source": [
        "# Explore Parch feature vs Survived\r\n",
        "g = sns.factorplot(x = 'Parch', y = 'Survived', data = train, kind = 'bar', size = 6, palette = 'muted')\r\n",
        "g.despine(left = True)\r\n",
        "g = g.set_ylabels('Survival probability')"
      ],
      "execution_count": 16,
      "outputs": [
        {
          "output_type": "stream",
          "text": [
            "/usr/local/lib/python3.7/dist-packages/seaborn/categorical.py:3714: UserWarning: The `factorplot` function has been renamed to `catplot`. The original name will be removed in a future release. Please update your code. Note that the default `kind` in `factorplot` (`'point'`) has changed `'strip'` in `catplot`.\n",
            "  warnings.warn(msg)\n",
            "/usr/local/lib/python3.7/dist-packages/seaborn/categorical.py:3720: UserWarning: The `size` parameter has been renamed to `height`; please update your code.\n",
            "  warnings.warn(msg, UserWarning)\n"
          ],
          "name": "stderr"
        },
        {
          "output_type": "display_data",
          "data": {
            "image/png": "[encoded data removed]",
            "text/plain": [
              "<Figure size 432x432 with 1 Axes>"
            ]
          },
          "metadata": {
            "tags": []
          }
        }
      ]
    },
    {
      "cell_type": "markdown",
      "metadata": {
        "id": "TewyPXmgKfDN"
      },
      "source": [
        "Small families have more chance to survive, more than single(Parch 0), medium (Parch 3, 4) and large families (Parch 5, 6).\r\n",
        "수가 적은 가족은 혼자, Parch 3, 4, 5, 6인 사람보다 더 높은 생존률을 가진다,\r\n",
        "\r\n",
        "Be careful there is an important standard deviation in the survival of passengers with 3 parents/children.\r\n",
        "- 3 Parch 승객의 생존률에 많은 편자가 있다는 중요한 사실이 있다는 것을 주의해야한다."
      ]
    },
    {
      "cell_type": "markdown",
      "metadata": {
        "id": "k715P-iVLj4P"
      },
      "source": [
        "### Age"
      ]
    },
    {
      "cell_type": "code",
      "metadata": {
        "colab": {
          "base_uri": "https://localhost:8080/",
          "height": 313
        },
        "id": "NATq_CpyLl0e",
        "outputId": "4716b5d4-1ea2-4c0e-9749-d50cf41163ec"
      },
      "source": [
        "# Explore Age vs Survived\r\n",
        "g = sns.FacetGrid(train, col = 'Survived')\r\n",
        "g = g.map(sns.distplot, 'Age')"
      ],
      "execution_count": 17,
      "outputs": [
        {
          "output_type": "stream",
          "text": [
            "/usr/local/lib/python3.7/dist-packages/seaborn/distributions.py:2557: FutureWarning: `distplot` is a deprecated function and will be removed in a future version. Please adapt your code to use either `displot` (a figure-level function with similar flexibility) or `histplot` (an axes-level function for histograms).\n",
            "  warnings.warn(msg, FutureWarning)\n",
            "/usr/local/lib/python3.7/dist-packages/seaborn/distributions.py:2557: FutureWarning: `distplot` is a deprecated function and will be removed in a future version. Please adapt your code to use either `displot` (a figure-level function with similar flexibility) or `histplot` (an axes-level function for histograms).\n",
            "  warnings.warn(msg, FutureWarning)\n"
          ],
          "name": "stderr"
        },
        {
          "output_type": "display_data",
          "data": {
            "image/png": "[encoded data removed]",
            "text/plain": [
              "<Figure size 432x216 with 2 Axes>"
            ]
          },
          "metadata": {
            "tags": []
          }
        }
      ]
    },
    {
      "cell_type": "markdown",
      "metadata": {
        "id": "YkBkqLbdLtdu"
      },
      "source": [
        "Age distribution seems to be a tailed distribution, maybe a gaussian distribution.\r\n",
        "- 나이 분포는 꼬리가 있는 분포로 보인다, 이는 아마 정규 분포일 것이다.\r\n",
        "\r\n",
        "We notice that age distributions are not the same in the survived and not survived subpopulations. Indeed, there is a peak corresponding to young passengers, that have survived. We also see that passengers between 60-80 have less survived.\r\n",
        "- 생존자, 사망자의 부분 모집단은 분모가 다르다는 것을 주목했다. 특히, 살아남은 젊은 승객의 최고치의 일치가 있다. 우리는 또한 60-80 살이 덜 살아 남았다는 것도 안다.\r\n",
        "\r\n",
        "So, even if 'Age' is not correlated with 'Survived', we can see that there is age categories of passengers that of have more or less chance to survive.\r\n",
        "- 그래서, 비고 나이와 생존이 연관이 없더라도, 우리는 승객의 나이분류에 따라 더 적거나 더 많이 생존 했다는 것을 알수 있다.\r\n",
        "\r\n",
        "It seems that very young paseengers have more chance to survive.\r\n",
        "- 이는 아주 어린 승객은 높은 생존률을 가진다고 보인다."
      ]
    },
    {
      "cell_type": "code",
      "metadata": {
        "colab": {
          "base_uri": "https://localhost:8080/",
          "height": 285
        },
        "id": "Fn4rWaxENjRb",
        "outputId": "6caafc1e-f5f8-4876-fc30-5a84f2e44442"
      },
      "source": [
        "# Explore Age distribution\r\n",
        "g = sns.kdeplot(train['Age'][(train['Survived'] == 0) & (train['Age'].notnull())], color = 'Red', shade = True)\r\n",
        "g = sns.kdeplot(train['Age'][(train['Survived'] == 1) & (train['Age'].notnull())], color = 'Blue', shade = True)\r\n",
        "g.set_xlabel('Age')\r\n",
        "g.set_ylabel('Frequency')\r\n",
        "g = g.legend(['Not Survived', 'Survived'])"
      ],
      "execution_count": 18,
      "outputs": [
        {
          "output_type": "display_data",
          "data": {
            "image/png": "[encoded data removed]",
            "text/plain": [
              "<Figure size 432x288 with 1 Axes>"
            ]
          },
          "metadata": {
            "tags": []
          }
        }
      ]
    },
    {
      "cell_type": "markdown",
      "metadata": {
        "id": "9D3wnaW5OnB0"
      },
      "source": [
        "When we superimpose the two densities, we cleary see a peak corresponsing(between 0 and 5) to babied and very young childrens.\r\n",
        "- 우리가 두개의 분포 겹쳤을 때, 우리는 명확하게 최대치가 일치한다는 것을 알 수 있다.(0 - 5세의 아주 어린 아이들)"
      ]
    },
    {
      "cell_type": "markdown",
      "metadata": {
        "id": "M9JEkh2NPYAU"
      },
      "source": [
        "### Fare"
      ]
    },
    {
      "cell_type": "code",
      "metadata": {
        "colab": {
          "base_uri": "https://localhost:8080/"
        },
        "id": "WLuKVRJUPaII",
        "outputId": "c7d1832b-3e67-426f-9698-e0d58fd7becc"
      },
      "source": [
        "dataset['Fare'].isnull().sum()"
      ],
      "execution_count": 19,
      "outputs": [
        {
          "output_type": "execute_result",
          "data": {
            "text/plain": [
              "1"
            ]
          },
          "metadata": {
            "tags": []
          },
          "execution_count": 19
        }
      ]
    },
    {
      "cell_type": "code",
      "metadata": {
        "id": "zYbpA7M1Pdgc"
      },
      "source": [
        "# Fill Fare missing values with the median value\r\n",
        "dataset['Fare'] = dataset['Fare'].fillna(dataset['Fare'].median())"
      ],
      "execution_count": 20,
      "outputs": []
    },
    {
      "cell_type": "markdown",
      "metadata": {
        "id": "T5hx_UlSPmTK"
      },
      "source": [
        "Since we have one missing value, I decided to fill it with the median value which will not have an important effect on the prediction.\r\n",
        "- 우리가 하나의 빈값을 가지고 있기 때문에 나는 예측이 중요한 영향을 주기 않도록 중간 값으로 채우기로 결정했다."
      ]
    },
    {
      "cell_type": "code",
      "metadata": {
        "colab": {
          "base_uri": "https://localhost:8080/",
          "height": 341
        },
        "id": "R1wmcJIiP43p",
        "outputId": "037d9c32-e837-4940-aa96-d1c50cdbc470"
      },
      "source": [
        "# Explore Fare distribution\r\n",
        "g = sns.distplot(dataset['Fare'], color = 'm', label = 'Skewness : %.2f'%(dataset['Fare'].skew()))\r\n",
        "# skew 편향성 : 높을수록 치우쳐 있는 것\r\n",
        "g = g.legend(loc = 'best')\r\n",
        "# 최적의 위치에 범례 표시"
      ],
      "execution_count": 21,
      "outputs": [
        {
          "output_type": "stream",
          "text": [
            "/usr/local/lib/python3.7/dist-packages/seaborn/distributions.py:2557: FutureWarning: `distplot` is a deprecated function and will be removed in a future version. Please adapt your code to use either `displot` (a figure-level function with similar flexibility) or `histplot` (an axes-level function for histograms).\n",
            "  warnings.warn(msg, FutureWarning)\n"
          ],
          "name": "stderr"
        },
        {
          "output_type": "display_data",
          "data": {
            "image/png": "[encoded data removed]",
            "text/plain": [
              "<Figure size 432x288 with 1 Axes>"
            ]
          },
          "metadata": {
            "tags": []
          }
        }
      ]
    },
    {
      "cell_type": "markdown",
      "metadata": {
        "id": "uP1mVoARQGXC"
      },
      "source": [
        "As we can see, Fare distribution is very skewed. This can lead to overweigh very high values in the model, even if it is scaled.\r\n",
        "- 우리가 알 수 있듯이, 요금 분포는 아주 편향되어 있다. 이는 모델에서 아주 높은 값의 가중치를 초래한다, 심지어 scaled 이면\r\n",
        "\r\n",
        "In this case, it is better to transform it with the log function to reduce this skew.\r\n",
        "- 이 경우에는 이는 log 함수로 변환해주어야 이 편향성을 줄이는 것이 더 좋다."
      ]
    },
    {
      "cell_type": "code",
      "metadata": {
        "id": "jGq28M1KQneo"
      },
      "source": [
        "# Apply log to Fare to reduce skewness distribution\r\n",
        "dataset['Fare'] = dataset['Fare'].map(lambda i: np.log(i) if i >0 else 0)"
      ],
      "execution_count": 22,
      "outputs": []
    },
    {
      "cell_type": "code",
      "metadata": {
        "colab": {
          "base_uri": "https://localhost:8080/",
          "height": 341
        },
        "id": "bhdWWvgNHlA-",
        "outputId": "edd1eaa7-7d5f-4fc1-a9c0-13306c303a75"
      },
      "source": [
        "g = sns.distplot(dataset['Fare'], color = 'b', label = 'Skewness : %.2f'%(dataset['Fare'].skew()))\r\n",
        "g = g.legend(loc = 'best')"
      ],
      "execution_count": 23,
      "outputs": [
        {
          "output_type": "stream",
          "text": [
            "/usr/local/lib/python3.7/dist-packages/seaborn/distributions.py:2557: FutureWarning: `distplot` is a deprecated function and will be removed in a future version. Please adapt your code to use either `displot` (a figure-level function with similar flexibility) or `histplot` (an axes-level function for histograms).\n",
            "  warnings.warn(msg, FutureWarning)\n"
          ],
          "name": "stderr"
        },
        {
          "output_type": "display_data",
          "data": {
            "image/png": "[encoded data removed]",
            "text/plain": [
              "<Figure size 432x288 with 1 Axes>"
            ]
          },
          "metadata": {
            "tags": []
          }
        }
      ]
    },
    {
      "cell_type": "markdown",
      "metadata": {
        "id": "mQdfVh_BHxmO"
      },
      "source": [
        "Skewness is clearly reduced after the log transformation\r\n",
        "- 로그 변환을 한 후 편향성은 명확하게 줄었다."
      ]
    },
    {
      "cell_type": "markdown",
      "metadata": {
        "id": "3_odbCLQH5f5"
      },
      "source": [
        "## 3.2 Categorical values\r\n",
        "\r\n",
        "### Sex"
      ]
    },
    {
      "cell_type": "code",
      "metadata": {
        "colab": {
          "base_uri": "https://localhost:8080/",
          "height": 285
        },
        "id": "mAIoh0mLINBZ",
        "outputId": "df4a85e6-0a66-4020-f31b-a095f906ff4f"
      },
      "source": [
        "g = sns.barplot(x = 'Sex', y = 'Survived', data = train)\r\n",
        "g = g.set_ylabel('Survival Probability')"
      ],
      "execution_count": 24,
      "outputs": [
        {
          "output_type": "display_data",
          "data": {
            "image/png": "[encoded data removed]",
            "text/plain": [
              "<Figure size 432x288 with 1 Axes>"
            ]
          },
          "metadata": {
            "tags": []
          }
        }
      ]
    },
    {
      "cell_type": "code",
      "metadata": {
        "colab": {
          "base_uri": "https://localhost:8080/",
          "height": 142
        },
        "id": "FRcn9pNRIWZP",
        "outputId": "e34cba7f-faf2-4bf4-9ef5-144b10f5d007"
      },
      "source": [
        "train[['Sex', 'Survived']].groupby('Sex').mean()"
      ],
      "execution_count": 25,
      "outputs": [
        {
          "output_type": "execute_result",
          "data": {
            "text/html": [
              "<div>\n",
              "<style scoped>\n",
              "    .dataframe tbody tr th:only-of-type {\n",
              "        vertical-align: middle;\n",
              "    }\n",
              "\n",
              "    .dataframe tbody tr th {\n",
              "        vertical-align: top;\n",
              "    }\n",
              "\n",
              "    .dataframe thead th {\n",
              "        text-align: right;\n",
              "    }\n",
              "</style>\n",
              "<table border=\"1\" class=\"dataframe\">\n",
              "  <thead>\n",
              "    <tr style=\"text-align: right;\">\n",
              "      <th></th>\n",
              "      <th>Survived</th>\n",
              "    </tr>\n",
              "    <tr>\n",
              "      <th>Sex</th>\n",
              "      <th></th>\n",
              "    </tr>\n",
              "  </thead>\n",
              "  <tbody>\n",
              "    <tr>\n",
              "      <th>female</th>\n",
              "      <td>0.747573</td>\n",
              "    </tr>\n",
              "    <tr>\n",
              "      <th>male</th>\n",
              "      <td>0.190559</td>\n",
              "    </tr>\n",
              "  </tbody>\n",
              "</table>\n",
              "</div>"
            ],
            "text/plain": [
              "        Survived\n",
              "Sex             \n",
              "female  0.747573\n",
              "male    0.190559"
            ]
          },
          "metadata": {
            "tags": []
          },
          "execution_count": 25
        }
      ]
    },
    {
      "cell_type": "markdown",
      "metadata": {
        "id": "HnibhLigIcr7"
      },
      "source": [
        "It is cleary obvious that Male have less chance to survive than Female.\r\n",
        "- 남자가 여자보다 생존률이 적다는 것을 명확하게 알 수 있다.\r\n",
        "\r\n",
        "So Sex, might play an important role in the prediction of the survival.\r\n",
        "- 그리고 성별은, 아마 생존률 예측에 중요한 역할을 할 것이다.\r\n",
        "\r\n",
        "For those who have seen the Titanic movie(1997), I am sure, we all remember this sentence during the evacuation : 'Women and children first\"\r\n",
        "타이타닉(1997)영화를 본 사람들은 \"여자와 아이들 먼저\"라는 문장을 기억 할 것이다.\r\n"
      ]
    },
    {
      "cell_type": "markdown",
      "metadata": {
        "id": "oWiUD0GjJLPa"
      },
      "source": [
        "### Pclass"
      ]
    },
    {
      "cell_type": "code",
      "metadata": {
        "colab": {
          "base_uri": "https://localhost:8080/",
          "height": 546
        },
        "id": "3vMgFSJ8JNKm",
        "outputId": "41317e7e-85c8-48f5-98bd-da75542cfc0a"
      },
      "source": [
        "# Explore Pclass vs Survived\r\n",
        "g = sns.factorplot(x = 'Pclass', y = 'Survived', data = train, kind = 'bar', size = 6, palette = 'muted')\r\n",
        "g.despine(left = True)\r\n",
        "g = g.set_ylabels('survival probability')"
      ],
      "execution_count": 26,
      "outputs": [
        {
          "output_type": "stream",
          "text": [
            "/usr/local/lib/python3.7/dist-packages/seaborn/categorical.py:3714: UserWarning: The `factorplot` function has been renamed to `catplot`. The original name will be removed in a future release. Please update your code. Note that the default `kind` in `factorplot` (`'point'`) has changed `'strip'` in `catplot`.\n",
            "  warnings.warn(msg)\n",
            "/usr/local/lib/python3.7/dist-packages/seaborn/categorical.py:3720: UserWarning: The `size` parameter has been renamed to `height`; please update your code.\n",
            "  warnings.warn(msg, UserWarning)\n"
          ],
          "name": "stderr"
        },
        {
          "output_type": "display_data",
          "data": {
            "image/png": "[encoded data removed]",
            "text/plain": [
              "<Figure size 432x432 with 1 Axes>"
            ]
          },
          "metadata": {
            "tags": []
          }
        }
      ]
    },
    {
      "cell_type": "code",
      "metadata": {
        "colab": {
          "base_uri": "https://localhost:8080/",
          "height": 546
        },
        "id": "Fin5WwrpJcXD",
        "outputId": "913b55e5-63c2-46a2-8d13-e3d034cfb8cb"
      },
      "source": [
        "# Explore Pclass vs Survived by Sex\r\n",
        "g = sns.factorplot(x = 'Pclass', y = 'Survived', hue = 'Sex', data = train, size = 6, kind = 'bar', palette = 'muted')\r\n",
        "g.despine(left = True) # 세로축 제거하기\r\n",
        "g = g.set_ylabels('survival probability')"
      ],
      "execution_count": 27,
      "outputs": [
        {
          "output_type": "stream",
          "text": [
            "/usr/local/lib/python3.7/dist-packages/seaborn/categorical.py:3714: UserWarning: The `factorplot` function has been renamed to `catplot`. The original name will be removed in a future release. Please update your code. Note that the default `kind` in `factorplot` (`'point'`) has changed `'strip'` in `catplot`.\n",
            "  warnings.warn(msg)\n",
            "/usr/local/lib/python3.7/dist-packages/seaborn/categorical.py:3720: UserWarning: The `size` parameter has been renamed to `height`; please update your code.\n",
            "  warnings.warn(msg, UserWarning)\n"
          ],
          "name": "stderr"
        },
        {
          "output_type": "display_data",
          "data": {
            "image/png": "[encoded data removed]",
            "text/plain": [
              "<Figure size 509.975x432 with 1 Axes>"
            ]
          },
          "metadata": {
            "tags": []
          }
        }
      ]
    },
    {
      "cell_type": "markdown",
      "metadata": {
        "id": "l42dWPwoJv1C"
      },
      "source": [
        "The passenger survival is not the same in the 3 classes. First class passengers have more chance to survived than second class and third class passengers.\r\n",
        "- 승객 생존률은 3개의 클래스에서 모두 다르다. First 클래스는 다른 클래스에 비해 더 높은 생존률을 보였다.\r\n",
        "\r\n",
        "This trend is conserved when we look at both male and female passengers.\r\n",
        "- 이 경향은 남, 녀 승객 둘 다 볼 때에도 유지된다.\r\n"
      ]
    },
    {
      "cell_type": "markdown",
      "metadata": {
        "id": "4nC3QLw1KVQk"
      },
      "source": [
        "### Embarked "
      ]
    },
    {
      "cell_type": "code",
      "metadata": {
        "colab": {
          "base_uri": "https://localhost:8080/"
        },
        "id": "xcOrlKhraHog",
        "outputId": "c12003e9-9d39-44ec-d651-992626876bec"
      },
      "source": [
        "dataset['Embarked'].isnull().sum()"
      ],
      "execution_count": 28,
      "outputs": [
        {
          "output_type": "execute_result",
          "data": {
            "text/plain": [
              "2"
            ]
          },
          "metadata": {
            "tags": []
          },
          "execution_count": 28
        }
      ]
    },
    {
      "cell_type": "code",
      "metadata": {
        "id": "7jWQdmmpaKU6"
      },
      "source": [
        "# Fill Embarked nan values of dataset set with 'S' most frequent value\r\n",
        "dataset['Embarked'] = dataset['Embarked'].fillna('S')"
      ],
      "execution_count": 29,
      "outputs": []
    },
    {
      "cell_type": "markdown",
      "metadata": {
        "id": "JxpJusx_aVbb"
      },
      "source": [
        "Since we have two missing values, i decided to fill them with the most frequent value of 'Embarked' (S)\r\n",
        "- 우리는 두개의 빈 값이 있기 때문에, 나는 가장 빈도가 높은 'S'로 채우기로 결정했다."
      ]
    },
    {
      "cell_type": "code",
      "metadata": {
        "colab": {
          "base_uri": "https://localhost:8080/",
          "height": 546
        },
        "id": "qWcqNopJafDi",
        "outputId": "9ed554e3-4994-4ab5-be52-d5ce0aa4a947"
      },
      "source": [
        "# Explore Embarked vs Survived\r\n",
        "g = sns.factorplot(x = 'Embarked', y = 'Survived', data = train, size = 6, kind = 'bar', palette = 'muted')\r\n",
        "g.despine(left = True)\r\n",
        "g = g.set_ylabels('survival probability')"
      ],
      "execution_count": 30,
      "outputs": [
        {
          "output_type": "stream",
          "text": [
            "/usr/local/lib/python3.7/dist-packages/seaborn/categorical.py:3714: UserWarning: The `factorplot` function has been renamed to `catplot`. The original name will be removed in a future release. Please update your code. Note that the default `kind` in `factorplot` (`'point'`) has changed `'strip'` in `catplot`.\n",
            "  warnings.warn(msg)\n",
            "/usr/local/lib/python3.7/dist-packages/seaborn/categorical.py:3720: UserWarning: The `size` parameter has been renamed to `height`; please update your code.\n",
            "  warnings.warn(msg, UserWarning)\n"
          ],
          "name": "stderr"
        },
        {
          "output_type": "display_data",
          "data": {
            "image/png": "[encoded data removed]",
            "text/plain": [
              "<Figure size 432x432 with 1 Axes>"
            ]
          },
          "metadata": {
            "tags": []
          }
        }
      ]
    },
    {
      "cell_type": "markdown",
      "metadata": {
        "id": "Yh6b_OlPanr5"
      },
      "source": [
        "It seems that passenger coming from Cherbourg(C) have more chance to survived.\r\n",
        "- 이는 C에서 탄 승객의 생존률이 높아 보인다.\r\n",
        "\r\n",
        "My hypothesis is that the proportion of first class passengers is higher for those who came from cherbourg than Queenstown (Q), Southampton (S).\r\n",
        "- 나의 Q나 S에서 보다 C에서 first class 승객의 비율이 높다는 가설이다.\r\n",
        "\r\n",
        "Let's see the Pclass distribution vs Embarked.\r\n"
      ]
    },
    {
      "cell_type": "code",
      "metadata": {
        "colab": {
          "base_uri": "https://localhost:8080/",
          "height": 366
        },
        "id": "LezoibWGbYWt",
        "outputId": "24402578-471c-4992-a79a-8fa17b44c54e"
      },
      "source": [
        "# Explore Pclass vs Embarked\r\n",
        "g = sns.factorplot('Pclass', col = 'Embarked', data = train, size = 6, kind = 'count', palette = 'muted')\r\n",
        "g.despine(left = True)\r\n",
        "g = g.set_ylabels('Count')"
      ],
      "execution_count": 31,
      "outputs": [
        {
          "output_type": "stream",
          "text": [
            "/usr/local/lib/python3.7/dist-packages/seaborn/categorical.py:3714: UserWarning: The `factorplot` function has been renamed to `catplot`. The original name will be removed in a future release. Please update your code. Note that the default `kind` in `factorplot` (`'point'`) has changed `'strip'` in `catplot`.\n",
            "  warnings.warn(msg)\n",
            "/usr/local/lib/python3.7/dist-packages/seaborn/categorical.py:3720: UserWarning: The `size` parameter has been renamed to `height`; please update your code.\n",
            "  warnings.warn(msg, UserWarning)\n",
            "/usr/local/lib/python3.7/dist-packages/seaborn/_decorators.py:43: FutureWarning: Pass the following variable as a keyword arg: x. From version 0.12, the only valid positional argument will be `data`, and passing other arguments without an explicit keyword will result in an error or misinterpretation.\n",
            "  FutureWarning\n"
          ],
          "name": "stderr"
        },
        {
          "output_type": "display_data",
          "data": {
            "image/png": "[encoded data removed]",
            "text/plain": [
              "<Figure size 1296x432 with 3 Axes>"
            ]
          },
          "metadata": {
            "tags": []
          }
        }
      ]
    },
    {
      "cell_type": "markdown",
      "metadata": {
        "id": "QIz4B5BIbk3g"
      },
      "source": [
        "Indeed, the third class is the most frequent for passenger coming from Southampton(S) and Queenstown(Q), whereas Cherbourg passengers are mostly in first class which have the hightest survival rate.\r\n",
        "- 특히, Third class은 S와 Q에서 대부분 차지했고, 반면에 C 승객은 대부분이 first class 승객이어서 가장 높은 생존률을 가지고 있었다.\r\n",
        "\r\n",
        "At this point, I can't explain why first class has an higher survival rate. My hypothesis is that first class passengers were prioritised during the evacuation due to their influence.\r\n",
        "- 이 관점에서, 나는 왜 first class 가 높은 생존률을 가지는 지 설명할 수 없다. 나의 가설은 구조하는 동안 first class 승객이 우선 구조되었다는 것이다. \r\n"
      ]
    },
    {
      "cell_type": "markdown",
      "metadata": {
        "id": "B70GU7RX5AT7"
      },
      "source": [
        "# 4. Filling missing Values\r\n"
      ]
    },
    {
      "cell_type": "markdown",
      "metadata": {
        "id": "47ww0BN54_ph"
      },
      "source": [
        "\r\n",
        "## 4.1 Age"
      ]
    },
    {
      "cell_type": "markdown",
      "metadata": {
        "id": "2oVQr-f5cj7b"
      },
      "source": [
        "\r\n",
        "\r\n",
        "As we wee, Age column contains 256 missing values in the whole dataset.\r\n",
        "- 나이 열은 256개의 빈 값이 있었다.\r\n",
        "\r\n",
        "Since there is subpopulations that have more chance to survive(children for example), it is preferable to keep the age feature and to impute the missing values.\r\n",
        "- 아이들과 같은 높은 생존률을 가진 부분모집단이 있기 때문에 나이 특징이 유지되는 것이 더 좋고 빈 값을 채우는 것이 좋다.\r\n",
        "\r\n",
        "To address this problem, I looked at the most correlated features with Age(Sex, Parch, Pclass and SibSp).\r\n",
        "이 문제를 다루기 위해, 나는 나이 특징과 가장 연관있는 특징을 찾았다.\r\n"
      ]
    },
    {
      "cell_type": "code",
      "metadata": {
        "colab": {
          "base_uri": "https://localhost:8080/",
          "height": 1000
        },
        "id": "3HWNTMMPdign",
        "outputId": "8ce8a130-8c15-4d55-d103-2199184fbd73"
      },
      "source": [
        "# Explore Age vs Sex, Parch, Pclass and SibSp\r\n",
        "\r\n",
        "g = sns.factorplot(y = 'Age', x = 'Sex', data = dataset, kind = 'box')\r\n",
        "g = sns.factorplot(y = 'Age', x = 'Sex', hue = 'Pclass', data = dataset, kind = 'box')\r\n",
        "g = sns.factorplot(y = 'Age', x = 'Parch', data = dataset, kind = 'box')\r\n",
        "g = sns.factorplot(y = 'Age', x = 'SibSp', data =  dataset, kind = 'box')"
      ],
      "execution_count": 32,
      "outputs": [
        {
          "output_type": "stream",
          "text": [
            "/usr/local/lib/python3.7/dist-packages/seaborn/categorical.py:3714: UserWarning: The `factorplot` function has been renamed to `catplot`. The original name will be removed in a future release. Please update your code. Note that the default `kind` in `factorplot` (`'point'`) has changed `'strip'` in `catplot`.\n",
            "  warnings.warn(msg)\n",
            "/usr/local/lib/python3.7/dist-packages/seaborn/categorical.py:3714: UserWarning: The `factorplot` function has been renamed to `catplot`. The original name will be removed in a future release. Please update your code. Note that the default `kind` in `factorplot` (`'point'`) has changed `'strip'` in `catplot`.\n",
            "  warnings.warn(msg)\n",
            "/usr/local/lib/python3.7/dist-packages/seaborn/categorical.py:3714: UserWarning: The `factorplot` function has been renamed to `catplot`. The original name will be removed in a future release. Please update your code. Note that the default `kind` in `factorplot` (`'point'`) has changed `'strip'` in `catplot`.\n",
            "  warnings.warn(msg)\n",
            "/usr/local/lib/python3.7/dist-packages/seaborn/categorical.py:3714: UserWarning: The `factorplot` function has been renamed to `catplot`. The original name will be removed in a future release. Please update your code. Note that the default `kind` in `factorplot` (`'point'`) has changed `'strip'` in `catplot`.\n",
            "  warnings.warn(msg)\n"
          ],
          "name": "stderr"
        },
        {
          "output_type": "display_data",
          "data": {
            "image/png": "[encoded data removed]",
            "text/plain": [
              "<Figure size 360x360 with 1 Axes>"
            ]
          },
          "metadata": {
            "tags": []
          }
        },
        {
          "output_type": "display_data",
          "data": {
            "image/png": "[encoded data removed]",
            "text/plain": [
              "<Figure size 406.6x360 with 1 Axes>"
            ]
          },
          "metadata": {
            "tags": []
          }
        },
        {
          "output_type": "display_data",
          "data": {
            "image/png": "[encoded data removed]",
            "text/plain": [
              "<Figure size 360x360 with 1 Axes>"
            ]
          },
          "metadata": {
            "tags": []
          }
        },
        {
          "output_type": "display_data",
          "data": {
            "image/png": "[encoded data removed]",
            "text/plain": [
              "<Figure size 360x360 with 1 Axes>"
            ]
          },
          "metadata": {
            "tags": []
          }
        }
      ]
    },
    {
      "cell_type": "markdown",
      "metadata": {
        "id": "qDokF0kkd9KG"
      },
      "source": [
        "Age distribution seems to the same in Male and Female subpopulations, so Sex is not informative to predict Age.\r\n",
        "- 나이 분포는 남여 부분 모집단에서 비슷해 보인다, 그래서 성별은 나이를 예측하는데 정보가 안된다. \r\n",
        "\r\n",
        "However, 1st class passenger are older than 2nd class passengers who are also older than 3rd class passengers.\r\n",
        "- 그러나, 1st class 승객은 2nd class 승객보다 더 나이가 많다. 또한 3nd class 승객 보다도\r\n",
        "\r\n",
        "Moreover, the more a passenger has parent/children the older he is and the more a paasenger has siblings/spouses the younger he is.\r\n",
        "- 게다가, 더 많은 Parch일수록 나이가 더 많고 SIbSP가 클수록 나이가 적다."
      ]
    },
    {
      "cell_type": "code",
      "metadata": {
        "id": "QfJY2QL0fCz4"
      },
      "source": [
        "# convert Sex into categorical value 0 for male and 1 for female\r\n",
        "dataset['Sex'] = dataset['Sex'].map({'male' : 0, 'female' : 1})"
      ],
      "execution_count": 33,
      "outputs": []
    },
    {
      "cell_type": "code",
      "metadata": {
        "colab": {
          "base_uri": "https://localhost:8080/",
          "height": 272
        },
        "id": "JMNRoQ2UfNZ9",
        "outputId": "41b9407c-6c79-406f-d581-67d72c5ae702"
      },
      "source": [
        "g = sns.heatmap(dataset[['Age', 'Sex', 'SibSp', 'Parch', 'Pclass']].corr(), cmap = 'BrBG', annot = True)"
      ],
      "execution_count": 34,
      "outputs": [
        {
          "output_type": "display_data",
          "data": {
            "image/png": "[encoded data removed]",
            "text/plain": [
              "<Figure size 432x288 with 2 Axes>"
            ]
          },
          "metadata": {
            "tags": []
          }
        }
      ]
    },
    {
      "cell_type": "markdown",
      "metadata": {
        "id": "RNZenlSHfXSQ"
      },
      "source": [
        "The correlation map confirms the factorplots observations except for Parch. Age is not correlated with Sex, but is negatively correlated with Pclass, Parch and SibSp.\r\n",
        "- 상관 맵은 Parch를 제외한 factorplots의 모습을 확인한다. 나이는 성별과 상관이 없지만 Pclass, Parch, SibSp와 음의 상관관계를 가진다.\r\n",
        "\r\n",
        "In the plot of Age in function of Parch, Age is growing with the number of parents/children. But the general correlation is negative.\r\n",
        "- Parch와 Age의 그래프에서 나이는 Parch가 증가함에 따라 증가했다. 하지만 일반적인 상관관계는 음의 관계이다.\r\n",
        "\r\n",
        "So, I decided to use SibSp, Parch and Pclass in order to impute the missing ages.\r\n",
        "그래서, 나는 SibSp, Parch, Pclass를 빈 값을 채우기 위해 사용하기로 결정했다.\r\n",
        "\r\n",
        "The strategy is to fill Age with the median age of similar rows accordeing to Pclass, Parch and SibSp.\r\n",
        "- 전략은 같은 행의 Pclass, {Parch, SibSp의 중간 값으로 채우는 것이다.\r\n"
      ]
    },
    {
      "cell_type": "code",
      "metadata": {
        "id": "1Z9zCnymhc0D"
      },
      "source": [
        "# Filling missing value of Age\r\n",
        "\r\n",
        "## Fill Age with the median age of similar rows according to Pclass, PArch and SibSp\r\n",
        "# Index of NaN age rows\r\n",
        "index_NaN_age = list(dataset['Age'][dataset['Age'].isnull()].index)\r\n",
        "\r\n",
        "for i in index_NaN_age:\r\n",
        "  age_med = dataset['Age'].median()\r\n",
        "  age_pred = dataset['Age'][((dataset['SibSp'] == dataset.iloc[i]['SibSp']) & (dataset['Parch'] == dataset.iloc[i]['Parch']) & (dataset['Pclass'] == dataset.iloc[i]['Pclass']))].median()\r\n",
        "  if not np.isnan(age_pred) : \r\n",
        "    dataset['Age'].iloc[i] = age_pred\r\n",
        "  else:\r\n",
        "    dataset['Age'].iloc[i] = age_med"
      ],
      "execution_count": 70,
      "outputs": []
    },
    {
      "cell_type": "code",
      "metadata": {
        "colab": {
          "base_uri": "https://localhost:8080/",
          "height": 839
        },
        "id": "RS_DUGENhumH",
        "outputId": "18336995-fbff-4986-cfed-23b50630ae20"
      },
      "source": [
        "g = sns.factorplot(x = 'Survived', y = 'Age', data = train, kind = 'box')\r\n",
        "g = sns.factorplot(x = 'Survived', y = 'Age', data = train, kind = 'violin')"
      ],
      "execution_count": 36,
      "outputs": [
        {
          "output_type": "stream",
          "text": [
            "/usr/local/lib/python3.7/dist-packages/seaborn/categorical.py:3714: UserWarning: The `factorplot` function has been renamed to `catplot`. The original name will be removed in a future release. Please update your code. Note that the default `kind` in `factorplot` (`'point'`) has changed `'strip'` in `catplot`.\n",
            "  warnings.warn(msg)\n",
            "/usr/local/lib/python3.7/dist-packages/seaborn/categorical.py:3714: UserWarning: The `factorplot` function has been renamed to `catplot`. The original name will be removed in a future release. Please update your code. Note that the default `kind` in `factorplot` (`'point'`) has changed `'strip'` in `catplot`.\n",
            "  warnings.warn(msg)\n"
          ],
          "name": "stderr"
        },
        {
          "output_type": "display_data",
          "data": {
            "image/png": "[encoded data removed]",
            "text/plain": [
              "<Figure size 360x360 with 1 Axes>"
            ]
          },
          "metadata": {
            "tags": []
          }
        },
        {
          "output_type": "display_data",
          "data": {
            "image/png": "[encoded data removed]",
            "text/plain": [
              "<Figure size 360x360 with 1 Axes>"
            ]
          },
          "metadata": {
            "tags": []
          }
        }
      ]
    },
    {
      "cell_type": "markdown",
      "metadata": {
        "id": "Dt5Y1E47sRJY"
      },
      "source": [
        "No difference between median value of age in survived and not survived subpopulation.\r\n",
        "- 나이의 중간 값은 생존률과 사망률에서 차이가 없다 그리고 \r\n",
        "\r\n",
        "But in the violin plot of survived passengers, we still notice that very young passengers have higher survival rate.\r\n",
        "- 그러나 생존자 violin 그래프에서는, 우리는 여전히 아주 어린 승객이 높은 생존률을 가지는 것을 알 수 있다. "
      ]
    },
    {
      "cell_type": "markdown",
      "metadata": {
        "id": "oRIASuKps18D"
      },
      "source": [
        "# 5. Feature engineering\r\n",
        "\r\n"
      ]
    },
    {
      "cell_type": "markdown",
      "metadata": {
        "id": "MLAlXzJl5GgJ"
      },
      "source": [
        "## 5.1 Name/Title"
      ]
    },
    {
      "cell_type": "code",
      "metadata": {
        "colab": {
          "base_uri": "https://localhost:8080/"
        },
        "id": "Q6X2SnBls9c-",
        "outputId": "896a473d-2625-4fb0-b258-f697091a7e59"
      },
      "source": [
        "dataset['Name'].head()"
      ],
      "execution_count": 37,
      "outputs": [
        {
          "output_type": "execute_result",
          "data": {
            "text/plain": [
              "0                              Braund, Mr. Owen Harris\n",
              "1    Cumings, Mrs. John Bradley (Florence Briggs Th...\n",
              "2                               Heikkinen, Miss. Laina\n",
              "3         Futrelle, Mrs. Jacques Heath (Lily May Peel)\n",
              "4                             Allen, Mr. William Henry\n",
              "Name: Name, dtype: object"
            ]
          },
          "metadata": {
            "tags": []
          },
          "execution_count": 37
        }
      ]
    },
    {
      "cell_type": "markdown",
      "metadata": {
        "id": "MhUB-sz7s_cz"
      },
      "source": [
        "The Name feature contains information on passengers'title.\r\n",
        "- 이름 특징은 승객의 정보이다.\r\n",
        "\r\n",
        "Since some passenger with distingused title may be preferred during the evacuation, it is interesting to add them to the model.\r\n",
        "- 몇몇 승객의 분별있는 직함은 아마 구조동안 선호되었을 것이다, 이것은 모델이 추가해볼 수 있다."
      ]
    },
    {
      "cell_type": "code",
      "metadata": {
        "colab": {
          "base_uri": "https://localhost:8080/"
        },
        "id": "o9doUCNVtf4D",
        "outputId": "9b29c2b5-cade-48ae-efc3-3d02dc4cfbce"
      },
      "source": [
        "# Get Title from Name\r\n",
        "dataset_title = [i.split(',')[1].split('.')[0].strip() for i in dataset['Name']]\r\n",
        "dataset['Title'] = pd.Series(dataset_title)\r\n",
        "dataset['Title'].head()"
      ],
      "execution_count": 38,
      "outputs": [
        {
          "output_type": "execute_result",
          "data": {
            "text/plain": [
              "0      Mr\n",
              "1     Mrs\n",
              "2    Miss\n",
              "3     Mrs\n",
              "4      Mr\n",
              "Name: Title, dtype: object"
            ]
          },
          "metadata": {
            "tags": []
          },
          "execution_count": 38
        }
      ]
    },
    {
      "cell_type": "code",
      "metadata": {
        "colab": {
          "base_uri": "https://localhost:8080/",
          "height": 333
        },
        "id": "Xx_qCmn_tuGT",
        "outputId": "4a060982-3959-4d97-8bf8-122dfd5b506c"
      },
      "source": [
        "g = sns.countplot(x = 'Title', data = dataset)\r\n",
        "g = plt.setp(g.get_xticklabels(), rotation = 45)"
      ],
      "execution_count": 39,
      "outputs": [
        {
          "output_type": "display_data",
          "data": {
            "image/png": "[encoded data removed]",
            "text/plain": [
              "<Figure size 432x288 with 1 Axes>"
            ]
          },
          "metadata": {
            "tags": []
          }
        }
      ]
    },
    {
      "cell_type": "markdown",
      "metadata": {
        "id": "XN6cp3Tst7gT"
      },
      "source": [
        "There is 17 titles in the dataset, most of them are very rare and we can group them in 4 categories.\r\n",
        "- 17개의 직함이 있다. 대부분은 아주 적고 우리는 4개의 분류를 묶어볼 수 있다."
      ]
    },
    {
      "cell_type": "code",
      "metadata": {
        "id": "6qzUI8cJuObk"
      },
      "source": [
        "# Convert to categorical values Title \r\n",
        "dataset[\"Title\"] = dataset[\"Title\"].replace(['Lady', 'the Countess','Countess','Capt', 'Col','Don', 'Dr', 'Major', 'Rev', 'Sir', 'Jonkheer', 'Dona'], 'Rare')\r\n",
        "dataset[\"Title\"] = dataset[\"Title\"].map({\"Master\":0, \"Miss\":1, \"Ms\" : 1 , \"Mme\":1, \"Mlle\":1, \"Mrs\":1, \"Mr\":2, \"Rare\":3})\r\n",
        "dataset[\"Title\"] = dataset[\"Title\"].astype(int)"
      ],
      "execution_count": 40,
      "outputs": []
    },
    {
      "cell_type": "code",
      "metadata": {
        "colab": {
          "base_uri": "https://localhost:8080/",
          "height": 341
        },
        "id": "EEESHsLxu5ey",
        "outputId": "3920d4db-f71b-4cb3-8c40-45a4b9bde741"
      },
      "source": [
        "g = sns.countplot(dataset[\"Title\"])\r\n",
        "g = g.set_xticklabels([\"Master\",\"Miss/Ms/Mme/Mlle/Mrs\",\"Mr\",\"Rare\"])"
      ],
      "execution_count": 41,
      "outputs": [
        {
          "output_type": "stream",
          "text": [
            "/usr/local/lib/python3.7/dist-packages/seaborn/_decorators.py:43: FutureWarning: Pass the following variable as a keyword arg: x. From version 0.12, the only valid positional argument will be `data`, and passing other arguments without an explicit keyword will result in an error or misinterpretation.\n",
            "  FutureWarning\n"
          ],
          "name": "stderr"
        },
        {
          "output_type": "display_data",
          "data": {
            "image/png": "[encoded data removed]",
            "text/plain": [
              "<Figure size 432x288 with 1 Axes>"
            ]
          },
          "metadata": {
            "tags": []
          }
        }
      ]
    },
    {
      "cell_type": "code",
      "metadata": {
        "colab": {
          "base_uri": "https://localhost:8080/",
          "height": 438
        },
        "id": "pEq827TTvR3y",
        "outputId": "12e48c78-e945-4a29-b93a-ce6ae1ff7dcd"
      },
      "source": [
        "g = sns.factorplot(x = 'Title', y = 'Survived', data = dataset, kind = 'bar')\r\n",
        "g = g.set_xticklabels(['Master', 'Miss-Mrs', 'Mr', 'Rare'])\r\n",
        "g = g.set_ylabels('survival probability')"
      ],
      "execution_count": 42,
      "outputs": [
        {
          "output_type": "stream",
          "text": [
            "/usr/local/lib/python3.7/dist-packages/seaborn/categorical.py:3714: UserWarning: The `factorplot` function has been renamed to `catplot`. The original name will be removed in a future release. Please update your code. Note that the default `kind` in `factorplot` (`'point'`) has changed `'strip'` in `catplot`.\n",
            "  warnings.warn(msg)\n"
          ],
          "name": "stderr"
        },
        {
          "output_type": "display_data",
          "data": {
            "image/png": "[encoded data removed]",
            "text/plain": [
              "<Figure size 360x360 with 1 Axes>"
            ]
          },
          "metadata": {
            "tags": []
          }
        }
      ]
    },
    {
      "cell_type": "markdown",
      "metadata": {
        "id": "EwinASXywQrZ"
      },
      "source": [
        "\"Women and children first\"\r\n",
        "It is interesting to note that passengers with rare title have more chance to survived\r\n",
        "- \"여자와 아이먼저\"\r\n",
        "- rare 직함을 가진 사람이 높은 생존률을 가지는 것에 주목하자."
      ]
    },
    {
      "cell_type": "code",
      "metadata": {
        "id": "VknCyxT_wmwr"
      },
      "source": [
        "# Drop Name variable\r\n",
        "dataset.drop(labels = ['Name'], axis = 1, inplace = True)"
      ],
      "execution_count": 43,
      "outputs": []
    },
    {
      "cell_type": "markdown",
      "metadata": {
        "id": "TnQrsa3Hws0m"
      },
      "source": [
        "## 5.2 Family size\r\n",
        "\r\n",
        "We can imagine that large families will have more difficulties to evacuate, looking for thiers sisters/brothers/parents during the evacuation. So, I choosed to create a 'Fize'(Familiy size) feature which is the sum of SibSp, PArch and 1(including the passenger)\r\n",
        "-우리는 대가족일수록 구조되기 힘들다는 것을 상상할 수 있다. 그래서 나는 Fize라는 Familysize 특징을 만들기로 했고 이는 SibSP, Parch와 1(본인)을 더한 값을 의미한다."
      ]
    },
    {
      "cell_type": "code",
      "metadata": {
        "id": "1yGOad-axR2I"
      },
      "source": [
        "# Create a family size descriptor from SibSp and Parch\r\n",
        "dataset['Fsize'] = dataset['SibSp'] + dataset['Parch'] + 1"
      ],
      "execution_count": 44,
      "outputs": []
    },
    {
      "cell_type": "code",
      "metadata": {
        "colab": {
          "base_uri": "https://localhost:8080/",
          "height": 438
        },
        "id": "S_B2uALMxbH5",
        "outputId": "d155101e-67ef-4249-cf5a-f601d217c9e7"
      },
      "source": [
        "g = sns.factorplot(x = 'Fsize', y = 'Survived', data = dataset)\r\n",
        "g = g.set_ylabels('Survlval Probability')"
      ],
      "execution_count": 45,
      "outputs": [
        {
          "output_type": "stream",
          "text": [
            "/usr/local/lib/python3.7/dist-packages/seaborn/categorical.py:3714: UserWarning: The `factorplot` function has been renamed to `catplot`. The original name will be removed in a future release. Please update your code. Note that the default `kind` in `factorplot` (`'point'`) has changed `'strip'` in `catplot`.\n",
            "  warnings.warn(msg)\n"
          ],
          "name": "stderr"
        },
        {
          "output_type": "display_data",
          "data": {
            "image/png": "[encoded data removed]",
            "text/plain": [
              "<Figure size 360x360 with 1 Axes>"
            ]
          },
          "metadata": {
            "tags": []
          }
        }
      ]
    },
    {
      "cell_type": "markdown",
      "metadata": {
        "id": "GIzsQFR9xkJs"
      },
      "source": [
        "The family size seems to play an important role, survival probability is worst for large families.\r\n",
        "- 가족 수는 중요한 역할은 하는 것처럼 보인다, 생존률은 큰 가족일 수록 좋지 않다.\r\n",
        "\r\n",
        "Additionally, I decided to created 4 categories of family size.\r\n",
        "- 추가적으로, 나는 4가의 분류의 가족 크기 를 만들기로 결정했다."
      ]
    },
    {
      "cell_type": "code",
      "metadata": {
        "id": "iGp3JF7p1R7p"
      },
      "source": [
        "# Create new feature of family size\r\n",
        "dataset['Single'] = dataset['Fsize'].map(lambda s : 1 if s == 1 else 0)\r\n",
        "dataset['SmallF'] = dataset['Fsize'].map(lambda s : 1 if s == 2 else 0)\r\n",
        "dataset['MedF'] = dataset['Fsize'].map(lambda s : 1 if 3 <= s <= 4 else 0)\r\n",
        "dataset['LargeF'] = dataset['Fsize'].map(lambda s: 1 if s >= 5 else 0)"
      ],
      "execution_count": 46,
      "outputs": []
    },
    {
      "cell_type": "code",
      "metadata": {
        "colab": {
          "base_uri": "https://localhost:8080/",
          "height": 1000
        },
        "id": "A0VKjxoy10Wc",
        "outputId": "2584dcde-2a5f-48c7-cb4f-b01aa4a193c4"
      },
      "source": [
        "g = sns.factorplot(x = 'Single', y = 'Survived', data = dataset, kind = 'bar')\r\n",
        "g = g.set_ylabels('Survival Probability')\r\n",
        "g = sns.factorplot(x = 'SmallF', y = 'Survived', data = dataset, kind = 'bar')\r\n",
        "g = g.set_ylabels('Survival Probability')\r\n",
        "g = sns.factorplot(x = 'MedF', y = 'Survived', data = dataset, kind = 'bar')\r\n",
        "g = g.set_ylabels('Survival Probability')\r\n",
        "g = sns.factorplot(x = 'LargeF', y = 'Survived', data = dataset, kind = 'bar')\r\n",
        "g = g.set_ylabels('Survival Probability')"
      ],
      "execution_count": 47,
      "outputs": [
        {
          "output_type": "stream",
          "text": [
            "/usr/local/lib/python3.7/dist-packages/seaborn/categorical.py:3714: UserWarning: The `factorplot` function has been renamed to `catplot`. The original name will be removed in a future release. Please update your code. Note that the default `kind` in `factorplot` (`'point'`) has changed `'strip'` in `catplot`.\n",
            "  warnings.warn(msg)\n",
            "/usr/local/lib/python3.7/dist-packages/seaborn/categorical.py:3714: UserWarning: The `factorplot` function has been renamed to `catplot`. The original name will be removed in a future release. Please update your code. Note that the default `kind` in `factorplot` (`'point'`) has changed `'strip'` in `catplot`.\n",
            "  warnings.warn(msg)\n",
            "/usr/local/lib/python3.7/dist-packages/seaborn/categorical.py:3714: UserWarning: The `factorplot` function has been renamed to `catplot`. The original name will be removed in a future release. Please update your code. Note that the default `kind` in `factorplot` (`'point'`) has changed `'strip'` in `catplot`.\n",
            "  warnings.warn(msg)\n",
            "/usr/local/lib/python3.7/dist-packages/seaborn/categorical.py:3714: UserWarning: The `factorplot` function has been renamed to `catplot`. The original name will be removed in a future release. Please update your code. Note that the default `kind` in `factorplot` (`'point'`) has changed `'strip'` in `catplot`.\n",
            "  warnings.warn(msg)\n"
          ],
          "name": "stderr"
        },
        {
          "output_type": "display_data",
          "data": {
            "image/png": "[encoded data removed]",
            "text/plain": [
              "<Figure size 360x360 with 1 Axes>"
            ]
          },
          "metadata": {
            "tags": []
          }
        },
        {
          "output_type": "display_data",
          "data": {
            "image/png": "[encoded data removed]",
            "text/plain": [
              "<Figure size 360x360 with 1 Axes>"
            ]
          },
          "metadata": {
            "tags": []
          }
        },
        {
          "output_type": "display_data",
          "data": {
            "image/png": "[encoded data removed]",
            "text/plain": [
              "<Figure size 360x360 with 1 Axes>"
            ]
          },
          "metadata": {
            "tags": []
          }
        },
        {
          "output_type": "display_data",
          "data": {
            "image/png": "[encoded data removed]",
            "text/plain": [
              "<Figure size 360x360 with 1 Axes>"
            ]
          },
          "metadata": {
            "tags": []
          }
        }
      ]
    },
    {
      "cell_type": "markdown",
      "metadata": {
        "id": "DzBmq-5c27XU"
      },
      "source": [
        "Factorplots of family size categories show that Small and Medium families have more chance to survive than single passenger and large families.\r\n",
        "- 가족 수 분류의 Factorplot은 Small, Medium 가족은 혼자이거나 큰 가족보다 생존률이 높다는 것을 알 수 있다."
      ]
    },
    {
      "cell_type": "code",
      "metadata": {
        "id": "dVoDn6qR3Wv-"
      },
      "source": [
        "# convert to indicator values Title and Embarked\r\n",
        "dataset = pd.get_dummies(dataset, columns = ['Title'])\r\n",
        "dataset = pd.get_dummies(dataset, columns = ['Embarked'], prefix = 'Em') # 맨 앞을 Em으로 붙임"
      ],
      "execution_count": 48,
      "outputs": []
    },
    {
      "cell_type": "code",
      "metadata": {
        "colab": {
          "base_uri": "https://localhost:8080/",
          "height": 258
        },
        "id": "FhZJLNAB3tpG",
        "outputId": "87c67030-7a5c-4e43-a773-8c818aeaafc4"
      },
      "source": [
        "dataset.head()"
      ],
      "execution_count": 49,
      "outputs": [
        {
          "output_type": "execute_result",
          "data": {
            "text/html": [
              "<div>\n",
              "<style scoped>\n",
              "    .dataframe tbody tr th:only-of-type {\n",
              "        vertical-align: middle;\n",
              "    }\n",
              "\n",
              "    .dataframe tbody tr th {\n",
              "        vertical-align: top;\n",
              "    }\n",
              "\n",
              "    .dataframe thead th {\n",
              "        text-align: right;\n",
              "    }\n",
              "</style>\n",
              "<table border=\"1\" class=\"dataframe\">\n",
              "  <thead>\n",
              "    <tr style=\"text-align: right;\">\n",
              "      <th></th>\n",
              "      <th>PassengerId</th>\n",
              "      <th>Survived</th>\n",
              "      <th>Pclass</th>\n",
              "      <th>Sex</th>\n",
              "      <th>Age</th>\n",
              "      <th>SibSp</th>\n",
              "      <th>Parch</th>\n",
              "      <th>Ticket</th>\n",
              "      <th>Fare</th>\n",
              "      <th>Cabin</th>\n",
              "      <th>Fsize</th>\n",
              "      <th>Single</th>\n",
              "      <th>SmallF</th>\n",
              "      <th>MedF</th>\n",
              "      <th>LargeF</th>\n",
              "      <th>Title_0</th>\n",
              "      <th>Title_1</th>\n",
              "      <th>Title_2</th>\n",
              "      <th>Title_3</th>\n",
              "      <th>Em_C</th>\n",
              "      <th>Em_Q</th>\n",
              "      <th>Em_S</th>\n",
              "    </tr>\n",
              "  </thead>\n",
              "  <tbody>\n",
              "    <tr>\n",
              "      <th>0</th>\n",
              "      <td>1</td>\n",
              "      <td>0.0</td>\n",
              "      <td>3</td>\n",
              "      <td>0</td>\n",
              "      <td>22.0</td>\n",
              "      <td>1</td>\n",
              "      <td>0</td>\n",
              "      <td>A/5 21171</td>\n",
              "      <td>1.981001</td>\n",
              "      <td>NaN</td>\n",
              "      <td>2</td>\n",
              "      <td>0</td>\n",
              "      <td>1</td>\n",
              "      <td>0</td>\n",
              "      <td>0</td>\n",
              "      <td>0</td>\n",
              "      <td>0</td>\n",
              "      <td>1</td>\n",
              "      <td>0</td>\n",
              "      <td>0</td>\n",
              "      <td>0</td>\n",
              "      <td>1</td>\n",
              "    </tr>\n",
              "    <tr>\n",
              "      <th>1</th>\n",
              "      <td>2</td>\n",
              "      <td>1.0</td>\n",
              "      <td>1</td>\n",
              "      <td>1</td>\n",
              "      <td>38.0</td>\n",
              "      <td>1</td>\n",
              "      <td>0</td>\n",
              "      <td>PC 17599</td>\n",
              "      <td>4.266662</td>\n",
              "      <td>C85</td>\n",
              "      <td>2</td>\n",
              "      <td>0</td>\n",
              "      <td>1</td>\n",
              "      <td>0</td>\n",
              "      <td>0</td>\n",
              "      <td>0</td>\n",
              "      <td>1</td>\n",
              "      <td>0</td>\n",
              "      <td>0</td>\n",
              "      <td>1</td>\n",
              "      <td>0</td>\n",
              "      <td>0</td>\n",
              "    </tr>\n",
              "    <tr>\n",
              "      <th>2</th>\n",
              "      <td>3</td>\n",
              "      <td>1.0</td>\n",
              "      <td>3</td>\n",
              "      <td>1</td>\n",
              "      <td>26.0</td>\n",
              "      <td>0</td>\n",
              "      <td>0</td>\n",
              "      <td>STON/O2. 3101282</td>\n",
              "      <td>2.070022</td>\n",
              "      <td>NaN</td>\n",
              "      <td>1</td>\n",
              "      <td>1</td>\n",
              "      <td>0</td>\n",
              "      <td>0</td>\n",
              "      <td>0</td>\n",
              "      <td>0</td>\n",
              "      <td>1</td>\n",
              "      <td>0</td>\n",
              "      <td>0</td>\n",
              "      <td>0</td>\n",
              "      <td>0</td>\n",
              "      <td>1</td>\n",
              "    </tr>\n",
              "    <tr>\n",
              "      <th>3</th>\n",
              "      <td>4</td>\n",
              "      <td>1.0</td>\n",
              "      <td>1</td>\n",
              "      <td>1</td>\n",
              "      <td>35.0</td>\n",
              "      <td>1</td>\n",
              "      <td>0</td>\n",
              "      <td>113803</td>\n",
              "      <td>3.972177</td>\n",
              "      <td>C123</td>\n",
              "      <td>2</td>\n",
              "      <td>0</td>\n",
              "      <td>1</td>\n",
              "      <td>0</td>\n",
              "      <td>0</td>\n",
              "      <td>0</td>\n",
              "      <td>1</td>\n",
              "      <td>0</td>\n",
              "      <td>0</td>\n",
              "      <td>0</td>\n",
              "      <td>0</td>\n",
              "      <td>1</td>\n",
              "    </tr>\n",
              "    <tr>\n",
              "      <th>4</th>\n",
              "      <td>5</td>\n",
              "      <td>0.0</td>\n",
              "      <td>3</td>\n",
              "      <td>0</td>\n",
              "      <td>35.0</td>\n",
              "      <td>0</td>\n",
              "      <td>0</td>\n",
              "      <td>373450</td>\n",
              "      <td>2.085672</td>\n",
              "      <td>NaN</td>\n",
              "      <td>1</td>\n",
              "      <td>1</td>\n",
              "      <td>0</td>\n",
              "      <td>0</td>\n",
              "      <td>0</td>\n",
              "      <td>0</td>\n",
              "      <td>0</td>\n",
              "      <td>1</td>\n",
              "      <td>0</td>\n",
              "      <td>0</td>\n",
              "      <td>0</td>\n",
              "      <td>1</td>\n",
              "    </tr>\n",
              "  </tbody>\n",
              "</table>\n",
              "</div>"
            ],
            "text/plain": [
              "   PassengerId  Survived  Pclass  Sex   Age  ...  Title_2  Title_3 Em_C  Em_Q Em_S\n",
              "0            1       0.0       3    0  22.0  ...        1        0    0     0    1\n",
              "1            2       1.0       1    1  38.0  ...        0        0    1     0    0\n",
              "2            3       1.0       3    1  26.0  ...        0        0    0     0    1\n",
              "3            4       1.0       1    1  35.0  ...        0        0    0     0    1\n",
              "4            5       0.0       3    0  35.0  ...        1        0    0     0    1\n",
              "\n",
              "[5 rows x 22 columns]"
            ]
          },
          "metadata": {
            "tags": []
          },
          "execution_count": 49
        }
      ]
    },
    {
      "cell_type": "markdown",
      "metadata": {
        "id": "SJsnh0QB3u2l"
      },
      "source": [
        "At this stage, we have 22 features.\r\n",
        "- 이 단계에서는 22개의 특징이 있다."
      ]
    },
    {
      "cell_type": "markdown",
      "metadata": {
        "id": "iHBZt1-1390w"
      },
      "source": [
        ""
      ]
    },
    {
      "cell_type": "markdown",
      "metadata": {
        "id": "C669eqn74AAZ"
      },
      "source": [
        "## 5.3 Cabin"
      ]
    },
    {
      "cell_type": "code",
      "metadata": {
        "colab": {
          "base_uri": "https://localhost:8080/"
        },
        "id": "ExaG54wE5iqE",
        "outputId": "c90060a6-3361-4e10-a81c-9c02dcb183f5"
      },
      "source": [
        "dataset['Cabin'].head()"
      ],
      "execution_count": 50,
      "outputs": [
        {
          "output_type": "execute_result",
          "data": {
            "text/plain": [
              "0     NaN\n",
              "1     C85\n",
              "2     NaN\n",
              "3    C123\n",
              "4     NaN\n",
              "Name: Cabin, dtype: object"
            ]
          },
          "metadata": {
            "tags": []
          },
          "execution_count": 50
        }
      ]
    },
    {
      "cell_type": "code",
      "metadata": {
        "colab": {
          "base_uri": "https://localhost:8080/"
        },
        "id": "9eiW2Il45kdN",
        "outputId": "3c7066ef-e78c-47ac-acec-7cdfa08bec93"
      },
      "source": [
        "dataset['Cabin'].describe()"
      ],
      "execution_count": 51,
      "outputs": [
        {
          "output_type": "execute_result",
          "data": {
            "text/plain": [
              "count     292\n",
              "unique    186\n",
              "top        G6\n",
              "freq        5\n",
              "Name: Cabin, dtype: object"
            ]
          },
          "metadata": {
            "tags": []
          },
          "execution_count": 51
        }
      ]
    },
    {
      "cell_type": "code",
      "metadata": {
        "colab": {
          "base_uri": "https://localhost:8080/"
        },
        "id": "onCRy_Jb5nth",
        "outputId": "9a64c81f-deb9-4d01-c85a-73307822a308"
      },
      "source": [
        "dataset['Cabin'].isnull().sum()"
      ],
      "execution_count": 52,
      "outputs": [
        {
          "output_type": "execute_result",
          "data": {
            "text/plain": [
              "1007"
            ]
          },
          "metadata": {
            "tags": []
          },
          "execution_count": 52
        }
      ]
    },
    {
      "cell_type": "markdown",
      "metadata": {
        "id": "J23Y7VKa5vn4"
      },
      "source": [
        "The Cabin feature column contains 292 values and 1007 missing values.\r\n",
        "- Cabin 특징은 292개의 값을 가지고 있고 1007개의 빈 값이 있다.\r\n",
        "\r\n",
        "I suppoused that passengers without a cabin have a missing value displayed instead of the cabin number.\r\n",
        "- 나는 cabin이 없는 사람이 값이 없다고 생각한다. \r\n",
        "\r\n"
      ]
    },
    {
      "cell_type": "code",
      "metadata": {
        "colab": {
          "base_uri": "https://localhost:8080/"
        },
        "id": "FuC3HNJg7FbM",
        "outputId": "b5170f92-a85a-467f-ffad-bf0c63edbf26"
      },
      "source": [
        "dataset['Cabin'][dataset['Cabin'].notnull()].head()"
      ],
      "execution_count": 53,
      "outputs": [
        {
          "output_type": "execute_result",
          "data": {
            "text/plain": [
              "1      C85\n",
              "3     C123\n",
              "6      E46\n",
              "10      G6\n",
              "11    C103\n",
              "Name: Cabin, dtype: object"
            ]
          },
          "metadata": {
            "tags": []
          },
          "execution_count": 53
        }
      ]
    },
    {
      "cell_type": "code",
      "metadata": {
        "id": "dFHrwykw7KNX"
      },
      "source": [
        "# Replace the Cabin number by the type of cabin 'X' if not\r\n",
        "dataset['Cabin'] = pd.Series([i[0] if not pd.isnull(i) else 'X' for i in dataset['Cabin']])"
      ],
      "execution_count": 54,
      "outputs": []
    },
    {
      "cell_type": "markdown",
      "metadata": {
        "id": "cr9P9zkF7WU7"
      },
      "source": [
        "The first letter of the cabin indicates the Desk, I choosed to keep this information only, since it indicates the probable location of the passenger in the Titianic.\r\n",
        "- Cabin의 첫 글자는 Desk를 의미한다, 나는 이 정보만을 유지하기로 했고, 그러므로 이것은 승객의 타이타닉에서의 위치를 가리킬 수 있다.\r\n"
      ]
    },
    {
      "cell_type": "code",
      "metadata": {
        "colab": {
          "base_uri": "https://localhost:8080/",
          "height": 341
        },
        "id": "hxUXiLVY7v2A",
        "outputId": "2da20e24-3d1f-4784-b36a-5fd5ca520692"
      },
      "source": [
        " g = sns.countplot(dataset['Cabin'], order = ['A', 'B', 'C', 'D', 'E', 'F', 'G', 'T', 'X'])"
      ],
      "execution_count": 55,
      "outputs": [
        {
          "output_type": "stream",
          "text": [
            "/usr/local/lib/python3.7/dist-packages/seaborn/_decorators.py:43: FutureWarning: Pass the following variable as a keyword arg: x. From version 0.12, the only valid positional argument will be `data`, and passing other arguments without an explicit keyword will result in an error or misinterpretation.\n",
            "  FutureWarning\n"
          ],
          "name": "stderr"
        },
        {
          "output_type": "display_data",
          "data": {
            "image/png": "[encoded data removed]",
            "text/plain": [
              "<Figure size 432x288 with 1 Axes>"
            ]
          },
          "metadata": {
            "tags": []
          }
        }
      ]
    },
    {
      "cell_type": "code",
      "metadata": {
        "colab": {
          "base_uri": "https://localhost:8080/",
          "height": 438
        },
        "id": "zw0LOhEX74pB",
        "outputId": "ad48e666-0cd0-49f6-e9e2-a7fe0ad06d18"
      },
      "source": [
        "g = sns.factorplot(y = 'Survived', x = 'Cabin', data = dataset, kind = 'bar', order = ['A', 'B', 'C', 'D', 'E', 'F', 'G','T', 'X'])\r\n",
        "g = g.set_ylabels('Survival Probability')"
      ],
      "execution_count": 56,
      "outputs": [
        {
          "output_type": "stream",
          "text": [
            "/usr/local/lib/python3.7/dist-packages/seaborn/categorical.py:3714: UserWarning: The `factorplot` function has been renamed to `catplot`. The original name will be removed in a future release. Please update your code. Note that the default `kind` in `factorplot` (`'point'`) has changed `'strip'` in `catplot`.\n",
            "  warnings.warn(msg)\n"
          ],
          "name": "stderr"
        },
        {
          "output_type": "display_data",
          "data": {
            "image/png": "[encoded data removed]",
            "text/plain": [
              "<Figure size 360x360 with 1 Axes>"
            ]
          },
          "metadata": {
            "tags": []
          }
        }
      ]
    },
    {
      "cell_type": "markdown",
      "metadata": {
        "id": "rqzqhr138Ibh"
      },
      "source": [
        "Because of the low number of passenger that have a cabin, survival probabilities have an important standard deviation and we can't distinguish between survival probability of passengers in the different desks.\r\n",
        "- Cabin을 가진 승객이 적기 때문에, 생존률은 표준편자를 가지고 우리는 다른 desk에서 승객의 생존률을 구분할 수 없다.\r\n",
        "\r\n",
        "But we can see that passengers with a cabin have generally more chance to survive than passengers without(X).\r\n",
        "그러나 우리는 Cabin을 가진 사람이 그렇지 않을 사람보다 생존률이 일반적으로 높다는 것을 알 수 있다.\r\n",
        "\r\n",
        "It is particular true for cabin B, C, D, E and F.\r\n",
        "이것은 부분적으로 B, C, D, E, F 에만 진실이다.\r\n"
      ]
    },
    {
      "cell_type": "code",
      "metadata": {
        "id": "IFBIXLv8-JYt"
      },
      "source": [
        "dataset = pd.get_dummies(dataset, columns = [\"Cabin\"],prefix=\"Cabin\")"
      ],
      "execution_count": 57,
      "outputs": []
    },
    {
      "cell_type": "markdown",
      "metadata": {
        "id": "gOIzV7W0-YZI"
      },
      "source": [
        "## 5.4 Ticket"
      ]
    },
    {
      "cell_type": "code",
      "metadata": {
        "colab": {
          "base_uri": "https://localhost:8080/"
        },
        "id": "E1olh2qG-5bR",
        "outputId": "7de5aaad-df49-4373-9635-16a61d2ecab0"
      },
      "source": [
        "dataset['Ticket'].head()"
      ],
      "execution_count": 58,
      "outputs": [
        {
          "output_type": "execute_result",
          "data": {
            "text/plain": [
              "0           A/5 21171\n",
              "1            PC 17599\n",
              "2    STON/O2. 3101282\n",
              "3              113803\n",
              "4              373450\n",
              "Name: Ticket, dtype: object"
            ]
          },
          "metadata": {
            "tags": []
          },
          "execution_count": 58
        }
      ]
    },
    {
      "cell_type": "markdown",
      "metadata": {
        "id": "iiR8z-ni-7Ti"
      },
      "source": [
        "It could mean that tickets sharing the same prefixes could be booked for cabins placed togother. It could therefore lead to the actual placement of the cabins within the ship.\r\n",
        "- 접두사를 공유하는 티켓은 같은 장소의 Cabin일 수 있다. 그러므로 실제로 같은 장소에 있다고 생각할 수 있다.\r\n",
        "\r\n",
        "Tickets with same prefixes may have a similar class and survival.\r\n",
        "- 같은 접두사의 티켓은 같은 class와 생존을 할 수 있다.\r\n",
        "\r\n",
        "So I decided to replace the Ticket feature column by the ticket prefixe. Which may be more informative.\r\n",
        "그래서 나는 티켓 특징을 접두사로 대체하기로 결정했다. 이것이 더 정보를 가지고 있기 때문에\r\n"
      ]
    },
    {
      "cell_type": "code",
      "metadata": {
        "colab": {
          "base_uri": "https://localhost:8080/"
        },
        "id": "PkaGJuygVL7N",
        "outputId": "962a6bcd-84b6-42fd-d64f-4ebcd4507e6d"
      },
      "source": [
        "## Treat Ticket by extracting the ticket prefix. When there is no prefix it returns X.\r\n",
        "\r\n",
        "Ticket = []\r\n",
        "for i in list(dataset.Ticket):\r\n",
        "  if not i.isdigit():\r\n",
        "    Ticket.append(i.replace('.','').replace('/', '').strip().split(' ')[0])\r\n",
        "  else:\r\n",
        "    Ticket.append('X')\r\n",
        "\r\n",
        "dataset['Ticket'] = Ticket\r\n",
        "dataset['Ticket'].head()"
      ],
      "execution_count": 59,
      "outputs": [
        {
          "output_type": "execute_result",
          "data": {
            "text/plain": [
              "0        A5\n",
              "1        PC\n",
              "2    STONO2\n",
              "3         X\n",
              "4         X\n",
              "Name: Ticket, dtype: object"
            ]
          },
          "metadata": {
            "tags": []
          },
          "execution_count": 59
        }
      ]
    },
    {
      "cell_type": "code",
      "metadata": {
        "id": "1pHpv6P6WMfL"
      },
      "source": [
        "dataset = pd.get_dummies(dataset, columns = ['Ticket'], prefix = 'T')"
      ],
      "execution_count": 60,
      "outputs": []
    },
    {
      "cell_type": "code",
      "metadata": {
        "id": "j8_eo5uvvE66"
      },
      "source": [
        "# Create categorical values for Pclass\r\n",
        "dataset['Pclass'] = dataset['Pclass'].astype('category')\r\n",
        "dataset = pd.get_dummies(dataset, columns = ['Pclass'], prefix = 'Pc')"
      ],
      "execution_count": 61,
      "outputs": []
    },
    {
      "cell_type": "code",
      "metadata": {
        "id": "UpIKacFYyZyX"
      },
      "source": [
        "# Drop useless variables\r\n",
        "dataset.drop(labels = ['PassengerId'], axis = 1, inplace = True)"
      ],
      "execution_count": 62,
      "outputs": []
    },
    {
      "cell_type": "code",
      "metadata": {
        "colab": {
          "base_uri": "https://localhost:8080/",
          "height": 224
        },
        "id": "v-5tPlD_ygQT",
        "outputId": "05dcaa37-8300-4de2-d34e-942947eff899"
      },
      "source": [
        "dataset.head()"
      ],
      "execution_count": 63,
      "outputs": [
        {
          "output_type": "execute_result",
          "data": {
            "text/html": [
              "<div>\n",
              "<style scoped>\n",
              "    .dataframe tbody tr th:only-of-type {\n",
              "        vertical-align: middle;\n",
              "    }\n",
              "\n",
              "    .dataframe tbody tr th {\n",
              "        vertical-align: top;\n",
              "    }\n",
              "\n",
              "    .dataframe thead th {\n",
              "        text-align: right;\n",
              "    }\n",
              "</style>\n",
              "<table border=\"1\" class=\"dataframe\">\n",
              "  <thead>\n",
              "    <tr style=\"text-align: right;\">\n",
              "      <th></th>\n",
              "      <th>Survived</th>\n",
              "      <th>Sex</th>\n",
              "      <th>Age</th>\n",
              "      <th>SibSp</th>\n",
              "      <th>Parch</th>\n",
              "      <th>Fare</th>\n",
              "      <th>Fsize</th>\n",
              "      <th>Single</th>\n",
              "      <th>SmallF</th>\n",
              "      <th>MedF</th>\n",
              "      <th>LargeF</th>\n",
              "      <th>Title_0</th>\n",
              "      <th>Title_1</th>\n",
              "      <th>Title_2</th>\n",
              "      <th>Title_3</th>\n",
              "      <th>Em_C</th>\n",
              "      <th>Em_Q</th>\n",
              "      <th>Em_S</th>\n",
              "      <th>Cabin_A</th>\n",
              "      <th>Cabin_B</th>\n",
              "      <th>Cabin_C</th>\n",
              "      <th>Cabin_D</th>\n",
              "      <th>Cabin_E</th>\n",
              "      <th>Cabin_F</th>\n",
              "      <th>Cabin_G</th>\n",
              "      <th>Cabin_T</th>\n",
              "      <th>Cabin_X</th>\n",
              "      <th>T_A</th>\n",
              "      <th>T_A4</th>\n",
              "      <th>T_A5</th>\n",
              "      <th>T_AQ3</th>\n",
              "      <th>T_AQ4</th>\n",
              "      <th>T_AS</th>\n",
              "      <th>T_C</th>\n",
              "      <th>T_CA</th>\n",
              "      <th>T_CASOTON</th>\n",
              "      <th>T_FC</th>\n",
              "      <th>T_FCC</th>\n",
              "      <th>T_Fa</th>\n",
              "      <th>T_LINE</th>\n",
              "      <th>T_LP</th>\n",
              "      <th>T_PC</th>\n",
              "      <th>T_PP</th>\n",
              "      <th>T_PPP</th>\n",
              "      <th>T_SC</th>\n",
              "      <th>T_SCA3</th>\n",
              "      <th>T_SCA4</th>\n",
              "      <th>T_SCAH</th>\n",
              "      <th>T_SCOW</th>\n",
              "      <th>T_SCPARIS</th>\n",
              "      <th>T_SCParis</th>\n",
              "      <th>T_SOC</th>\n",
              "      <th>T_SOP</th>\n",
              "      <th>T_SOPP</th>\n",
              "      <th>T_SOTONO2</th>\n",
              "      <th>T_SOTONOQ</th>\n",
              "      <th>T_SP</th>\n",
              "      <th>T_STONO</th>\n",
              "      <th>T_STONO2</th>\n",
              "      <th>T_STONOQ</th>\n",
              "      <th>T_SWPP</th>\n",
              "      <th>T_WC</th>\n",
              "      <th>T_WEP</th>\n",
              "      <th>T_X</th>\n",
              "      <th>Pc_1</th>\n",
              "      <th>Pc_2</th>\n",
              "      <th>Pc_3</th>\n",
              "    </tr>\n",
              "  </thead>\n",
              "  <tbody>\n",
              "    <tr>\n",
              "      <th>0</th>\n",
              "      <td>0.0</td>\n",
              "      <td>0</td>\n",
              "      <td>22.0</td>\n",
              "      <td>1</td>\n",
              "      <td>0</td>\n",
              "      <td>1.981001</td>\n",
              "      <td>2</td>\n",
              "      <td>0</td>\n",
              "      <td>1</td>\n",
              "      <td>0</td>\n",
              "      <td>0</td>\n",
              "      <td>0</td>\n",
              "      <td>0</td>\n",
              "      <td>1</td>\n",
              "      <td>0</td>\n",
              "      <td>0</td>\n",
              "      <td>0</td>\n",
              "      <td>1</td>\n",
              "      <td>0</td>\n",
              "      <td>0</td>\n",
              "      <td>0</td>\n",
              "      <td>0</td>\n",
              "      <td>0</td>\n",
              "      <td>0</td>\n",
              "      <td>0</td>\n",
              "      <td>0</td>\n",
              "      <td>1</td>\n",
              "      <td>0</td>\n",
              "      <td>0</td>\n",
              "      <td>1</td>\n",
              "      <td>0</td>\n",
              "      <td>0</td>\n",
              "      <td>0</td>\n",
              "      <td>0</td>\n",
              "      <td>0</td>\n",
              "      <td>0</td>\n",
              "      <td>0</td>\n",
              "      <td>0</td>\n",
              "      <td>0</td>\n",
              "      <td>0</td>\n",
              "      <td>0</td>\n",
              "      <td>0</td>\n",
              "      <td>0</td>\n",
              "      <td>0</td>\n",
              "      <td>0</td>\n",
              "      <td>0</td>\n",
              "      <td>0</td>\n",
              "      <td>0</td>\n",
              "      <td>0</td>\n",
              "      <td>0</td>\n",
              "      <td>0</td>\n",
              "      <td>0</td>\n",
              "      <td>0</td>\n",
              "      <td>0</td>\n",
              "      <td>0</td>\n",
              "      <td>0</td>\n",
              "      <td>0</td>\n",
              "      <td>0</td>\n",
              "      <td>0</td>\n",
              "      <td>0</td>\n",
              "      <td>0</td>\n",
              "      <td>0</td>\n",
              "      <td>0</td>\n",
              "      <td>0</td>\n",
              "      <td>0</td>\n",
              "      <td>0</td>\n",
              "      <td>1</td>\n",
              "    </tr>\n",
              "    <tr>\n",
              "      <th>1</th>\n",
              "      <td>1.0</td>\n",
              "      <td>1</td>\n",
              "      <td>38.0</td>\n",
              "      <td>1</td>\n",
              "      <td>0</td>\n",
              "      <td>4.266662</td>\n",
              "      <td>2</td>\n",
              "      <td>0</td>\n",
              "      <td>1</td>\n",
              "      <td>0</td>\n",
              "      <td>0</td>\n",
              "      <td>0</td>\n",
              "      <td>1</td>\n",
              "      <td>0</td>\n",
              "      <td>0</td>\n",
              "      <td>1</td>\n",
              "      <td>0</td>\n",
              "      <td>0</td>\n",
              "      <td>0</td>\n",
              "      <td>0</td>\n",
              "      <td>1</td>\n",
              "      <td>0</td>\n",
              "      <td>0</td>\n",
              "      <td>0</td>\n",
              "      <td>0</td>\n",
              "      <td>0</td>\n",
              "      <td>0</td>\n",
              "      <td>0</td>\n",
              "      <td>0</td>\n",
              "      <td>0</td>\n",
              "      <td>0</td>\n",
              "      <td>0</td>\n",
              "      <td>0</td>\n",
              "      <td>0</td>\n",
              "      <td>0</td>\n",
              "      <td>0</td>\n",
              "      <td>0</td>\n",
              "      <td>0</td>\n",
              "      <td>0</td>\n",
              "      <td>0</td>\n",
              "      <td>0</td>\n",
              "      <td>1</td>\n",
              "      <td>0</td>\n",
              "      <td>0</td>\n",
              "      <td>0</td>\n",
              "      <td>0</td>\n",
              "      <td>0</td>\n",
              "      <td>0</td>\n",
              "      <td>0</td>\n",
              "      <td>0</td>\n",
              "      <td>0</td>\n",
              "      <td>0</td>\n",
              "      <td>0</td>\n",
              "      <td>0</td>\n",
              "      <td>0</td>\n",
              "      <td>0</td>\n",
              "      <td>0</td>\n",
              "      <td>0</td>\n",
              "      <td>0</td>\n",
              "      <td>0</td>\n",
              "      <td>0</td>\n",
              "      <td>0</td>\n",
              "      <td>0</td>\n",
              "      <td>0</td>\n",
              "      <td>1</td>\n",
              "      <td>0</td>\n",
              "      <td>0</td>\n",
              "    </tr>\n",
              "    <tr>\n",
              "      <th>2</th>\n",
              "      <td>1.0</td>\n",
              "      <td>1</td>\n",
              "      <td>26.0</td>\n",
              "      <td>0</td>\n",
              "      <td>0</td>\n",
              "      <td>2.070022</td>\n",
              "      <td>1</td>\n",
              "      <td>1</td>\n",
              "      <td>0</td>\n",
              "      <td>0</td>\n",
              "      <td>0</td>\n",
              "      <td>0</td>\n",
              "      <td>1</td>\n",
              "      <td>0</td>\n",
              "      <td>0</td>\n",
              "      <td>0</td>\n",
              "      <td>0</td>\n",
              "      <td>1</td>\n",
              "      <td>0</td>\n",
              "      <td>0</td>\n",
              "      <td>0</td>\n",
              "      <td>0</td>\n",
              "      <td>0</td>\n",
              "      <td>0</td>\n",
              "      <td>0</td>\n",
              "      <td>0</td>\n",
              "      <td>1</td>\n",
              "      <td>0</td>\n",
              "      <td>0</td>\n",
              "      <td>0</td>\n",
              "      <td>0</td>\n",
              "      <td>0</td>\n",
              "      <td>0</td>\n",
              "      <td>0</td>\n",
              "      <td>0</td>\n",
              "      <td>0</td>\n",
              "      <td>0</td>\n",
              "      <td>0</td>\n",
              "      <td>0</td>\n",
              "      <td>0</td>\n",
              "      <td>0</td>\n",
              "      <td>0</td>\n",
              "      <td>0</td>\n",
              "      <td>0</td>\n",
              "      <td>0</td>\n",
              "      <td>0</td>\n",
              "      <td>0</td>\n",
              "      <td>0</td>\n",
              "      <td>0</td>\n",
              "      <td>0</td>\n",
              "      <td>0</td>\n",
              "      <td>0</td>\n",
              "      <td>0</td>\n",
              "      <td>0</td>\n",
              "      <td>0</td>\n",
              "      <td>0</td>\n",
              "      <td>0</td>\n",
              "      <td>0</td>\n",
              "      <td>1</td>\n",
              "      <td>0</td>\n",
              "      <td>0</td>\n",
              "      <td>0</td>\n",
              "      <td>0</td>\n",
              "      <td>0</td>\n",
              "      <td>0</td>\n",
              "      <td>0</td>\n",
              "      <td>1</td>\n",
              "    </tr>\n",
              "    <tr>\n",
              "      <th>3</th>\n",
              "      <td>1.0</td>\n",
              "      <td>1</td>\n",
              "      <td>35.0</td>\n",
              "      <td>1</td>\n",
              "      <td>0</td>\n",
              "      <td>3.972177</td>\n",
              "      <td>2</td>\n",
              "      <td>0</td>\n",
              "      <td>1</td>\n",
              "      <td>0</td>\n",
              "      <td>0</td>\n",
              "      <td>0</td>\n",
              "      <td>1</td>\n",
              "      <td>0</td>\n",
              "      <td>0</td>\n",
              "      <td>0</td>\n",
              "      <td>0</td>\n",
              "      <td>1</td>\n",
              "      <td>0</td>\n",
              "      <td>0</td>\n",
              "      <td>1</td>\n",
              "      <td>0</td>\n",
              "      <td>0</td>\n",
              "      <td>0</td>\n",
              "      <td>0</td>\n",
              "      <td>0</td>\n",
              "      <td>0</td>\n",
              "      <td>0</td>\n",
              "      <td>0</td>\n",
              "      <td>0</td>\n",
              "      <td>0</td>\n",
              "      <td>0</td>\n",
              "      <td>0</td>\n",
              "      <td>0</td>\n",
              "      <td>0</td>\n",
              "      <td>0</td>\n",
              "      <td>0</td>\n",
              "      <td>0</td>\n",
              "      <td>0</td>\n",
              "      <td>0</td>\n",
              "      <td>0</td>\n",
              "      <td>0</td>\n",
              "      <td>0</td>\n",
              "      <td>0</td>\n",
              "      <td>0</td>\n",
              "      <td>0</td>\n",
              "      <td>0</td>\n",
              "      <td>0</td>\n",
              "      <td>0</td>\n",
              "      <td>0</td>\n",
              "      <td>0</td>\n",
              "      <td>0</td>\n",
              "      <td>0</td>\n",
              "      <td>0</td>\n",
              "      <td>0</td>\n",
              "      <td>0</td>\n",
              "      <td>0</td>\n",
              "      <td>0</td>\n",
              "      <td>0</td>\n",
              "      <td>0</td>\n",
              "      <td>0</td>\n",
              "      <td>0</td>\n",
              "      <td>0</td>\n",
              "      <td>1</td>\n",
              "      <td>1</td>\n",
              "      <td>0</td>\n",
              "      <td>0</td>\n",
              "    </tr>\n",
              "    <tr>\n",
              "      <th>4</th>\n",
              "      <td>0.0</td>\n",
              "      <td>0</td>\n",
              "      <td>35.0</td>\n",
              "      <td>0</td>\n",
              "      <td>0</td>\n",
              "      <td>2.085672</td>\n",
              "      <td>1</td>\n",
              "      <td>1</td>\n",
              "      <td>0</td>\n",
              "      <td>0</td>\n",
              "      <td>0</td>\n",
              "      <td>0</td>\n",
              "      <td>0</td>\n",
              "      <td>1</td>\n",
              "      <td>0</td>\n",
              "      <td>0</td>\n",
              "      <td>0</td>\n",
              "      <td>1</td>\n",
              "      <td>0</td>\n",
              "      <td>0</td>\n",
              "      <td>0</td>\n",
              "      <td>0</td>\n",
              "      <td>0</td>\n",
              "      <td>0</td>\n",
              "      <td>0</td>\n",
              "      <td>0</td>\n",
              "      <td>1</td>\n",
              "      <td>0</td>\n",
              "      <td>0</td>\n",
              "      <td>0</td>\n",
              "      <td>0</td>\n",
              "      <td>0</td>\n",
              "      <td>0</td>\n",
              "      <td>0</td>\n",
              "      <td>0</td>\n",
              "      <td>0</td>\n",
              "      <td>0</td>\n",
              "      <td>0</td>\n",
              "      <td>0</td>\n",
              "      <td>0</td>\n",
              "      <td>0</td>\n",
              "      <td>0</td>\n",
              "      <td>0</td>\n",
              "      <td>0</td>\n",
              "      <td>0</td>\n",
              "      <td>0</td>\n",
              "      <td>0</td>\n",
              "      <td>0</td>\n",
              "      <td>0</td>\n",
              "      <td>0</td>\n",
              "      <td>0</td>\n",
              "      <td>0</td>\n",
              "      <td>0</td>\n",
              "      <td>0</td>\n",
              "      <td>0</td>\n",
              "      <td>0</td>\n",
              "      <td>0</td>\n",
              "      <td>0</td>\n",
              "      <td>0</td>\n",
              "      <td>0</td>\n",
              "      <td>0</td>\n",
              "      <td>0</td>\n",
              "      <td>0</td>\n",
              "      <td>1</td>\n",
              "      <td>0</td>\n",
              "      <td>0</td>\n",
              "      <td>1</td>\n",
              "    </tr>\n",
              "  </tbody>\n",
              "</table>\n",
              "</div>"
            ],
            "text/plain": [
              "   Survived  Sex   Age  SibSp  Parch  ...  T_WEP  T_X  Pc_1  Pc_2  Pc_3\n",
              "0       0.0    0  22.0      1      0  ...      0    0     0     0     1\n",
              "1       1.0    1  38.0      1      0  ...      0    0     1     0     0\n",
              "2       1.0    1  26.0      0      0  ...      0    0     0     0     1\n",
              "3       1.0    1  35.0      1      0  ...      0    1     1     0     0\n",
              "4       0.0    0  35.0      0      0  ...      0    1     0     0     1\n",
              "\n",
              "[5 rows x 67 columns]"
            ]
          },
          "metadata": {
            "tags": []
          },
          "execution_count": 63
        }
      ]
    },
    {
      "cell_type": "markdown",
      "metadata": {
        "id": "FLixKRL8yh9-"
      },
      "source": [
        "# 6. MODELING"
      ]
    },
    {
      "cell_type": "code",
      "metadata": {
        "colab": {
          "base_uri": "https://localhost:8080/"
        },
        "id": "rqdHlc3CyyZ7",
        "outputId": "d1e568e4-4d80-4879-ecb2-6345c5298dbb"
      },
      "source": [
        "## Separate train dataset and test dataset\r\n",
        "\r\n",
        "train = dataset[:train_len]\r\n",
        "test = dataset[train_len:]\r\n",
        "test.drop(labels = ['Survived'], axis = 1, inplace = True)"
      ],
      "execution_count": 64,
      "outputs": [
        {
          "output_type": "stream",
          "text": [
            "/usr/local/lib/python3.7/dist-packages/pandas/core/frame.py:4174: SettingWithCopyWarning: \n",
            "A value is trying to be set on a copy of a slice from a DataFrame\n",
            "\n",
            "See the caveats in the documentation: https://pandas.pydata.org/pandas-docs/stable/user_guide/indexing.html#returning-a-view-versus-a-copy\n",
            "  errors=errors,\n"
          ],
          "name": "stderr"
        }
      ]
    },
    {
      "cell_type": "code",
      "metadata": {
        "colab": {
          "base_uri": "https://localhost:8080/"
        },
        "id": "wmQzQWhLzKhM",
        "outputId": "8375faa2-f340-43e1-e3a0-a2104757bcb9"
      },
      "source": [
        "## Separate train features and label\r\n",
        "\r\n",
        "train['Survived'] = train['Survived'].astype(int)\r\n",
        "\r\n",
        "Y_train = train['Survived']\r\n",
        "\r\n",
        "X_train = train.drop(labels = ['Survived'], axis = 1)"
      ],
      "execution_count": 65,
      "outputs": [
        {
          "output_type": "stream",
          "text": [
            "/usr/local/lib/python3.7/dist-packages/ipykernel_launcher.py:3: SettingWithCopyWarning: \n",
            "A value is trying to be set on a copy of a slice from a DataFrame.\n",
            "Try using .loc[row_indexer,col_indexer] = value instead\n",
            "\n",
            "See the caveats in the documentation: https://pandas.pydata.org/pandas-docs/stable/user_guide/indexing.html#returning-a-view-versus-a-copy\n",
            "  This is separate from the ipykernel package so we can avoid doing imports until\n"
          ],
          "name": "stderr"
        }
      ]
    },
    {
      "cell_type": "markdown",
      "metadata": {
        "id": "oiEv77M_zq-k"
      },
      "source": [
        "## 6.1 Simple modeling"
      ]
    },
    {
      "cell_type": "markdown",
      "metadata": {
        "id": "W6OGFyc2zzRR"
      },
      "source": [
        "### 6.1.1 Cross validate models\r\n",
        "\r\n",
        "I compared 10 popular classifiers and evaluate the mean accuracy of each of them by a stratified kfold cross validation precedure\r\n",
        "\r\n",
        "- SVC\r\n",
        "- Decision Tree\r\n",
        "- AdaBoost\r\n",
        "-Random Forest\r\n",
        "- Extra Trees\r\n",
        "- Gradient Boosting\r\n",
        "- Multiple layer perceprton (neural network)\r\n",
        "- KNN\r\n",
        "- Logistic regression\r\n",
        "- Linear Discriminant Analysis"
      ]
    },
    {
      "cell_type": "code",
      "metadata": {
        "id": "OQ5CJ-X90Nt3"
      },
      "source": [
        "# Cross validatae model sith kfold stratified cross val\r\n",
        "kfold = StratifiedKFold(n_splits = 10)\r\n"
      ],
      "execution_count": 66,
      "outputs": []
    },
    {
      "cell_type": "code",
      "metadata": {
        "colab": {
          "base_uri": "https://localhost:8080/",
          "height": 357
        },
        "id": "y3oQajlj0Vij",
        "outputId": "0da20c5e-7036-46a9-89a4-1154e2970ba9"
      },
      "source": [
        "# Modeling step Test differents algorithms\r\n",
        "random_state = 2\r\n",
        "classifiers = []\r\n",
        "classifiers.append(SVC(random_state = random_state))\r\n",
        "classifiers.append(DecisionTreeClassifier(random_state = random_state))\r\n",
        "classifiers.append(AdaBoostClassifier(DecisionTreeClassifier(random_state = random_state), random_state = random_state, learning_rate = 0.1))\r\n",
        "classifiers.append(RandomForestClassifier(random_state = random_state))\r\n",
        "classifiers.append(ExtraTreesClassifier(random_state = random_state))\r\n",
        "classifiers.append(GradientBoostingClassifier(random_state = random_state))\r\n",
        "classifiers.append(MLPClassifier(random_state = random_state))\r\n",
        "classifiers.append(KNeighborsClassifier())\r\n",
        "classifiers.append(LogisticRegression(random_state = random_state))\r\n",
        "classifiers.append(LinearDiscriminantAnalysis())\r\n",
        "\r\n",
        "cv_results = []\r\n",
        "for classifier in classifiers:\r\n",
        "  cv_results.append(cross_val_score(classifier, X_train, y = Y_train, scoring = 'accuracy', cv = kfold, n_jobs = 4))\r\n",
        "\r\n",
        "cv_means = []\r\n",
        "cv_std = []\r\n",
        "\r\n",
        "for cv_result in cv_results:\r\n",
        "  cv_means.append(cv_result.mean())\r\n",
        "  cv_std.append(cv_result.std())\r\n",
        "\r\n",
        "cv_res = pd.DataFrame({'CrossValMeans' : cv_means, 'CrossValerrors' : cv_std, 'Algorithm' : ['SVC', 'DecisionTree', 'AdaBoost', 'RandomForest', 'ExtraTrees', 'GradientBoosting', 'MultipleLayerPerceptron', 'KNeighboors', 'LogisticRegression', 'LinearDiscriminantAnalysis']})\r\n",
        "\r\n",
        "g = sns.barplot(\"CrossValMeans\",\"Algorithm\",data = cv_res, palette=\"Set3\",orient = \"h\",**{'xerr':cv_std})\r\n",
        "g.set_xlabel(\"Mean Accuracy\")\r\n",
        "g = g.set_title(\"Cross validation scores\")"
      ],
      "execution_count": 67,
      "outputs": [
        {
          "output_type": "stream",
          "text": [
            "/usr/local/lib/python3.7/dist-packages/seaborn/_decorators.py:43: FutureWarning: Pass the following variables as keyword args: x, y. From version 0.12, the only valid positional argument will be `data`, and passing other arguments without an explicit keyword will result in an error or misinterpretation.\n",
            "  FutureWarning\n"
          ],
          "name": "stderr"
        },
        {
          "output_type": "display_data",
          "data": {
            "image/png": "[encoded data removed]",
            "text/plain": [
              "<Figure size 432x288 with 1 Axes>"
            ]
          },
          "metadata": {
            "tags": []
          }
        }
      ]
    },
    {
      "cell_type": "markdown",
      "metadata": {
        "id": "WAv0pRDg2ajs"
      },
      "source": [
        "I decided to choose the SVC, AdaBoost, RandomForest, ExtraTrees and the GradientBoosting classifiers for the ensemble modeling.\r\n",
        "- 나는 SVC, AdaBoost, RandomForest, ExtraTrees GradientBossting  분류기를 앙상블에 사용하기로 결정했다. "
      ]
    },
    {
      "cell_type": "markdown",
      "metadata": {
        "id": "_uSIZkGa3MRc"
      },
      "source": [
        "### 6.1.2 Hyperparameter tunning for best models\r\n",
        "\r\n",
        "I performed a grid search optimization for AdaBoost, ExtraTrees, RandomForest, GradientBoosting and SVC calssifiers.\r\n",
        "- 나는 AdaBoost, ExtraTrees, RandomForest, GradientBoosting과 SVC 격자 탐색 최적화를 보여주었다.\r\n",
        "\r\n",
        "I set the 'n_jobs' parameter to 4 since I have 4 cpu. The computation time is clearly reduced.\r\n",
        "- 나는 n_jobs' 파라미터를 4로 설정했다. 나는 4개의 CPU가 있기 때문에. 계산 시간이 확실히 감소했다.\r\n",
        "\r\n",
        "But be careful, this step can take a long time, i took me 15min in total on 4 cpu.\r\n",
        "- 그러나 유의해라, 이 단계를 긴 시간이 걸릴 수 있다, 나는 15분이 걸렸다."
      ]
    },
    {
      "cell_type": "code",
      "metadata": {
        "colab": {
          "base_uri": "https://localhost:8080/"
        },
        "id": "EBNSES7n38h-",
        "outputId": "7437ec38-2719-4e58-9ea7-f935ace3d306"
      },
      "source": [
        "### META MODELING WITH ADABOOSTS, RF, EXTRATREES and GRADIENTBOOSTING\r\n",
        "\r\n",
        "# Adaboost\r\n",
        "DTC = DecisionTreeClassifier()\r\n",
        "\r\n",
        "adaDTC = AdaBoostClassifier(DTC, random_state = 7)\r\n",
        "\r\n",
        "ada_param_grid = {'base_estimator__criterion' : ['gini', 'entropy'], 'base_estimator__splitter' : ['best', 'random'], 'algorithm' : ['SAMME', 'SAMME.R'], 'n_estimators' : [1, 2], 'learning_rate' : [0.0001, 0.001, 0.1, 0.2, 0.3, 1.5]}\r\n",
        "\r\n",
        "gsadaDTC = GridSearchCV(adaDTC, param_grid = ada_param_grid, cv = kfold, scoring = 'accuracy', n_jobs = 4, verbose = 1)\r\n",
        "\r\n",
        "gsadaDTC.fit(X_train, Y_train)\r\n",
        "ada_best = gsadaDTC.best_estimator_"
      ],
      "execution_count": 68,
      "outputs": [
        {
          "output_type": "stream",
          "text": [
            "Fitting 10 folds for each of 96 candidates, totalling 960 fits\n"
          ],
          "name": "stdout"
        },
        {
          "output_type": "stream",
          "text": [
            "[Parallel(n_jobs=4)]: Using backend LokyBackend with 4 concurrent workers.\n",
            "[Parallel(n_jobs=4)]: Done 128 tasks      | elapsed:    1.6s\n",
            "[Parallel(n_jobs=4)]: Done 728 tasks      | elapsed:    8.2s\n",
            "[Parallel(n_jobs=4)]: Done 960 out of 960 | elapsed:   10.9s finished\n"
          ],
          "name": "stderr"
        }
      ]
    },
    {
      "cell_type": "code",
      "metadata": {
        "colab": {
          "base_uri": "https://localhost:8080/"
        },
        "id": "UJ-3iUN85M_-",
        "outputId": "8371671b-f7e6-460c-c333-bd41a4d590e3"
      },
      "source": [
        "gsadaDTC.best_score_"
      ],
      "execution_count": 69,
      "outputs": [
        {
          "output_type": "execute_result",
          "data": {
            "text/plain": [
              "0.82073544433095"
            ]
          },
          "metadata": {
            "tags": []
          },
          "execution_count": 69
        }
      ]
    },
    {
      "cell_type": "code",
      "metadata": {
        "id": "xoi5Y5F_Wm43",
        "colab": {
          "base_uri": "https://localhost:8080/"
        },
        "outputId": "68854a82-78ec-48d6-f2fd-6eef44bc7ebb"
      },
      "source": [
        " # ExtraTrees\r\n",
        " ExtC = ExtraTreesClassifier()\r\n",
        "\r\n",
        " ## Search grid for optimal parameters\r\n",
        " ex_param_grid = {\"max_depth\" : [None],\r\n",
        "                  'max_features':[1, 3, 10],\r\n",
        "                  'min_samples_leaf': [1, 3, 10],\r\n",
        "                  'bootstrap' : [False],\r\n",
        "                  'n_estimators' : [100, 300],\r\n",
        "                  'criterion' : ['gini']}\r\n",
        "gsExtC = GridSearchCV(ExtC, param_grid = ex_param_grid, cv = kfold, scoring = 'accuracy', n_jobs = 4, verbose = 1)\r\n",
        "\r\n",
        "gsExtC.fit(X_train, Y_train)\r\n",
        "\r\n",
        "ExtC_best = gsExtC.best_estimator_\r\n",
        "\r\n",
        "# Best score\r\n",
        "gsExtC.best_score_"
      ],
      "execution_count": 72,
      "outputs": [
        {
          "output_type": "stream",
          "text": [
            "Fitting 10 folds for each of 18 candidates, totalling 180 fits\n"
          ],
          "name": "stdout"
        },
        {
          "output_type": "stream",
          "text": [
            "[Parallel(n_jobs=4)]: Using backend LokyBackend with 4 concurrent workers.\n",
            "[Parallel(n_jobs=4)]: Done  42 tasks      | elapsed:   12.6s\n",
            "[Parallel(n_jobs=4)]: Done 180 out of 180 | elapsed:   46.2s finished\n"
          ],
          "name": "stderr"
        },
        {
          "output_type": "execute_result",
          "data": {
            "text/plain": [
              "0.8285878447395302"
            ]
          },
          "metadata": {
            "tags": []
          },
          "execution_count": 72
        }
      ]
    },
    {
      "cell_type": "code",
      "metadata": {
        "colab": {
          "base_uri": "https://localhost:8080/"
        },
        "id": "tY0Uguo9OXjo",
        "outputId": "4e4d028d-e6b6-40ca-adec-7823891fb12a"
      },
      "source": [
        "# RFC Parameters tunning\r\n",
        "RFC = RandomForestClassifier()\r\n",
        "\r\n",
        "## Search grid for optimal parameters\r\n",
        "rf_param_grid = {'max_depth' : [None], 'max_features': [1, 3, 10], 'min_samples_leaf': [2, 3, 10], 'min_samples_leaf' : [1, 3, 10], 'bootstrap' : [False], 'n_estimators' : [100, 300], 'criterion' : ['gini']}\r\n",
        "\r\n",
        "gsRFC = GridSearchCV(RFC, param_grid = rf_param_grid, cv = kfold, scoring = 'accuracy', n_jobs = 4, verbose = 1)\r\n",
        "\r\n",
        "gsRFC.fit(X_train, Y_train)\r\n",
        "\r\n",
        "RFC_best = gsRFC.best_estimator_\r\n",
        "\r\n",
        "# Best score\r\n",
        "gsRFC.best_score_"
      ],
      "execution_count": 73,
      "outputs": [
        {
          "output_type": "stream",
          "text": [
            "Fitting 10 folds for each of 18 candidates, totalling 180 fits\n"
          ],
          "name": "stdout"
        },
        {
          "output_type": "stream",
          "text": [
            "[Parallel(n_jobs=4)]: Using backend LokyBackend with 4 concurrent workers.\n",
            "[Parallel(n_jobs=4)]: Done  42 tasks      | elapsed:   11.2s\n",
            "[Parallel(n_jobs=4)]: Done 180 out of 180 | elapsed:   48.6s finished\n"
          ],
          "name": "stderr"
        },
        {
          "output_type": "execute_result",
          "data": {
            "text/plain": [
              "0.8377042900919305"
            ]
          },
          "metadata": {
            "tags": []
          },
          "execution_count": 73
        }
      ]
    },
    {
      "cell_type": "code",
      "metadata": {
        "colab": {
          "base_uri": "https://localhost:8080/"
        },
        "id": "zT6q6YTNPKdK",
        "outputId": "8e55d374-25fe-470c-e538-b3e56df5f435"
      },
      "source": [
        "# Gradient boosting tunning\r\n",
        "\r\n",
        "GBC = GradientBoostingClassifier()\r\n",
        "gb_param_grid = {'loss' : ['deviance'],\r\n",
        "                 'n_estimators' : [100, 200, 300],\r\n",
        "                 'learning_rate' : [0.1, 0.05, 0.01],\r\n",
        "                 'max_depth' : [4, 8],\r\n",
        "                 'min_samples_leaf' : [100, 150],\r\n",
        "                 'max_features' : [0.3, 0.1]}\r\n",
        "\r\n",
        "gsGBC = GridSearchCV(GBC, param_grid = gb_param_grid, cv = kfold, scoring = 'accuracy', n_jobs = 4, verbose = 1)\r\n",
        "\r\n",
        "gsGBC.fit(X_train, Y_train)\r\n",
        "\r\n",
        "GBC_best = gsGBC.best_estimator_\r\n",
        "\r\n",
        "# Best score\r\n",
        "gsGBC.best_score_"
      ],
      "execution_count": 75,
      "outputs": [
        {
          "output_type": "stream",
          "text": [
            "Fitting 10 folds for each of 72 candidates, totalling 720 fits\n"
          ],
          "name": "stdout"
        },
        {
          "output_type": "stream",
          "text": [
            "[Parallel(n_jobs=4)]: Using backend LokyBackend with 4 concurrent workers.\n",
            "[Parallel(n_jobs=4)]: Done  42 tasks      | elapsed:    6.1s\n",
            "[Parallel(n_jobs=4)]: Done 192 tasks      | elapsed:   25.6s\n",
            "[Parallel(n_jobs=4)]: Done 442 tasks      | elapsed:   57.7s\n",
            "[Parallel(n_jobs=4)]: Done 720 out of 720 | elapsed:  1.5min finished\n"
          ],
          "name": "stderr"
        },
        {
          "output_type": "execute_result",
          "data": {
            "text/plain": [
              "0.8320097037793668"
            ]
          },
          "metadata": {
            "tags": []
          },
          "execution_count": 75
        }
      ]
    },
    {
      "cell_type": "code",
      "metadata": {
        "colab": {
          "base_uri": "https://localhost:8080/"
        },
        "id": "AqO1CuoBPy_K",
        "outputId": "e3cee822-a551-4990-a59d-5dc1659e8366"
      },
      "source": [
        "### SVC classifier\r\n",
        "SVMC = SVC(probability = True)\r\n",
        "svc_param_grid = {'kernel' : ['rbf'],\r\n",
        "                  'gamma' : [0.001, 0.01, 0.1, 1],\r\n",
        "                  'C' : [1, 10, 50, 100, 200, 300, 1000]}\r\n",
        "\r\n",
        "gsSVMC = GridSearchCV(SVMC, param_grid = svc_param_grid, cv = kfold, scoring = 'accuracy', n_jobs = 4, verbose =1)\r\n",
        "\r\n",
        "gsSVMC.fit(X_train, Y_train)\r\n",
        "\r\n",
        "SVMC_best = gsSVMC.best_estimator_\r\n",
        "\r\n",
        "# Best score\r\n",
        "gsSVMC.best_score_"
      ],
      "execution_count": 77,
      "outputs": [
        {
          "output_type": "stream",
          "text": [
            "Fitting 10 folds for each of 28 candidates, totalling 280 fits\n"
          ],
          "name": "stdout"
        },
        {
          "output_type": "stream",
          "text": [
            "[Parallel(n_jobs=4)]: Using backend LokyBackend with 4 concurrent workers.\n",
            "[Parallel(n_jobs=4)]: Done  42 tasks      | elapsed:    9.5s\n",
            "[Parallel(n_jobs=4)]: Done 192 tasks      | elapsed:   46.7s\n",
            "[Parallel(n_jobs=4)]: Done 280 out of 280 | elapsed:  1.3min finished\n"
          ],
          "name": "stderr"
        },
        {
          "output_type": "execute_result",
          "data": {
            "text/plain": [
              "0.8331332992849847"
            ]
          },
          "metadata": {
            "tags": []
          },
          "execution_count": 77
        }
      ]
    },
    {
      "cell_type": "code",
      "metadata": {
        "id": "7Jn-rqmXQXUP"
      },
      "source": [
        ""
      ],
      "execution_count": null,
      "outputs": []
    }
  ]
}