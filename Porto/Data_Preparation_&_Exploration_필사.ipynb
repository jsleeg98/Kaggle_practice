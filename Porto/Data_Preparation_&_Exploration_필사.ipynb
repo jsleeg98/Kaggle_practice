{
  "nbformat": 4,
  "nbformat_minor": 0,
  "metadata": {
    "colab": {
      "name": "Data Preparation & Exploration_필사.ipynb",
      "provenance": [],
      "collapsed_sections": [],
      "authorship_tag": "ABX9TyOplBfvdzZMsGXD9FPURptI",
      "include_colab_link": true
    },
    "kernelspec": {
      "name": "python3",
      "display_name": "Python 3"
    },
    "accelerator": "GPU"
  },
  "cells": [
    {
      "cell_type": "markdown",
      "metadata": {
        "id": "view-in-github",
        "colab_type": "text"
      },
      "source": [
        "<a href=\"https://colab.research.google.com/github/jsleeg98/Kaggle_practice/blob/main/Porto/Data_Preparation_%26_Exploration_%ED%95%84%EC%82%AC.ipynb\" target=\"_parent\"><img src=\"https://colab.research.google.com/assets/colab-badge.svg\" alt=\"Open In Colab\"/></a>"
      ]
    },
    {
      "cell_type": "markdown",
      "metadata": {
        "id": "SqbSg3NE7o93"
      },
      "source": [
        "competition 준비\n",
        "1. overview 읽어보기\n",
        "2. Data Description 보기\n",
        "3. notebook 찾아보기 (most voted, best score)\n",
        "4. Leaderboard \n",
        "5. Rule\n"
      ]
    },
    {
      "cell_type": "markdown",
      "metadata": {
        "id": "ZgnACE2xaVre"
      },
      "source": [
        "Google drive mount "
      ]
    },
    {
      "cell_type": "code",
      "metadata": {
        "colab": {
          "base_uri": "https://localhost:8080/"
        },
        "id": "YvQMnCKtp5-4",
        "outputId": "a6500080-e93e-4a4a-dcc6-0e3ccba97c01"
      },
      "source": [
        "from google.colab import drive\n",
        "drive.mount('/content/drive')"
      ],
      "execution_count": 1,
      "outputs": [
        {
          "output_type": "stream",
          "text": [
            "Mounted at /content/drive\n"
          ],
          "name": "stdout"
        }
      ]
    },
    {
      "cell_type": "code",
      "metadata": {
        "colab": {
          "base_uri": "https://localhost:8080/"
        },
        "id": "FOkALKcqp7Xo",
        "outputId": "5ab51a71-4c2c-4137-ee20-35022a05b27b"
      },
      "source": [
        "%cd drive/MyDrive/kaggle/Porto/"
      ],
      "execution_count": 2,
      "outputs": [
        {
          "output_type": "stream",
          "text": [
            "/content/drive/MyDrive/kaggle/Porto\n"
          ],
          "name": "stdout"
        }
      ]
    },
    {
      "cell_type": "markdown",
      "metadata": {
        "id": "KwkcYh4wqN4w"
      },
      "source": [
        "# Loading packages"
      ]
    },
    {
      "cell_type": "code",
      "metadata": {
        "colab": {
          "base_uri": "https://localhost:8080/"
        },
        "id": "IREcNgYarM-y",
        "outputId": "23133b7e-a984-41f0-cf23-ce18197963fc"
      },
      "source": [
        "pip install Imputer"
      ],
      "execution_count": 3,
      "outputs": [
        {
          "output_type": "stream",
          "text": [
            "\u001b[31mERROR: Could not find a version that satisfies the requirement Imputer (from versions: none)\u001b[0m\n",
            "\u001b[31mERROR: No matching distribution found for Imputer\u001b[0m\n"
          ],
          "name": "stdout"
        }
      ]
    },
    {
      "cell_type": "code",
      "metadata": {
        "id": "7vJRbyEcqUvA"
      },
      "source": [
        "import pandas as pd\n",
        "import numpy as np\n",
        "import matplotlib.pyplot as plt\n",
        "import seaborn as sns\n",
        "\n",
        "from sklearn.preprocessing import PolynomialFeatures\n",
        "from sklearn.preprocessing import StandardScaler\n",
        "\n",
        "# 필요없는 feature를 제거하는 기능\n",
        "from sklearn.feature_selection import VarianceThreshold\n",
        "\n",
        "from sklearn.feature_selection import SelectFromModel\n",
        "from sklearn.utils import shuffle\n",
        "from sklearn.ensemble import RandomForestClassifier\n",
        "\n",
        "pd.set_option('display.max_columns', 100)\n",
        "pd.set_option('display.max_rows', 100)\n"
      ],
      "execution_count": 4,
      "outputs": []
    },
    {
      "cell_type": "code",
      "metadata": {
        "id": "jB7Ti81wEsnX"
      },
      "source": [
        "# from sklearn.preprocessing import Imputer\n",
        "from sklearn.impute import SimpleImputer as Imputer\n",
        "\n"
      ],
      "execution_count": 5,
      "outputs": []
    },
    {
      "cell_type": "markdown",
      "metadata": {
        "id": "FVD-0YWDrLc0"
      },
      "source": [
        "# Loading data"
      ]
    },
    {
      "cell_type": "code",
      "metadata": {
        "id": "uuWjLZMAq_7H"
      },
      "source": [
        "train = pd.read_csv('train.csv')\n",
        "test = pd.read_csv('test.csv')"
      ],
      "execution_count": 6,
      "outputs": []
    },
    {
      "cell_type": "code",
      "metadata": {
        "colab": {
          "base_uri": "https://localhost:8080/"
        },
        "id": "O-Z80U-oL93T",
        "outputId": "65d66506-6dd0-4122-c588-084fa9d34a3e"
      },
      "source": [
        "train.columns"
      ],
      "execution_count": 7,
      "outputs": [
        {
          "output_type": "execute_result",
          "data": {
            "text/plain": [
              "Index(['id', 'target', 'ps_ind_01', 'ps_ind_02_cat', 'ps_ind_03',\n",
              "       'ps_ind_04_cat', 'ps_ind_05_cat', 'ps_ind_06_bin', 'ps_ind_07_bin',\n",
              "       'ps_ind_08_bin', 'ps_ind_09_bin', 'ps_ind_10_bin', 'ps_ind_11_bin',\n",
              "       'ps_ind_12_bin', 'ps_ind_13_bin', 'ps_ind_14', 'ps_ind_15',\n",
              "       'ps_ind_16_bin', 'ps_ind_17_bin', 'ps_ind_18_bin', 'ps_reg_01',\n",
              "       'ps_reg_02', 'ps_reg_03', 'ps_car_01_cat', 'ps_car_02_cat',\n",
              "       'ps_car_03_cat', 'ps_car_04_cat', 'ps_car_05_cat', 'ps_car_06_cat',\n",
              "       'ps_car_07_cat', 'ps_car_08_cat', 'ps_car_09_cat', 'ps_car_10_cat',\n",
              "       'ps_car_11_cat', 'ps_car_11', 'ps_car_12', 'ps_car_13', 'ps_car_14',\n",
              "       'ps_car_15', 'ps_calc_01', 'ps_calc_02', 'ps_calc_03', 'ps_calc_04',\n",
              "       'ps_calc_05', 'ps_calc_06', 'ps_calc_07', 'ps_calc_08', 'ps_calc_09',\n",
              "       'ps_calc_10', 'ps_calc_11', 'ps_calc_12', 'ps_calc_13', 'ps_calc_14',\n",
              "       'ps_calc_15_bin', 'ps_calc_16_bin', 'ps_calc_17_bin', 'ps_calc_18_bin',\n",
              "       'ps_calc_19_bin', 'ps_calc_20_bin'],\n",
              "      dtype='object')"
            ]
          },
          "metadata": {
            "tags": []
          },
          "execution_count": 7
        }
      ]
    },
    {
      "cell_type": "code",
      "metadata": {
        "colab": {
          "base_uri": "https://localhost:8080/"
        },
        "id": "hItSuS_n61Dd",
        "outputId": "882498ed-24dd-4070-8102-7421d9751421"
      },
      "source": [
        "cat_cols = [col for col in train.columns if 'cat' in col]\n",
        "\n",
        "# 분류 데이터에서 데이터 종류 보기\n",
        "for col in cat_cols:\n",
        "  print(col, train[col].nunique())\n",
        "\n",
        "# nunique : 값의 종류가 몇개인지"
      ],
      "execution_count": 8,
      "outputs": [
        {
          "output_type": "stream",
          "text": [
            "ps_ind_02_cat 5\n",
            "ps_ind_04_cat 3\n",
            "ps_ind_05_cat 8\n",
            "ps_car_01_cat 13\n",
            "ps_car_02_cat 3\n",
            "ps_car_03_cat 3\n",
            "ps_car_04_cat 10\n",
            "ps_car_05_cat 3\n",
            "ps_car_06_cat 18\n",
            "ps_car_07_cat 3\n",
            "ps_car_08_cat 2\n",
            "ps_car_09_cat 6\n",
            "ps_car_10_cat 3\n",
            "ps_car_11_cat 104\n"
          ],
          "name": "stdout"
        }
      ]
    },
    {
      "cell_type": "markdown",
      "metadata": {
        "id": "IotB2h88r5Lz"
      },
      "source": [
        "# Data at first sight\n",
        "\n",
        "Here is an excerpt of the data description for the competition:\n",
        "경연을 위한 데이터 설명을 발췌한 것이다.\n",
        "\n",
        "- Features that belong to similar groupings are tagged as such in the feature names(e.g ind, reg, car, calc)\n",
        "  - 비슷한 그룹의 특징은 ind, reg, car, calc과 같은 이름으로 태그되어있다.\n",
        "\n",
        "- Feature names include the postfix bin to indicate binary features and cat to indicate categorical features.\n",
        "  - 특징에 붙어있는 접미사 bin은 binary를 의미하고 cat은 categorical feature를 의미한다.\n",
        "\n",
        "- Features without these designations are either continuous ro ordinal.\n",
        "  - 명칭이 없는 특징은 continuous거나 ordinal 특징이다.\n",
        "\n",
        "\n",
        "- Values of -1 indicate that the feature was missing from the observation\n",
        "  - -1 값은 빈 값을 의미한다.\n",
        "\n",
        "- The target columns signifies whether or not a claim was filled for that policy holder.\n",
        "  - target 데이터는 이전에 claim이 있었으면 1 없었으면 0으로 표기\n",
        "\n",
        "Ok, that's important information to get us started. Let's have a quick look at the first and last rows to confirm all of this."
      ]
    },
    {
      "cell_type": "code",
      "metadata": {
        "colab": {
          "base_uri": "https://localhost:8080/",
          "height": 211
        },
        "id": "-YyKl7srwfvG",
        "outputId": "95bfc8e7-3eb2-4e8e-a955-86cd21672d80"
      },
      "source": [
        "train.head()"
      ],
      "execution_count": 9,
      "outputs": [
        {
          "output_type": "execute_result",
          "data": {
            "text/html": [
              "<div>\n",
              "<style scoped>\n",
              "    .dataframe tbody tr th:only-of-type {\n",
              "        vertical-align: middle;\n",
              "    }\n",
              "\n",
              "    .dataframe tbody tr th {\n",
              "        vertical-align: top;\n",
              "    }\n",
              "\n",
              "    .dataframe thead th {\n",
              "        text-align: right;\n",
              "    }\n",
              "</style>\n",
              "<table border=\"1\" class=\"dataframe\">\n",
              "  <thead>\n",
              "    <tr style=\"text-align: right;\">\n",
              "      <th></th>\n",
              "      <th>id</th>\n",
              "      <th>target</th>\n",
              "      <th>ps_ind_01</th>\n",
              "      <th>ps_ind_02_cat</th>\n",
              "      <th>ps_ind_03</th>\n",
              "      <th>ps_ind_04_cat</th>\n",
              "      <th>ps_ind_05_cat</th>\n",
              "      <th>ps_ind_06_bin</th>\n",
              "      <th>ps_ind_07_bin</th>\n",
              "      <th>ps_ind_08_bin</th>\n",
              "      <th>ps_ind_09_bin</th>\n",
              "      <th>ps_ind_10_bin</th>\n",
              "      <th>ps_ind_11_bin</th>\n",
              "      <th>ps_ind_12_bin</th>\n",
              "      <th>ps_ind_13_bin</th>\n",
              "      <th>ps_ind_14</th>\n",
              "      <th>ps_ind_15</th>\n",
              "      <th>ps_ind_16_bin</th>\n",
              "      <th>ps_ind_17_bin</th>\n",
              "      <th>ps_ind_18_bin</th>\n",
              "      <th>ps_reg_01</th>\n",
              "      <th>ps_reg_02</th>\n",
              "      <th>ps_reg_03</th>\n",
              "      <th>ps_car_01_cat</th>\n",
              "      <th>ps_car_02_cat</th>\n",
              "      <th>ps_car_03_cat</th>\n",
              "      <th>ps_car_04_cat</th>\n",
              "      <th>ps_car_05_cat</th>\n",
              "      <th>ps_car_06_cat</th>\n",
              "      <th>ps_car_07_cat</th>\n",
              "      <th>ps_car_08_cat</th>\n",
              "      <th>ps_car_09_cat</th>\n",
              "      <th>ps_car_10_cat</th>\n",
              "      <th>ps_car_11_cat</th>\n",
              "      <th>ps_car_11</th>\n",
              "      <th>ps_car_12</th>\n",
              "      <th>ps_car_13</th>\n",
              "      <th>ps_car_14</th>\n",
              "      <th>ps_car_15</th>\n",
              "      <th>ps_calc_01</th>\n",
              "      <th>ps_calc_02</th>\n",
              "      <th>ps_calc_03</th>\n",
              "      <th>ps_calc_04</th>\n",
              "      <th>ps_calc_05</th>\n",
              "      <th>ps_calc_06</th>\n",
              "      <th>ps_calc_07</th>\n",
              "      <th>ps_calc_08</th>\n",
              "      <th>ps_calc_09</th>\n",
              "      <th>ps_calc_10</th>\n",
              "      <th>ps_calc_11</th>\n",
              "      <th>ps_calc_12</th>\n",
              "      <th>ps_calc_13</th>\n",
              "      <th>ps_calc_14</th>\n",
              "      <th>ps_calc_15_bin</th>\n",
              "      <th>ps_calc_16_bin</th>\n",
              "      <th>ps_calc_17_bin</th>\n",
              "      <th>ps_calc_18_bin</th>\n",
              "      <th>ps_calc_19_bin</th>\n",
              "      <th>ps_calc_20_bin</th>\n",
              "    </tr>\n",
              "  </thead>\n",
              "  <tbody>\n",
              "    <tr>\n",
              "      <th>0</th>\n",
              "      <td>7</td>\n",
              "      <td>0</td>\n",
              "      <td>2</td>\n",
              "      <td>2</td>\n",
              "      <td>5</td>\n",
              "      <td>1</td>\n",
              "      <td>0</td>\n",
              "      <td>0</td>\n",
              "      <td>1</td>\n",
              "      <td>0</td>\n",
              "      <td>0</td>\n",
              "      <td>0</td>\n",
              "      <td>0</td>\n",
              "      <td>0</td>\n",
              "      <td>0</td>\n",
              "      <td>0</td>\n",
              "      <td>11</td>\n",
              "      <td>0</td>\n",
              "      <td>1</td>\n",
              "      <td>0</td>\n",
              "      <td>0.7</td>\n",
              "      <td>0.2</td>\n",
              "      <td>0.718070</td>\n",
              "      <td>10</td>\n",
              "      <td>1</td>\n",
              "      <td>-1</td>\n",
              "      <td>0</td>\n",
              "      <td>1</td>\n",
              "      <td>4</td>\n",
              "      <td>1</td>\n",
              "      <td>0</td>\n",
              "      <td>0</td>\n",
              "      <td>1</td>\n",
              "      <td>12</td>\n",
              "      <td>2</td>\n",
              "      <td>0.400000</td>\n",
              "      <td>0.883679</td>\n",
              "      <td>0.370810</td>\n",
              "      <td>3.605551</td>\n",
              "      <td>0.6</td>\n",
              "      <td>0.5</td>\n",
              "      <td>0.2</td>\n",
              "      <td>3</td>\n",
              "      <td>1</td>\n",
              "      <td>10</td>\n",
              "      <td>1</td>\n",
              "      <td>10</td>\n",
              "      <td>1</td>\n",
              "      <td>5</td>\n",
              "      <td>9</td>\n",
              "      <td>1</td>\n",
              "      <td>5</td>\n",
              "      <td>8</td>\n",
              "      <td>0</td>\n",
              "      <td>1</td>\n",
              "      <td>1</td>\n",
              "      <td>0</td>\n",
              "      <td>0</td>\n",
              "      <td>1</td>\n",
              "    </tr>\n",
              "    <tr>\n",
              "      <th>1</th>\n",
              "      <td>9</td>\n",
              "      <td>0</td>\n",
              "      <td>1</td>\n",
              "      <td>1</td>\n",
              "      <td>7</td>\n",
              "      <td>0</td>\n",
              "      <td>0</td>\n",
              "      <td>0</td>\n",
              "      <td>0</td>\n",
              "      <td>1</td>\n",
              "      <td>0</td>\n",
              "      <td>0</td>\n",
              "      <td>0</td>\n",
              "      <td>0</td>\n",
              "      <td>0</td>\n",
              "      <td>0</td>\n",
              "      <td>3</td>\n",
              "      <td>0</td>\n",
              "      <td>0</td>\n",
              "      <td>1</td>\n",
              "      <td>0.8</td>\n",
              "      <td>0.4</td>\n",
              "      <td>0.766078</td>\n",
              "      <td>11</td>\n",
              "      <td>1</td>\n",
              "      <td>-1</td>\n",
              "      <td>0</td>\n",
              "      <td>-1</td>\n",
              "      <td>11</td>\n",
              "      <td>1</td>\n",
              "      <td>1</td>\n",
              "      <td>2</td>\n",
              "      <td>1</td>\n",
              "      <td>19</td>\n",
              "      <td>3</td>\n",
              "      <td>0.316228</td>\n",
              "      <td>0.618817</td>\n",
              "      <td>0.388716</td>\n",
              "      <td>2.449490</td>\n",
              "      <td>0.3</td>\n",
              "      <td>0.1</td>\n",
              "      <td>0.3</td>\n",
              "      <td>2</td>\n",
              "      <td>1</td>\n",
              "      <td>9</td>\n",
              "      <td>5</td>\n",
              "      <td>8</td>\n",
              "      <td>1</td>\n",
              "      <td>7</td>\n",
              "      <td>3</td>\n",
              "      <td>1</td>\n",
              "      <td>1</td>\n",
              "      <td>9</td>\n",
              "      <td>0</td>\n",
              "      <td>1</td>\n",
              "      <td>1</td>\n",
              "      <td>0</td>\n",
              "      <td>1</td>\n",
              "      <td>0</td>\n",
              "    </tr>\n",
              "    <tr>\n",
              "      <th>2</th>\n",
              "      <td>13</td>\n",
              "      <td>0</td>\n",
              "      <td>5</td>\n",
              "      <td>4</td>\n",
              "      <td>9</td>\n",
              "      <td>1</td>\n",
              "      <td>0</td>\n",
              "      <td>0</td>\n",
              "      <td>0</td>\n",
              "      <td>1</td>\n",
              "      <td>0</td>\n",
              "      <td>0</td>\n",
              "      <td>0</td>\n",
              "      <td>0</td>\n",
              "      <td>0</td>\n",
              "      <td>0</td>\n",
              "      <td>12</td>\n",
              "      <td>1</td>\n",
              "      <td>0</td>\n",
              "      <td>0</td>\n",
              "      <td>0.0</td>\n",
              "      <td>0.0</td>\n",
              "      <td>-1.000000</td>\n",
              "      <td>7</td>\n",
              "      <td>1</td>\n",
              "      <td>-1</td>\n",
              "      <td>0</td>\n",
              "      <td>-1</td>\n",
              "      <td>14</td>\n",
              "      <td>1</td>\n",
              "      <td>1</td>\n",
              "      <td>2</td>\n",
              "      <td>1</td>\n",
              "      <td>60</td>\n",
              "      <td>1</td>\n",
              "      <td>0.316228</td>\n",
              "      <td>0.641586</td>\n",
              "      <td>0.347275</td>\n",
              "      <td>3.316625</td>\n",
              "      <td>0.5</td>\n",
              "      <td>0.7</td>\n",
              "      <td>0.1</td>\n",
              "      <td>2</td>\n",
              "      <td>2</td>\n",
              "      <td>9</td>\n",
              "      <td>1</td>\n",
              "      <td>8</td>\n",
              "      <td>2</td>\n",
              "      <td>7</td>\n",
              "      <td>4</td>\n",
              "      <td>2</td>\n",
              "      <td>7</td>\n",
              "      <td>7</td>\n",
              "      <td>0</td>\n",
              "      <td>1</td>\n",
              "      <td>1</td>\n",
              "      <td>0</td>\n",
              "      <td>1</td>\n",
              "      <td>0</td>\n",
              "    </tr>\n",
              "    <tr>\n",
              "      <th>3</th>\n",
              "      <td>16</td>\n",
              "      <td>0</td>\n",
              "      <td>0</td>\n",
              "      <td>1</td>\n",
              "      <td>2</td>\n",
              "      <td>0</td>\n",
              "      <td>0</td>\n",
              "      <td>1</td>\n",
              "      <td>0</td>\n",
              "      <td>0</td>\n",
              "      <td>0</td>\n",
              "      <td>0</td>\n",
              "      <td>0</td>\n",
              "      <td>0</td>\n",
              "      <td>0</td>\n",
              "      <td>0</td>\n",
              "      <td>8</td>\n",
              "      <td>1</td>\n",
              "      <td>0</td>\n",
              "      <td>0</td>\n",
              "      <td>0.9</td>\n",
              "      <td>0.2</td>\n",
              "      <td>0.580948</td>\n",
              "      <td>7</td>\n",
              "      <td>1</td>\n",
              "      <td>0</td>\n",
              "      <td>0</td>\n",
              "      <td>1</td>\n",
              "      <td>11</td>\n",
              "      <td>1</td>\n",
              "      <td>1</td>\n",
              "      <td>3</td>\n",
              "      <td>1</td>\n",
              "      <td>104</td>\n",
              "      <td>1</td>\n",
              "      <td>0.374166</td>\n",
              "      <td>0.542949</td>\n",
              "      <td>0.294958</td>\n",
              "      <td>2.000000</td>\n",
              "      <td>0.6</td>\n",
              "      <td>0.9</td>\n",
              "      <td>0.1</td>\n",
              "      <td>2</td>\n",
              "      <td>4</td>\n",
              "      <td>7</td>\n",
              "      <td>1</td>\n",
              "      <td>8</td>\n",
              "      <td>4</td>\n",
              "      <td>2</td>\n",
              "      <td>2</td>\n",
              "      <td>2</td>\n",
              "      <td>4</td>\n",
              "      <td>9</td>\n",
              "      <td>0</td>\n",
              "      <td>0</td>\n",
              "      <td>0</td>\n",
              "      <td>0</td>\n",
              "      <td>0</td>\n",
              "      <td>0</td>\n",
              "    </tr>\n",
              "    <tr>\n",
              "      <th>4</th>\n",
              "      <td>17</td>\n",
              "      <td>0</td>\n",
              "      <td>0</td>\n",
              "      <td>2</td>\n",
              "      <td>0</td>\n",
              "      <td>1</td>\n",
              "      <td>0</td>\n",
              "      <td>1</td>\n",
              "      <td>0</td>\n",
              "      <td>0</td>\n",
              "      <td>0</td>\n",
              "      <td>0</td>\n",
              "      <td>0</td>\n",
              "      <td>0</td>\n",
              "      <td>0</td>\n",
              "      <td>0</td>\n",
              "      <td>9</td>\n",
              "      <td>1</td>\n",
              "      <td>0</td>\n",
              "      <td>0</td>\n",
              "      <td>0.7</td>\n",
              "      <td>0.6</td>\n",
              "      <td>0.840759</td>\n",
              "      <td>11</td>\n",
              "      <td>1</td>\n",
              "      <td>-1</td>\n",
              "      <td>0</td>\n",
              "      <td>-1</td>\n",
              "      <td>14</td>\n",
              "      <td>1</td>\n",
              "      <td>1</td>\n",
              "      <td>2</td>\n",
              "      <td>1</td>\n",
              "      <td>82</td>\n",
              "      <td>3</td>\n",
              "      <td>0.316070</td>\n",
              "      <td>0.565832</td>\n",
              "      <td>0.365103</td>\n",
              "      <td>2.000000</td>\n",
              "      <td>0.4</td>\n",
              "      <td>0.6</td>\n",
              "      <td>0.0</td>\n",
              "      <td>2</td>\n",
              "      <td>2</td>\n",
              "      <td>6</td>\n",
              "      <td>3</td>\n",
              "      <td>10</td>\n",
              "      <td>2</td>\n",
              "      <td>12</td>\n",
              "      <td>3</td>\n",
              "      <td>1</td>\n",
              "      <td>1</td>\n",
              "      <td>3</td>\n",
              "      <td>0</td>\n",
              "      <td>0</td>\n",
              "      <td>0</td>\n",
              "      <td>1</td>\n",
              "      <td>1</td>\n",
              "      <td>0</td>\n",
              "    </tr>\n",
              "  </tbody>\n",
              "</table>\n",
              "</div>"
            ],
            "text/plain": [
              "   id  target  ps_ind_01  ps_ind_02_cat  ps_ind_03  ps_ind_04_cat  \\\n",
              "0   7       0          2              2          5              1   \n",
              "1   9       0          1              1          7              0   \n",
              "2  13       0          5              4          9              1   \n",
              "3  16       0          0              1          2              0   \n",
              "4  17       0          0              2          0              1   \n",
              "\n",
              "   ps_ind_05_cat  ps_ind_06_bin  ps_ind_07_bin  ps_ind_08_bin  ps_ind_09_bin  \\\n",
              "0              0              0              1              0              0   \n",
              "1              0              0              0              1              0   \n",
              "2              0              0              0              1              0   \n",
              "3              0              1              0              0              0   \n",
              "4              0              1              0              0              0   \n",
              "\n",
              "   ps_ind_10_bin  ps_ind_11_bin  ps_ind_12_bin  ps_ind_13_bin  ps_ind_14  \\\n",
              "0              0              0              0              0          0   \n",
              "1              0              0              0              0          0   \n",
              "2              0              0              0              0          0   \n",
              "3              0              0              0              0          0   \n",
              "4              0              0              0              0          0   \n",
              "\n",
              "   ps_ind_15  ps_ind_16_bin  ps_ind_17_bin  ps_ind_18_bin  ps_reg_01  \\\n",
              "0         11              0              1              0        0.7   \n",
              "1          3              0              0              1        0.8   \n",
              "2         12              1              0              0        0.0   \n",
              "3          8              1              0              0        0.9   \n",
              "4          9              1              0              0        0.7   \n",
              "\n",
              "   ps_reg_02  ps_reg_03  ps_car_01_cat  ps_car_02_cat  ps_car_03_cat  \\\n",
              "0        0.2   0.718070             10              1             -1   \n",
              "1        0.4   0.766078             11              1             -1   \n",
              "2        0.0  -1.000000              7              1             -1   \n",
              "3        0.2   0.580948              7              1              0   \n",
              "4        0.6   0.840759             11              1             -1   \n",
              "\n",
              "   ps_car_04_cat  ps_car_05_cat  ps_car_06_cat  ps_car_07_cat  ps_car_08_cat  \\\n",
              "0              0              1              4              1              0   \n",
              "1              0             -1             11              1              1   \n",
              "2              0             -1             14              1              1   \n",
              "3              0              1             11              1              1   \n",
              "4              0             -1             14              1              1   \n",
              "\n",
              "   ps_car_09_cat  ps_car_10_cat  ps_car_11_cat  ps_car_11  ps_car_12  \\\n",
              "0              0              1             12          2   0.400000   \n",
              "1              2              1             19          3   0.316228   \n",
              "2              2              1             60          1   0.316228   \n",
              "3              3              1            104          1   0.374166   \n",
              "4              2              1             82          3   0.316070   \n",
              "\n",
              "   ps_car_13  ps_car_14  ps_car_15  ps_calc_01  ps_calc_02  ps_calc_03  \\\n",
              "0   0.883679   0.370810   3.605551         0.6         0.5         0.2   \n",
              "1   0.618817   0.388716   2.449490         0.3         0.1         0.3   \n",
              "2   0.641586   0.347275   3.316625         0.5         0.7         0.1   \n",
              "3   0.542949   0.294958   2.000000         0.6         0.9         0.1   \n",
              "4   0.565832   0.365103   2.000000         0.4         0.6         0.0   \n",
              "\n",
              "   ps_calc_04  ps_calc_05  ps_calc_06  ps_calc_07  ps_calc_08  ps_calc_09  \\\n",
              "0           3           1          10           1          10           1   \n",
              "1           2           1           9           5           8           1   \n",
              "2           2           2           9           1           8           2   \n",
              "3           2           4           7           1           8           4   \n",
              "4           2           2           6           3          10           2   \n",
              "\n",
              "   ps_calc_10  ps_calc_11  ps_calc_12  ps_calc_13  ps_calc_14  ps_calc_15_bin  \\\n",
              "0           5           9           1           5           8               0   \n",
              "1           7           3           1           1           9               0   \n",
              "2           7           4           2           7           7               0   \n",
              "3           2           2           2           4           9               0   \n",
              "4          12           3           1           1           3               0   \n",
              "\n",
              "   ps_calc_16_bin  ps_calc_17_bin  ps_calc_18_bin  ps_calc_19_bin  \\\n",
              "0               1               1               0               0   \n",
              "1               1               1               0               1   \n",
              "2               1               1               0               1   \n",
              "3               0               0               0               0   \n",
              "4               0               0               1               1   \n",
              "\n",
              "   ps_calc_20_bin  \n",
              "0               1  \n",
              "1               0  \n",
              "2               0  \n",
              "3               0  \n",
              "4               0  "
            ]
          },
          "metadata": {
            "tags": []
          },
          "execution_count": 9
        }
      ]
    },
    {
      "cell_type": "code",
      "metadata": {
        "colab": {
          "base_uri": "https://localhost:8080/",
          "height": 211
        },
        "id": "R07kakLVwhE5",
        "outputId": "6fd55113-d2f3-4f7b-8350-3ac58e2c07bc"
      },
      "source": [
        "train.tail()"
      ],
      "execution_count": 10,
      "outputs": [
        {
          "output_type": "execute_result",
          "data": {
            "text/html": [
              "<div>\n",
              "<style scoped>\n",
              "    .dataframe tbody tr th:only-of-type {\n",
              "        vertical-align: middle;\n",
              "    }\n",
              "\n",
              "    .dataframe tbody tr th {\n",
              "        vertical-align: top;\n",
              "    }\n",
              "\n",
              "    .dataframe thead th {\n",
              "        text-align: right;\n",
              "    }\n",
              "</style>\n",
              "<table border=\"1\" class=\"dataframe\">\n",
              "  <thead>\n",
              "    <tr style=\"text-align: right;\">\n",
              "      <th></th>\n",
              "      <th>id</th>\n",
              "      <th>target</th>\n",
              "      <th>ps_ind_01</th>\n",
              "      <th>ps_ind_02_cat</th>\n",
              "      <th>ps_ind_03</th>\n",
              "      <th>ps_ind_04_cat</th>\n",
              "      <th>ps_ind_05_cat</th>\n",
              "      <th>ps_ind_06_bin</th>\n",
              "      <th>ps_ind_07_bin</th>\n",
              "      <th>ps_ind_08_bin</th>\n",
              "      <th>ps_ind_09_bin</th>\n",
              "      <th>ps_ind_10_bin</th>\n",
              "      <th>ps_ind_11_bin</th>\n",
              "      <th>ps_ind_12_bin</th>\n",
              "      <th>ps_ind_13_bin</th>\n",
              "      <th>ps_ind_14</th>\n",
              "      <th>ps_ind_15</th>\n",
              "      <th>ps_ind_16_bin</th>\n",
              "      <th>ps_ind_17_bin</th>\n",
              "      <th>ps_ind_18_bin</th>\n",
              "      <th>ps_reg_01</th>\n",
              "      <th>ps_reg_02</th>\n",
              "      <th>ps_reg_03</th>\n",
              "      <th>ps_car_01_cat</th>\n",
              "      <th>ps_car_02_cat</th>\n",
              "      <th>ps_car_03_cat</th>\n",
              "      <th>ps_car_04_cat</th>\n",
              "      <th>ps_car_05_cat</th>\n",
              "      <th>ps_car_06_cat</th>\n",
              "      <th>ps_car_07_cat</th>\n",
              "      <th>ps_car_08_cat</th>\n",
              "      <th>ps_car_09_cat</th>\n",
              "      <th>ps_car_10_cat</th>\n",
              "      <th>ps_car_11_cat</th>\n",
              "      <th>ps_car_11</th>\n",
              "      <th>ps_car_12</th>\n",
              "      <th>ps_car_13</th>\n",
              "      <th>ps_car_14</th>\n",
              "      <th>ps_car_15</th>\n",
              "      <th>ps_calc_01</th>\n",
              "      <th>ps_calc_02</th>\n",
              "      <th>ps_calc_03</th>\n",
              "      <th>ps_calc_04</th>\n",
              "      <th>ps_calc_05</th>\n",
              "      <th>ps_calc_06</th>\n",
              "      <th>ps_calc_07</th>\n",
              "      <th>ps_calc_08</th>\n",
              "      <th>ps_calc_09</th>\n",
              "      <th>ps_calc_10</th>\n",
              "      <th>ps_calc_11</th>\n",
              "      <th>ps_calc_12</th>\n",
              "      <th>ps_calc_13</th>\n",
              "      <th>ps_calc_14</th>\n",
              "      <th>ps_calc_15_bin</th>\n",
              "      <th>ps_calc_16_bin</th>\n",
              "      <th>ps_calc_17_bin</th>\n",
              "      <th>ps_calc_18_bin</th>\n",
              "      <th>ps_calc_19_bin</th>\n",
              "      <th>ps_calc_20_bin</th>\n",
              "    </tr>\n",
              "  </thead>\n",
              "  <tbody>\n",
              "    <tr>\n",
              "      <th>595207</th>\n",
              "      <td>1488013</td>\n",
              "      <td>0</td>\n",
              "      <td>3</td>\n",
              "      <td>1</td>\n",
              "      <td>10</td>\n",
              "      <td>0</td>\n",
              "      <td>0</td>\n",
              "      <td>0</td>\n",
              "      <td>0</td>\n",
              "      <td>0</td>\n",
              "      <td>1</td>\n",
              "      <td>0</td>\n",
              "      <td>0</td>\n",
              "      <td>0</td>\n",
              "      <td>0</td>\n",
              "      <td>0</td>\n",
              "      <td>13</td>\n",
              "      <td>1</td>\n",
              "      <td>0</td>\n",
              "      <td>0</td>\n",
              "      <td>0.5</td>\n",
              "      <td>0.3</td>\n",
              "      <td>0.692820</td>\n",
              "      <td>10</td>\n",
              "      <td>1</td>\n",
              "      <td>-1</td>\n",
              "      <td>0</td>\n",
              "      <td>1</td>\n",
              "      <td>1</td>\n",
              "      <td>1</td>\n",
              "      <td>1</td>\n",
              "      <td>0</td>\n",
              "      <td>1</td>\n",
              "      <td>31</td>\n",
              "      <td>3</td>\n",
              "      <td>0.374166</td>\n",
              "      <td>0.684631</td>\n",
              "      <td>0.385487</td>\n",
              "      <td>2.645751</td>\n",
              "      <td>0.4</td>\n",
              "      <td>0.5</td>\n",
              "      <td>0.3</td>\n",
              "      <td>3</td>\n",
              "      <td>0</td>\n",
              "      <td>9</td>\n",
              "      <td>0</td>\n",
              "      <td>9</td>\n",
              "      <td>1</td>\n",
              "      <td>12</td>\n",
              "      <td>4</td>\n",
              "      <td>1</td>\n",
              "      <td>9</td>\n",
              "      <td>6</td>\n",
              "      <td>0</td>\n",
              "      <td>1</td>\n",
              "      <td>1</td>\n",
              "      <td>0</td>\n",
              "      <td>1</td>\n",
              "      <td>1</td>\n",
              "    </tr>\n",
              "    <tr>\n",
              "      <th>595208</th>\n",
              "      <td>1488016</td>\n",
              "      <td>0</td>\n",
              "      <td>5</td>\n",
              "      <td>1</td>\n",
              "      <td>3</td>\n",
              "      <td>0</td>\n",
              "      <td>0</td>\n",
              "      <td>0</td>\n",
              "      <td>0</td>\n",
              "      <td>0</td>\n",
              "      <td>1</td>\n",
              "      <td>0</td>\n",
              "      <td>0</td>\n",
              "      <td>0</td>\n",
              "      <td>0</td>\n",
              "      <td>0</td>\n",
              "      <td>6</td>\n",
              "      <td>1</td>\n",
              "      <td>0</td>\n",
              "      <td>0</td>\n",
              "      <td>0.9</td>\n",
              "      <td>0.7</td>\n",
              "      <td>1.382027</td>\n",
              "      <td>9</td>\n",
              "      <td>1</td>\n",
              "      <td>-1</td>\n",
              "      <td>0</td>\n",
              "      <td>-1</td>\n",
              "      <td>15</td>\n",
              "      <td>0</td>\n",
              "      <td>0</td>\n",
              "      <td>2</td>\n",
              "      <td>1</td>\n",
              "      <td>63</td>\n",
              "      <td>2</td>\n",
              "      <td>0.387298</td>\n",
              "      <td>0.972145</td>\n",
              "      <td>-1.000000</td>\n",
              "      <td>3.605551</td>\n",
              "      <td>0.2</td>\n",
              "      <td>0.2</td>\n",
              "      <td>0.0</td>\n",
              "      <td>2</td>\n",
              "      <td>4</td>\n",
              "      <td>8</td>\n",
              "      <td>6</td>\n",
              "      <td>8</td>\n",
              "      <td>2</td>\n",
              "      <td>12</td>\n",
              "      <td>4</td>\n",
              "      <td>1</td>\n",
              "      <td>3</td>\n",
              "      <td>8</td>\n",
              "      <td>1</td>\n",
              "      <td>0</td>\n",
              "      <td>1</td>\n",
              "      <td>0</td>\n",
              "      <td>1</td>\n",
              "      <td>1</td>\n",
              "    </tr>\n",
              "    <tr>\n",
              "      <th>595209</th>\n",
              "      <td>1488017</td>\n",
              "      <td>0</td>\n",
              "      <td>1</td>\n",
              "      <td>1</td>\n",
              "      <td>10</td>\n",
              "      <td>0</td>\n",
              "      <td>0</td>\n",
              "      <td>1</td>\n",
              "      <td>0</td>\n",
              "      <td>0</td>\n",
              "      <td>0</td>\n",
              "      <td>0</td>\n",
              "      <td>0</td>\n",
              "      <td>0</td>\n",
              "      <td>0</td>\n",
              "      <td>0</td>\n",
              "      <td>12</td>\n",
              "      <td>1</td>\n",
              "      <td>0</td>\n",
              "      <td>0</td>\n",
              "      <td>0.9</td>\n",
              "      <td>0.2</td>\n",
              "      <td>0.659071</td>\n",
              "      <td>7</td>\n",
              "      <td>1</td>\n",
              "      <td>-1</td>\n",
              "      <td>0</td>\n",
              "      <td>-1</td>\n",
              "      <td>1</td>\n",
              "      <td>1</td>\n",
              "      <td>1</td>\n",
              "      <td>2</td>\n",
              "      <td>1</td>\n",
              "      <td>31</td>\n",
              "      <td>3</td>\n",
              "      <td>0.397492</td>\n",
              "      <td>0.596373</td>\n",
              "      <td>0.398748</td>\n",
              "      <td>1.732051</td>\n",
              "      <td>0.4</td>\n",
              "      <td>0.0</td>\n",
              "      <td>0.3</td>\n",
              "      <td>3</td>\n",
              "      <td>2</td>\n",
              "      <td>7</td>\n",
              "      <td>4</td>\n",
              "      <td>8</td>\n",
              "      <td>0</td>\n",
              "      <td>10</td>\n",
              "      <td>3</td>\n",
              "      <td>2</td>\n",
              "      <td>2</td>\n",
              "      <td>6</td>\n",
              "      <td>0</td>\n",
              "      <td>0</td>\n",
              "      <td>1</td>\n",
              "      <td>0</td>\n",
              "      <td>0</td>\n",
              "      <td>0</td>\n",
              "    </tr>\n",
              "    <tr>\n",
              "      <th>595210</th>\n",
              "      <td>1488021</td>\n",
              "      <td>0</td>\n",
              "      <td>5</td>\n",
              "      <td>2</td>\n",
              "      <td>3</td>\n",
              "      <td>1</td>\n",
              "      <td>0</td>\n",
              "      <td>0</td>\n",
              "      <td>0</td>\n",
              "      <td>1</td>\n",
              "      <td>0</td>\n",
              "      <td>0</td>\n",
              "      <td>0</td>\n",
              "      <td>0</td>\n",
              "      <td>0</td>\n",
              "      <td>0</td>\n",
              "      <td>12</td>\n",
              "      <td>1</td>\n",
              "      <td>0</td>\n",
              "      <td>0</td>\n",
              "      <td>0.9</td>\n",
              "      <td>0.4</td>\n",
              "      <td>0.698212</td>\n",
              "      <td>11</td>\n",
              "      <td>1</td>\n",
              "      <td>-1</td>\n",
              "      <td>0</td>\n",
              "      <td>-1</td>\n",
              "      <td>11</td>\n",
              "      <td>1</td>\n",
              "      <td>1</td>\n",
              "      <td>2</td>\n",
              "      <td>1</td>\n",
              "      <td>101</td>\n",
              "      <td>3</td>\n",
              "      <td>0.374166</td>\n",
              "      <td>0.764434</td>\n",
              "      <td>0.384968</td>\n",
              "      <td>3.162278</td>\n",
              "      <td>0.0</td>\n",
              "      <td>0.7</td>\n",
              "      <td>0.0</td>\n",
              "      <td>4</td>\n",
              "      <td>0</td>\n",
              "      <td>9</td>\n",
              "      <td>4</td>\n",
              "      <td>9</td>\n",
              "      <td>2</td>\n",
              "      <td>11</td>\n",
              "      <td>4</td>\n",
              "      <td>1</td>\n",
              "      <td>4</td>\n",
              "      <td>2</td>\n",
              "      <td>0</td>\n",
              "      <td>1</td>\n",
              "      <td>1</td>\n",
              "      <td>1</td>\n",
              "      <td>0</td>\n",
              "      <td>0</td>\n",
              "    </tr>\n",
              "    <tr>\n",
              "      <th>595211</th>\n",
              "      <td>1488027</td>\n",
              "      <td>0</td>\n",
              "      <td>0</td>\n",
              "      <td>1</td>\n",
              "      <td>8</td>\n",
              "      <td>0</td>\n",
              "      <td>0</td>\n",
              "      <td>1</td>\n",
              "      <td>0</td>\n",
              "      <td>0</td>\n",
              "      <td>0</td>\n",
              "      <td>0</td>\n",
              "      <td>0</td>\n",
              "      <td>0</td>\n",
              "      <td>0</td>\n",
              "      <td>0</td>\n",
              "      <td>7</td>\n",
              "      <td>1</td>\n",
              "      <td>0</td>\n",
              "      <td>0</td>\n",
              "      <td>0.1</td>\n",
              "      <td>0.2</td>\n",
              "      <td>-1.000000</td>\n",
              "      <td>7</td>\n",
              "      <td>0</td>\n",
              "      <td>-1</td>\n",
              "      <td>0</td>\n",
              "      <td>-1</td>\n",
              "      <td>0</td>\n",
              "      <td>1</td>\n",
              "      <td>0</td>\n",
              "      <td>2</td>\n",
              "      <td>1</td>\n",
              "      <td>34</td>\n",
              "      <td>2</td>\n",
              "      <td>0.400000</td>\n",
              "      <td>0.932649</td>\n",
              "      <td>0.378021</td>\n",
              "      <td>3.741657</td>\n",
              "      <td>0.4</td>\n",
              "      <td>0.0</td>\n",
              "      <td>0.5</td>\n",
              "      <td>2</td>\n",
              "      <td>3</td>\n",
              "      <td>10</td>\n",
              "      <td>4</td>\n",
              "      <td>10</td>\n",
              "      <td>2</td>\n",
              "      <td>5</td>\n",
              "      <td>4</td>\n",
              "      <td>4</td>\n",
              "      <td>3</td>\n",
              "      <td>8</td>\n",
              "      <td>0</td>\n",
              "      <td>1</td>\n",
              "      <td>0</td>\n",
              "      <td>0</td>\n",
              "      <td>0</td>\n",
              "      <td>0</td>\n",
              "    </tr>\n",
              "  </tbody>\n",
              "</table>\n",
              "</div>"
            ],
            "text/plain": [
              "             id  target  ps_ind_01  ps_ind_02_cat  ps_ind_03  ps_ind_04_cat  \\\n",
              "595207  1488013       0          3              1         10              0   \n",
              "595208  1488016       0          5              1          3              0   \n",
              "595209  1488017       0          1              1         10              0   \n",
              "595210  1488021       0          5              2          3              1   \n",
              "595211  1488027       0          0              1          8              0   \n",
              "\n",
              "        ps_ind_05_cat  ps_ind_06_bin  ps_ind_07_bin  ps_ind_08_bin  \\\n",
              "595207              0              0              0              0   \n",
              "595208              0              0              0              0   \n",
              "595209              0              1              0              0   \n",
              "595210              0              0              0              1   \n",
              "595211              0              1              0              0   \n",
              "\n",
              "        ps_ind_09_bin  ps_ind_10_bin  ps_ind_11_bin  ps_ind_12_bin  \\\n",
              "595207              1              0              0              0   \n",
              "595208              1              0              0              0   \n",
              "595209              0              0              0              0   \n",
              "595210              0              0              0              0   \n",
              "595211              0              0              0              0   \n",
              "\n",
              "        ps_ind_13_bin  ps_ind_14  ps_ind_15  ps_ind_16_bin  ps_ind_17_bin  \\\n",
              "595207              0          0         13              1              0   \n",
              "595208              0          0          6              1              0   \n",
              "595209              0          0         12              1              0   \n",
              "595210              0          0         12              1              0   \n",
              "595211              0          0          7              1              0   \n",
              "\n",
              "        ps_ind_18_bin  ps_reg_01  ps_reg_02  ps_reg_03  ps_car_01_cat  \\\n",
              "595207              0        0.5        0.3   0.692820             10   \n",
              "595208              0        0.9        0.7   1.382027              9   \n",
              "595209              0        0.9        0.2   0.659071              7   \n",
              "595210              0        0.9        0.4   0.698212             11   \n",
              "595211              0        0.1        0.2  -1.000000              7   \n",
              "\n",
              "        ps_car_02_cat  ps_car_03_cat  ps_car_04_cat  ps_car_05_cat  \\\n",
              "595207              1             -1              0              1   \n",
              "595208              1             -1              0             -1   \n",
              "595209              1             -1              0             -1   \n",
              "595210              1             -1              0             -1   \n",
              "595211              0             -1              0             -1   \n",
              "\n",
              "        ps_car_06_cat  ps_car_07_cat  ps_car_08_cat  ps_car_09_cat  \\\n",
              "595207              1              1              1              0   \n",
              "595208             15              0              0              2   \n",
              "595209              1              1              1              2   \n",
              "595210             11              1              1              2   \n",
              "595211              0              1              0              2   \n",
              "\n",
              "        ps_car_10_cat  ps_car_11_cat  ps_car_11  ps_car_12  ps_car_13  \\\n",
              "595207              1             31          3   0.374166   0.684631   \n",
              "595208              1             63          2   0.387298   0.972145   \n",
              "595209              1             31          3   0.397492   0.596373   \n",
              "595210              1            101          3   0.374166   0.764434   \n",
              "595211              1             34          2   0.400000   0.932649   \n",
              "\n",
              "        ps_car_14  ps_car_15  ps_calc_01  ps_calc_02  ps_calc_03  ps_calc_04  \\\n",
              "595207   0.385487   2.645751         0.4         0.5         0.3           3   \n",
              "595208  -1.000000   3.605551         0.2         0.2         0.0           2   \n",
              "595209   0.398748   1.732051         0.4         0.0         0.3           3   \n",
              "595210   0.384968   3.162278         0.0         0.7         0.0           4   \n",
              "595211   0.378021   3.741657         0.4         0.0         0.5           2   \n",
              "\n",
              "        ps_calc_05  ps_calc_06  ps_calc_07  ps_calc_08  ps_calc_09  \\\n",
              "595207           0           9           0           9           1   \n",
              "595208           4           8           6           8           2   \n",
              "595209           2           7           4           8           0   \n",
              "595210           0           9           4           9           2   \n",
              "595211           3          10           4          10           2   \n",
              "\n",
              "        ps_calc_10  ps_calc_11  ps_calc_12  ps_calc_13  ps_calc_14  \\\n",
              "595207          12           4           1           9           6   \n",
              "595208          12           4           1           3           8   \n",
              "595209          10           3           2           2           6   \n",
              "595210          11           4           1           4           2   \n",
              "595211           5           4           4           3           8   \n",
              "\n",
              "        ps_calc_15_bin  ps_calc_16_bin  ps_calc_17_bin  ps_calc_18_bin  \\\n",
              "595207               0               1               1               0   \n",
              "595208               1               0               1               0   \n",
              "595209               0               0               1               0   \n",
              "595210               0               1               1               1   \n",
              "595211               0               1               0               0   \n",
              "\n",
              "        ps_calc_19_bin  ps_calc_20_bin  \n",
              "595207               1               1  \n",
              "595208               1               1  \n",
              "595209               0               0  \n",
              "595210               0               0  \n",
              "595211               0               0  "
            ]
          },
          "metadata": {
            "tags": []
          },
          "execution_count": 10
        }
      ]
    },
    {
      "cell_type": "markdown",
      "metadata": {
        "id": "hvLEdfewwqQS"
      },
      "source": [
        "We indeeed see the following\n",
        "\n",
        "- binary variables\n",
        "  - 이진 값\n",
        "- categorical variables of which the category values are integers\n",
        "  - 분류 값은 정수\n",
        "- other variables with integer or float values\n",
        "  - 다른 변수는 정수나 실수\n",
        "- variables with -1 representing missing values\n",
        "  - -1 은 빈 값을 의미\n",
        "- the target variable and an ID variable"
      ]
    },
    {
      "cell_type": "code",
      "metadata": {
        "colab": {
          "base_uri": "https://localhost:8080/"
        },
        "id": "qHMucs17xgZC",
        "outputId": "e8dd638f-6d25-4d79-c872-1c684f7727b9"
      },
      "source": [
        "train.shape"
      ],
      "execution_count": 11,
      "outputs": [
        {
          "output_type": "execute_result",
          "data": {
            "text/plain": [
              "(595212, 59)"
            ]
          },
          "metadata": {
            "tags": []
          },
          "execution_count": 11
        }
      ]
    },
    {
      "cell_type": "markdown",
      "metadata": {
        "id": "lniJquVdxiwR"
      },
      "source": [
        "We have 59 variables and 595,212 rows. Let's see if we have the same number of variables in the test data.\n",
        "- 59 변수와 595212개의 행이 있다. test 데이터에도 같은 변수가 있는지 알아보자\n",
        "\n",
        "Let's see if there are duplicate rows in there training data.\n",
        "- train 데이터에 중복 데이터가 있는지 확인해보자\n"
      ]
    },
    {
      "cell_type": "code",
      "metadata": {
        "colab": {
          "base_uri": "https://localhost:8080/"
        },
        "id": "DrQ4C8IFye6q",
        "outputId": "80a29b51-7021-4c0b-a5ff-36e54d3b4b11"
      },
      "source": [
        "train.drop_duplicates()\n",
        "train.shape"
      ],
      "execution_count": 12,
      "outputs": [
        {
          "output_type": "execute_result",
          "data": {
            "text/plain": [
              "(595212, 59)"
            ]
          },
          "metadata": {
            "tags": []
          },
          "execution_count": 12
        }
      ]
    },
    {
      "cell_type": "markdown",
      "metadata": {
        "id": "L13a4aJqygen"
      },
      "source": [
        "중복 데이터는 없었다."
      ]
    },
    {
      "cell_type": "code",
      "metadata": {
        "colab": {
          "base_uri": "https://localhost:8080/"
        },
        "id": "RSq8TRmOynLg",
        "outputId": "bed4eadc-ec3b-4cb9-8a4f-eb0d1136fec7"
      },
      "source": [
        "test.shape"
      ],
      "execution_count": 13,
      "outputs": [
        {
          "output_type": "execute_result",
          "data": {
            "text/plain": [
              "(892816, 58)"
            ]
          },
          "metadata": {
            "tags": []
          },
          "execution_count": 13
        }
      ]
    },
    {
      "cell_type": "markdown",
      "metadata": {
        "id": "KybtjkHeyoyQ"
      },
      "source": [
        "We are missing one variable in the test set, but this is the target variable. So that's fine. Let's now investigate how many variables of each type we have.\n",
        "- 테스트 데이터에 하나의 변수가 없다. 그러나 이것은 목표 변수이다. \n"
      ]
    },
    {
      "cell_type": "markdown",
      "metadata": {
        "id": "AsbwDHmDy6Ut"
      },
      "source": [
        "So later on we can create dummy variables for the 14 categorical variables. The bin variables are already binary and do not need dummification.\n",
        "- 나주에 우리는 14개의 분류형 변수에 대해 dummy 변수를 생성할 수 있다. 이진 변수는 이미 이진화되어있고 dummy 가 필요없다."
      ]
    },
    {
      "cell_type": "code",
      "metadata": {
        "colab": {
          "base_uri": "https://localhost:8080/"
        },
        "id": "WGI0zpZfzXwl",
        "outputId": "3a27be03-f33e-4975-ad13-d4a9ca59dbff"
      },
      "source": [
        "train.info()"
      ],
      "execution_count": 14,
      "outputs": [
        {
          "output_type": "stream",
          "text": [
            "<class 'pandas.core.frame.DataFrame'>\n",
            "RangeIndex: 595212 entries, 0 to 595211\n",
            "Data columns (total 59 columns):\n",
            " #   Column          Non-Null Count   Dtype  \n",
            "---  ------          --------------   -----  \n",
            " 0   id              595212 non-null  int64  \n",
            " 1   target          595212 non-null  int64  \n",
            " 2   ps_ind_01       595212 non-null  int64  \n",
            " 3   ps_ind_02_cat   595212 non-null  int64  \n",
            " 4   ps_ind_03       595212 non-null  int64  \n",
            " 5   ps_ind_04_cat   595212 non-null  int64  \n",
            " 6   ps_ind_05_cat   595212 non-null  int64  \n",
            " 7   ps_ind_06_bin   595212 non-null  int64  \n",
            " 8   ps_ind_07_bin   595212 non-null  int64  \n",
            " 9   ps_ind_08_bin   595212 non-null  int64  \n",
            " 10  ps_ind_09_bin   595212 non-null  int64  \n",
            " 11  ps_ind_10_bin   595212 non-null  int64  \n",
            " 12  ps_ind_11_bin   595212 non-null  int64  \n",
            " 13  ps_ind_12_bin   595212 non-null  int64  \n",
            " 14  ps_ind_13_bin   595212 non-null  int64  \n",
            " 15  ps_ind_14       595212 non-null  int64  \n",
            " 16  ps_ind_15       595212 non-null  int64  \n",
            " 17  ps_ind_16_bin   595212 non-null  int64  \n",
            " 18  ps_ind_17_bin   595212 non-null  int64  \n",
            " 19  ps_ind_18_bin   595212 non-null  int64  \n",
            " 20  ps_reg_01       595212 non-null  float64\n",
            " 21  ps_reg_02       595212 non-null  float64\n",
            " 22  ps_reg_03       595212 non-null  float64\n",
            " 23  ps_car_01_cat   595212 non-null  int64  \n",
            " 24  ps_car_02_cat   595212 non-null  int64  \n",
            " 25  ps_car_03_cat   595212 non-null  int64  \n",
            " 26  ps_car_04_cat   595212 non-null  int64  \n",
            " 27  ps_car_05_cat   595212 non-null  int64  \n",
            " 28  ps_car_06_cat   595212 non-null  int64  \n",
            " 29  ps_car_07_cat   595212 non-null  int64  \n",
            " 30  ps_car_08_cat   595212 non-null  int64  \n",
            " 31  ps_car_09_cat   595212 non-null  int64  \n",
            " 32  ps_car_10_cat   595212 non-null  int64  \n",
            " 33  ps_car_11_cat   595212 non-null  int64  \n",
            " 34  ps_car_11       595212 non-null  int64  \n",
            " 35  ps_car_12       595212 non-null  float64\n",
            " 36  ps_car_13       595212 non-null  float64\n",
            " 37  ps_car_14       595212 non-null  float64\n",
            " 38  ps_car_15       595212 non-null  float64\n",
            " 39  ps_calc_01      595212 non-null  float64\n",
            " 40  ps_calc_02      595212 non-null  float64\n",
            " 41  ps_calc_03      595212 non-null  float64\n",
            " 42  ps_calc_04      595212 non-null  int64  \n",
            " 43  ps_calc_05      595212 non-null  int64  \n",
            " 44  ps_calc_06      595212 non-null  int64  \n",
            " 45  ps_calc_07      595212 non-null  int64  \n",
            " 46  ps_calc_08      595212 non-null  int64  \n",
            " 47  ps_calc_09      595212 non-null  int64  \n",
            " 48  ps_calc_10      595212 non-null  int64  \n",
            " 49  ps_calc_11      595212 non-null  int64  \n",
            " 50  ps_calc_12      595212 non-null  int64  \n",
            " 51  ps_calc_13      595212 non-null  int64  \n",
            " 52  ps_calc_14      595212 non-null  int64  \n",
            " 53  ps_calc_15_bin  595212 non-null  int64  \n",
            " 54  ps_calc_16_bin  595212 non-null  int64  \n",
            " 55  ps_calc_17_bin  595212 non-null  int64  \n",
            " 56  ps_calc_18_bin  595212 non-null  int64  \n",
            " 57  ps_calc_19_bin  595212 non-null  int64  \n",
            " 58  ps_calc_20_bin  595212 non-null  int64  \n",
            "dtypes: float64(10), int64(49)\n",
            "memory usage: 267.9 MB\n"
          ],
          "name": "stdout"
        }
      ]
    },
    {
      "cell_type": "markdown",
      "metadata": {
        "id": "9mg6zjAkzZk8"
      },
      "source": [
        "Again, with the info() method we see that the data type is integer or float.\n",
        "- 다시, info()는 데이터 타입이 정수인지 실수인지 알 수 있다.\n",
        "\n",
        "No null values are present in the data set.\n",
        "- 빈 값이 데이터 셋에 없다.\n",
        "\n",
        "That's normal because missing values are replaced by -1.\n",
        "- 이는 정상이다. 왜냐하면 빈 값이 -1로 되어있기 때문이다."
      ]
    },
    {
      "cell_type": "markdown",
      "metadata": {
        "id": "vV3UeOdT0CC8"
      },
      "source": [
        "# Metadata\n",
        "\n",
        "To facilitate the data management, we'll store meta-information about the variables in a DataFrame. \n",
        "- 데이터를 관리하기 위해서, 우리는 meta-information을 저장한다. 데이터 프레임에\n",
        "\n",
        "This will be helpful when we want to select specific variables for analysis, visualization, modeling,\n",
        "- 이는 우리가 분석, 시각화, 모델릴을 할 때 특정 변수를 선택할 때 도움을 준다.\n"
      ]
    },
    {
      "cell_type": "markdown",
      "metadata": {
        "id": "FgiQEtLy0ji9"
      },
      "source": [
        "Concretely we will store:\n",
        "\n",
        "- role : input, ID, target\n",
        "- level : nominal, interval, ordinal, binary\n",
        "- keep : True or False - 나중에 쓸지 말지\n",
        "- dtype : int, float, str"
      ]
    },
    {
      "cell_type": "code",
      "metadata": {
        "id": "3fVi9-RV0v6J"
      },
      "source": [
        "data = []\n",
        "\n",
        "for f in train.columns:\n",
        "  # Defining the role\n",
        "  if f ==  'target' : \n",
        "    role = 'target'\n",
        "  elif f == 'id':\n",
        "    role = 'id'\n",
        "  else:\n",
        "    role = 'input'\n",
        "  \n",
        "  # Defining the level\n",
        "  if 'bin' in f or f == 'target': # bin이 포함되어 있거나, target 이면\n",
        "    level = 'binary'\n",
        "  elif 'cat' in f or f == 'id': # cat이 포함되어 있거나, id 이면\n",
        "    level = 'nominal'\n",
        "  elif train[f].dtype == float:\n",
        "    level = 'interval'\n",
        "  elif train[f].dtype == int:\n",
        "    level = 'ordinal'\n",
        "  \n",
        "  # Initialize keep to True for all variables except for id\n",
        "  keep = True\n",
        "  if f == 'id':\n",
        "    keep = False\n",
        "  # 일단은 id 빼고 다 가져간다는 의미    \n",
        "  \n",
        "  # Defining the data type\n",
        "  dtype = train[f].dtype\n",
        "\n",
        "  # Creating a Dict that contains all the metadata for the variable\n",
        "  f_dict = {\n",
        "      'varname' : f,\n",
        "      'role' : role,\n",
        "      'level' : level,\n",
        "      'keep' : keep,\n",
        "      'dtype' : dtype\n",
        "  }\n",
        "  data.append(f_dict)\n",
        "\n",
        "meta = pd.DataFrame(data, columns = ['varname', 'role', 'level', 'keep', 'dtype']) # 열 순서 설정\n",
        "meta.set_index('varname', inplace = True)"
      ],
      "execution_count": 15,
      "outputs": []
    },
    {
      "cell_type": "code",
      "metadata": {
        "colab": {
          "base_uri": "https://localhost:8080/",
          "height": 1000
        },
        "id": "S2_-wk64yYXk",
        "outputId": "5f2e0507-f574-4d57-9c61-8948bf601651"
      },
      "source": [
        "meta"
      ],
      "execution_count": 16,
      "outputs": [
        {
          "output_type": "execute_result",
          "data": {
            "text/html": [
              "<div>\n",
              "<style scoped>\n",
              "    .dataframe tbody tr th:only-of-type {\n",
              "        vertical-align: middle;\n",
              "    }\n",
              "\n",
              "    .dataframe tbody tr th {\n",
              "        vertical-align: top;\n",
              "    }\n",
              "\n",
              "    .dataframe thead th {\n",
              "        text-align: right;\n",
              "    }\n",
              "</style>\n",
              "<table border=\"1\" class=\"dataframe\">\n",
              "  <thead>\n",
              "    <tr style=\"text-align: right;\">\n",
              "      <th></th>\n",
              "      <th>role</th>\n",
              "      <th>level</th>\n",
              "      <th>keep</th>\n",
              "      <th>dtype</th>\n",
              "    </tr>\n",
              "    <tr>\n",
              "      <th>varname</th>\n",
              "      <th></th>\n",
              "      <th></th>\n",
              "      <th></th>\n",
              "      <th></th>\n",
              "    </tr>\n",
              "  </thead>\n",
              "  <tbody>\n",
              "    <tr>\n",
              "      <th>id</th>\n",
              "      <td>id</td>\n",
              "      <td>nominal</td>\n",
              "      <td>False</td>\n",
              "      <td>int64</td>\n",
              "    </tr>\n",
              "    <tr>\n",
              "      <th>target</th>\n",
              "      <td>target</td>\n",
              "      <td>binary</td>\n",
              "      <td>True</td>\n",
              "      <td>int64</td>\n",
              "    </tr>\n",
              "    <tr>\n",
              "      <th>ps_ind_01</th>\n",
              "      <td>input</td>\n",
              "      <td>ordinal</td>\n",
              "      <td>True</td>\n",
              "      <td>int64</td>\n",
              "    </tr>\n",
              "    <tr>\n",
              "      <th>ps_ind_02_cat</th>\n",
              "      <td>input</td>\n",
              "      <td>nominal</td>\n",
              "      <td>True</td>\n",
              "      <td>int64</td>\n",
              "    </tr>\n",
              "    <tr>\n",
              "      <th>ps_ind_03</th>\n",
              "      <td>input</td>\n",
              "      <td>ordinal</td>\n",
              "      <td>True</td>\n",
              "      <td>int64</td>\n",
              "    </tr>\n",
              "    <tr>\n",
              "      <th>ps_ind_04_cat</th>\n",
              "      <td>input</td>\n",
              "      <td>nominal</td>\n",
              "      <td>True</td>\n",
              "      <td>int64</td>\n",
              "    </tr>\n",
              "    <tr>\n",
              "      <th>ps_ind_05_cat</th>\n",
              "      <td>input</td>\n",
              "      <td>nominal</td>\n",
              "      <td>True</td>\n",
              "      <td>int64</td>\n",
              "    </tr>\n",
              "    <tr>\n",
              "      <th>ps_ind_06_bin</th>\n",
              "      <td>input</td>\n",
              "      <td>binary</td>\n",
              "      <td>True</td>\n",
              "      <td>int64</td>\n",
              "    </tr>\n",
              "    <tr>\n",
              "      <th>ps_ind_07_bin</th>\n",
              "      <td>input</td>\n",
              "      <td>binary</td>\n",
              "      <td>True</td>\n",
              "      <td>int64</td>\n",
              "    </tr>\n",
              "    <tr>\n",
              "      <th>ps_ind_08_bin</th>\n",
              "      <td>input</td>\n",
              "      <td>binary</td>\n",
              "      <td>True</td>\n",
              "      <td>int64</td>\n",
              "    </tr>\n",
              "    <tr>\n",
              "      <th>ps_ind_09_bin</th>\n",
              "      <td>input</td>\n",
              "      <td>binary</td>\n",
              "      <td>True</td>\n",
              "      <td>int64</td>\n",
              "    </tr>\n",
              "    <tr>\n",
              "      <th>ps_ind_10_bin</th>\n",
              "      <td>input</td>\n",
              "      <td>binary</td>\n",
              "      <td>True</td>\n",
              "      <td>int64</td>\n",
              "    </tr>\n",
              "    <tr>\n",
              "      <th>ps_ind_11_bin</th>\n",
              "      <td>input</td>\n",
              "      <td>binary</td>\n",
              "      <td>True</td>\n",
              "      <td>int64</td>\n",
              "    </tr>\n",
              "    <tr>\n",
              "      <th>ps_ind_12_bin</th>\n",
              "      <td>input</td>\n",
              "      <td>binary</td>\n",
              "      <td>True</td>\n",
              "      <td>int64</td>\n",
              "    </tr>\n",
              "    <tr>\n",
              "      <th>ps_ind_13_bin</th>\n",
              "      <td>input</td>\n",
              "      <td>binary</td>\n",
              "      <td>True</td>\n",
              "      <td>int64</td>\n",
              "    </tr>\n",
              "    <tr>\n",
              "      <th>ps_ind_14</th>\n",
              "      <td>input</td>\n",
              "      <td>ordinal</td>\n",
              "      <td>True</td>\n",
              "      <td>int64</td>\n",
              "    </tr>\n",
              "    <tr>\n",
              "      <th>ps_ind_15</th>\n",
              "      <td>input</td>\n",
              "      <td>ordinal</td>\n",
              "      <td>True</td>\n",
              "      <td>int64</td>\n",
              "    </tr>\n",
              "    <tr>\n",
              "      <th>ps_ind_16_bin</th>\n",
              "      <td>input</td>\n",
              "      <td>binary</td>\n",
              "      <td>True</td>\n",
              "      <td>int64</td>\n",
              "    </tr>\n",
              "    <tr>\n",
              "      <th>ps_ind_17_bin</th>\n",
              "      <td>input</td>\n",
              "      <td>binary</td>\n",
              "      <td>True</td>\n",
              "      <td>int64</td>\n",
              "    </tr>\n",
              "    <tr>\n",
              "      <th>ps_ind_18_bin</th>\n",
              "      <td>input</td>\n",
              "      <td>binary</td>\n",
              "      <td>True</td>\n",
              "      <td>int64</td>\n",
              "    </tr>\n",
              "    <tr>\n",
              "      <th>ps_reg_01</th>\n",
              "      <td>input</td>\n",
              "      <td>interval</td>\n",
              "      <td>True</td>\n",
              "      <td>float64</td>\n",
              "    </tr>\n",
              "    <tr>\n",
              "      <th>ps_reg_02</th>\n",
              "      <td>input</td>\n",
              "      <td>interval</td>\n",
              "      <td>True</td>\n",
              "      <td>float64</td>\n",
              "    </tr>\n",
              "    <tr>\n",
              "      <th>ps_reg_03</th>\n",
              "      <td>input</td>\n",
              "      <td>interval</td>\n",
              "      <td>True</td>\n",
              "      <td>float64</td>\n",
              "    </tr>\n",
              "    <tr>\n",
              "      <th>ps_car_01_cat</th>\n",
              "      <td>input</td>\n",
              "      <td>nominal</td>\n",
              "      <td>True</td>\n",
              "      <td>int64</td>\n",
              "    </tr>\n",
              "    <tr>\n",
              "      <th>ps_car_02_cat</th>\n",
              "      <td>input</td>\n",
              "      <td>nominal</td>\n",
              "      <td>True</td>\n",
              "      <td>int64</td>\n",
              "    </tr>\n",
              "    <tr>\n",
              "      <th>ps_car_03_cat</th>\n",
              "      <td>input</td>\n",
              "      <td>nominal</td>\n",
              "      <td>True</td>\n",
              "      <td>int64</td>\n",
              "    </tr>\n",
              "    <tr>\n",
              "      <th>ps_car_04_cat</th>\n",
              "      <td>input</td>\n",
              "      <td>nominal</td>\n",
              "      <td>True</td>\n",
              "      <td>int64</td>\n",
              "    </tr>\n",
              "    <tr>\n",
              "      <th>ps_car_05_cat</th>\n",
              "      <td>input</td>\n",
              "      <td>nominal</td>\n",
              "      <td>True</td>\n",
              "      <td>int64</td>\n",
              "    </tr>\n",
              "    <tr>\n",
              "      <th>ps_car_06_cat</th>\n",
              "      <td>input</td>\n",
              "      <td>nominal</td>\n",
              "      <td>True</td>\n",
              "      <td>int64</td>\n",
              "    </tr>\n",
              "    <tr>\n",
              "      <th>ps_car_07_cat</th>\n",
              "      <td>input</td>\n",
              "      <td>nominal</td>\n",
              "      <td>True</td>\n",
              "      <td>int64</td>\n",
              "    </tr>\n",
              "    <tr>\n",
              "      <th>ps_car_08_cat</th>\n",
              "      <td>input</td>\n",
              "      <td>nominal</td>\n",
              "      <td>True</td>\n",
              "      <td>int64</td>\n",
              "    </tr>\n",
              "    <tr>\n",
              "      <th>ps_car_09_cat</th>\n",
              "      <td>input</td>\n",
              "      <td>nominal</td>\n",
              "      <td>True</td>\n",
              "      <td>int64</td>\n",
              "    </tr>\n",
              "    <tr>\n",
              "      <th>ps_car_10_cat</th>\n",
              "      <td>input</td>\n",
              "      <td>nominal</td>\n",
              "      <td>True</td>\n",
              "      <td>int64</td>\n",
              "    </tr>\n",
              "    <tr>\n",
              "      <th>ps_car_11_cat</th>\n",
              "      <td>input</td>\n",
              "      <td>nominal</td>\n",
              "      <td>True</td>\n",
              "      <td>int64</td>\n",
              "    </tr>\n",
              "    <tr>\n",
              "      <th>ps_car_11</th>\n",
              "      <td>input</td>\n",
              "      <td>ordinal</td>\n",
              "      <td>True</td>\n",
              "      <td>int64</td>\n",
              "    </tr>\n",
              "    <tr>\n",
              "      <th>ps_car_12</th>\n",
              "      <td>input</td>\n",
              "      <td>interval</td>\n",
              "      <td>True</td>\n",
              "      <td>float64</td>\n",
              "    </tr>\n",
              "    <tr>\n",
              "      <th>ps_car_13</th>\n",
              "      <td>input</td>\n",
              "      <td>interval</td>\n",
              "      <td>True</td>\n",
              "      <td>float64</td>\n",
              "    </tr>\n",
              "    <tr>\n",
              "      <th>ps_car_14</th>\n",
              "      <td>input</td>\n",
              "      <td>interval</td>\n",
              "      <td>True</td>\n",
              "      <td>float64</td>\n",
              "    </tr>\n",
              "    <tr>\n",
              "      <th>ps_car_15</th>\n",
              "      <td>input</td>\n",
              "      <td>interval</td>\n",
              "      <td>True</td>\n",
              "      <td>float64</td>\n",
              "    </tr>\n",
              "    <tr>\n",
              "      <th>ps_calc_01</th>\n",
              "      <td>input</td>\n",
              "      <td>interval</td>\n",
              "      <td>True</td>\n",
              "      <td>float64</td>\n",
              "    </tr>\n",
              "    <tr>\n",
              "      <th>ps_calc_02</th>\n",
              "      <td>input</td>\n",
              "      <td>interval</td>\n",
              "      <td>True</td>\n",
              "      <td>float64</td>\n",
              "    </tr>\n",
              "    <tr>\n",
              "      <th>ps_calc_03</th>\n",
              "      <td>input</td>\n",
              "      <td>interval</td>\n",
              "      <td>True</td>\n",
              "      <td>float64</td>\n",
              "    </tr>\n",
              "    <tr>\n",
              "      <th>ps_calc_04</th>\n",
              "      <td>input</td>\n",
              "      <td>ordinal</td>\n",
              "      <td>True</td>\n",
              "      <td>int64</td>\n",
              "    </tr>\n",
              "    <tr>\n",
              "      <th>ps_calc_05</th>\n",
              "      <td>input</td>\n",
              "      <td>ordinal</td>\n",
              "      <td>True</td>\n",
              "      <td>int64</td>\n",
              "    </tr>\n",
              "    <tr>\n",
              "      <th>ps_calc_06</th>\n",
              "      <td>input</td>\n",
              "      <td>ordinal</td>\n",
              "      <td>True</td>\n",
              "      <td>int64</td>\n",
              "    </tr>\n",
              "    <tr>\n",
              "      <th>ps_calc_07</th>\n",
              "      <td>input</td>\n",
              "      <td>ordinal</td>\n",
              "      <td>True</td>\n",
              "      <td>int64</td>\n",
              "    </tr>\n",
              "    <tr>\n",
              "      <th>ps_calc_08</th>\n",
              "      <td>input</td>\n",
              "      <td>ordinal</td>\n",
              "      <td>True</td>\n",
              "      <td>int64</td>\n",
              "    </tr>\n",
              "    <tr>\n",
              "      <th>ps_calc_09</th>\n",
              "      <td>input</td>\n",
              "      <td>ordinal</td>\n",
              "      <td>True</td>\n",
              "      <td>int64</td>\n",
              "    </tr>\n",
              "    <tr>\n",
              "      <th>ps_calc_10</th>\n",
              "      <td>input</td>\n",
              "      <td>ordinal</td>\n",
              "      <td>True</td>\n",
              "      <td>int64</td>\n",
              "    </tr>\n",
              "    <tr>\n",
              "      <th>ps_calc_11</th>\n",
              "      <td>input</td>\n",
              "      <td>ordinal</td>\n",
              "      <td>True</td>\n",
              "      <td>int64</td>\n",
              "    </tr>\n",
              "    <tr>\n",
              "      <th>ps_calc_12</th>\n",
              "      <td>input</td>\n",
              "      <td>ordinal</td>\n",
              "      <td>True</td>\n",
              "      <td>int64</td>\n",
              "    </tr>\n",
              "    <tr>\n",
              "      <th>ps_calc_13</th>\n",
              "      <td>input</td>\n",
              "      <td>ordinal</td>\n",
              "      <td>True</td>\n",
              "      <td>int64</td>\n",
              "    </tr>\n",
              "    <tr>\n",
              "      <th>ps_calc_14</th>\n",
              "      <td>input</td>\n",
              "      <td>ordinal</td>\n",
              "      <td>True</td>\n",
              "      <td>int64</td>\n",
              "    </tr>\n",
              "    <tr>\n",
              "      <th>ps_calc_15_bin</th>\n",
              "      <td>input</td>\n",
              "      <td>binary</td>\n",
              "      <td>True</td>\n",
              "      <td>int64</td>\n",
              "    </tr>\n",
              "    <tr>\n",
              "      <th>ps_calc_16_bin</th>\n",
              "      <td>input</td>\n",
              "      <td>binary</td>\n",
              "      <td>True</td>\n",
              "      <td>int64</td>\n",
              "    </tr>\n",
              "    <tr>\n",
              "      <th>ps_calc_17_bin</th>\n",
              "      <td>input</td>\n",
              "      <td>binary</td>\n",
              "      <td>True</td>\n",
              "      <td>int64</td>\n",
              "    </tr>\n",
              "    <tr>\n",
              "      <th>ps_calc_18_bin</th>\n",
              "      <td>input</td>\n",
              "      <td>binary</td>\n",
              "      <td>True</td>\n",
              "      <td>int64</td>\n",
              "    </tr>\n",
              "    <tr>\n",
              "      <th>ps_calc_19_bin</th>\n",
              "      <td>input</td>\n",
              "      <td>binary</td>\n",
              "      <td>True</td>\n",
              "      <td>int64</td>\n",
              "    </tr>\n",
              "    <tr>\n",
              "      <th>ps_calc_20_bin</th>\n",
              "      <td>input</td>\n",
              "      <td>binary</td>\n",
              "      <td>True</td>\n",
              "      <td>int64</td>\n",
              "    </tr>\n",
              "  </tbody>\n",
              "</table>\n",
              "</div>"
            ],
            "text/plain": [
              "                  role     level   keep    dtype\n",
              "varname                                         \n",
              "id                  id   nominal  False    int64\n",
              "target          target    binary   True    int64\n",
              "ps_ind_01        input   ordinal   True    int64\n",
              "ps_ind_02_cat    input   nominal   True    int64\n",
              "ps_ind_03        input   ordinal   True    int64\n",
              "ps_ind_04_cat    input   nominal   True    int64\n",
              "ps_ind_05_cat    input   nominal   True    int64\n",
              "ps_ind_06_bin    input    binary   True    int64\n",
              "ps_ind_07_bin    input    binary   True    int64\n",
              "ps_ind_08_bin    input    binary   True    int64\n",
              "ps_ind_09_bin    input    binary   True    int64\n",
              "ps_ind_10_bin    input    binary   True    int64\n",
              "ps_ind_11_bin    input    binary   True    int64\n",
              "ps_ind_12_bin    input    binary   True    int64\n",
              "ps_ind_13_bin    input    binary   True    int64\n",
              "ps_ind_14        input   ordinal   True    int64\n",
              "ps_ind_15        input   ordinal   True    int64\n",
              "ps_ind_16_bin    input    binary   True    int64\n",
              "ps_ind_17_bin    input    binary   True    int64\n",
              "ps_ind_18_bin    input    binary   True    int64\n",
              "ps_reg_01        input  interval   True  float64\n",
              "ps_reg_02        input  interval   True  float64\n",
              "ps_reg_03        input  interval   True  float64\n",
              "ps_car_01_cat    input   nominal   True    int64\n",
              "ps_car_02_cat    input   nominal   True    int64\n",
              "ps_car_03_cat    input   nominal   True    int64\n",
              "ps_car_04_cat    input   nominal   True    int64\n",
              "ps_car_05_cat    input   nominal   True    int64\n",
              "ps_car_06_cat    input   nominal   True    int64\n",
              "ps_car_07_cat    input   nominal   True    int64\n",
              "ps_car_08_cat    input   nominal   True    int64\n",
              "ps_car_09_cat    input   nominal   True    int64\n",
              "ps_car_10_cat    input   nominal   True    int64\n",
              "ps_car_11_cat    input   nominal   True    int64\n",
              "ps_car_11        input   ordinal   True    int64\n",
              "ps_car_12        input  interval   True  float64\n",
              "ps_car_13        input  interval   True  float64\n",
              "ps_car_14        input  interval   True  float64\n",
              "ps_car_15        input  interval   True  float64\n",
              "ps_calc_01       input  interval   True  float64\n",
              "ps_calc_02       input  interval   True  float64\n",
              "ps_calc_03       input  interval   True  float64\n",
              "ps_calc_04       input   ordinal   True    int64\n",
              "ps_calc_05       input   ordinal   True    int64\n",
              "ps_calc_06       input   ordinal   True    int64\n",
              "ps_calc_07       input   ordinal   True    int64\n",
              "ps_calc_08       input   ordinal   True    int64\n",
              "ps_calc_09       input   ordinal   True    int64\n",
              "ps_calc_10       input   ordinal   True    int64\n",
              "ps_calc_11       input   ordinal   True    int64\n",
              "ps_calc_12       input   ordinal   True    int64\n",
              "ps_calc_13       input   ordinal   True    int64\n",
              "ps_calc_14       input   ordinal   True    int64\n",
              "ps_calc_15_bin   input    binary   True    int64\n",
              "ps_calc_16_bin   input    binary   True    int64\n",
              "ps_calc_17_bin   input    binary   True    int64\n",
              "ps_calc_18_bin   input    binary   True    int64\n",
              "ps_calc_19_bin   input    binary   True    int64\n",
              "ps_calc_20_bin   input    binary   True    int64"
            ]
          },
          "metadata": {
            "tags": []
          },
          "execution_count": 16
        }
      ]
    },
    {
      "cell_type": "markdown",
      "metadata": {
        "id": "A5mCgVmLyqMu"
      },
      "source": [
        "Example to extract all nominal variables that are not dropped\n"
      ]
    },
    {
      "cell_type": "code",
      "metadata": {
        "colab": {
          "base_uri": "https://localhost:8080/"
        },
        "id": "AL8IOw22yyYC",
        "outputId": "feab80b3-1e14-4630-c54a-e144eb314455"
      },
      "source": [
        "meta[(meta.level == 'nominal') & (meta.keep)].index # nominal 이면서 챙겨갈 인덱스"
      ],
      "execution_count": 17,
      "outputs": [
        {
          "output_type": "execute_result",
          "data": {
            "text/plain": [
              "Index(['ps_ind_02_cat', 'ps_ind_04_cat', 'ps_ind_05_cat', 'ps_car_01_cat',\n",
              "       'ps_car_02_cat', 'ps_car_03_cat', 'ps_car_04_cat', 'ps_car_05_cat',\n",
              "       'ps_car_06_cat', 'ps_car_07_cat', 'ps_car_08_cat', 'ps_car_09_cat',\n",
              "       'ps_car_10_cat', 'ps_car_11_cat'],\n",
              "      dtype='object', name='varname')"
            ]
          },
          "metadata": {
            "tags": []
          },
          "execution_count": 17
        }
      ]
    },
    {
      "cell_type": "markdown",
      "metadata": {
        "id": "J_ckIFwiy72V"
      },
      "source": [
        "Below the number of variables per role and level are displayed.\n",
        "- 역할과 수준별 변수 값이 나와있다."
      ]
    },
    {
      "cell_type": "code",
      "metadata": {
        "colab": {
          "base_uri": "https://localhost:8080/"
        },
        "id": "W5hpbgi46E_t",
        "outputId": "aa42cbbb-dfb3-4222-d587-814f09da6467"
      },
      "source": [
        "meta.groupby(['role', 'level'])['role'].size()"
      ],
      "execution_count": 18,
      "outputs": [
        {
          "output_type": "execute_result",
          "data": {
            "text/plain": [
              "role    level   \n",
              "id      nominal      1\n",
              "input   binary      17\n",
              "        interval    10\n",
              "        nominal     14\n",
              "        ordinal     16\n",
              "target  binary       1\n",
              "Name: role, dtype: int64"
            ]
          },
          "metadata": {
            "tags": []
          },
          "execution_count": 18
        }
      ]
    },
    {
      "cell_type": "code",
      "metadata": {
        "colab": {
          "base_uri": "https://localhost:8080/"
        },
        "id": "uONmHRkP6eC6",
        "outputId": "5d4aa838-535f-4d2c-8a3e-4475ecc377f8"
      },
      "source": [
        "meta.groupby(['role', 'level']).size()"
      ],
      "execution_count": 19,
      "outputs": [
        {
          "output_type": "execute_result",
          "data": {
            "text/plain": [
              "role    level   \n",
              "id      nominal      1\n",
              "input   binary      17\n",
              "        interval    10\n",
              "        nominal     14\n",
              "        ordinal     16\n",
              "target  binary       1\n",
              "dtype: int64"
            ]
          },
          "metadata": {
            "tags": []
          },
          "execution_count": 19
        }
      ]
    },
    {
      "cell_type": "code",
      "metadata": {
        "colab": {
          "base_uri": "https://localhost:8080/"
        },
        "id": "qjJyczxu7QAH",
        "outputId": "c27ce057-b372-4bd0-de81-fe0dfc54d580"
      },
      "source": [
        "meta.groupby(['role', 'level'])['role'].value_counts()"
      ],
      "execution_count": 20,
      "outputs": [
        {
          "output_type": "execute_result",
          "data": {
            "text/plain": [
              "role    level     role  \n",
              "id      nominal   id         1\n",
              "input   binary    input     17\n",
              "        interval  input     10\n",
              "        nominal   input     14\n",
              "        ordinal   input     16\n",
              "target  binary    target     1\n",
              "Name: role, dtype: int64"
            ]
          },
          "metadata": {
            "tags": []
          },
          "execution_count": 20
        }
      ]
    },
    {
      "cell_type": "code",
      "metadata": {
        "colab": {
          "base_uri": "https://localhost:8080/",
          "height": 220
        },
        "id": "RrAGKTTVzHCJ",
        "outputId": "67ba672a-0453-42f9-a0c4-bd904e9cd0fd"
      },
      "source": [
        "pd.DataFrame({'count' : meta.groupby(['role', 'level'])['role'].size()}).reset_index()\n",
        "# count는 열 이름, : 뒤는 값"
      ],
      "execution_count": 21,
      "outputs": [
        {
          "output_type": "execute_result",
          "data": {
            "text/html": [
              "<div>\n",
              "<style scoped>\n",
              "    .dataframe tbody tr th:only-of-type {\n",
              "        vertical-align: middle;\n",
              "    }\n",
              "\n",
              "    .dataframe tbody tr th {\n",
              "        vertical-align: top;\n",
              "    }\n",
              "\n",
              "    .dataframe thead th {\n",
              "        text-align: right;\n",
              "    }\n",
              "</style>\n",
              "<table border=\"1\" class=\"dataframe\">\n",
              "  <thead>\n",
              "    <tr style=\"text-align: right;\">\n",
              "      <th></th>\n",
              "      <th>role</th>\n",
              "      <th>level</th>\n",
              "      <th>count</th>\n",
              "    </tr>\n",
              "  </thead>\n",
              "  <tbody>\n",
              "    <tr>\n",
              "      <th>0</th>\n",
              "      <td>id</td>\n",
              "      <td>nominal</td>\n",
              "      <td>1</td>\n",
              "    </tr>\n",
              "    <tr>\n",
              "      <th>1</th>\n",
              "      <td>input</td>\n",
              "      <td>binary</td>\n",
              "      <td>17</td>\n",
              "    </tr>\n",
              "    <tr>\n",
              "      <th>2</th>\n",
              "      <td>input</td>\n",
              "      <td>interval</td>\n",
              "      <td>10</td>\n",
              "    </tr>\n",
              "    <tr>\n",
              "      <th>3</th>\n",
              "      <td>input</td>\n",
              "      <td>nominal</td>\n",
              "      <td>14</td>\n",
              "    </tr>\n",
              "    <tr>\n",
              "      <th>4</th>\n",
              "      <td>input</td>\n",
              "      <td>ordinal</td>\n",
              "      <td>16</td>\n",
              "    </tr>\n",
              "    <tr>\n",
              "      <th>5</th>\n",
              "      <td>target</td>\n",
              "      <td>binary</td>\n",
              "      <td>1</td>\n",
              "    </tr>\n",
              "  </tbody>\n",
              "</table>\n",
              "</div>"
            ],
            "text/plain": [
              "     role     level  count\n",
              "0      id   nominal      1\n",
              "1   input    binary     17\n",
              "2   input  interval     10\n",
              "3   input   nominal     14\n",
              "4   input   ordinal     16\n",
              "5  target    binary      1"
            ]
          },
          "metadata": {
            "tags": []
          },
          "execution_count": 21
        }
      ]
    },
    {
      "cell_type": "markdown",
      "metadata": {
        "id": "9s4Xj3yezO5p"
      },
      "source": [
        "# Descriptive statistics\n",
        "\n",
        "We can also apply the describe method on the dataframe. However, it doesn't make much sense to calculate the mean, std,,, on categorical variables and the id variable. \n",
        "- 우리는 설명 방법을 데이터 프레임에 적용할 수 있다. 그러나, 이것은 평균, 표준편차 등을 계산하는 것은 의미가 없다.\n",
        "\n",
        "We'll explore the categorical variables visually later.\n",
        "- 우리는 분류 변수를 시각적으로 나중에 볼 것이다.\n",
        "\n",
        "Thanks to our meta file we can easily select the variables on which we want to compute the descriptive statistics. To keep things clear, we'll do this per data type.\n",
        "- meta file 덕분에 우리는 쉽게 설명 통계를 계산할 변수를 선택할 수 있다. "
      ]
    },
    {
      "cell_type": "markdown",
      "metadata": {
        "id": "hBM3EHWF3stp"
      },
      "source": [
        "## Interval variables"
      ]
    },
    {
      "cell_type": "code",
      "metadata": {
        "colab": {
          "base_uri": "https://localhost:8080/",
          "height": 277
        },
        "id": "w-ruYjxu28PH",
        "outputId": "f0c44a93-8986-4376-f2bf-bf115de89e55"
      },
      "source": [
        "v = meta[(meta.level == 'interval') & (meta.keep)].index\n",
        "train[v].describe()"
      ],
      "execution_count": 22,
      "outputs": [
        {
          "output_type": "execute_result",
          "data": {
            "text/html": [
              "<div>\n",
              "<style scoped>\n",
              "    .dataframe tbody tr th:only-of-type {\n",
              "        vertical-align: middle;\n",
              "    }\n",
              "\n",
              "    .dataframe tbody tr th {\n",
              "        vertical-align: top;\n",
              "    }\n",
              "\n",
              "    .dataframe thead th {\n",
              "        text-align: right;\n",
              "    }\n",
              "</style>\n",
              "<table border=\"1\" class=\"dataframe\">\n",
              "  <thead>\n",
              "    <tr style=\"text-align: right;\">\n",
              "      <th></th>\n",
              "      <th>ps_reg_01</th>\n",
              "      <th>ps_reg_02</th>\n",
              "      <th>ps_reg_03</th>\n",
              "      <th>ps_car_12</th>\n",
              "      <th>ps_car_13</th>\n",
              "      <th>ps_car_14</th>\n",
              "      <th>ps_car_15</th>\n",
              "      <th>ps_calc_01</th>\n",
              "      <th>ps_calc_02</th>\n",
              "      <th>ps_calc_03</th>\n",
              "    </tr>\n",
              "  </thead>\n",
              "  <tbody>\n",
              "    <tr>\n",
              "      <th>count</th>\n",
              "      <td>595212.000000</td>\n",
              "      <td>595212.000000</td>\n",
              "      <td>595212.000000</td>\n",
              "      <td>595212.000000</td>\n",
              "      <td>595212.000000</td>\n",
              "      <td>595212.000000</td>\n",
              "      <td>595212.000000</td>\n",
              "      <td>595212.000000</td>\n",
              "      <td>595212.000000</td>\n",
              "      <td>595212.000000</td>\n",
              "    </tr>\n",
              "    <tr>\n",
              "      <th>mean</th>\n",
              "      <td>0.610991</td>\n",
              "      <td>0.439184</td>\n",
              "      <td>0.551102</td>\n",
              "      <td>0.379945</td>\n",
              "      <td>0.813265</td>\n",
              "      <td>0.276256</td>\n",
              "      <td>3.065899</td>\n",
              "      <td>0.449756</td>\n",
              "      <td>0.449589</td>\n",
              "      <td>0.449849</td>\n",
              "    </tr>\n",
              "    <tr>\n",
              "      <th>std</th>\n",
              "      <td>0.287643</td>\n",
              "      <td>0.404264</td>\n",
              "      <td>0.793506</td>\n",
              "      <td>0.058327</td>\n",
              "      <td>0.224588</td>\n",
              "      <td>0.357154</td>\n",
              "      <td>0.731366</td>\n",
              "      <td>0.287198</td>\n",
              "      <td>0.286893</td>\n",
              "      <td>0.287153</td>\n",
              "    </tr>\n",
              "    <tr>\n",
              "      <th>min</th>\n",
              "      <td>0.000000</td>\n",
              "      <td>0.000000</td>\n",
              "      <td>-1.000000</td>\n",
              "      <td>-1.000000</td>\n",
              "      <td>0.250619</td>\n",
              "      <td>-1.000000</td>\n",
              "      <td>0.000000</td>\n",
              "      <td>0.000000</td>\n",
              "      <td>0.000000</td>\n",
              "      <td>0.000000</td>\n",
              "    </tr>\n",
              "    <tr>\n",
              "      <th>25%</th>\n",
              "      <td>0.400000</td>\n",
              "      <td>0.200000</td>\n",
              "      <td>0.525000</td>\n",
              "      <td>0.316228</td>\n",
              "      <td>0.670867</td>\n",
              "      <td>0.333167</td>\n",
              "      <td>2.828427</td>\n",
              "      <td>0.200000</td>\n",
              "      <td>0.200000</td>\n",
              "      <td>0.200000</td>\n",
              "    </tr>\n",
              "    <tr>\n",
              "      <th>50%</th>\n",
              "      <td>0.700000</td>\n",
              "      <td>0.300000</td>\n",
              "      <td>0.720677</td>\n",
              "      <td>0.374166</td>\n",
              "      <td>0.765811</td>\n",
              "      <td>0.368782</td>\n",
              "      <td>3.316625</td>\n",
              "      <td>0.500000</td>\n",
              "      <td>0.400000</td>\n",
              "      <td>0.500000</td>\n",
              "    </tr>\n",
              "    <tr>\n",
              "      <th>75%</th>\n",
              "      <td>0.900000</td>\n",
              "      <td>0.600000</td>\n",
              "      <td>1.000000</td>\n",
              "      <td>0.400000</td>\n",
              "      <td>0.906190</td>\n",
              "      <td>0.396485</td>\n",
              "      <td>3.605551</td>\n",
              "      <td>0.700000</td>\n",
              "      <td>0.700000</td>\n",
              "      <td>0.700000</td>\n",
              "    </tr>\n",
              "    <tr>\n",
              "      <th>max</th>\n",
              "      <td>0.900000</td>\n",
              "      <td>1.800000</td>\n",
              "      <td>4.037945</td>\n",
              "      <td>1.264911</td>\n",
              "      <td>3.720626</td>\n",
              "      <td>0.636396</td>\n",
              "      <td>3.741657</td>\n",
              "      <td>0.900000</td>\n",
              "      <td>0.900000</td>\n",
              "      <td>0.900000</td>\n",
              "    </tr>\n",
              "  </tbody>\n",
              "</table>\n",
              "</div>"
            ],
            "text/plain": [
              "           ps_reg_01      ps_reg_02      ps_reg_03      ps_car_12  \\\n",
              "count  595212.000000  595212.000000  595212.000000  595212.000000   \n",
              "mean        0.610991       0.439184       0.551102       0.379945   \n",
              "std         0.287643       0.404264       0.793506       0.058327   \n",
              "min         0.000000       0.000000      -1.000000      -1.000000   \n",
              "25%         0.400000       0.200000       0.525000       0.316228   \n",
              "50%         0.700000       0.300000       0.720677       0.374166   \n",
              "75%         0.900000       0.600000       1.000000       0.400000   \n",
              "max         0.900000       1.800000       4.037945       1.264911   \n",
              "\n",
              "           ps_car_13      ps_car_14      ps_car_15     ps_calc_01  \\\n",
              "count  595212.000000  595212.000000  595212.000000  595212.000000   \n",
              "mean        0.813265       0.276256       3.065899       0.449756   \n",
              "std         0.224588       0.357154       0.731366       0.287198   \n",
              "min         0.250619      -1.000000       0.000000       0.000000   \n",
              "25%         0.670867       0.333167       2.828427       0.200000   \n",
              "50%         0.765811       0.368782       3.316625       0.500000   \n",
              "75%         0.906190       0.396485       3.605551       0.700000   \n",
              "max         3.720626       0.636396       3.741657       0.900000   \n",
              "\n",
              "          ps_calc_02     ps_calc_03  \n",
              "count  595212.000000  595212.000000  \n",
              "mean        0.449589       0.449849  \n",
              "std         0.286893       0.287153  \n",
              "min         0.000000       0.000000  \n",
              "25%         0.200000       0.200000  \n",
              "50%         0.400000       0.500000  \n",
              "75%         0.700000       0.700000  \n",
              "max         0.900000       0.900000  "
            ]
          },
          "metadata": {
            "tags": []
          },
          "execution_count": 22
        }
      ]
    },
    {
      "cell_type": "markdown",
      "metadata": {
        "id": "6ppfwOPW3CTP"
      },
      "source": [
        "reg variables\n",
        "\n",
        "* only ps_reg_03 has missing values\n",
        "  - 3의 min -1이 있어 빈 값이 있다는 것을 알 수 있다.\n",
        "\n",
        "* the range (min to max) differs between the variables. We could apply scaling(e.g. StandardScaler), but it depends on the classifier we will want to use\n",
        "  - 범위가 변수마다 다 다르다. 우리는 scaling을 적용할 수 있다, 그러나 이는 우리가 나중에 사용하려고 하는 분류기에 따라 다르다.\n",
        "\n",
        "car variables\n",
        "\n",
        "* ps_car_12 and ps_car_15 have missing values\n",
        "  - 12, 15는 빈 값이 있다.\n",
        "* again, the range differs and we could apply scaling.\n",
        "\n",
        "calc variables\n",
        "* no missing values\n",
        "  - 빈 값이 없다.\n",
        "* this seems to be some kind of ratio as the maximum is 0.9\n",
        "  - 최대 0.9가 많아 보인다.\n",
        "* all three_calc variables have very similar distributions\n",
        "- 모든 변수가 비슷한 분포를 가지고 있다. => std 표준편차가 비슷\n",
        "\n",
        "Overall, we can see that the range of the interval variables is rather small. Perhaps some transformation(e.g. log) is already applied in order to anonymize the data?\n",
        "- 사이 범위가 좀 작아 보인다. 아마 몇몇 변형이 이미 적용되어서 그런게 아닐까? 비식별화가 되어있다.\n",
        "- min과 max의 크기가 크지 않다.\n",
        "\n"
      ]
    },
    {
      "cell_type": "markdown",
      "metadata": {
        "id": "Sa_u-IT55zQa"
      },
      "source": [
        "## Ordinal variables\n"
      ]
    },
    {
      "cell_type": "code",
      "metadata": {
        "colab": {
          "base_uri": "https://localhost:8080/",
          "height": 277
        },
        "id": "8F6qTPQu5275",
        "outputId": "2b1ea2f4-90c1-4c8d-cf3f-d30430458b1f"
      },
      "source": [
        "v = meta[(meta.level == 'ordinal') & (meta.keep)].index\n",
        "train[v].describe()"
      ],
      "execution_count": 23,
      "outputs": [
        {
          "output_type": "execute_result",
          "data": {
            "text/html": [
              "<div>\n",
              "<style scoped>\n",
              "    .dataframe tbody tr th:only-of-type {\n",
              "        vertical-align: middle;\n",
              "    }\n",
              "\n",
              "    .dataframe tbody tr th {\n",
              "        vertical-align: top;\n",
              "    }\n",
              "\n",
              "    .dataframe thead th {\n",
              "        text-align: right;\n",
              "    }\n",
              "</style>\n",
              "<table border=\"1\" class=\"dataframe\">\n",
              "  <thead>\n",
              "    <tr style=\"text-align: right;\">\n",
              "      <th></th>\n",
              "      <th>ps_ind_01</th>\n",
              "      <th>ps_ind_03</th>\n",
              "      <th>ps_ind_14</th>\n",
              "      <th>ps_ind_15</th>\n",
              "      <th>ps_car_11</th>\n",
              "      <th>ps_calc_04</th>\n",
              "      <th>ps_calc_05</th>\n",
              "      <th>ps_calc_06</th>\n",
              "      <th>ps_calc_07</th>\n",
              "      <th>ps_calc_08</th>\n",
              "      <th>ps_calc_09</th>\n",
              "      <th>ps_calc_10</th>\n",
              "      <th>ps_calc_11</th>\n",
              "      <th>ps_calc_12</th>\n",
              "      <th>ps_calc_13</th>\n",
              "      <th>ps_calc_14</th>\n",
              "    </tr>\n",
              "  </thead>\n",
              "  <tbody>\n",
              "    <tr>\n",
              "      <th>count</th>\n",
              "      <td>595212.000000</td>\n",
              "      <td>595212.000000</td>\n",
              "      <td>595212.000000</td>\n",
              "      <td>595212.000000</td>\n",
              "      <td>595212.000000</td>\n",
              "      <td>595212.000000</td>\n",
              "      <td>595212.000000</td>\n",
              "      <td>595212.000000</td>\n",
              "      <td>595212.000000</td>\n",
              "      <td>595212.000000</td>\n",
              "      <td>595212.000000</td>\n",
              "      <td>595212.000000</td>\n",
              "      <td>595212.000000</td>\n",
              "      <td>595212.000000</td>\n",
              "      <td>595212.000000</td>\n",
              "      <td>595212.000000</td>\n",
              "    </tr>\n",
              "    <tr>\n",
              "      <th>mean</th>\n",
              "      <td>1.900378</td>\n",
              "      <td>4.423318</td>\n",
              "      <td>0.012451</td>\n",
              "      <td>7.299922</td>\n",
              "      <td>2.346072</td>\n",
              "      <td>2.372081</td>\n",
              "      <td>1.885886</td>\n",
              "      <td>7.689445</td>\n",
              "      <td>3.005823</td>\n",
              "      <td>9.225904</td>\n",
              "      <td>2.339034</td>\n",
              "      <td>8.433590</td>\n",
              "      <td>5.441382</td>\n",
              "      <td>1.441918</td>\n",
              "      <td>2.872288</td>\n",
              "      <td>7.539026</td>\n",
              "    </tr>\n",
              "    <tr>\n",
              "      <th>std</th>\n",
              "      <td>1.983789</td>\n",
              "      <td>2.699902</td>\n",
              "      <td>0.127545</td>\n",
              "      <td>3.546042</td>\n",
              "      <td>0.832548</td>\n",
              "      <td>1.117219</td>\n",
              "      <td>1.134927</td>\n",
              "      <td>1.334312</td>\n",
              "      <td>1.414564</td>\n",
              "      <td>1.459672</td>\n",
              "      <td>1.246949</td>\n",
              "      <td>2.904597</td>\n",
              "      <td>2.332871</td>\n",
              "      <td>1.202963</td>\n",
              "      <td>1.694887</td>\n",
              "      <td>2.746652</td>\n",
              "    </tr>\n",
              "    <tr>\n",
              "      <th>min</th>\n",
              "      <td>0.000000</td>\n",
              "      <td>0.000000</td>\n",
              "      <td>0.000000</td>\n",
              "      <td>0.000000</td>\n",
              "      <td>-1.000000</td>\n",
              "      <td>0.000000</td>\n",
              "      <td>0.000000</td>\n",
              "      <td>0.000000</td>\n",
              "      <td>0.000000</td>\n",
              "      <td>2.000000</td>\n",
              "      <td>0.000000</td>\n",
              "      <td>0.000000</td>\n",
              "      <td>0.000000</td>\n",
              "      <td>0.000000</td>\n",
              "      <td>0.000000</td>\n",
              "      <td>0.000000</td>\n",
              "    </tr>\n",
              "    <tr>\n",
              "      <th>25%</th>\n",
              "      <td>0.000000</td>\n",
              "      <td>2.000000</td>\n",
              "      <td>0.000000</td>\n",
              "      <td>5.000000</td>\n",
              "      <td>2.000000</td>\n",
              "      <td>2.000000</td>\n",
              "      <td>1.000000</td>\n",
              "      <td>7.000000</td>\n",
              "      <td>2.000000</td>\n",
              "      <td>8.000000</td>\n",
              "      <td>1.000000</td>\n",
              "      <td>6.000000</td>\n",
              "      <td>4.000000</td>\n",
              "      <td>1.000000</td>\n",
              "      <td>2.000000</td>\n",
              "      <td>6.000000</td>\n",
              "    </tr>\n",
              "    <tr>\n",
              "      <th>50%</th>\n",
              "      <td>1.000000</td>\n",
              "      <td>4.000000</td>\n",
              "      <td>0.000000</td>\n",
              "      <td>7.000000</td>\n",
              "      <td>3.000000</td>\n",
              "      <td>2.000000</td>\n",
              "      <td>2.000000</td>\n",
              "      <td>8.000000</td>\n",
              "      <td>3.000000</td>\n",
              "      <td>9.000000</td>\n",
              "      <td>2.000000</td>\n",
              "      <td>8.000000</td>\n",
              "      <td>5.000000</td>\n",
              "      <td>1.000000</td>\n",
              "      <td>3.000000</td>\n",
              "      <td>7.000000</td>\n",
              "    </tr>\n",
              "    <tr>\n",
              "      <th>75%</th>\n",
              "      <td>3.000000</td>\n",
              "      <td>6.000000</td>\n",
              "      <td>0.000000</td>\n",
              "      <td>10.000000</td>\n",
              "      <td>3.000000</td>\n",
              "      <td>3.000000</td>\n",
              "      <td>3.000000</td>\n",
              "      <td>9.000000</td>\n",
              "      <td>4.000000</td>\n",
              "      <td>10.000000</td>\n",
              "      <td>3.000000</td>\n",
              "      <td>10.000000</td>\n",
              "      <td>7.000000</td>\n",
              "      <td>2.000000</td>\n",
              "      <td>4.000000</td>\n",
              "      <td>9.000000</td>\n",
              "    </tr>\n",
              "    <tr>\n",
              "      <th>max</th>\n",
              "      <td>7.000000</td>\n",
              "      <td>11.000000</td>\n",
              "      <td>4.000000</td>\n",
              "      <td>13.000000</td>\n",
              "      <td>3.000000</td>\n",
              "      <td>5.000000</td>\n",
              "      <td>6.000000</td>\n",
              "      <td>10.000000</td>\n",
              "      <td>9.000000</td>\n",
              "      <td>12.000000</td>\n",
              "      <td>7.000000</td>\n",
              "      <td>25.000000</td>\n",
              "      <td>19.000000</td>\n",
              "      <td>10.000000</td>\n",
              "      <td>13.000000</td>\n",
              "      <td>23.000000</td>\n",
              "    </tr>\n",
              "  </tbody>\n",
              "</table>\n",
              "</div>"
            ],
            "text/plain": [
              "           ps_ind_01      ps_ind_03      ps_ind_14      ps_ind_15  \\\n",
              "count  595212.000000  595212.000000  595212.000000  595212.000000   \n",
              "mean        1.900378       4.423318       0.012451       7.299922   \n",
              "std         1.983789       2.699902       0.127545       3.546042   \n",
              "min         0.000000       0.000000       0.000000       0.000000   \n",
              "25%         0.000000       2.000000       0.000000       5.000000   \n",
              "50%         1.000000       4.000000       0.000000       7.000000   \n",
              "75%         3.000000       6.000000       0.000000      10.000000   \n",
              "max         7.000000      11.000000       4.000000      13.000000   \n",
              "\n",
              "           ps_car_11     ps_calc_04     ps_calc_05     ps_calc_06  \\\n",
              "count  595212.000000  595212.000000  595212.000000  595212.000000   \n",
              "mean        2.346072       2.372081       1.885886       7.689445   \n",
              "std         0.832548       1.117219       1.134927       1.334312   \n",
              "min        -1.000000       0.000000       0.000000       0.000000   \n",
              "25%         2.000000       2.000000       1.000000       7.000000   \n",
              "50%         3.000000       2.000000       2.000000       8.000000   \n",
              "75%         3.000000       3.000000       3.000000       9.000000   \n",
              "max         3.000000       5.000000       6.000000      10.000000   \n",
              "\n",
              "          ps_calc_07     ps_calc_08     ps_calc_09     ps_calc_10  \\\n",
              "count  595212.000000  595212.000000  595212.000000  595212.000000   \n",
              "mean        3.005823       9.225904       2.339034       8.433590   \n",
              "std         1.414564       1.459672       1.246949       2.904597   \n",
              "min         0.000000       2.000000       0.000000       0.000000   \n",
              "25%         2.000000       8.000000       1.000000       6.000000   \n",
              "50%         3.000000       9.000000       2.000000       8.000000   \n",
              "75%         4.000000      10.000000       3.000000      10.000000   \n",
              "max         9.000000      12.000000       7.000000      25.000000   \n",
              "\n",
              "          ps_calc_11     ps_calc_12     ps_calc_13     ps_calc_14  \n",
              "count  595212.000000  595212.000000  595212.000000  595212.000000  \n",
              "mean        5.441382       1.441918       2.872288       7.539026  \n",
              "std         2.332871       1.202963       1.694887       2.746652  \n",
              "min         0.000000       0.000000       0.000000       0.000000  \n",
              "25%         4.000000       1.000000       2.000000       6.000000  \n",
              "50%         5.000000       1.000000       3.000000       7.000000  \n",
              "75%         7.000000       2.000000       4.000000       9.000000  \n",
              "max        19.000000      10.000000      13.000000      23.000000  "
            ]
          },
          "metadata": {
            "tags": []
          },
          "execution_count": 23
        }
      ]
    },
    {
      "cell_type": "markdown",
      "metadata": {
        "id": "eCCSEoJn59N7"
      },
      "source": [
        "* Only one missing variable : ps_car_11\n",
        "* we could apply scaling to deal with the different ranges\n",
        "  - 우리는 다른 범위에 대해 스케일링을 적용할 수 있다.\n",
        "  "
      ]
    },
    {
      "cell_type": "markdown",
      "metadata": {
        "id": "L8I92Gvx6ONB"
      },
      "source": [
        "## Binary variables"
      ]
    },
    {
      "cell_type": "code",
      "metadata": {
        "colab": {
          "base_uri": "https://localhost:8080/",
          "height": 277
        },
        "id": "Q5pLZNhV6UIa",
        "outputId": "200185ec-9aac-41b5-8fe6-013baae5eaaf"
      },
      "source": [
        "v = meta[(meta.level == 'binary') & (meta.keep)].index\n",
        "train[v].describe()"
      ],
      "execution_count": 24,
      "outputs": [
        {
          "output_type": "execute_result",
          "data": {
            "text/html": [
              "<div>\n",
              "<style scoped>\n",
              "    .dataframe tbody tr th:only-of-type {\n",
              "        vertical-align: middle;\n",
              "    }\n",
              "\n",
              "    .dataframe tbody tr th {\n",
              "        vertical-align: top;\n",
              "    }\n",
              "\n",
              "    .dataframe thead th {\n",
              "        text-align: right;\n",
              "    }\n",
              "</style>\n",
              "<table border=\"1\" class=\"dataframe\">\n",
              "  <thead>\n",
              "    <tr style=\"text-align: right;\">\n",
              "      <th></th>\n",
              "      <th>target</th>\n",
              "      <th>ps_ind_06_bin</th>\n",
              "      <th>ps_ind_07_bin</th>\n",
              "      <th>ps_ind_08_bin</th>\n",
              "      <th>ps_ind_09_bin</th>\n",
              "      <th>ps_ind_10_bin</th>\n",
              "      <th>ps_ind_11_bin</th>\n",
              "      <th>ps_ind_12_bin</th>\n",
              "      <th>ps_ind_13_bin</th>\n",
              "      <th>ps_ind_16_bin</th>\n",
              "      <th>ps_ind_17_bin</th>\n",
              "      <th>ps_ind_18_bin</th>\n",
              "      <th>ps_calc_15_bin</th>\n",
              "      <th>ps_calc_16_bin</th>\n",
              "      <th>ps_calc_17_bin</th>\n",
              "      <th>ps_calc_18_bin</th>\n",
              "      <th>ps_calc_19_bin</th>\n",
              "      <th>ps_calc_20_bin</th>\n",
              "    </tr>\n",
              "  </thead>\n",
              "  <tbody>\n",
              "    <tr>\n",
              "      <th>count</th>\n",
              "      <td>595212.000000</td>\n",
              "      <td>595212.000000</td>\n",
              "      <td>595212.000000</td>\n",
              "      <td>595212.000000</td>\n",
              "      <td>595212.000000</td>\n",
              "      <td>595212.000000</td>\n",
              "      <td>595212.000000</td>\n",
              "      <td>595212.000000</td>\n",
              "      <td>595212.000000</td>\n",
              "      <td>595212.000000</td>\n",
              "      <td>595212.000000</td>\n",
              "      <td>595212.000000</td>\n",
              "      <td>595212.000000</td>\n",
              "      <td>595212.000000</td>\n",
              "      <td>595212.000000</td>\n",
              "      <td>595212.000000</td>\n",
              "      <td>595212.000000</td>\n",
              "      <td>595212.000000</td>\n",
              "    </tr>\n",
              "    <tr>\n",
              "      <th>mean</th>\n",
              "      <td>0.036448</td>\n",
              "      <td>0.393742</td>\n",
              "      <td>0.257033</td>\n",
              "      <td>0.163921</td>\n",
              "      <td>0.185304</td>\n",
              "      <td>0.000373</td>\n",
              "      <td>0.001692</td>\n",
              "      <td>0.009439</td>\n",
              "      <td>0.000948</td>\n",
              "      <td>0.660823</td>\n",
              "      <td>0.121081</td>\n",
              "      <td>0.153446</td>\n",
              "      <td>0.122427</td>\n",
              "      <td>0.627840</td>\n",
              "      <td>0.554182</td>\n",
              "      <td>0.287182</td>\n",
              "      <td>0.349024</td>\n",
              "      <td>0.153318</td>\n",
              "    </tr>\n",
              "    <tr>\n",
              "      <th>std</th>\n",
              "      <td>0.187401</td>\n",
              "      <td>0.488579</td>\n",
              "      <td>0.436998</td>\n",
              "      <td>0.370205</td>\n",
              "      <td>0.388544</td>\n",
              "      <td>0.019309</td>\n",
              "      <td>0.041097</td>\n",
              "      <td>0.096693</td>\n",
              "      <td>0.030768</td>\n",
              "      <td>0.473430</td>\n",
              "      <td>0.326222</td>\n",
              "      <td>0.360417</td>\n",
              "      <td>0.327779</td>\n",
              "      <td>0.483381</td>\n",
              "      <td>0.497056</td>\n",
              "      <td>0.452447</td>\n",
              "      <td>0.476662</td>\n",
              "      <td>0.360295</td>\n",
              "    </tr>\n",
              "    <tr>\n",
              "      <th>min</th>\n",
              "      <td>0.000000</td>\n",
              "      <td>0.000000</td>\n",
              "      <td>0.000000</td>\n",
              "      <td>0.000000</td>\n",
              "      <td>0.000000</td>\n",
              "      <td>0.000000</td>\n",
              "      <td>0.000000</td>\n",
              "      <td>0.000000</td>\n",
              "      <td>0.000000</td>\n",
              "      <td>0.000000</td>\n",
              "      <td>0.000000</td>\n",
              "      <td>0.000000</td>\n",
              "      <td>0.000000</td>\n",
              "      <td>0.000000</td>\n",
              "      <td>0.000000</td>\n",
              "      <td>0.000000</td>\n",
              "      <td>0.000000</td>\n",
              "      <td>0.000000</td>\n",
              "    </tr>\n",
              "    <tr>\n",
              "      <th>25%</th>\n",
              "      <td>0.000000</td>\n",
              "      <td>0.000000</td>\n",
              "      <td>0.000000</td>\n",
              "      <td>0.000000</td>\n",
              "      <td>0.000000</td>\n",
              "      <td>0.000000</td>\n",
              "      <td>0.000000</td>\n",
              "      <td>0.000000</td>\n",
              "      <td>0.000000</td>\n",
              "      <td>0.000000</td>\n",
              "      <td>0.000000</td>\n",
              "      <td>0.000000</td>\n",
              "      <td>0.000000</td>\n",
              "      <td>0.000000</td>\n",
              "      <td>0.000000</td>\n",
              "      <td>0.000000</td>\n",
              "      <td>0.000000</td>\n",
              "      <td>0.000000</td>\n",
              "    </tr>\n",
              "    <tr>\n",
              "      <th>50%</th>\n",
              "      <td>0.000000</td>\n",
              "      <td>0.000000</td>\n",
              "      <td>0.000000</td>\n",
              "      <td>0.000000</td>\n",
              "      <td>0.000000</td>\n",
              "      <td>0.000000</td>\n",
              "      <td>0.000000</td>\n",
              "      <td>0.000000</td>\n",
              "      <td>0.000000</td>\n",
              "      <td>1.000000</td>\n",
              "      <td>0.000000</td>\n",
              "      <td>0.000000</td>\n",
              "      <td>0.000000</td>\n",
              "      <td>1.000000</td>\n",
              "      <td>1.000000</td>\n",
              "      <td>0.000000</td>\n",
              "      <td>0.000000</td>\n",
              "      <td>0.000000</td>\n",
              "    </tr>\n",
              "    <tr>\n",
              "      <th>75%</th>\n",
              "      <td>0.000000</td>\n",
              "      <td>1.000000</td>\n",
              "      <td>1.000000</td>\n",
              "      <td>0.000000</td>\n",
              "      <td>0.000000</td>\n",
              "      <td>0.000000</td>\n",
              "      <td>0.000000</td>\n",
              "      <td>0.000000</td>\n",
              "      <td>0.000000</td>\n",
              "      <td>1.000000</td>\n",
              "      <td>0.000000</td>\n",
              "      <td>0.000000</td>\n",
              "      <td>0.000000</td>\n",
              "      <td>1.000000</td>\n",
              "      <td>1.000000</td>\n",
              "      <td>1.000000</td>\n",
              "      <td>1.000000</td>\n",
              "      <td>0.000000</td>\n",
              "    </tr>\n",
              "    <tr>\n",
              "      <th>max</th>\n",
              "      <td>1.000000</td>\n",
              "      <td>1.000000</td>\n",
              "      <td>1.000000</td>\n",
              "      <td>1.000000</td>\n",
              "      <td>1.000000</td>\n",
              "      <td>1.000000</td>\n",
              "      <td>1.000000</td>\n",
              "      <td>1.000000</td>\n",
              "      <td>1.000000</td>\n",
              "      <td>1.000000</td>\n",
              "      <td>1.000000</td>\n",
              "      <td>1.000000</td>\n",
              "      <td>1.000000</td>\n",
              "      <td>1.000000</td>\n",
              "      <td>1.000000</td>\n",
              "      <td>1.000000</td>\n",
              "      <td>1.000000</td>\n",
              "      <td>1.000000</td>\n",
              "    </tr>\n",
              "  </tbody>\n",
              "</table>\n",
              "</div>"
            ],
            "text/plain": [
              "              target  ps_ind_06_bin  ps_ind_07_bin  ps_ind_08_bin  \\\n",
              "count  595212.000000  595212.000000  595212.000000  595212.000000   \n",
              "mean        0.036448       0.393742       0.257033       0.163921   \n",
              "std         0.187401       0.488579       0.436998       0.370205   \n",
              "min         0.000000       0.000000       0.000000       0.000000   \n",
              "25%         0.000000       0.000000       0.000000       0.000000   \n",
              "50%         0.000000       0.000000       0.000000       0.000000   \n",
              "75%         0.000000       1.000000       1.000000       0.000000   \n",
              "max         1.000000       1.000000       1.000000       1.000000   \n",
              "\n",
              "       ps_ind_09_bin  ps_ind_10_bin  ps_ind_11_bin  ps_ind_12_bin  \\\n",
              "count  595212.000000  595212.000000  595212.000000  595212.000000   \n",
              "mean        0.185304       0.000373       0.001692       0.009439   \n",
              "std         0.388544       0.019309       0.041097       0.096693   \n",
              "min         0.000000       0.000000       0.000000       0.000000   \n",
              "25%         0.000000       0.000000       0.000000       0.000000   \n",
              "50%         0.000000       0.000000       0.000000       0.000000   \n",
              "75%         0.000000       0.000000       0.000000       0.000000   \n",
              "max         1.000000       1.000000       1.000000       1.000000   \n",
              "\n",
              "       ps_ind_13_bin  ps_ind_16_bin  ps_ind_17_bin  ps_ind_18_bin  \\\n",
              "count  595212.000000  595212.000000  595212.000000  595212.000000   \n",
              "mean        0.000948       0.660823       0.121081       0.153446   \n",
              "std         0.030768       0.473430       0.326222       0.360417   \n",
              "min         0.000000       0.000000       0.000000       0.000000   \n",
              "25%         0.000000       0.000000       0.000000       0.000000   \n",
              "50%         0.000000       1.000000       0.000000       0.000000   \n",
              "75%         0.000000       1.000000       0.000000       0.000000   \n",
              "max         1.000000       1.000000       1.000000       1.000000   \n",
              "\n",
              "       ps_calc_15_bin  ps_calc_16_bin  ps_calc_17_bin  ps_calc_18_bin  \\\n",
              "count   595212.000000   595212.000000   595212.000000   595212.000000   \n",
              "mean         0.122427        0.627840        0.554182        0.287182   \n",
              "std          0.327779        0.483381        0.497056        0.452447   \n",
              "min          0.000000        0.000000        0.000000        0.000000   \n",
              "25%          0.000000        0.000000        0.000000        0.000000   \n",
              "50%          0.000000        1.000000        1.000000        0.000000   \n",
              "75%          0.000000        1.000000        1.000000        1.000000   \n",
              "max          1.000000        1.000000        1.000000        1.000000   \n",
              "\n",
              "       ps_calc_19_bin  ps_calc_20_bin  \n",
              "count   595212.000000   595212.000000  \n",
              "mean         0.349024        0.153318  \n",
              "std          0.476662        0.360295  \n",
              "min          0.000000        0.000000  \n",
              "25%          0.000000        0.000000  \n",
              "50%          0.000000        0.000000  \n",
              "75%          1.000000        0.000000  \n",
              "max          1.000000        1.000000  "
            ]
          },
          "metadata": {
            "tags": []
          },
          "execution_count": 24
        }
      ]
    },
    {
      "cell_type": "markdown",
      "metadata": {
        "id": "op75_-ZT6atw"
      },
      "source": [
        "* A priori in the train data is 3.645%, which is strongly imbalanced.\n",
        "  - priori는 3.634%로 아주 불균형적이었다. target 값이 1인개 아주 적다\n",
        "* From the means we can conclude that for most variables the value is zero in most cases.\n",
        "  - 평균으로부터 우리는 대부분의 값이 0이라는 것을 알 수 있다."
      ]
    },
    {
      "cell_type": "markdown",
      "metadata": {
        "id": "fo2AP4sR7G5x"
      },
      "source": [
        "# Handling imbalanced classes\n",
        "\n",
        "As we mentioned above the proportino of records with target = 1 is far less than target = 0. This can lead to a model that has great accuracy but does have any added value in practice. Two possible strategies to deal with this problem are:\n",
        "- target = 1의 데이터의 비율이 target = 0보다 아주 적다. 이는 모델을 정확하게 하지만 문제가 있다.\n",
        "이 문제를 해결하는 두가지 방법이 있다.\n",
        "\n",
        "* oversampling records with target = 1 \n",
        "  - 부풀리는 것\n",
        "* undersampling records with target = 0\n",
        "  - 줄이는 것\n",
        "\n",
        "There are many more strategies of course and MachineLearningMastery.com gives a nice overview. As we have a rather large training set, we can go for undersampling.\n"
      ]
    },
    {
      "cell_type": "code",
      "metadata": {
        "id": "v-ezeZhEP7KL"
      },
      "source": [
        "desired_apriori = 0.10\n",
        "\n",
        "# Get the indices per target value\n",
        "idx_0 = train[train.target == 0].index\n",
        "idx_1 = train[train.target == 1].index\n",
        "\n",
        "# Get original number of records per target value\n",
        "nb_0 = len(train.loc[idx_0])\n",
        "nb_1 = len(train.loc[idx_1])\n"
      ],
      "execution_count": 25,
      "outputs": []
    },
    {
      "cell_type": "code",
      "metadata": {
        "colab": {
          "base_uri": "https://localhost:8080/"
        },
        "id": "LRPSyWRYP9yL",
        "outputId": "4d0a6da1-5d1b-480a-a8db-94ed8c1bf614"
      },
      "source": [
        "nb_1\n"
      ],
      "execution_count": 26,
      "outputs": [
        {
          "output_type": "execute_result",
          "data": {
            "text/plain": [
              "21694"
            ]
          },
          "metadata": {
            "tags": []
          },
          "execution_count": 26
        }
      ]
    },
    {
      "cell_type": "code",
      "metadata": {
        "colab": {
          "base_uri": "https://localhost:8080/"
        },
        "id": "JzUIzDEH9_M0",
        "outputId": "a22cb6bf-d06e-4a29-8fd8-105f4ce664c4"
      },
      "source": [
        "\n",
        "# Calculate the undersampling rate and resulting number of records with target = 0\n",
        "undersampling_rate = ((1 - desired_apriori)*nb_1) / (nb_0 * desired_apriori )\n",
        "\n",
        "undersampled_nb_0 = int(undersampling_rate * nb_0)\n",
        "print('Rate to undersample records with target = 0: {}'.format(undersampling_rate))\n",
        "print('Number of records with target = 0 after undersampling : {}'.format(undersampled_nb_0))\n",
        "\n",
        "# Randomly select records with target = 0 to get at the desired a priori\n",
        "undersampled_idx = shuffle(idx_0, random_state = 37, n_samples = undersampled_nb_0)\n",
        "\n",
        "# Construct list with remaining indices\n",
        "idx_list = list(undersampled_idx) + list(idx_1)\n",
        "\n",
        "# Return undersample data frame\n",
        "train = train.loc[idx_list].reset_index(drop = True)"
      ],
      "execution_count": 27,
      "outputs": [
        {
          "output_type": "stream",
          "text": [
            "Rate to undersample records with target = 0: 0.34043569687437886\n",
            "Number of records with target = 0 after undersampling : 195246\n"
          ],
          "name": "stdout"
        }
      ]
    },
    {
      "cell_type": "code",
      "metadata": {
        "colab": {
          "base_uri": "https://localhost:8080/"
        },
        "id": "K_y4z7bw9t7E",
        "outputId": "4af3b650-4313-450d-d007-6fb1bec917e8"
      },
      "source": [
        "len(train.loc[train.target == 0])"
      ],
      "execution_count": 28,
      "outputs": [
        {
          "output_type": "execute_result",
          "data": {
            "text/plain": [
              "195246"
            ]
          },
          "metadata": {
            "tags": []
          },
          "execution_count": 28
        }
      ]
    },
    {
      "cell_type": "markdown",
      "metadata": {
        "id": "15t0c4Gx_TKU"
      },
      "source": [
        "# Data Quality Checks"
      ]
    },
    {
      "cell_type": "markdown",
      "metadata": {
        "id": "BwVX8wPB_7Wp"
      },
      "source": [
        "## Checking missing values\n",
        "\n",
        "Missings are represented as -1"
      ]
    },
    {
      "cell_type": "code",
      "metadata": {
        "colab": {
          "base_uri": "https://localhost:8080/"
        },
        "id": "g0BDCo7xAAUZ",
        "outputId": "7721fc7b-e213-4067-fb28-1ecc7bb82540"
      },
      "source": [
        "vars_with_missing = []\n",
        "\n",
        "for f in train.columns:\n",
        "  missings = train[train[f] == -1][f].count()\n",
        "  if missings > 0:\n",
        "    vars_with_missing.append(f)\n",
        "    missings_perc = missings/ train.shape[0]\n",
        "\n",
        "    print('Varialbe {} has {} records ({:.2%}) with missing values'.format(f, missings, missings_perc))\n",
        "    print('In total, there are {} variables with missing values'.format(len(vars_with_missing)))"
      ],
      "execution_count": 29,
      "outputs": [
        {
          "output_type": "stream",
          "text": [
            "Varialbe ps_ind_02_cat has 103 records (0.05%) with missing values\n",
            "In total, there are 1 variables with missing values\n",
            "Varialbe ps_ind_04_cat has 51 records (0.02%) with missing values\n",
            "In total, there are 2 variables with missing values\n",
            "Varialbe ps_ind_05_cat has 2256 records (1.04%) with missing values\n",
            "In total, there are 3 variables with missing values\n",
            "Varialbe ps_reg_03 has 38580 records (17.78%) with missing values\n",
            "In total, there are 4 variables with missing values\n",
            "Varialbe ps_car_01_cat has 62 records (0.03%) with missing values\n",
            "In total, there are 5 variables with missing values\n",
            "Varialbe ps_car_02_cat has 2 records (0.00%) with missing values\n",
            "In total, there are 6 variables with missing values\n",
            "Varialbe ps_car_03_cat has 148367 records (68.39%) with missing values\n",
            "In total, there are 7 variables with missing values\n",
            "Varialbe ps_car_05_cat has 96026 records (44.26%) with missing values\n",
            "In total, there are 8 variables with missing values\n",
            "Varialbe ps_car_07_cat has 4431 records (2.04%) with missing values\n",
            "In total, there are 9 variables with missing values\n",
            "Varialbe ps_car_09_cat has 230 records (0.11%) with missing values\n",
            "In total, there are 10 variables with missing values\n",
            "Varialbe ps_car_11 has 1 records (0.00%) with missing values\n",
            "In total, there are 11 variables with missing values\n",
            "Varialbe ps_car_14 has 15726 records (7.25%) with missing values\n",
            "In total, there are 12 variables with missing values\n"
          ],
          "name": "stdout"
        }
      ]
    },
    {
      "cell_type": "markdown",
      "metadata": {
        "id": "CPLXsKKwAnyZ"
      },
      "source": [
        "* ps_car_03 and ps_car_05_cat have a large proportion of records with missing values. Remove these variables.\n",
        "  - ps_car_03, ps_car_05_cat 은 많은 빈 값이 있다. 이들을 지운다.\n",
        "\n",
        "* For the other categorical variables with missing values, we can leave the missing value -1 as such.\n",
        "  - 빈 값이 있는 분류 변수들은 우리는 -1으로 남겨둘 수 있다.\n",
        "\n",
        "* ps_reg_03 (continuous) has missing values for 18% of all records. Replace by the mean.\n",
        "  - ps_reg_03은 18%의 빈 값이 있고 이는 평균으로 대체한다.\n",
        "\n",
        "* ps_car_11 (ordinal) has only 5 records with missing values. Replace by the mode.\n",
        "  -ps_car_11은 5개만 비어있고 이는 mode로 대체한다.\n",
        "\n",
        "* ps_car_12 (continuous) has only 1 records with missing value. Replace by the mean.\n",
        "  - ps_Car_12는 1개만 비어있다. 이는 평균으로 대체한다.\n",
        "\n",
        "* ps_car_14 (continuos) has missing values for 7% of all records. Replace by the mean.\n",
        "  - pa_car_14은 7%의 빈 값이 있고 이는 평균으로 대체한다."
      ]
    },
    {
      "cell_type": "code",
      "metadata": {
        "id": "I3qirATPFZjE"
      },
      "source": [
        "# Dropping the variable with too many missing values\n",
        "vars_to_drop = ['ps_car_03_cat', 'ps_car_05_cat']\n",
        "train.drop(vars_to_drop, inplace = True, axis = 1)\n",
        "meta.loc[(vars_to_drop), 'keep'] = False # Updatting the meta\n"
      ],
      "execution_count": 30,
      "outputs": []
    },
    {
      "cell_type": "code",
      "metadata": {
        "id": "vIsaGVStB7Hv"
      },
      "source": [
        "# imputing with the mean or mode\n",
        "mean_imp = Imputer(missing_values = -1, strategy = 'mean') # -1을 평균으로 채운다.\n",
        "mode_imp = Imputer(missing_values = -1, strategy = 'most_frequent') # -1을 가장 빈도가 높은 것으로 채운다.\n",
        "train['ps_reg_03'] = mean_imp.fit_transform(train[['ps_reg_03']]).ravel()\n",
        "train['ps_car_12'] = mean_imp.fit_transform(train[['ps_car_12']]).ravel()\n",
        "train['ps_car_14'] = mean_imp.fit_transform(train[['ps_car_14']]).ravel()\n",
        "train['ps_car_11'] = mode_imp.fit_transform(train[['ps_car_11']]).ravel()"
      ],
      "execution_count": 31,
      "outputs": []
    },
    {
      "cell_type": "code",
      "metadata": {
        "colab": {
          "base_uri": "https://localhost:8080/"
        },
        "id": "iPHudjmJQ1B-",
        "outputId": "7a382225-f041-42f6-bb62-7afb5bf346d9"
      },
      "source": [
        "mode_imp.fit_transform(train[['ps_car_11']]).ravel()"
      ],
      "execution_count": 32,
      "outputs": [
        {
          "output_type": "execute_result",
          "data": {
            "text/plain": [
              "array([1, 1, 3, ..., 3, 2, 2])"
            ]
          },
          "metadata": {
            "tags": []
          },
          "execution_count": 32
        }
      ]
    },
    {
      "cell_type": "markdown",
      "metadata": {
        "id": "HO9SObj-D6GI"
      },
      "source": [
        "## Checking the cardinality of the categorical variables\n",
        "\n",
        "Cardinality refers to the number of different values in a variable. As we will create dummy variables from the categorical variables later on, we need to check whether there are variables with many distinct values. We should handle these variables differently as they would result in many dummy variables.\n",
        "- cardinality는 변수의 다른 값들을 의미한다. 분류 데이터를 나중에 dummy 변수로 만들기 때문에 우리는 많은 분별있는 값이 있는지 확인해봐야한다. 우리는 이것들을 개별적으로 다뤄야하고 그들은 많은 dummy 변수를 초래할 수 있다.\n",
        "\n",
        "- 너무 많은 변수가 생기면 시간이 오래걸리고 원하지 않는 분류가 생길 수 있다.\n"
      ]
    },
    {
      "cell_type": "code",
      "metadata": {
        "colab": {
          "base_uri": "https://localhost:8080/"
        },
        "id": "itxAorPyHVCE",
        "outputId": "4005f523-26de-4809-9d47-9f55c91d8f29"
      },
      "source": [
        "v = meta[(meta.level == 'nominal') & (meta.keep)].index\n",
        "\n",
        "for f in v:\n",
        "  dist_values = train[f].value_counts().shape[0]\n",
        "  # shape[0] : nunique 값과 같다.\n",
        "  print('Variable {} has {} distinct values'.format(f, dist_values))"
      ],
      "execution_count": 33,
      "outputs": [
        {
          "output_type": "stream",
          "text": [
            "Variable ps_ind_02_cat has 5 distinct values\n",
            "Variable ps_ind_04_cat has 3 distinct values\n",
            "Variable ps_ind_05_cat has 8 distinct values\n",
            "Variable ps_car_01_cat has 13 distinct values\n",
            "Variable ps_car_02_cat has 3 distinct values\n",
            "Variable ps_car_04_cat has 10 distinct values\n",
            "Variable ps_car_06_cat has 18 distinct values\n",
            "Variable ps_car_07_cat has 3 distinct values\n",
            "Variable ps_car_08_cat has 2 distinct values\n",
            "Variable ps_car_09_cat has 6 distinct values\n",
            "Variable ps_car_10_cat has 3 distinct values\n",
            "Variable ps_car_11_cat has 104 distinct values\n"
          ],
          "name": "stdout"
        }
      ]
    },
    {
      "cell_type": "code",
      "metadata": {
        "colab": {
          "base_uri": "https://localhost:8080/"
        },
        "id": "IwDZG_SXSCyT",
        "outputId": "7d41cbce-ac9f-4220-8ab0-7bc284c7aae2"
      },
      "source": [
        "train['ps_ind_02_cat'].value_counts()\n"
      ],
      "execution_count": 34,
      "outputs": [
        {
          "output_type": "execute_result",
          "data": {
            "text/plain": [
              " 1    157124\n",
              " 2     45273\n",
              " 3     10310\n",
              " 4      4130\n",
              "-1       103\n",
              "Name: ps_ind_02_cat, dtype: int64"
            ]
          },
          "metadata": {
            "tags": []
          },
          "execution_count": 34
        }
      ]
    },
    {
      "cell_type": "markdown",
      "metadata": {
        "id": "GIngqVJLHbuL"
      },
      "source": [
        "Only ps_car_11_cat has many distict values, although it is still reasonable.\n",
        "- ps_car_11_cat은 많은 다른 값이 있다. "
      ]
    },
    {
      "cell_type": "markdown",
      "metadata": {
        "id": "RS7r1i62JeFo"
      },
      "source": [
        "overfitting이 되지 않도록 noise를 넣어준다."
      ]
    },
    {
      "cell_type": "code",
      "metadata": {
        "id": "wmrw1SVYJmkY"
      },
      "source": [
        "# Script by https://www.kaggle.com/ogrellier\n",
        "# Code: https://www.kaggle.com/ogrellier/python-target-encoding-for-categorical-features\n",
        "def add_noise(series, noise_level):\n",
        "    return series * (1 + noise_level * np.random.randn(len(series)))\n",
        "\n",
        "def target_encode(trn_series=None, \n",
        "                  tst_series=None, \n",
        "                  target=None, \n",
        "                  min_samples_leaf=1, \n",
        "                  smoothing=1,\n",
        "                  noise_level=0):\n",
        "    \"\"\"\n",
        "    Smoothing is computed like in the following paper by Daniele Micci-Barreca\n",
        "    https://kaggle2.blob.core.windows.net/forum-message-attachments/225952/7441/high%20cardinality%20categoricals.pdf\n",
        "    trn_series : training categorical feature as a pd.Series\n",
        "    tst_series : test categorical feature as a pd.Series\n",
        "    target : target data as a pd.Series\n",
        "    min_samples_leaf (int) : minimum samples to take category average into account\n",
        "    smoothing (int) : smoothing effect to balance categorical average vs prior  \n",
        "    \"\"\" \n",
        "    assert len(trn_series) == len(target) # assert는 True는 진행하고 False는 에러가 나게 하는 것\n",
        "    assert trn_series.name == tst_series.name\n",
        "    temp = pd.concat([trn_series, target], axis=1)\n",
        "\n",
        "    # Compute target mean \n",
        "    averages = temp.groupby(by=trn_series.name)[target.name].agg([\"mean\", \"count\"])\n",
        "\n",
        "    # Compute smoothing\n",
        "    smoothing = 1 / (1 + np.exp(-(averages[\"count\"] - min_samples_leaf) / smoothing))\n",
        "\n",
        "    # Apply average function to all target data\n",
        "    prior = target.mean()\n",
        "\n",
        "    # The bigger the count the less full_avg is taken into account\n",
        "    averages[target.name] = prior * (1 - smoothing) + averages[\"mean\"] * smoothing\n",
        "    averages.drop([\"mean\", \"count\"], axis=1, inplace=True)\n",
        "    \n",
        "    # Apply averages to trn and tst series\n",
        "    ft_trn_series = pd.merge(\n",
        "        trn_series.to_frame(trn_series.name),\n",
        "        averages.reset_index().rename(columns={'index': target.name, target.name: 'average'}),\n",
        "        on=trn_series.name,\n",
        "        how='left')['average'].rename(trn_series.name + '_mean').fillna(prior)\n",
        "    # pd.merge does not keep the index so restore it\n",
        "    ft_trn_series.index = trn_series.index \n",
        "    ft_tst_series = pd.merge(\n",
        "        tst_series.to_frame(tst_series.name),\n",
        "        averages.reset_index().rename(columns={'index': target.name, target.name: 'average'}),\n",
        "        on=tst_series.name,\n",
        "        how='left')['average'].rename(trn_series.name + '_mean').fillna(prior)\n",
        "    # pd.merge does not keep the index so restore it\n",
        "    ft_tst_series.index = tst_series.index\n",
        "    return add_noise(ft_trn_series, noise_level), add_noise(ft_tst_series, noise_level)"
      ],
      "execution_count": 35,
      "outputs": []
    },
    {
      "cell_type": "code",
      "metadata": {
        "id": "vhOenJpRum9u"
      },
      "source": [
        "train_encoded, test_encoded = target_encode(train[\"ps_car_11_cat\"], \n",
        "                             test[\"ps_car_11_cat\"], \n",
        "                             target=train.target, \n",
        "                             min_samples_leaf=100,\n",
        "                             smoothing=10,\n",
        "                             noise_level=0.01)\n",
        "    \n",
        "train['ps_car_11_cat_te'] = train_encoded\n",
        "train.drop('ps_car_11_cat', axis=1, inplace=True)\n",
        "meta.loc['ps_car_11_cat','keep'] = False  # Updating the meta\n",
        "test['ps_car_11_cat_te'] = test_encoded\n",
        "test.drop('ps_car_11_cat', axis=1, inplace=True)"
      ],
      "execution_count": 37,
      "outputs": []
    },
    {
      "cell_type": "markdown",
      "metadata": {
        "id": "8njd-o9y7VYn"
      },
      "source": [
        "---"
      ]
    },
    {
      "cell_type": "markdown",
      "metadata": {
        "id": "PUDNaX5zwI2M"
      },
      "source": [
        "**함수 뜯어보기**"
      ]
    },
    {
      "cell_type": "code",
      "metadata": {
        "id": "mBPSaefv6_5w",
        "colab": {
          "base_uri": "https://localhost:8080/",
          "height": 577
        },
        "outputId": "51fc6d88-6211-493e-fc93-99485febf34e"
      },
      "source": [
        "trn_series = train[\"ps_car_11_cat\"]\n",
        "tst_series = test[\"ps_car_11_cat\"]\n",
        "target = train.target\n",
        "min_samples_leaf = 100\n",
        "smoothing = 10\n",
        "noise_level = 0.01"
      ],
      "execution_count": null,
      "outputs": [
        {
          "output_type": "error",
          "ename": "KeyError",
          "evalue": "ignored",
          "traceback": [
            "\u001b[0;31m---------------------------------------------------------------------------\u001b[0m",
            "\u001b[0;31mKeyError\u001b[0m                                  Traceback (most recent call last)",
            "\u001b[0;32m/usr/local/lib/python3.7/dist-packages/pandas/core/indexes/base.py\u001b[0m in \u001b[0;36mget_loc\u001b[0;34m(self, key, method, tolerance)\u001b[0m\n\u001b[1;32m   2897\u001b[0m             \u001b[0;32mtry\u001b[0m\u001b[0;34m:\u001b[0m\u001b[0;34m\u001b[0m\u001b[0;34m\u001b[0m\u001b[0m\n\u001b[0;32m-> 2898\u001b[0;31m                 \u001b[0;32mreturn\u001b[0m \u001b[0mself\u001b[0m\u001b[0;34m.\u001b[0m\u001b[0m_engine\u001b[0m\u001b[0;34m.\u001b[0m\u001b[0mget_loc\u001b[0m\u001b[0;34m(\u001b[0m\u001b[0mcasted_key\u001b[0m\u001b[0;34m)\u001b[0m\u001b[0;34m\u001b[0m\u001b[0;34m\u001b[0m\u001b[0m\n\u001b[0m\u001b[1;32m   2899\u001b[0m             \u001b[0;32mexcept\u001b[0m \u001b[0mKeyError\u001b[0m \u001b[0;32mas\u001b[0m \u001b[0merr\u001b[0m\u001b[0;34m:\u001b[0m\u001b[0;34m\u001b[0m\u001b[0;34m\u001b[0m\u001b[0m\n",
            "\u001b[0;32mpandas/_libs/index.pyx\u001b[0m in \u001b[0;36mpandas._libs.index.IndexEngine.get_loc\u001b[0;34m()\u001b[0m\n",
            "\u001b[0;32mpandas/_libs/index.pyx\u001b[0m in \u001b[0;36mpandas._libs.index.IndexEngine.get_loc\u001b[0;34m()\u001b[0m\n",
            "\u001b[0;32mpandas/_libs/hashtable_class_helper.pxi\u001b[0m in \u001b[0;36mpandas._libs.hashtable.PyObjectHashTable.get_item\u001b[0;34m()\u001b[0m\n",
            "\u001b[0;32mpandas/_libs/hashtable_class_helper.pxi\u001b[0m in \u001b[0;36mpandas._libs.hashtable.PyObjectHashTable.get_item\u001b[0;34m()\u001b[0m\n",
            "\u001b[0;31mKeyError\u001b[0m: 'ps_car_11_cat'",
            "\nThe above exception was the direct cause of the following exception:\n",
            "\u001b[0;31mKeyError\u001b[0m                                  Traceback (most recent call last)",
            "\u001b[0;32m<ipython-input-76-f6547c8bcda3>\u001b[0m in \u001b[0;36m<module>\u001b[0;34m()\u001b[0m\n\u001b[0;32m----> 1\u001b[0;31m \u001b[0mtrn_series\u001b[0m \u001b[0;34m=\u001b[0m \u001b[0mtrain\u001b[0m\u001b[0;34m[\u001b[0m\u001b[0;34m\"ps_car_11_cat\"\u001b[0m\u001b[0;34m]\u001b[0m\u001b[0;34m\u001b[0m\u001b[0;34m\u001b[0m\u001b[0m\n\u001b[0m\u001b[1;32m      2\u001b[0m \u001b[0mtst_series\u001b[0m \u001b[0;34m=\u001b[0m \u001b[0mtest\u001b[0m\u001b[0;34m[\u001b[0m\u001b[0;34m\"ps_car_11_cat\"\u001b[0m\u001b[0;34m]\u001b[0m\u001b[0;34m\u001b[0m\u001b[0;34m\u001b[0m\u001b[0m\n\u001b[1;32m      3\u001b[0m \u001b[0mtarget\u001b[0m \u001b[0;34m=\u001b[0m \u001b[0mtrain\u001b[0m\u001b[0;34m.\u001b[0m\u001b[0mtarget\u001b[0m\u001b[0;34m\u001b[0m\u001b[0;34m\u001b[0m\u001b[0m\n\u001b[1;32m      4\u001b[0m \u001b[0mmin_samples_leaf\u001b[0m \u001b[0;34m=\u001b[0m \u001b[0;36m100\u001b[0m\u001b[0;34m\u001b[0m\u001b[0;34m\u001b[0m\u001b[0m\n\u001b[1;32m      5\u001b[0m \u001b[0msmoothing\u001b[0m \u001b[0;34m=\u001b[0m \u001b[0;36m10\u001b[0m\u001b[0;34m\u001b[0m\u001b[0;34m\u001b[0m\u001b[0m\n",
            "\u001b[0;32m/usr/local/lib/python3.7/dist-packages/pandas/core/frame.py\u001b[0m in \u001b[0;36m__getitem__\u001b[0;34m(self, key)\u001b[0m\n\u001b[1;32m   2904\u001b[0m             \u001b[0;32mif\u001b[0m \u001b[0mself\u001b[0m\u001b[0;34m.\u001b[0m\u001b[0mcolumns\u001b[0m\u001b[0;34m.\u001b[0m\u001b[0mnlevels\u001b[0m \u001b[0;34m>\u001b[0m \u001b[0;36m1\u001b[0m\u001b[0;34m:\u001b[0m\u001b[0;34m\u001b[0m\u001b[0;34m\u001b[0m\u001b[0m\n\u001b[1;32m   2905\u001b[0m                 \u001b[0;32mreturn\u001b[0m \u001b[0mself\u001b[0m\u001b[0;34m.\u001b[0m\u001b[0m_getitem_multilevel\u001b[0m\u001b[0;34m(\u001b[0m\u001b[0mkey\u001b[0m\u001b[0;34m)\u001b[0m\u001b[0;34m\u001b[0m\u001b[0;34m\u001b[0m\u001b[0m\n\u001b[0;32m-> 2906\u001b[0;31m             \u001b[0mindexer\u001b[0m \u001b[0;34m=\u001b[0m \u001b[0mself\u001b[0m\u001b[0;34m.\u001b[0m\u001b[0mcolumns\u001b[0m\u001b[0;34m.\u001b[0m\u001b[0mget_loc\u001b[0m\u001b[0;34m(\u001b[0m\u001b[0mkey\u001b[0m\u001b[0;34m)\u001b[0m\u001b[0;34m\u001b[0m\u001b[0;34m\u001b[0m\u001b[0m\n\u001b[0m\u001b[1;32m   2907\u001b[0m             \u001b[0;32mif\u001b[0m \u001b[0mis_integer\u001b[0m\u001b[0;34m(\u001b[0m\u001b[0mindexer\u001b[0m\u001b[0;34m)\u001b[0m\u001b[0;34m:\u001b[0m\u001b[0;34m\u001b[0m\u001b[0;34m\u001b[0m\u001b[0m\n\u001b[1;32m   2908\u001b[0m                 \u001b[0mindexer\u001b[0m \u001b[0;34m=\u001b[0m \u001b[0;34m[\u001b[0m\u001b[0mindexer\u001b[0m\u001b[0;34m]\u001b[0m\u001b[0;34m\u001b[0m\u001b[0;34m\u001b[0m\u001b[0m\n",
            "\u001b[0;32m/usr/local/lib/python3.7/dist-packages/pandas/core/indexes/base.py\u001b[0m in \u001b[0;36mget_loc\u001b[0;34m(self, key, method, tolerance)\u001b[0m\n\u001b[1;32m   2898\u001b[0m                 \u001b[0;32mreturn\u001b[0m \u001b[0mself\u001b[0m\u001b[0;34m.\u001b[0m\u001b[0m_engine\u001b[0m\u001b[0;34m.\u001b[0m\u001b[0mget_loc\u001b[0m\u001b[0;34m(\u001b[0m\u001b[0mcasted_key\u001b[0m\u001b[0;34m)\u001b[0m\u001b[0;34m\u001b[0m\u001b[0;34m\u001b[0m\u001b[0m\n\u001b[1;32m   2899\u001b[0m             \u001b[0;32mexcept\u001b[0m \u001b[0mKeyError\u001b[0m \u001b[0;32mas\u001b[0m \u001b[0merr\u001b[0m\u001b[0;34m:\u001b[0m\u001b[0;34m\u001b[0m\u001b[0;34m\u001b[0m\u001b[0m\n\u001b[0;32m-> 2900\u001b[0;31m                 \u001b[0;32mraise\u001b[0m \u001b[0mKeyError\u001b[0m\u001b[0;34m(\u001b[0m\u001b[0mkey\u001b[0m\u001b[0;34m)\u001b[0m \u001b[0;32mfrom\u001b[0m \u001b[0merr\u001b[0m\u001b[0;34m\u001b[0m\u001b[0;34m\u001b[0m\u001b[0m\n\u001b[0m\u001b[1;32m   2901\u001b[0m \u001b[0;34m\u001b[0m\u001b[0m\n\u001b[1;32m   2902\u001b[0m         \u001b[0;32mif\u001b[0m \u001b[0mtolerance\u001b[0m \u001b[0;32mis\u001b[0m \u001b[0;32mnot\u001b[0m \u001b[0;32mNone\u001b[0m\u001b[0;34m:\u001b[0m\u001b[0;34m\u001b[0m\u001b[0;34m\u001b[0m\u001b[0m\n",
            "\u001b[0;31mKeyError\u001b[0m: 'ps_car_11_cat'"
          ]
        }
      ]
    },
    {
      "cell_type": "code",
      "metadata": {
        "id": "I4D0I4UF7LSY"
      },
      "source": [
        "assert len(trn_series) == len(target)\n",
        "assert trn_series.name == tst_series.name"
      ],
      "execution_count": null,
      "outputs": []
    },
    {
      "cell_type": "code",
      "metadata": {
        "id": "L-h3REx-70q1"
      },
      "source": [
        "temp = pd.concat([trn_series, target], axis = 1)"
      ],
      "execution_count": null,
      "outputs": []
    },
    {
      "cell_type": "code",
      "metadata": {
        "id": "6t0zzO5S75IK"
      },
      "source": [
        "temp"
      ],
      "execution_count": null,
      "outputs": []
    },
    {
      "cell_type": "code",
      "metadata": {
        "id": "_ASKN5hy75za"
      },
      "source": [
        "averages = temp.groupby(by = trn_series.name)[target.name].agg(['mean', 'count'])\n",
        "averages"
      ],
      "execution_count": null,
      "outputs": []
    },
    {
      "cell_type": "code",
      "metadata": {
        "id": "bkVTQpny8DCw"
      },
      "source": [
        "smoothing = 1 / (1 + np.exp(-(averages['count'] - min_samples_leaf) / smoothing))\n",
        "# min_samples_leaf : 리프 노드가 되기위한 최소한의 샘플 데이터 수\n",
        "\n",
        "smoothing"
      ],
      "execution_count": null,
      "outputs": []
    },
    {
      "cell_type": "code",
      "metadata": {
        "id": "i1lpgfCj8xxi"
      },
      "source": [
        "prior = target.mean()"
      ],
      "execution_count": null,
      "outputs": []
    },
    {
      "cell_type": "code",
      "metadata": {
        "id": "E10yUCZs8z3Q"
      },
      "source": [
        "prior"
      ],
      "execution_count": null,
      "outputs": []
    },
    {
      "cell_type": "code",
      "metadata": {
        "id": "5mVNxFzG9SZ2"
      },
      "source": [
        "trn_series.to_frame(trn_series.name)"
      ],
      "execution_count": null,
      "outputs": []
    },
    {
      "cell_type": "code",
      "metadata": {
        "id": "WgYDHLz69hAK"
      },
      "source": [
        "averages"
      ],
      "execution_count": null,
      "outputs": []
    },
    {
      "cell_type": "code",
      "metadata": {
        "id": "lrXNUAgv9osC"
      },
      "source": [
        "averages.reset_index()"
      ],
      "execution_count": null,
      "outputs": []
    },
    {
      "cell_type": "code",
      "metadata": {
        "id": "6P-Dap22-eHR"
      },
      "source": [
        "averages.rename(columns = {'index' : target.name, target.name : 'average'})"
      ],
      "execution_count": null,
      "outputs": []
    },
    {
      "cell_type": "code",
      "metadata": {
        "id": "AXyuoZC1TLWn"
      },
      "source": [
        "# The bigger the count the less full_avg is taken into account\n",
        "    averages[target.name] = prior * (1 - smoothing) + averages[\"mean\"] * smoothing\n",
        "    averages.drop([\"mean\", \"count\"], axis=1, inplace=True)"
      ],
      "execution_count": null,
      "outputs": []
    },
    {
      "cell_type": "code",
      "metadata": {
        "id": "PlZ1baw_-3qN"
      },
      "source": [
        "pd.merge(\n",
        "        trn_series.to_frame(trn_series.name),\n",
        "        averages.reset_index().rename(columns={'index': target.name, target.name: 'average'}),\n",
        "        on=trn_series.name,\n",
        "        how='left')['average'].rename(trn_series.name + '_mean').fillna(prior)"
      ],
      "execution_count": null,
      "outputs": []
    },
    {
      "cell_type": "markdown",
      "metadata": {
        "id": "Ft_ifS2HGN9J"
      },
      "source": [
        "___"
      ]
    },
    {
      "cell_type": "markdown",
      "metadata": {
        "id": "iVgkXzm7HDUd"
      },
      "source": [
        "# Exploratory Data Visualization"
      ]
    },
    {
      "cell_type": "markdown",
      "metadata": {
        "id": "tBR-2EmjHIBT"
      },
      "source": [
        "## Categorical variables\n",
        "\n",
        "Let's look into the categorical variables and the proportion of customers with target = 1"
      ]
    },
    {
      "cell_type": "code",
      "metadata": {
        "id": "AqluXxxdHKhD"
      },
      "source": [
        "v = meta[(meta.level == 'nomial') & (meta.keep)].index"
      ],
      "execution_count": 36,
      "outputs": []
    },
    {
      "cell_type": "code",
      "metadata": {
        "id": "mbnemwJ7BjAR"
      },
      "source": [
        ""
      ],
      "execution_count": 36,
      "outputs": []
    },
    {
      "cell_type": "code",
      "metadata": {
        "colab": {
          "base_uri": "https://localhost:8080/",
          "height": 1000
        },
        "id": "dLAlkF9LHWpG",
        "outputId": "5e05ae53-47f4-4bab-ef5c-c9e8c5b97fef"
      },
      "source": [
        "v = meta[(meta.level == 'nominal') & (meta.keep)].index\n",
        "for f in v:\n",
        "    plt.figure()\n",
        "    fig, ax = plt.subplots(figsize=(20,10))\n",
        "    # Calculate the percentage of target=1 per category value\n",
        "    cat_perc = train[[f, 'target']].groupby([f],as_index=False).mean()\n",
        "    cat_perc.sort_values(by='target', ascending=False, inplace=True)\n",
        "    # Bar plot\n",
        "    # Order the bars descending on target mean\n",
        "    sns.barplot(ax=ax, x=f, y='target', data=cat_perc, order=cat_perc[f])\n",
        "    plt.ylabel('% target', fontsize=18)\n",
        "    plt.xlabel(f, fontsize=18)\n",
        "    plt.tick_params(axis='both', which='major', labelsize=18)\n",
        "    plt.show();"
      ],
      "execution_count": 37,
      "outputs": [
        {
          "output_type": "display_data",
          "data": {
            "text/plain": [
              "<Figure size 432x288 with 0 Axes>"
            ]
          },
          "metadata": {
            "tags": []
          }
        },
        {
          "output_type": "display_data",
          "data": {
            "image/png": "[encoded data removed]",
            "text/plain": [
              "<Figure size 1440x720 with 1 Axes>"
            ]
          },
          "metadata": {
            "tags": [],
            "needs_background": "light"
          }
        },
        {
          "output_type": "display_data",
          "data": {
            "text/plain": [
              "<Figure size 432x288 with 0 Axes>"
            ]
          },
          "metadata": {
            "tags": []
          }
        },
        {
          "output_type": "display_data",
          "data": {
            "image/png": "[encoded data removed]",
            "text/plain": [
              "<Figure size 1440x720 with 1 Axes>"
            ]
          },
          "metadata": {
            "tags": [],
            "needs_background": "light"
          }
        },
        {
          "output_type": "display_data",
          "data": {
            "text/plain": [
              "<Figure size 432x288 with 0 Axes>"
            ]
          },
          "metadata": {
            "tags": []
          }
        },
        {
          "output_type": "display_data",
          "data": {
            "image/png": "[encoded data removed]",
            "text/plain": [
              "<Figure size 1440x720 with 1 Axes>"
            ]
          },
          "metadata": {
            "tags": [],
            "needs_background": "light"
          }
        },
        {
          "output_type": "display_data",
          "data": {
            "text/plain": [
              "<Figure size 432x288 with 0 Axes>"
            ]
          },
          "metadata": {
            "tags": []
          }
        },
        {
          "output_type": "display_data",
          "data": {
            "image/png": "[encoded data removed]",
            "text/plain": [
              "<Figure size 1440x720 with 1 Axes>"
            ]
          },
          "metadata": {
            "tags": [],
            "needs_background": "light"
          }
        },
        {
          "output_type": "display_data",
          "data": {
            "text/plain": [
              "<Figure size 432x288 with 0 Axes>"
            ]
          },
          "metadata": {
            "tags": []
          }
        },
        {
          "output_type": "display_data",
          "data": {
            "image/png": "[encoded data removed]",
            "text/plain": [
              "<Figure size 1440x720 with 1 Axes>"
            ]
          },
          "metadata": {
            "tags": [],
            "needs_background": "light"
          }
        },
        {
          "output_type": "display_data",
          "data": {
            "text/plain": [
              "<Figure size 432x288 with 0 Axes>"
            ]
          },
          "metadata": {
            "tags": []
          }
        },
        {
          "output_type": "display_data",
          "data": {
            "image/png": "[encoded data removed]",
            "text/plain": [
              "<Figure size 1440x720 with 1 Axes>"
            ]
          },
          "metadata": {
            "tags": [],
            "needs_background": "light"
          }
        },
        {
          "output_type": "display_data",
          "data": {
            "text/plain": [
              "<Figure size 432x288 with 0 Axes>"
            ]
          },
          "metadata": {
            "tags": []
          }
        },
        {
          "output_type": "display_data",
          "data": {
            "image/png": "[encoded data removed]",
            "text/plain": [
              "<Figure size 1440x720 with 1 Axes>"
            ]
          },
          "metadata": {
            "tags": [],
            "needs_background": "light"
          }
        },
        {
          "output_type": "display_data",
          "data": {
            "text/plain": [
              "<Figure size 432x288 with 0 Axes>"
            ]
          },
          "metadata": {
            "tags": []
          }
        },
        {
          "output_type": "display_data",
          "data": {
            "image/png": "[encoded data removed]",
            "text/plain": [
              "<Figure size 1440x720 with 1 Axes>"
            ]
          },
          "metadata": {
            "tags": [],
            "needs_background": "light"
          }
        },
        {
          "output_type": "display_data",
          "data": {
            "text/plain": [
              "<Figure size 432x288 with 0 Axes>"
            ]
          },
          "metadata": {
            "tags": []
          }
        },
        {
          "output_type": "display_data",
          "data": {
            "image/png": "[encoded data removed]",
            "text/plain": [
              "<Figure size 1440x720 with 1 Axes>"
            ]
          },
          "metadata": {
            "tags": [],
            "needs_background": "light"
          }
        },
        {
          "output_type": "display_data",
          "data": {
            "text/plain": [
              "<Figure size 432x288 with 0 Axes>"
            ]
          },
          "metadata": {
            "tags": []
          }
        },
        {
          "output_type": "display_data",
          "data": {
            "image/png": "[encoded data removed]",
            "text/plain": [
              "<Figure size 1440x720 with 1 Axes>"
            ]
          },
          "metadata": {
            "tags": [],
            "needs_background": "light"
          }
        },
        {
          "output_type": "display_data",
          "data": {
            "text/plain": [
              "<Figure size 432x288 with 0 Axes>"
            ]
          },
          "metadata": {
            "tags": []
          }
        },
        {
          "output_type": "display_data",
          "data": {
            "image/png": "[encoded data removed]",
            "text/plain": [
              "<Figure size 1440x720 with 1 Axes>"
            ]
          },
          "metadata": {
            "tags": [],
            "needs_background": "light"
          }
        },
        {
          "output_type": "display_data",
          "data": {
            "text/plain": [
              "<Figure size 432x288 with 0 Axes>"
            ]
          },
          "metadata": {
            "tags": []
          }
        },
        {
          "output_type": "display_data",
          "data": {
            "image/png": "[encoded data removed]",
            "text/plain": [
              "<Figure size 1440x720 with 1 Axes>"
            ]
          },
          "metadata": {
            "tags": [],
            "needs_background": "light"
          }
        }
      ]
    },
    {
      "cell_type": "markdown",
      "metadata": {
        "id": "IgoB9HXLHpBd"
      },
      "source": [
        "As we can see from the variables with missing values, it is a good idea to keep the missing values as a separate category value, instead of replacing them by the mode for instance. The customers with a missing value appear to have a much higher(in some cases much lower) probability to ask for an insurance claim.\n",
        "- 변수의 빈값에서 알수 있듯이 빈 값들은 분리된 분류 값으로 하는 것이 기존 값을 대체하는 것보다 좋은 아이디어라고 생각된다. 빈 값이 있는 고객은 거 높거나 낮은 보험 요청을 한다고 보인다.\n"
      ]
    },
    {
      "cell_type": "markdown",
      "metadata": {
        "id": "_wsM0S69nv9b"
      },
      "source": [
        "barplot의 확률만 보고 판단하면 잘못 판단할 수 있다. 왜냐하면 해당하는 개수가 너무 적으면 신빙성이 떨어질 수 있다. "
      ]
    },
    {
      "cell_type": "markdown",
      "metadata": {
        "id": "B6SOeeqRIcEv"
      },
      "source": [
        "## Interval variables\n",
        "\n",
        "Checking the coreelation between interval variables. A heatmeap is a good way to visualize the correlation between variables. The code below is based on an example by Micheal Waskom"
      ]
    },
    {
      "cell_type": "code",
      "metadata": {
        "colab": {
          "base_uri": "https://localhost:8080/",
          "height": 537
        },
        "id": "bri0th_YJrAL",
        "outputId": "c1ea4a41-89cc-494c-8938-e02113032d06"
      },
      "source": [
        "def corr_heatmap(v):\n",
        "  correlations = train[v].corr()\n",
        "\n",
        "  # Create color map ranging between two colors\n",
        "  cmap = sns.diverging_palette(220, 10, as_cmap = True)\n",
        "\n",
        "  fig, ax = plt.subplots(figsize = (10, 10))\n",
        "  sns.heatmap(correlations, cmap = cmap, vmax = 1.0, center = 0, fmt = '.2f',\n",
        "              square = True, linewidths = .5, annot = True, cbar_kws = {'shrink' : .75})\n",
        "  plt.show();\n",
        "\n",
        "v = meta[(meta.level == 'interval') & (meta.keep)].index\n",
        "corr_heatmap(v)"
      ],
      "execution_count": 38,
      "outputs": [
        {
          "output_type": "display_data",
          "data": {
            "image/png": "[encoded data removed]",
            "text/plain": [
              "<Figure size 720x720 with 2 Axes>"
            ]
          },
          "metadata": {
            "tags": [],
            "needs_background": "light"
          }
        }
      ]
    },
    {
      "cell_type": "markdown",
      "metadata": {
        "id": "LAxw9-ePJvO4"
      },
      "source": [
        "There are a strong correlations between the variables:\n",
        "* ps_reg_02 and ps_reg_03 (0.7)\n",
        "* ps_car_12 and ps_car_13 (0.67)\n",
        "* ps_Car_12 and ps_car_14 (0.58)\n",
        "* ps_car_13 and ps_car_15 (0.67)\n",
        "\n",
        "Seaborn has some handy plots to visualize the (linear) relationship between variables.\n",
        "- Seaborn은 변수 사이의 관계를 보여주는 간단한 차트가 있다.\n",
        "\n",
        "We could use a pairplot to visualize the relationship between the variables.\n",
        "- 우리는 pairplot을 시각화를 위해 사용할 수 있고 이는 변수의 관계이다.\n",
        "\n",
        "because the heatmap already showed the limited number of correlated variables, we'll look at each of the highly correlated variables separately.\n",
        "-  heatmap은 이미 한계의 변수의 관계들을 보여준다. 우리는 높은 관계를 가진 변수들을 분리해서 보려고 한다.\n",
        "\n"
      ]
    },
    {
      "cell_type": "code",
      "metadata": {
        "id": "9lj9DhQFLTDt"
      },
      "source": [
        "s = train.sample(frac = 0.1)"
      ],
      "execution_count": 39,
      "outputs": []
    },
    {
      "cell_type": "markdown",
      "metadata": {
        "id": "eaRi24ggLVvM"
      },
      "source": [
        "### ps_reg_02 and ps_reg_03\n",
        "As the regression line shows, there is a linear relationship between these variables.\n",
        "- 회기 선에서 보이듯이, 이 변수들은 선형 관계가 있다.\n",
        "\n",
        "Thanks to the hue parameter we can see that the regression lines for target  = 0  and target = 1 are the same\n",
        "- hue 덕분에 우리는 회귀 선 0, 1이 같다는 것을 알 수 있다.\n",
        "\n"
      ]
    },
    {
      "cell_type": "code",
      "metadata": {
        "colab": {
          "base_uri": "https://localhost:8080/",
          "height": 383
        },
        "id": "i-_8QYnZL6_D",
        "outputId": "cba8164a-a1eb-4dc4-c65b-5bbc440d4581"
      },
      "source": [
        "sns.lmplot(x = 'ps_reg_02', y = 'ps_reg_03', data = s, hue = 'target', palette = 'Set1', \n",
        "           scatter_kws = {'alpha' : 0.3})\n",
        "plt.show()"
      ],
      "execution_count": 40,
      "outputs": [
        {
          "output_type": "display_data",
          "data": {
            "image/png": "[encoded data removed]",
            "text/plain": [
              "<Figure size 402.375x360 with 1 Axes>"
            ]
          },
          "metadata": {
            "tags": [],
            "needs_background": "light"
          }
        }
      ]
    },
    {
      "cell_type": "markdown",
      "metadata": {
        "id": "zzPsg3q9MGRY"
      },
      "source": [
        "### ps_car_12 and ps_car_13\n"
      ]
    },
    {
      "cell_type": "code",
      "metadata": {
        "colab": {
          "base_uri": "https://localhost:8080/",
          "height": 383
        },
        "id": "k3PBL0TLMMGr",
        "outputId": "59732114-1f07-423b-aea8-7793bbce407e"
      },
      "source": [
        "sns.lmplot(x = 'ps_car_12', y = 'ps_car_13', data = s, hue = 'target', palette = 'Set1',\n",
        "           scatter_kws = {'alpha' : 0.3})\n",
        "plt.show()"
      ],
      "execution_count": 41,
      "outputs": [
        {
          "output_type": "display_data",
          "data": {
            "image/png": "[encoded data removed]",
            "text/plain": [
              "<Figure size 402.375x360 with 1 Axes>"
            ]
          },
          "metadata": {
            "tags": [],
            "needs_background": "light"
          }
        }
      ]
    },
    {
      "cell_type": "markdown",
      "metadata": {
        "id": "kiiFDz7-MWZ5"
      },
      "source": [
        "### ps_car_13 and ps_car_15\n"
      ]
    },
    {
      "cell_type": "code",
      "metadata": {
        "colab": {
          "base_uri": "https://localhost:8080/",
          "height": 383
        },
        "id": "cZBMhVlCMenT",
        "outputId": "eca6a04e-387a-43a4-b7d4-0f490a730bee"
      },
      "source": [
        "sns.lmplot(x = 'ps_car_15', y = 'ps_car_13', data = s, hue = 'target',\n",
        "           palette = 'Set1', scatter_kws = {'alpha' : 0.3})\n",
        "plt.show()"
      ],
      "execution_count": 42,
      "outputs": [
        {
          "output_type": "display_data",
          "data": {
            "image/png": "[encoded data removed]",
            "text/plain": [
              "<Figure size 402.375x360 with 1 Axes>"
            ]
          },
          "metadata": {
            "tags": [],
            "needs_background": "light"
          }
        }
      ]
    },
    {
      "cell_type": "markdown",
      "metadata": {
        "id": "FiYFK-xVMonG"
      },
      "source": [
        "Alright, so now what? How can we decide which of the correlated variables to keep?\n",
        "We could perform Principal Component Analysis(PCA) on the variables to reduce the dimensions. In the AllState Claims Severity Competition I mande this kernel to do that.\n",
        "But as the number of correlated variables is rather low, we will let the model do the heavy_lifting.\n",
        "- 어떻게 어떤 변수의 관계를 남겨야할지 결정할 수 있을까?\n",
        "- 우리는 PCA를 수행해야한다. variable 차원을 줄이기 위해서.\n",
        "\n",
        "\n",
        "- column 10 - 11개이면 충분이 데이터를 표현할 수 있다.\n"
      ]
    },
    {
      "cell_type": "markdown",
      "metadata": {
        "id": "aw18FuNSu7WY"
      },
      "source": [
        "데이터가 정말 선형적으로 되어있는지 아닌지 직접 그려서 확인해봐야 한다."
      ]
    },
    {
      "cell_type": "markdown",
      "metadata": {
        "id": "ZpFJU3kYN-hr"
      },
      "source": [
        "## Checking the correlations between ordinal variables"
      ]
    },
    {
      "cell_type": "code",
      "metadata": {
        "colab": {
          "base_uri": "https://localhost:8080/",
          "height": 538
        },
        "id": "NmmPZ71WOEXw",
        "outputId": "64227fcd-4d42-45dc-9825-80b66346a1d0"
      },
      "source": [
        "v = meta[(meta.level == 'ordinal') & (meta.keep)].index\n",
        "corr_heatmap(v)"
      ],
      "execution_count": 43,
      "outputs": [
        {
          "output_type": "display_data",
          "data": {
            "image/png": "[encoded data removed]",
            "text/plain": [
              "<Figure size 720x720 with 2 Axes>"
            ]
          },
          "metadata": {
            "tags": [],
            "needs_background": "light"
          }
        }
      ]
    },
    {
      "cell_type": "markdown",
      "metadata": {
        "id": "rCGTpJBkOJuc"
      },
      "source": [
        "For the ordinal variables we do not see many correlations. We could, on the other hand, look at how the distribution are when grouping by the target value.\n",
        "- 순서 변수는 많은 상관관계를 판단할 수 없다. 반면에 얼마나 target 값을 그룹했을 때 분포되어있는지 알 수 있다."
      ]
    },
    {
      "cell_type": "markdown",
      "metadata": {
        "id": "qgwl5HJ4OmXM"
      },
      "source": [
        "# Feature engineering"
      ]
    },
    {
      "cell_type": "markdown",
      "metadata": {
        "id": "nSnag7tyrzie"
      },
      "source": [
        "## Creating dummy variables\n",
        "\n",
        "The values of the categorical variables do not represent any order or magnitude. For instance, category 2 is not twice the value of category 1. Therfore we can create dummy variables to deal with that. We drop the first dummy variable as this information can be derived from the other dummy variables generated for the categories of the original variable.\n",
        "\n",
        "- 분류 변수의 값은 어떤 순서나 규모를 보여주지 않는다. 예를 들어, category 2는 category 1의 두배가 아니다. 그러므로 우리는 dummy 값을 만들어야한다. 우리는 첫번째 dummy 값을 없앤다. 원래의 값의 분류를 위해 이 정보가 다른 dummy 값의 생성을 이끌수 있기 때문에"
      ]
    },
    {
      "cell_type": "code",
      "metadata": {
        "colab": {
          "base_uri": "https://localhost:8080/"
        },
        "id": "r0vPOsRjtTRe",
        "outputId": "0b37eb73-14f9-41e4-c275-6629dced8c51"
      },
      "source": [
        "v = meta[(meta.level == 'nominal') & (meta.keep)].index\n",
        "print('Before dummification we have {} variables in train'.format(train.shape[1]))\n",
        "train = pd.get_dummies(train, columns = v, drop_first = True)\n",
        "print('After dummification we have {} variables in train'.format(train.shape[1]))"
      ],
      "execution_count": 44,
      "outputs": [
        {
          "output_type": "stream",
          "text": [
            "Before dummification we have 57 variables in train\n",
            "After dummification we have 211 variables in train\n"
          ],
          "name": "stdout"
        }
      ]
    },
    {
      "cell_type": "markdown",
      "metadata": {
        "id": "nqIBtnG4tqk2"
      },
      "source": [
        "So, creating dummy variables adds 52 variables to the training set.\n",
        "- 우리는 52개의 분류를 훈련 셋에 추가했다."
      ]
    },
    {
      "cell_type": "markdown",
      "metadata": {
        "id": "2Rl3lSypt2B-"
      },
      "source": [
        "## Creating interaction variables"
      ]
    },
    {
      "cell_type": "code",
      "metadata": {
        "colab": {
          "base_uri": "https://localhost:8080/"
        },
        "id": "ATtBwqGHt7NA",
        "outputId": "dc50c95b-698e-49a9-e011-60297a280c1f"
      },
      "source": [
        "v = meta[(meta.level == 'interval') & (meta.keep)].index\n",
        "poly = PolynomialFeatures(degree = 2, interaction_only = False, include_bias = False)\n",
        "interactions = pd.DataFrame(data = poly.fit_transform(train[v]), columns = poly.get_feature_names(v))\n",
        "interactions.drop(v, axis = 1, inplace = True)\n",
        "\n",
        "print('Before creating interactionsd we have {} variables in train'.format(train.shape[1]))\n",
        "train = pd.concat([train, interactions], axis = 1)\n",
        "\n",
        "print('After creating interactions we have {} variables in train'.format(train.shape[1]))"
      ],
      "execution_count": 45,
      "outputs": [
        {
          "output_type": "stream",
          "text": [
            "Before creating interactionsd we have 211 variables in train\n",
            "After creating interactions we have 266 variables in train\n"
          ],
          "name": "stdout"
        }
      ]
    },
    {
      "cell_type": "markdown",
      "metadata": {
        "id": "RJ7Yp5RdurnB"
      },
      "source": [
        "This adds extra interaction variables to the train data.\n",
        "- 이것은 훈련 데이터에 다른 상호관계를 추가했다.\n",
        "\n",
        "Thanks to the get_feature_names method we can assign column names to these new variables.\n",
        "- get_feature_names 메소드로 우리는 이러한 새로운 변수를 할당할 수 있었다."
      ]
    },
    {
      "cell_type": "markdown",
      "metadata": {
        "id": "jEFMvZ7DvFgK"
      },
      "source": [
        "# Feature selection"
      ]
    },
    {
      "cell_type": "markdown",
      "metadata": {
        "id": "NnsSn4emvJOu"
      },
      "source": [
        "## Removing features with low or zero variance\n",
        "\n",
        "Personally, I prefer to let the classifier algorithm chose which features to keep. \n",
        "- 개인적으로 나는 어떤 특징을 유지할지 고르는 분류 알고리즘을 선호한다.\n",
        "\n",
        "But there is one thing that we can do ourselves.\n",
        "- 그러나 한가지 우리가 해야하는 것이 있다.\n",
        "\n",
        "This is removing features with no or a very low variances.\n",
        "- 이것은 no이거나 아주 낮은 변수의 특징을 삭제하는 것이다.\n",
        "\n",
        "Sklearn has a handy method to do that: VarianceThreshold.\n",
        "- Sklearn은 이것을 하는 간단한 메소드가 있다. : VarianceThreshold.\n",
        "\n",
        "By default it removes features with zero variance.\n",
        "기본값으로 0 변수를 가진 특징을 삭제한다.\n",
        "\n",
        "This will not be applicable for this competition as we saw there are no zero-variance variables in the previous steps.\n",
        "- 이것이 이번 경연에 적용할 수 없다. 왜냐하면 우리는 이전 단계에서 0 값이 없다는 것을 보았기때문이다.\n",
        "\n",
        "But if we would remove features with less than 1% variance, we would remove 31 variables.\n",
        "- 그러나 적어도 1% 변수를 가진 특징을 삭제한다면 우리는 31 변수를 지워야한다."
      ]
    },
    {
      "cell_type": "code",
      "metadata": {
        "colab": {
          "base_uri": "https://localhost:8080/"
        },
        "id": "_XRbiEMmxvoF",
        "outputId": "663d8943-7218-4c2a-f51b-f069e915745c"
      },
      "source": [
        "selector = VarianceThreshold(threshold=0.01)\n",
        "selector.fit(train.drop(['id', 'target'], axis = 1))\n",
        "\n",
        "f = np.vectorize(lambda x : not x)\n",
        "\n",
        "v = train.drop(['id', 'target'], axis = 1).columns[f(selector.get_support())]\n",
        "\n",
        "print('{} variables have too low variance.'.format(len(v)))\n",
        "print('These variables are {}'.format(list(v)))\n"
      ],
      "execution_count": 46,
      "outputs": [
        {
          "output_type": "stream",
          "text": [
            "102 variables have too low variance.\n",
            "These variables are ['ps_ind_10_bin', 'ps_ind_11_bin', 'ps_ind_12_bin', 'ps_ind_13_bin', 'ps_car_12', 'ps_car_14', 'ps_ind_05_cat_2', 'ps_ind_05_cat_5', 'ps_car_01_cat_1', 'ps_car_01_cat_2', 'ps_car_04_cat_3', 'ps_car_04_cat_4', 'ps_car_04_cat_5', 'ps_car_04_cat_6', 'ps_car_04_cat_7', 'ps_car_06_cat_2', 'ps_car_06_cat_5', 'ps_car_06_cat_8', 'ps_car_06_cat_12', 'ps_car_06_cat_16', 'ps_car_06_cat_17', 'ps_car_09_cat_4', 'ps_car_10_cat_1', 'ps_car_10_cat_2', 'ps_car_11_cat_2', 'ps_car_11_cat_3', 'ps_car_11_cat_4', 'ps_car_11_cat_6', 'ps_car_11_cat_7', 'ps_car_11_cat_8', 'ps_car_11_cat_9', 'ps_car_11_cat_13', 'ps_car_11_cat_14', 'ps_car_11_cat_15', 'ps_car_11_cat_17', 'ps_car_11_cat_18', 'ps_car_11_cat_19', 'ps_car_11_cat_20', 'ps_car_11_cat_21', 'ps_car_11_cat_23', 'ps_car_11_cat_24', 'ps_car_11_cat_25', 'ps_car_11_cat_26', 'ps_car_11_cat_29', 'ps_car_11_cat_30', 'ps_car_11_cat_31', 'ps_car_11_cat_33', 'ps_car_11_cat_34', 'ps_car_11_cat_35', 'ps_car_11_cat_36', 'ps_car_11_cat_37', 'ps_car_11_cat_40', 'ps_car_11_cat_41', 'ps_car_11_cat_42', 'ps_car_11_cat_43', 'ps_car_11_cat_44', 'ps_car_11_cat_45', 'ps_car_11_cat_46', 'ps_car_11_cat_47', 'ps_car_11_cat_48', 'ps_car_11_cat_49', 'ps_car_11_cat_50', 'ps_car_11_cat_52', 'ps_car_11_cat_53', 'ps_car_11_cat_54', 'ps_car_11_cat_55', 'ps_car_11_cat_56', 'ps_car_11_cat_57', 'ps_car_11_cat_58', 'ps_car_11_cat_59', 'ps_car_11_cat_61', 'ps_car_11_cat_62', 'ps_car_11_cat_63', 'ps_car_11_cat_66', 'ps_car_11_cat_69', 'ps_car_11_cat_71', 'ps_car_11_cat_72', 'ps_car_11_cat_73', 'ps_car_11_cat_74', 'ps_car_11_cat_75', 'ps_car_11_cat_76', 'ps_car_11_cat_77', 'ps_car_11_cat_79', 'ps_car_11_cat_80', 'ps_car_11_cat_81', 'ps_car_11_cat_84', 'ps_car_11_cat_86', 'ps_car_11_cat_88', 'ps_car_11_cat_89', 'ps_car_11_cat_90', 'ps_car_11_cat_91', 'ps_car_11_cat_93', 'ps_car_11_cat_94', 'ps_car_11_cat_95', 'ps_car_11_cat_96', 'ps_car_11_cat_97', 'ps_car_11_cat_98', 'ps_car_11_cat_100', 'ps_car_11_cat_102', 'ps_car_12^2', 'ps_car_12 ps_car_14', 'ps_car_14^2']\n"
          ],
          "name": "stdout"
        }
      ]
    },
    {
      "cell_type": "markdown",
      "metadata": {
        "id": "BLttBR9fyOix"
      },
      "source": [
        "We would lose rather many variables if we would select based on variable.\n",
        "- 우리는 변수에 기반하여 많은 변수 중 선택하는 것 대신에 버린다.\n",
        "\n",
        "But because we do not have so many vaiables, we'll let classifier chose.\n",
        "- 그러나 우리는 많은 변수가 없기 때문에, 우리는 분류기를 고를 것이다.\n",
        "\n",
        "For data sets with many more variables this could reduce the processing time.\n",
        "- 많은 변수를 가진 데이터 셋을 위해서 이것은 진행 시간을 줄일 수 있다.\n",
        "\n",
        "Sklearn alse comes with other feature selection methods.\n",
        "-Sklearn은 또한 다른 특징 선택 방법에 관련이 있다.\n",
        "\n",
        "SelectFromModel in which you let another classifier select the best features and continue with these.\n",
        "- 또다른 분류기를 취하는 SelectFromModel은 최고의 특징을 고르고 이것을 계속한다.\n",
        "\n",
        "Below I'll show you how to do that with a Random Forest.\n",
        "- 아래에 나는 Random Forest로 어떻게 되는지 보여줄 것이다."
      ]
    },
    {
      "cell_type": "markdown",
      "metadata": {
        "id": "4FLPBw_XO93G"
      },
      "source": [
        "## Selecting features with a Random Forest and SeletFromModel\n",
        "\n",
        "Here we'll base feature selection on the feature importances of a random forest. \n",
        "- 여기 우리는 특징 선택을 random forest의 특징 중요성에 기반할 것이다.\n",
        "\n",
        "With Sklearn's SelectFromModel you can then specify how many variables you want to keep.\n",
        "- SelectFromModel로 너는 얼마나 많은 변수를 너가 유지할지 구체화할 수 있다.\n",
        "\n",
        "You can set a threshold on the level of feature importance manually. \n",
        "- 너는 임계점을 설정할 수 있다. 특징 중요성을 수동으로\n",
        "\n",
        "But we'll simply select the top 50% best variables.\n",
        "- 그러나 우리는 단순하게 상위 50% 변수를 선택할 것이다.\n"
      ]
    },
    {
      "cell_type": "code",
      "metadata": {
        "colab": {
          "base_uri": "https://localhost:8080/",
          "height": 203
        },
        "id": "NTEvKCmEQ6bm",
        "outputId": "b8380bb4-eb41-4786-aead-5369fda7c32e"
      },
      "source": [
        "x_train = train.drop(['id','target'], axis = 1)\n",
        "y_train = train['target']\n",
        "\n",
        "feat_labels = x_train.columns\n",
        "\n",
        "rf = RandomForestClassifier(n_estimators=1000, random_state=0, n_jobs= -1)\n",
        "# n_jobs = -1 : 병렬 처리를 최대로 하겠다.\n",
        "\n",
        "rf.fit(x_train, y_train)\n",
        "importances = rf.feature_importances_\n",
        "\n",
        "indices = np.argsort(rf.feature_importances_)[::-1]\n",
        "\n"
      ],
      "execution_count": 47,
      "outputs": [
        {
          "output_type": "error",
          "ename": "NameError",
          "evalue": "ignored",
          "traceback": [
            "\u001b[0;31m---------------------------------------------------------------------------\u001b[0m",
            "\u001b[0;31mNameError\u001b[0m                                 Traceback (most recent call last)",
            "\u001b[0;32m<ipython-input-47-8eb00044f9e4>\u001b[0m in \u001b[0;36m<module>\u001b[0;34m()\u001b[0m\n\u001b[1;32m     12\u001b[0m \u001b[0;34m\u001b[0m\u001b[0m\n\u001b[1;32m     13\u001b[0m \u001b[0;32mfor\u001b[0m \u001b[0mf\u001b[0m \u001b[0;32min\u001b[0m \u001b[0mrange\u001b[0m\u001b[0;34m(\u001b[0m\u001b[0mx_train\u001b[0m\u001b[0;34m.\u001b[0m\u001b[0mshape\u001b[0m\u001b[0;34m[\u001b[0m\u001b[0;36m1\u001b[0m\u001b[0;34m]\u001b[0m\u001b[0;34m)\u001b[0m\u001b[0;34m:\u001b[0m\u001b[0;34m\u001b[0m\u001b[0;34m\u001b[0m\u001b[0m\n\u001b[0;32m---> 14\u001b[0;31m   \u001b[0mprint\u001b[0m\u001b[0;34m(\u001b[0m\u001b[0;34m\"%2) %-*s %f\"\u001b[0m \u001b[0;34m%\u001b[0m \u001b[0;34m(\u001b[0m\u001b[0mf\u001b[0m\u001b[0;34m+\u001b[0m\u001b[0;36m1\u001b[0m\u001b[0;34m,\u001b[0m \u001b[0;36m30\u001b[0m\u001b[0;34m,\u001b[0m \u001b[0mfeat_lables\u001b[0m\u001b[0;34m[\u001b[0m\u001b[0mindices\u001b[0m\u001b[0;34m[\u001b[0m\u001b[0mf\u001b[0m\u001b[0;34m]\u001b[0m\u001b[0;34m]\u001b[0m\u001b[0;34m,\u001b[0m \u001b[0mimportances\u001b[0m\u001b[0;34m[\u001b[0m\u001b[0mindices\u001b[0m\u001b[0;34m[\u001b[0m\u001b[0mf\u001b[0m\u001b[0;34m]\u001b[0m\u001b[0;34m]\u001b[0m\u001b[0;34m)\u001b[0m\u001b[0;34m)\u001b[0m\u001b[0;34m\u001b[0m\u001b[0;34m\u001b[0m\u001b[0m\n\u001b[0m",
            "\u001b[0;31mNameError\u001b[0m: name 'feat_lables' is not defined"
          ]
        }
      ]
    },
    {
      "cell_type": "code",
      "metadata": {
        "colab": {
          "base_uri": "https://localhost:8080/"
        },
        "id": "SxLNKYvO9985",
        "outputId": "1dd4eef6-142c-406a-fbae-5f07425a9845"
      },
      "source": [
        "for f in range(x_train.shape[1]):\n",
        "    print(\"%2d) %-*s %f\" % (f + 1, 30,feat_labels[indices[f]], importances[indices[f]]))"
      ],
      "execution_count": 50,
      "outputs": [
        {
          "output_type": "stream",
          "text": [
            " 1) ps_car_13                      0.016867\n",
            " 2) ps_car_13^2                    0.016865\n",
            " 3) ps_reg_03 ps_car_13            0.016614\n",
            " 4) ps_car_12 ps_car_13            0.016590\n",
            " 5) ps_car_13 ps_car_14            0.016559\n",
            " 6) ps_reg_01 ps_car_13            0.016314\n",
            " 7) ps_car_13 ps_car_15            0.016221\n",
            " 8) ps_reg_03 ps_car_14            0.015711\n",
            " 9) ps_reg_03 ps_car_12            0.015127\n",
            "10) ps_reg_03 ps_car_15            0.014793\n",
            "11) ps_car_13 ps_calc_01           0.014403\n",
            "12) ps_car_13 ps_calc_02           0.014388\n",
            "13) ps_car_14 ps_car_15            0.014368\n",
            "14) ps_car_13 ps_calc_03           0.014362\n",
            "15) ps_reg_02 ps_car_13            0.014297\n",
            "16) ps_reg_01 ps_reg_03            0.014260\n",
            "17) ps_reg_03                      0.013993\n",
            "18) ps_reg_03^2                    0.013962\n",
            "19) ps_reg_01 ps_car_14            0.013875\n",
            "20) ps_reg_03 ps_calc_03           0.013505\n",
            "21) ps_reg_03 ps_calc_02           0.013448\n",
            "22) ps_reg_03 ps_calc_01           0.013430\n",
            "23) ps_car_14 ps_calc_02           0.013304\n",
            "24) ps_car_14 ps_calc_01           0.013231\n",
            "25) ps_car_14 ps_calc_03           0.013226\n",
            "26) ps_calc_10                     0.012971\n",
            "27) ps_calc_14                     0.012714\n",
            "28) ps_car_12 ps_car_14            0.012533\n",
            "29) ps_ind_03                      0.012452\n",
            "30) ps_car_14                      0.012385\n",
            "31) ps_reg_02 ps_car_14            0.012373\n",
            "32) ps_reg_02 ps_reg_03            0.012304\n",
            "33) ps_car_14^2                    0.012280\n",
            "34) ps_calc_11                     0.012101\n",
            "35) ps_ind_15                      0.011676\n",
            "36) ps_car_15 ps_calc_02           0.010737\n",
            "37) ps_car_15 ps_calc_03           0.010725\n",
            "38) ps_car_15 ps_calc_01           0.010713\n",
            "39) ps_car_12 ps_car_15            0.010587\n",
            "40) ps_car_12 ps_calc_01           0.010280\n",
            "41) ps_car_12 ps_calc_03           0.010271\n",
            "42) ps_car_12 ps_calc_02           0.010132\n",
            "43) ps_reg_02 ps_car_15            0.010117\n",
            "44) ps_calc_13                     0.010017\n",
            "45) ps_reg_01 ps_car_15            0.010000\n",
            "46) ps_calc_02 ps_calc_03          0.009977\n",
            "47) ps_calc_01 ps_calc_03          0.009937\n",
            "48) ps_calc_01 ps_calc_02          0.009917\n",
            "49) ps_calc_07                     0.009462\n",
            "50) ps_calc_08                     0.009445\n",
            "51) ps_reg_01 ps_car_12            0.009255\n",
            "52) ps_reg_02 ps_calc_01           0.009195\n",
            "53) ps_reg_02 ps_calc_03           0.009189\n",
            "54) ps_reg_02 ps_car_12            0.009140\n",
            "55) ps_reg_02 ps_calc_02           0.009112\n",
            "56) ps_reg_01 ps_calc_02           0.009088\n",
            "57) ps_reg_01 ps_calc_03           0.009075\n",
            "58) ps_reg_01 ps_calc_01           0.009002\n",
            "59) ps_calc_06                     0.008769\n",
            "60) ps_calc_09                     0.008480\n",
            "61) ps_ind_01                      0.008361\n",
            "62) ps_calc_05                     0.008057\n",
            "63) ps_reg_01 ps_reg_02            0.008027\n",
            "64) ps_calc_04                     0.007918\n",
            "65) ps_calc_12                     0.007775\n",
            "66) ps_calc_03                     0.006248\n",
            "67) ps_calc_03^2                   0.006233\n",
            "68) ps_calc_01^2                   0.006193\n",
            "69) ps_calc_02                     0.006179\n",
            "70) ps_calc_01                     0.006179\n",
            "71) ps_car_15                      0.006170\n",
            "72) ps_calc_02^2                   0.006167\n",
            "73) ps_car_15^2                    0.006158\n",
            "74) ps_car_12^2                    0.005295\n",
            "75) ps_car_12                      0.005271\n",
            "76) ps_reg_02^2                    0.005177\n",
            "77) ps_reg_02                      0.005174\n",
            "78) ps_reg_01^2                    0.004304\n",
            "79) ps_reg_01                      0.004295\n",
            "80) ps_car_11                      0.003764\n",
            "81) ps_ind_05_cat_0                0.003495\n",
            "82) ps_ind_17_bin                  0.002811\n",
            "83) ps_calc_17_bin                 0.002723\n",
            "84) ps_calc_16_bin                 0.002644\n",
            "85) ps_calc_19_bin                 0.002583\n",
            "86) ps_calc_18_bin                 0.002519\n",
            "87) ps_ind_16_bin                  0.002444\n",
            "88) ps_ind_04_cat_1                0.002435\n",
            "89) ps_ind_04_cat_0                0.002419\n",
            "90) ps_car_01_cat_11               0.002408\n",
            "91) ps_car_09_cat_2                0.002348\n",
            "92) ps_ind_07_bin                  0.002308\n",
            "93) ps_ind_02_cat_1                0.002284\n",
            "94) ps_car_09_cat_0                0.002150\n",
            "95) ps_car_01_cat_7                0.002117\n",
            "96) ps_calc_20_bin                 0.002084\n",
            "97) ps_ind_02_cat_2                0.002081\n",
            "98) ps_ind_06_bin                  0.002052\n",
            "99) ps_car_07_cat_1                0.001955\n",
            "100) ps_calc_15_bin                 0.001953\n",
            "101) ps_ind_08_bin                  0.001910\n",
            "102) ps_car_06_cat_1                0.001850\n",
            "103) ps_car_09_cat_1                0.001723\n",
            "104) ps_car_06_cat_11               0.001722\n",
            "105) ps_ind_18_bin                  0.001717\n",
            "106) ps_ind_09_bin                  0.001715\n",
            "107) ps_car_11_cat_104              0.001584\n",
            "108) ps_ind_05_cat_6                0.001544\n",
            "109) ps_car_01_cat_10               0.001538\n",
            "110) ps_car_01_cat_9                0.001505\n",
            "111) ps_car_01_cat_6                0.001490\n",
            "112) ps_car_01_cat_4                0.001439\n",
            "113) ps_car_06_cat_14               0.001423\n",
            "114) ps_ind_02_cat_3                0.001366\n",
            "115) ps_car_02_cat_0                0.001349\n",
            "116) ps_car_07_cat_0                0.001345\n",
            "117) ps_car_08_cat_1                0.001344\n",
            "118) ps_car_02_cat_1                0.001332\n",
            "119) ps_car_01_cat_8                0.001244\n",
            "120) ps_ind_05_cat_4                0.001214\n",
            "121) ps_car_06_cat_4                0.001118\n",
            "122) ps_ind_02_cat_4                0.001076\n",
            "123) ps_car_01_cat_5                0.001074\n",
            "124) ps_car_04_cat_2                0.001057\n",
            "125) ps_car_04_cat_1                0.001039\n",
            "126) ps_car_06_cat_10               0.001027\n",
            "127) ps_ind_05_cat_2                0.001023\n",
            "128) ps_car_06_cat_6                0.001015\n",
            "129) ps_car_06_cat_7                0.000912\n",
            "130) ps_car_06_cat_9                0.000902\n",
            "131) ps_car_06_cat_15               0.000873\n",
            "132) ps_car_01_cat_3                0.000835\n",
            "133) ps_car_09_cat_3                0.000833\n",
            "134) ps_ind_14                      0.000803\n",
            "135) ps_car_01_cat_0                0.000797\n",
            "136) ps_ind_05_cat_1                0.000755\n",
            "137) ps_car_11_cat_87               0.000725\n",
            "138) ps_car_11_cat_28               0.000724\n",
            "139) ps_car_11_cat_64               0.000720\n",
            "140) ps_car_11_cat_70               0.000701\n",
            "141) ps_car_11_cat_31               0.000692\n",
            "142) ps_ind_12_bin                  0.000651\n",
            "143) ps_car_10_cat_1                0.000651\n",
            "144) ps_ind_05_cat_3                0.000649\n",
            "145) ps_car_06_cat_3                0.000646\n",
            "146) ps_car_11_cat_46               0.000644\n",
            "147) ps_car_11_cat_12               0.000643\n",
            "148) ps_car_11_cat_101              0.000639\n",
            "149) ps_car_11_cat_40               0.000623\n",
            "150) ps_car_11_cat_103              0.000607\n",
            "151) ps_car_11_cat_78               0.000595\n",
            "152) ps_car_11_cat_68               0.000595\n",
            "153) ps_car_11_cat_5                0.000588\n",
            "154) ps_car_11_cat_92               0.000582\n",
            "155) ps_car_09_cat_4                0.000567\n",
            "156) ps_car_11_cat_85               0.000562\n",
            "157) ps_car_11_cat_83               0.000552\n",
            "158) ps_car_11_cat_74               0.000551\n",
            "159) ps_car_06_cat_17               0.000548\n",
            "160) ps_car_11_cat_90               0.000548\n",
            "161) ps_car_11_cat_82               0.000545\n",
            "162) ps_car_11_cat_34               0.000543\n",
            "163) ps_car_04_cat_8                0.000537\n",
            "164) ps_car_11_cat_25               0.000517\n",
            "165) ps_car_11_cat_32               0.000515\n",
            "166) ps_car_01_cat_2                0.000505\n",
            "167) ps_car_11_cat_27               0.000504\n",
            "168) ps_car_11_cat_80               0.000504\n",
            "169) ps_car_11_cat_17               0.000501\n",
            "170) ps_car_06_cat_16               0.000496\n",
            "171) ps_car_11_cat_49               0.000492\n",
            "172) ps_car_11_cat_65               0.000490\n",
            "173) ps_car_11_cat_10               0.000484\n",
            "174) ps_car_11_cat_29               0.000481\n",
            "175) ps_car_11_cat_22               0.000479\n",
            "176) ps_car_11_cat_100              0.000470\n",
            "177) ps_car_11_cat_37               0.000464\n",
            "178) ps_car_11_cat_99               0.000463\n",
            "179) ps_car_04_cat_9                0.000462\n",
            "180) ps_car_11_cat_38               0.000460\n",
            "181) ps_car_11_cat_88               0.000457\n",
            "182) ps_car_06_cat_12               0.000454\n",
            "183) ps_car_11_cat_42               0.000444\n",
            "184) ps_car_11_cat_51               0.000440\n",
            "185) ps_car_11_cat_16               0.000432\n",
            "186) ps_car_11_cat_93               0.000423\n",
            "187) ps_car_11_cat_86               0.000415\n",
            "188) ps_car_11_cat_84               0.000407\n",
            "189) ps_car_11_cat_67               0.000401\n",
            "190) ps_car_11_cat_48               0.000396\n",
            "191) ps_car_11_cat_98               0.000392\n",
            "192) ps_car_11_cat_89               0.000390\n",
            "193) ps_car_11_cat_50               0.000390\n",
            "194) ps_car_11_cat_11               0.000389\n",
            "195) ps_car_11_cat_95               0.000387\n",
            "196) ps_car_06_cat_13               0.000372\n",
            "197) ps_car_11_cat_60               0.000364\n",
            "198) ps_car_11_cat_62               0.000364\n",
            "199) ps_car_11_cat_94               0.000364\n",
            "200) ps_car_01_cat_1                0.000360\n",
            "201) ps_car_11_cat_21               0.000359\n",
            "202) ps_car_11_cat_7                0.000356\n",
            "203) ps_car_11_cat_77               0.000338\n",
            "204) ps_car_11_cat_72               0.000326\n",
            "205) ps_car_11_cat_36               0.000323\n",
            "206) ps_car_11_cat_52               0.000322\n",
            "207) ps_car_11_cat_55               0.000318\n",
            "208) ps_ind_05_cat_5                0.000308\n",
            "209) ps_car_11_cat_97               0.000307\n",
            "210) ps_car_11_cat_14               0.000305\n",
            "211) ps_car_11_cat_57               0.000302\n",
            "212) ps_car_11_cat_53               0.000299\n",
            "213) ps_car_11_cat_13               0.000298\n",
            "214) ps_car_11_cat_23               0.000298\n",
            "215) ps_car_11_cat_26               0.000294\n",
            "216) ps_car_11_cat_39               0.000291\n",
            "217) ps_car_11_cat_44               0.000290\n",
            "218) ps_car_11_cat_73               0.000289\n",
            "219) ps_car_11_cat_91               0.000289\n",
            "220) ps_car_11_cat_19               0.000288\n",
            "221) ps_car_11_cat_3                0.000287\n",
            "222) ps_car_06_cat_5                0.000281\n",
            "223) ps_car_11_cat_33               0.000280\n",
            "224) ps_car_11_cat_66               0.000279\n",
            "225) ps_car_11_cat_63               0.000276\n",
            "226) ps_car_11_cat_8                0.000268\n",
            "227) ps_car_11_cat_54               0.000264\n",
            "228) ps_car_11_cat_15               0.000263\n",
            "229) ps_car_11_cat_43               0.000261\n",
            "230) ps_car_11_cat_75               0.000260\n",
            "231) ps_car_11_cat_79               0.000259\n",
            "232) ps_car_11_cat_9                0.000249\n",
            "233) ps_car_11_cat_102              0.000248\n",
            "234) ps_car_11_cat_96               0.000243\n",
            "235) ps_car_11_cat_45               0.000241\n",
            "236) ps_car_11_cat_61               0.000238\n",
            "237) ps_car_11_cat_76               0.000232\n",
            "238) ps_car_11_cat_2                0.000227\n",
            "239) ps_car_11_cat_69               0.000215\n",
            "240) ps_car_11_cat_47               0.000214\n",
            "241) ps_car_11_cat_20               0.000210\n",
            "242) ps_car_11_cat_6                0.000208\n",
            "243) ps_car_04_cat_6                0.000203\n",
            "244) ps_car_11_cat_41               0.000203\n",
            "245) ps_ind_11_bin                  0.000199\n",
            "246) ps_car_11_cat_59               0.000197\n",
            "247) ps_car_11_cat_30               0.000186\n",
            "248) ps_car_11_cat_24               0.000180\n",
            "249) ps_car_11_cat_4                0.000168\n",
            "250) ps_car_11_cat_35               0.000155\n",
            "251) ps_ind_13_bin                  0.000147\n",
            "252) ps_car_04_cat_3                0.000146\n",
            "253) ps_car_11_cat_71               0.000144\n",
            "254) ps_car_06_cat_2                0.000138\n",
            "255) ps_car_11_cat_81               0.000129\n",
            "256) ps_car_11_cat_56               0.000127\n",
            "257) ps_car_11_cat_18               0.000123\n",
            "258) ps_car_04_cat_5                0.000097\n",
            "259) ps_car_06_cat_8                0.000094\n",
            "260) ps_car_11_cat_58               0.000092\n",
            "261) ps_car_04_cat_7                0.000075\n",
            "262) ps_ind_10_bin                  0.000068\n",
            "263) ps_car_10_cat_2                0.000060\n",
            "264) ps_car_04_cat_4                0.000038\n"
          ],
          "name": "stdout"
        }
      ]
    },
    {
      "cell_type": "markdown",
      "metadata": {
        "id": "vX50GMMSRlpL"
      },
      "source": [
        "With SelectFromModel we can specify which prefit classifier to use and what the threshold is for the feature importances.\n",
        "- SelectFromModel로 우리는 어떤 분류기를 사용할지 명시할 수 있고 특징 중요성을 위해 임계점이 얼마인지 명시할 수 있다.\n",
        "\n",
        "With the get_support method we can then limit the number of variables in the train data.\n",
        "get_support_method로 우리는 훈련 데이터에서 변수의 개수를 제한할 수 있다."
      ]
    },
    {
      "cell_type": "code",
      "metadata": {
        "id": "1TBiDw_uS5D6",
        "colab": {
          "base_uri": "https://localhost:8080/"
        },
        "outputId": "6997b541-9bba-4f17-ed1f-4a3ea845949f"
      },
      "source": [
        "sfm = SelectFromModel(rf, threshold = 'median', prefit = True)\n",
        "print('Number of features before selection: {}'.format(x_train.shape[1]))\n",
        "n_features = sfm.transform(x_train).shape[1] # 모델에 적용\n",
        "print('Number of features after selection: {}'.format(n_features))\n",
        "selected_vars = list(feat_labels[sfm.get_support()])"
      ],
      "execution_count": 53,
      "outputs": [
        {
          "output_type": "stream",
          "text": [
            "Number of features before selection: 264\n",
            "Number of features after selection: 132\n"
          ],
          "name": "stdout"
        }
      ]
    },
    {
      "cell_type": "code",
      "metadata": {
        "colab": {
          "base_uri": "https://localhost:8080/"
        },
        "id": "hXevxgE_BMUQ",
        "outputId": "8a38316c-e3eb-4feb-dc4b-8f55d52698f3"
      },
      "source": [
        "sfm.get_support()"
      ],
      "execution_count": 56,
      "outputs": [
        {
          "output_type": "execute_result",
          "data": {
            "text/plain": [
              "array([ True,  True,  True,  True,  True,  True, False, False, False,\n",
              "       False, False,  True,  True,  True,  True,  True,  True,  True,\n",
              "        True,  True,  True,  True,  True,  True,  True,  True,  True,\n",
              "        True,  True,  True,  True,  True,  True,  True,  True,  True,\n",
              "        True,  True,  True,  True,  True,  True,  True,  True,  True,\n",
              "        True,  True,  True,  True,  True, False,  True, False,  True,\n",
              "       False,  True, False, False, False,  True,  True,  True,  True,\n",
              "        True,  True,  True,  True,  True,  True,  True,  True,  True,\n",
              "       False, False, False, False, False, False, False,  True, False,\n",
              "       False,  True, False,  True,  True, False,  True,  True,  True,\n",
              "       False, False,  True,  True, False, False,  True,  True,  True,\n",
              "        True,  True,  True, False, False, False, False, False, False,\n",
              "       False, False, False, False, False, False, False, False, False,\n",
              "       False, False, False, False, False, False, False, False, False,\n",
              "       False, False, False, False, False, False, False, False, False,\n",
              "       False, False, False, False, False, False, False, False, False,\n",
              "       False, False, False, False, False, False, False, False, False,\n",
              "       False, False, False, False, False, False, False, False, False,\n",
              "       False, False, False, False, False, False, False, False, False,\n",
              "       False, False, False, False, False, False, False, False, False,\n",
              "       False, False, False, False, False, False, False, False, False,\n",
              "       False, False, False, False, False, False, False, False, False,\n",
              "       False, False, False, False, False, False, False, False, False,\n",
              "       False,  True,  True,  True,  True,  True,  True,  True,  True,\n",
              "        True,  True,  True,  True,  True,  True,  True,  True,  True,\n",
              "        True,  True,  True,  True,  True,  True,  True,  True,  True,\n",
              "        True,  True,  True,  True,  True,  True,  True,  True,  True,\n",
              "        True,  True,  True,  True,  True,  True,  True,  True,  True,\n",
              "        True,  True,  True,  True,  True,  True,  True,  True,  True,\n",
              "        True,  True,  True])"
            ]
          },
          "metadata": {
            "tags": []
          },
          "execution_count": 56
        }
      ]
    },
    {
      "cell_type": "code",
      "metadata": {
        "id": "W29XmE2UTQdA"
      },
      "source": [
        "train = train[selected_vars + ['target']]"
      ],
      "execution_count": 54,
      "outputs": []
    },
    {
      "cell_type": "code",
      "metadata": {
        "colab": {
          "base_uri": "https://localhost:8080/",
          "height": 427
        },
        "id": "YC8JbH99BrGr",
        "outputId": "2f766f79-7147-4df8-d802-935326973705"
      },
      "source": [
        "train"
      ],
      "execution_count": 57,
      "outputs": [
        {
          "output_type": "execute_result",
          "data": {
            "text/html": [
              "<div>\n",
              "<style scoped>\n",
              "    .dataframe tbody tr th:only-of-type {\n",
              "        vertical-align: middle;\n",
              "    }\n",
              "\n",
              "    .dataframe tbody tr th {\n",
              "        vertical-align: top;\n",
              "    }\n",
              "\n",
              "    .dataframe thead th {\n",
              "        text-align: right;\n",
              "    }\n",
              "</style>\n",
              "<table border=\"1\" class=\"dataframe\">\n",
              "  <thead>\n",
              "    <tr style=\"text-align: right;\">\n",
              "      <th></th>\n",
              "      <th>ps_ind_01</th>\n",
              "      <th>ps_ind_03</th>\n",
              "      <th>ps_ind_06_bin</th>\n",
              "      <th>ps_ind_07_bin</th>\n",
              "      <th>ps_ind_08_bin</th>\n",
              "      <th>ps_ind_09_bin</th>\n",
              "      <th>ps_ind_15</th>\n",
              "      <th>ps_ind_16_bin</th>\n",
              "      <th>ps_ind_17_bin</th>\n",
              "      <th>ps_ind_18_bin</th>\n",
              "      <th>ps_reg_01</th>\n",
              "      <th>ps_reg_02</th>\n",
              "      <th>ps_reg_03</th>\n",
              "      <th>ps_car_11</th>\n",
              "      <th>ps_car_12</th>\n",
              "      <th>ps_car_13</th>\n",
              "      <th>ps_car_14</th>\n",
              "      <th>ps_car_15</th>\n",
              "      <th>ps_calc_01</th>\n",
              "      <th>ps_calc_02</th>\n",
              "      <th>ps_calc_03</th>\n",
              "      <th>ps_calc_04</th>\n",
              "      <th>ps_calc_05</th>\n",
              "      <th>ps_calc_06</th>\n",
              "      <th>ps_calc_07</th>\n",
              "      <th>ps_calc_08</th>\n",
              "      <th>ps_calc_09</th>\n",
              "      <th>ps_calc_10</th>\n",
              "      <th>ps_calc_11</th>\n",
              "      <th>ps_calc_12</th>\n",
              "      <th>ps_calc_13</th>\n",
              "      <th>ps_calc_14</th>\n",
              "      <th>ps_calc_15_bin</th>\n",
              "      <th>ps_calc_16_bin</th>\n",
              "      <th>ps_calc_17_bin</th>\n",
              "      <th>ps_calc_18_bin</th>\n",
              "      <th>ps_calc_19_bin</th>\n",
              "      <th>ps_calc_20_bin</th>\n",
              "      <th>ps_ind_02_cat_1</th>\n",
              "      <th>ps_ind_02_cat_2</th>\n",
              "      <th>ps_ind_02_cat_3</th>\n",
              "      <th>ps_ind_02_cat_4</th>\n",
              "      <th>ps_ind_04_cat_0</th>\n",
              "      <th>ps_ind_04_cat_1</th>\n",
              "      <th>ps_ind_05_cat_0</th>\n",
              "      <th>ps_ind_05_cat_2</th>\n",
              "      <th>ps_ind_05_cat_4</th>\n",
              "      <th>ps_ind_05_cat_6</th>\n",
              "      <th>ps_car_01_cat_3</th>\n",
              "      <th>ps_car_01_cat_4</th>\n",
              "      <th>...</th>\n",
              "      <th>ps_reg_01 ps_car_15</th>\n",
              "      <th>ps_reg_01 ps_calc_01</th>\n",
              "      <th>ps_reg_01 ps_calc_02</th>\n",
              "      <th>ps_reg_01 ps_calc_03</th>\n",
              "      <th>ps_reg_02^2</th>\n",
              "      <th>ps_reg_02 ps_reg_03</th>\n",
              "      <th>ps_reg_02 ps_car_12</th>\n",
              "      <th>ps_reg_02 ps_car_13</th>\n",
              "      <th>ps_reg_02 ps_car_14</th>\n",
              "      <th>ps_reg_02 ps_car_15</th>\n",
              "      <th>ps_reg_02 ps_calc_01</th>\n",
              "      <th>ps_reg_02 ps_calc_02</th>\n",
              "      <th>ps_reg_02 ps_calc_03</th>\n",
              "      <th>ps_reg_03^2</th>\n",
              "      <th>ps_reg_03 ps_car_12</th>\n",
              "      <th>ps_reg_03 ps_car_13</th>\n",
              "      <th>ps_reg_03 ps_car_14</th>\n",
              "      <th>ps_reg_03 ps_car_15</th>\n",
              "      <th>ps_reg_03 ps_calc_01</th>\n",
              "      <th>ps_reg_03 ps_calc_02</th>\n",
              "      <th>ps_reg_03 ps_calc_03</th>\n",
              "      <th>ps_car_12^2</th>\n",
              "      <th>ps_car_12 ps_car_13</th>\n",
              "      <th>ps_car_12 ps_car_14</th>\n",
              "      <th>ps_car_12 ps_car_15</th>\n",
              "      <th>ps_car_12 ps_calc_01</th>\n",
              "      <th>ps_car_12 ps_calc_02</th>\n",
              "      <th>ps_car_12 ps_calc_03</th>\n",
              "      <th>ps_car_13^2</th>\n",
              "      <th>ps_car_13 ps_car_14</th>\n",
              "      <th>ps_car_13 ps_car_15</th>\n",
              "      <th>ps_car_13 ps_calc_01</th>\n",
              "      <th>ps_car_13 ps_calc_02</th>\n",
              "      <th>ps_car_13 ps_calc_03</th>\n",
              "      <th>ps_car_14^2</th>\n",
              "      <th>ps_car_14 ps_car_15</th>\n",
              "      <th>ps_car_14 ps_calc_01</th>\n",
              "      <th>ps_car_14 ps_calc_02</th>\n",
              "      <th>ps_car_14 ps_calc_03</th>\n",
              "      <th>ps_car_15^2</th>\n",
              "      <th>ps_car_15 ps_calc_01</th>\n",
              "      <th>ps_car_15 ps_calc_02</th>\n",
              "      <th>ps_car_15 ps_calc_03</th>\n",
              "      <th>ps_calc_01^2</th>\n",
              "      <th>ps_calc_01 ps_calc_02</th>\n",
              "      <th>ps_calc_01 ps_calc_03</th>\n",
              "      <th>ps_calc_02^2</th>\n",
              "      <th>ps_calc_02 ps_calc_03</th>\n",
              "      <th>ps_calc_03^2</th>\n",
              "      <th>target</th>\n",
              "    </tr>\n",
              "  </thead>\n",
              "  <tbody>\n",
              "    <tr>\n",
              "      <th>0</th>\n",
              "      <td>1</td>\n",
              "      <td>1</td>\n",
              "      <td>1</td>\n",
              "      <td>0</td>\n",
              "      <td>0</td>\n",
              "      <td>0</td>\n",
              "      <td>11</td>\n",
              "      <td>0</td>\n",
              "      <td>1</td>\n",
              "      <td>0</td>\n",
              "      <td>0.6</td>\n",
              "      <td>0.6</td>\n",
              "      <td>0.838153</td>\n",
              "      <td>1</td>\n",
              "      <td>0.368782</td>\n",
              "      <td>0.540603</td>\n",
              "      <td>0.345688</td>\n",
              "      <td>2.000000</td>\n",
              "      <td>0.9</td>\n",
              "      <td>0.3</td>\n",
              "      <td>0.0</td>\n",
              "      <td>3</td>\n",
              "      <td>0</td>\n",
              "      <td>7</td>\n",
              "      <td>3</td>\n",
              "      <td>8</td>\n",
              "      <td>4</td>\n",
              "      <td>8</td>\n",
              "      <td>1</td>\n",
              "      <td>0</td>\n",
              "      <td>4</td>\n",
              "      <td>6</td>\n",
              "      <td>0</td>\n",
              "      <td>1</td>\n",
              "      <td>1</td>\n",
              "      <td>0</td>\n",
              "      <td>0</td>\n",
              "      <td>1</td>\n",
              "      <td>1</td>\n",
              "      <td>0</td>\n",
              "      <td>0</td>\n",
              "      <td>0</td>\n",
              "      <td>0</td>\n",
              "      <td>1</td>\n",
              "      <td>1</td>\n",
              "      <td>0</td>\n",
              "      <td>0</td>\n",
              "      <td>0</td>\n",
              "      <td>0</td>\n",
              "      <td>0</td>\n",
              "      <td>...</td>\n",
              "      <td>1.200000</td>\n",
              "      <td>0.54</td>\n",
              "      <td>0.18</td>\n",
              "      <td>0.00</td>\n",
              "      <td>0.36</td>\n",
              "      <td>0.502892</td>\n",
              "      <td>0.221269</td>\n",
              "      <td>0.324362</td>\n",
              "      <td>0.207413</td>\n",
              "      <td>1.200000</td>\n",
              "      <td>0.54</td>\n",
              "      <td>0.18</td>\n",
              "      <td>0.00</td>\n",
              "      <td>0.702500</td>\n",
              "      <td>0.309095</td>\n",
              "      <td>0.453108</td>\n",
              "      <td>0.289739</td>\n",
              "      <td>1.676305</td>\n",
              "      <td>0.754337</td>\n",
              "      <td>0.251446</td>\n",
              "      <td>0.000000</td>\n",
              "      <td>0.136</td>\n",
              "      <td>0.199365</td>\n",
              "      <td>0.127483</td>\n",
              "      <td>0.737564</td>\n",
              "      <td>0.331904</td>\n",
              "      <td>0.110635</td>\n",
              "      <td>0.000000</td>\n",
              "      <td>0.292252</td>\n",
              "      <td>0.186880</td>\n",
              "      <td>1.081207</td>\n",
              "      <td>0.486543</td>\n",
              "      <td>0.162181</td>\n",
              "      <td>0.000000</td>\n",
              "      <td>0.1195</td>\n",
              "      <td>0.691375</td>\n",
              "      <td>0.311119</td>\n",
              "      <td>0.103706</td>\n",
              "      <td>0.000000</td>\n",
              "      <td>4.0</td>\n",
              "      <td>1.800000</td>\n",
              "      <td>0.600000</td>\n",
              "      <td>0.000000</td>\n",
              "      <td>0.81</td>\n",
              "      <td>0.27</td>\n",
              "      <td>0.00</td>\n",
              "      <td>0.09</td>\n",
              "      <td>0.00</td>\n",
              "      <td>0.00</td>\n",
              "      <td>0</td>\n",
              "    </tr>\n",
              "    <tr>\n",
              "      <th>1</th>\n",
              "      <td>5</td>\n",
              "      <td>7</td>\n",
              "      <td>1</td>\n",
              "      <td>0</td>\n",
              "      <td>0</td>\n",
              "      <td>0</td>\n",
              "      <td>5</td>\n",
              "      <td>0</td>\n",
              "      <td>0</td>\n",
              "      <td>1</td>\n",
              "      <td>0.9</td>\n",
              "      <td>0.6</td>\n",
              "      <td>0.728440</td>\n",
              "      <td>1</td>\n",
              "      <td>0.424264</td>\n",
              "      <td>0.382953</td>\n",
              "      <td>0.378814</td>\n",
              "      <td>0.000000</td>\n",
              "      <td>0.2</td>\n",
              "      <td>0.0</td>\n",
              "      <td>0.6</td>\n",
              "      <td>1</td>\n",
              "      <td>1</td>\n",
              "      <td>7</td>\n",
              "      <td>5</td>\n",
              "      <td>10</td>\n",
              "      <td>4</td>\n",
              "      <td>11</td>\n",
              "      <td>3</td>\n",
              "      <td>0</td>\n",
              "      <td>3</td>\n",
              "      <td>7</td>\n",
              "      <td>0</td>\n",
              "      <td>0</td>\n",
              "      <td>0</td>\n",
              "      <td>0</td>\n",
              "      <td>1</td>\n",
              "      <td>0</td>\n",
              "      <td>1</td>\n",
              "      <td>0</td>\n",
              "      <td>0</td>\n",
              "      <td>0</td>\n",
              "      <td>0</td>\n",
              "      <td>1</td>\n",
              "      <td>0</td>\n",
              "      <td>0</td>\n",
              "      <td>0</td>\n",
              "      <td>0</td>\n",
              "      <td>0</td>\n",
              "      <td>0</td>\n",
              "      <td>...</td>\n",
              "      <td>0.000000</td>\n",
              "      <td>0.18</td>\n",
              "      <td>0.00</td>\n",
              "      <td>0.54</td>\n",
              "      <td>0.36</td>\n",
              "      <td>0.437064</td>\n",
              "      <td>0.254558</td>\n",
              "      <td>0.229772</td>\n",
              "      <td>0.227288</td>\n",
              "      <td>0.000000</td>\n",
              "      <td>0.12</td>\n",
              "      <td>0.00</td>\n",
              "      <td>0.36</td>\n",
              "      <td>0.530625</td>\n",
              "      <td>0.309051</td>\n",
              "      <td>0.278958</td>\n",
              "      <td>0.275943</td>\n",
              "      <td>0.000000</td>\n",
              "      <td>0.145688</td>\n",
              "      <td>0.000000</td>\n",
              "      <td>0.437064</td>\n",
              "      <td>0.180</td>\n",
              "      <td>0.162473</td>\n",
              "      <td>0.160717</td>\n",
              "      <td>0.000000</td>\n",
              "      <td>0.084853</td>\n",
              "      <td>0.000000</td>\n",
              "      <td>0.254558</td>\n",
              "      <td>0.146653</td>\n",
              "      <td>0.145068</td>\n",
              "      <td>0.000000</td>\n",
              "      <td>0.076591</td>\n",
              "      <td>0.000000</td>\n",
              "      <td>0.229772</td>\n",
              "      <td>0.1435</td>\n",
              "      <td>0.000000</td>\n",
              "      <td>0.075763</td>\n",
              "      <td>0.000000</td>\n",
              "      <td>0.227288</td>\n",
              "      <td>0.0</td>\n",
              "      <td>0.000000</td>\n",
              "      <td>0.000000</td>\n",
              "      <td>0.000000</td>\n",
              "      <td>0.04</td>\n",
              "      <td>0.00</td>\n",
              "      <td>0.12</td>\n",
              "      <td>0.00</td>\n",
              "      <td>0.00</td>\n",
              "      <td>0.36</td>\n",
              "      <td>0</td>\n",
              "    </tr>\n",
              "    <tr>\n",
              "      <th>2</th>\n",
              "      <td>4</td>\n",
              "      <td>3</td>\n",
              "      <td>1</td>\n",
              "      <td>0</td>\n",
              "      <td>0</td>\n",
              "      <td>0</td>\n",
              "      <td>4</td>\n",
              "      <td>1</td>\n",
              "      <td>0</td>\n",
              "      <td>0</td>\n",
              "      <td>0.9</td>\n",
              "      <td>0.6</td>\n",
              "      <td>0.869267</td>\n",
              "      <td>3</td>\n",
              "      <td>0.400000</td>\n",
              "      <td>0.814271</td>\n",
              "      <td>0.402368</td>\n",
              "      <td>3.316625</td>\n",
              "      <td>0.3</td>\n",
              "      <td>0.9</td>\n",
              "      <td>0.1</td>\n",
              "      <td>4</td>\n",
              "      <td>1</td>\n",
              "      <td>8</td>\n",
              "      <td>5</td>\n",
              "      <td>10</td>\n",
              "      <td>2</td>\n",
              "      <td>8</td>\n",
              "      <td>7</td>\n",
              "      <td>2</td>\n",
              "      <td>3</td>\n",
              "      <td>10</td>\n",
              "      <td>0</td>\n",
              "      <td>1</td>\n",
              "      <td>0</td>\n",
              "      <td>1</td>\n",
              "      <td>0</td>\n",
              "      <td>1</td>\n",
              "      <td>1</td>\n",
              "      <td>0</td>\n",
              "      <td>0</td>\n",
              "      <td>0</td>\n",
              "      <td>0</td>\n",
              "      <td>1</td>\n",
              "      <td>1</td>\n",
              "      <td>0</td>\n",
              "      <td>0</td>\n",
              "      <td>0</td>\n",
              "      <td>0</td>\n",
              "      <td>0</td>\n",
              "      <td>...</td>\n",
              "      <td>2.984962</td>\n",
              "      <td>0.27</td>\n",
              "      <td>0.81</td>\n",
              "      <td>0.09</td>\n",
              "      <td>0.36</td>\n",
              "      <td>0.521560</td>\n",
              "      <td>0.240000</td>\n",
              "      <td>0.488563</td>\n",
              "      <td>0.241421</td>\n",
              "      <td>1.989975</td>\n",
              "      <td>0.18</td>\n",
              "      <td>0.54</td>\n",
              "      <td>0.06</td>\n",
              "      <td>0.755625</td>\n",
              "      <td>0.347707</td>\n",
              "      <td>0.707819</td>\n",
              "      <td>0.349765</td>\n",
              "      <td>2.883032</td>\n",
              "      <td>0.260780</td>\n",
              "      <td>0.782340</td>\n",
              "      <td>0.086927</td>\n",
              "      <td>0.160</td>\n",
              "      <td>0.325708</td>\n",
              "      <td>0.160947</td>\n",
              "      <td>1.326650</td>\n",
              "      <td>0.120000</td>\n",
              "      <td>0.360000</td>\n",
              "      <td>0.040000</td>\n",
              "      <td>0.663037</td>\n",
              "      <td>0.327637</td>\n",
              "      <td>2.700631</td>\n",
              "      <td>0.244281</td>\n",
              "      <td>0.732844</td>\n",
              "      <td>0.081427</td>\n",
              "      <td>0.1619</td>\n",
              "      <td>1.334504</td>\n",
              "      <td>0.120710</td>\n",
              "      <td>0.362131</td>\n",
              "      <td>0.040237</td>\n",
              "      <td>11.0</td>\n",
              "      <td>0.994987</td>\n",
              "      <td>2.984962</td>\n",
              "      <td>0.331662</td>\n",
              "      <td>0.09</td>\n",
              "      <td>0.27</td>\n",
              "      <td>0.03</td>\n",
              "      <td>0.81</td>\n",
              "      <td>0.09</td>\n",
              "      <td>0.01</td>\n",
              "      <td>0</td>\n",
              "    </tr>\n",
              "    <tr>\n",
              "      <th>3</th>\n",
              "      <td>6</td>\n",
              "      <td>6</td>\n",
              "      <td>1</td>\n",
              "      <td>0</td>\n",
              "      <td>0</td>\n",
              "      <td>0</td>\n",
              "      <td>8</td>\n",
              "      <td>1</td>\n",
              "      <td>0</td>\n",
              "      <td>0</td>\n",
              "      <td>0.6</td>\n",
              "      <td>1.5</td>\n",
              "      <td>1.705872</td>\n",
              "      <td>2</td>\n",
              "      <td>0.400000</td>\n",
              "      <td>0.838387</td>\n",
              "      <td>0.378418</td>\n",
              "      <td>3.605551</td>\n",
              "      <td>0.8</td>\n",
              "      <td>0.4</td>\n",
              "      <td>0.1</td>\n",
              "      <td>3</td>\n",
              "      <td>3</td>\n",
              "      <td>7</td>\n",
              "      <td>2</td>\n",
              "      <td>11</td>\n",
              "      <td>3</td>\n",
              "      <td>10</td>\n",
              "      <td>2</td>\n",
              "      <td>2</td>\n",
              "      <td>0</td>\n",
              "      <td>14</td>\n",
              "      <td>0</td>\n",
              "      <td>0</td>\n",
              "      <td>0</td>\n",
              "      <td>0</td>\n",
              "      <td>0</td>\n",
              "      <td>0</td>\n",
              "      <td>1</td>\n",
              "      <td>0</td>\n",
              "      <td>0</td>\n",
              "      <td>0</td>\n",
              "      <td>1</td>\n",
              "      <td>0</td>\n",
              "      <td>1</td>\n",
              "      <td>0</td>\n",
              "      <td>0</td>\n",
              "      <td>0</td>\n",
              "      <td>0</td>\n",
              "      <td>0</td>\n",
              "      <td>...</td>\n",
              "      <td>2.163331</td>\n",
              "      <td>0.48</td>\n",
              "      <td>0.24</td>\n",
              "      <td>0.06</td>\n",
              "      <td>2.25</td>\n",
              "      <td>2.558808</td>\n",
              "      <td>0.600000</td>\n",
              "      <td>1.257580</td>\n",
              "      <td>0.567627</td>\n",
              "      <td>5.408327</td>\n",
              "      <td>1.20</td>\n",
              "      <td>0.60</td>\n",
              "      <td>0.15</td>\n",
              "      <td>2.910000</td>\n",
              "      <td>0.682349</td>\n",
              "      <td>1.430181</td>\n",
              "      <td>0.645532</td>\n",
              "      <td>6.150610</td>\n",
              "      <td>1.364698</td>\n",
              "      <td>0.682349</td>\n",
              "      <td>0.170587</td>\n",
              "      <td>0.160</td>\n",
              "      <td>0.335355</td>\n",
              "      <td>0.151367</td>\n",
              "      <td>1.442221</td>\n",
              "      <td>0.320000</td>\n",
              "      <td>0.160000</td>\n",
              "      <td>0.040000</td>\n",
              "      <td>0.702893</td>\n",
              "      <td>0.317260</td>\n",
              "      <td>3.022847</td>\n",
              "      <td>0.670710</td>\n",
              "      <td>0.335355</td>\n",
              "      <td>0.083839</td>\n",
              "      <td>0.1432</td>\n",
              "      <td>1.364405</td>\n",
              "      <td>0.302734</td>\n",
              "      <td>0.151367</td>\n",
              "      <td>0.037842</td>\n",
              "      <td>13.0</td>\n",
              "      <td>2.884441</td>\n",
              "      <td>1.442221</td>\n",
              "      <td>0.360555</td>\n",
              "      <td>0.64</td>\n",
              "      <td>0.32</td>\n",
              "      <td>0.08</td>\n",
              "      <td>0.16</td>\n",
              "      <td>0.04</td>\n",
              "      <td>0.01</td>\n",
              "      <td>0</td>\n",
              "    </tr>\n",
              "    <tr>\n",
              "      <th>4</th>\n",
              "      <td>5</td>\n",
              "      <td>5</td>\n",
              "      <td>0</td>\n",
              "      <td>0</td>\n",
              "      <td>1</td>\n",
              "      <td>0</td>\n",
              "      <td>10</td>\n",
              "      <td>1</td>\n",
              "      <td>0</td>\n",
              "      <td>0</td>\n",
              "      <td>0.8</td>\n",
              "      <td>0.8</td>\n",
              "      <td>1.086566</td>\n",
              "      <td>3</td>\n",
              "      <td>0.400000</td>\n",
              "      <td>0.905777</td>\n",
              "      <td>0.384838</td>\n",
              "      <td>3.605551</td>\n",
              "      <td>0.6</td>\n",
              "      <td>0.5</td>\n",
              "      <td>0.9</td>\n",
              "      <td>3</td>\n",
              "      <td>3</td>\n",
              "      <td>5</td>\n",
              "      <td>2</td>\n",
              "      <td>9</td>\n",
              "      <td>1</td>\n",
              "      <td>6</td>\n",
              "      <td>5</td>\n",
              "      <td>1</td>\n",
              "      <td>6</td>\n",
              "      <td>8</td>\n",
              "      <td>0</td>\n",
              "      <td>1</td>\n",
              "      <td>1</td>\n",
              "      <td>1</td>\n",
              "      <td>0</td>\n",
              "      <td>1</td>\n",
              "      <td>1</td>\n",
              "      <td>0</td>\n",
              "      <td>0</td>\n",
              "      <td>0</td>\n",
              "      <td>1</td>\n",
              "      <td>0</td>\n",
              "      <td>1</td>\n",
              "      <td>0</td>\n",
              "      <td>0</td>\n",
              "      <td>0</td>\n",
              "      <td>0</td>\n",
              "      <td>0</td>\n",
              "      <td>...</td>\n",
              "      <td>2.884441</td>\n",
              "      <td>0.48</td>\n",
              "      <td>0.40</td>\n",
              "      <td>0.72</td>\n",
              "      <td>0.64</td>\n",
              "      <td>0.869253</td>\n",
              "      <td>0.320000</td>\n",
              "      <td>0.724622</td>\n",
              "      <td>0.307870</td>\n",
              "      <td>2.884441</td>\n",
              "      <td>0.48</td>\n",
              "      <td>0.40</td>\n",
              "      <td>0.72</td>\n",
              "      <td>1.180625</td>\n",
              "      <td>0.434626</td>\n",
              "      <td>0.984186</td>\n",
              "      <td>0.418151</td>\n",
              "      <td>3.917668</td>\n",
              "      <td>0.651939</td>\n",
              "      <td>0.543283</td>\n",
              "      <td>0.977909</td>\n",
              "      <td>0.160</td>\n",
              "      <td>0.362311</td>\n",
              "      <td>0.153935</td>\n",
              "      <td>1.442221</td>\n",
              "      <td>0.240000</td>\n",
              "      <td>0.200000</td>\n",
              "      <td>0.360000</td>\n",
              "      <td>0.820432</td>\n",
              "      <td>0.348577</td>\n",
              "      <td>3.265825</td>\n",
              "      <td>0.543466</td>\n",
              "      <td>0.452888</td>\n",
              "      <td>0.815199</td>\n",
              "      <td>0.1481</td>\n",
              "      <td>1.387552</td>\n",
              "      <td>0.230903</td>\n",
              "      <td>0.192419</td>\n",
              "      <td>0.346354</td>\n",
              "      <td>13.0</td>\n",
              "      <td>2.163331</td>\n",
              "      <td>1.802776</td>\n",
              "      <td>3.244996</td>\n",
              "      <td>0.36</td>\n",
              "      <td>0.30</td>\n",
              "      <td>0.54</td>\n",
              "      <td>0.25</td>\n",
              "      <td>0.45</td>\n",
              "      <td>0.81</td>\n",
              "      <td>0</td>\n",
              "    </tr>\n",
              "    <tr>\n",
              "      <th>...</th>\n",
              "      <td>...</td>\n",
              "      <td>...</td>\n",
              "      <td>...</td>\n",
              "      <td>...</td>\n",
              "      <td>...</td>\n",
              "      <td>...</td>\n",
              "      <td>...</td>\n",
              "      <td>...</td>\n",
              "      <td>...</td>\n",
              "      <td>...</td>\n",
              "      <td>...</td>\n",
              "      <td>...</td>\n",
              "      <td>...</td>\n",
              "      <td>...</td>\n",
              "      <td>...</td>\n",
              "      <td>...</td>\n",
              "      <td>...</td>\n",
              "      <td>...</td>\n",
              "      <td>...</td>\n",
              "      <td>...</td>\n",
              "      <td>...</td>\n",
              "      <td>...</td>\n",
              "      <td>...</td>\n",
              "      <td>...</td>\n",
              "      <td>...</td>\n",
              "      <td>...</td>\n",
              "      <td>...</td>\n",
              "      <td>...</td>\n",
              "      <td>...</td>\n",
              "      <td>...</td>\n",
              "      <td>...</td>\n",
              "      <td>...</td>\n",
              "      <td>...</td>\n",
              "      <td>...</td>\n",
              "      <td>...</td>\n",
              "      <td>...</td>\n",
              "      <td>...</td>\n",
              "      <td>...</td>\n",
              "      <td>...</td>\n",
              "      <td>...</td>\n",
              "      <td>...</td>\n",
              "      <td>...</td>\n",
              "      <td>...</td>\n",
              "      <td>...</td>\n",
              "      <td>...</td>\n",
              "      <td>...</td>\n",
              "      <td>...</td>\n",
              "      <td>...</td>\n",
              "      <td>...</td>\n",
              "      <td>...</td>\n",
              "      <td>...</td>\n",
              "      <td>...</td>\n",
              "      <td>...</td>\n",
              "      <td>...</td>\n",
              "      <td>...</td>\n",
              "      <td>...</td>\n",
              "      <td>...</td>\n",
              "      <td>...</td>\n",
              "      <td>...</td>\n",
              "      <td>...</td>\n",
              "      <td>...</td>\n",
              "      <td>...</td>\n",
              "      <td>...</td>\n",
              "      <td>...</td>\n",
              "      <td>...</td>\n",
              "      <td>...</td>\n",
              "      <td>...</td>\n",
              "      <td>...</td>\n",
              "      <td>...</td>\n",
              "      <td>...</td>\n",
              "      <td>...</td>\n",
              "      <td>...</td>\n",
              "      <td>...</td>\n",
              "      <td>...</td>\n",
              "      <td>...</td>\n",
              "      <td>...</td>\n",
              "      <td>...</td>\n",
              "      <td>...</td>\n",
              "      <td>...</td>\n",
              "      <td>...</td>\n",
              "      <td>...</td>\n",
              "      <td>...</td>\n",
              "      <td>...</td>\n",
              "      <td>...</td>\n",
              "      <td>...</td>\n",
              "      <td>...</td>\n",
              "      <td>...</td>\n",
              "      <td>...</td>\n",
              "      <td>...</td>\n",
              "      <td>...</td>\n",
              "      <td>...</td>\n",
              "      <td>...</td>\n",
              "      <td>...</td>\n",
              "      <td>...</td>\n",
              "      <td>...</td>\n",
              "      <td>...</td>\n",
              "      <td>...</td>\n",
              "      <td>...</td>\n",
              "      <td>...</td>\n",
              "      <td>...</td>\n",
              "      <td>...</td>\n",
              "    </tr>\n",
              "    <tr>\n",
              "      <th>216935</th>\n",
              "      <td>5</td>\n",
              "      <td>7</td>\n",
              "      <td>0</td>\n",
              "      <td>0</td>\n",
              "      <td>1</td>\n",
              "      <td>0</td>\n",
              "      <td>8</td>\n",
              "      <td>0</td>\n",
              "      <td>1</td>\n",
              "      <td>0</td>\n",
              "      <td>0.6</td>\n",
              "      <td>0.4</td>\n",
              "      <td>1.537652</td>\n",
              "      <td>1</td>\n",
              "      <td>0.424264</td>\n",
              "      <td>1.269111</td>\n",
              "      <td>0.384708</td>\n",
              "      <td>3.162278</td>\n",
              "      <td>0.5</td>\n",
              "      <td>0.1</td>\n",
              "      <td>0.5</td>\n",
              "      <td>3</td>\n",
              "      <td>4</td>\n",
              "      <td>9</td>\n",
              "      <td>1</td>\n",
              "      <td>10</td>\n",
              "      <td>2</td>\n",
              "      <td>9</td>\n",
              "      <td>10</td>\n",
              "      <td>1</td>\n",
              "      <td>5</td>\n",
              "      <td>7</td>\n",
              "      <td>0</td>\n",
              "      <td>1</td>\n",
              "      <td>1</td>\n",
              "      <td>0</td>\n",
              "      <td>0</td>\n",
              "      <td>0</td>\n",
              "      <td>1</td>\n",
              "      <td>0</td>\n",
              "      <td>0</td>\n",
              "      <td>0</td>\n",
              "      <td>1</td>\n",
              "      <td>0</td>\n",
              "      <td>0</td>\n",
              "      <td>0</td>\n",
              "      <td>0</td>\n",
              "      <td>0</td>\n",
              "      <td>0</td>\n",
              "      <td>0</td>\n",
              "      <td>...</td>\n",
              "      <td>1.897367</td>\n",
              "      <td>0.30</td>\n",
              "      <td>0.06</td>\n",
              "      <td>0.30</td>\n",
              "      <td>0.16</td>\n",
              "      <td>0.615061</td>\n",
              "      <td>0.169706</td>\n",
              "      <td>0.507645</td>\n",
              "      <td>0.153883</td>\n",
              "      <td>1.264911</td>\n",
              "      <td>0.20</td>\n",
              "      <td>0.04</td>\n",
              "      <td>0.20</td>\n",
              "      <td>2.364375</td>\n",
              "      <td>0.652371</td>\n",
              "      <td>1.951452</td>\n",
              "      <td>0.591547</td>\n",
              "      <td>4.862484</td>\n",
              "      <td>0.768826</td>\n",
              "      <td>0.153765</td>\n",
              "      <td>0.768826</td>\n",
              "      <td>0.180</td>\n",
              "      <td>0.538438</td>\n",
              "      <td>0.163218</td>\n",
              "      <td>1.341641</td>\n",
              "      <td>0.212132</td>\n",
              "      <td>0.042426</td>\n",
              "      <td>0.212132</td>\n",
              "      <td>1.610644</td>\n",
              "      <td>0.488237</td>\n",
              "      <td>4.013282</td>\n",
              "      <td>0.634556</td>\n",
              "      <td>0.126911</td>\n",
              "      <td>0.634556</td>\n",
              "      <td>0.1480</td>\n",
              "      <td>1.216553</td>\n",
              "      <td>0.192354</td>\n",
              "      <td>0.038471</td>\n",
              "      <td>0.192354</td>\n",
              "      <td>10.0</td>\n",
              "      <td>1.581139</td>\n",
              "      <td>0.316228</td>\n",
              "      <td>1.581139</td>\n",
              "      <td>0.25</td>\n",
              "      <td>0.05</td>\n",
              "      <td>0.25</td>\n",
              "      <td>0.01</td>\n",
              "      <td>0.05</td>\n",
              "      <td>0.25</td>\n",
              "      <td>1</td>\n",
              "    </tr>\n",
              "    <tr>\n",
              "      <th>216936</th>\n",
              "      <td>1</td>\n",
              "      <td>5</td>\n",
              "      <td>0</td>\n",
              "      <td>0</td>\n",
              "      <td>1</td>\n",
              "      <td>0</td>\n",
              "      <td>4</td>\n",
              "      <td>0</td>\n",
              "      <td>0</td>\n",
              "      <td>1</td>\n",
              "      <td>0.3</td>\n",
              "      <td>0.4</td>\n",
              "      <td>0.898861</td>\n",
              "      <td>2</td>\n",
              "      <td>0.424264</td>\n",
              "      <td>0.756979</td>\n",
              "      <td>0.400000</td>\n",
              "      <td>2.000000</td>\n",
              "      <td>0.3</td>\n",
              "      <td>0.4</td>\n",
              "      <td>0.6</td>\n",
              "      <td>1</td>\n",
              "      <td>1</td>\n",
              "      <td>8</td>\n",
              "      <td>2</td>\n",
              "      <td>9</td>\n",
              "      <td>5</td>\n",
              "      <td>9</td>\n",
              "      <td>9</td>\n",
              "      <td>2</td>\n",
              "      <td>1</td>\n",
              "      <td>5</td>\n",
              "      <td>0</td>\n",
              "      <td>1</td>\n",
              "      <td>0</td>\n",
              "      <td>0</td>\n",
              "      <td>0</td>\n",
              "      <td>0</td>\n",
              "      <td>1</td>\n",
              "      <td>0</td>\n",
              "      <td>0</td>\n",
              "      <td>0</td>\n",
              "      <td>1</td>\n",
              "      <td>0</td>\n",
              "      <td>1</td>\n",
              "      <td>0</td>\n",
              "      <td>0</td>\n",
              "      <td>0</td>\n",
              "      <td>0</td>\n",
              "      <td>0</td>\n",
              "      <td>...</td>\n",
              "      <td>0.600000</td>\n",
              "      <td>0.09</td>\n",
              "      <td>0.12</td>\n",
              "      <td>0.18</td>\n",
              "      <td>0.16</td>\n",
              "      <td>0.359544</td>\n",
              "      <td>0.169706</td>\n",
              "      <td>0.302791</td>\n",
              "      <td>0.160000</td>\n",
              "      <td>0.800000</td>\n",
              "      <td>0.12</td>\n",
              "      <td>0.16</td>\n",
              "      <td>0.24</td>\n",
              "      <td>0.807951</td>\n",
              "      <td>0.381354</td>\n",
              "      <td>0.680419</td>\n",
              "      <td>0.359544</td>\n",
              "      <td>1.797722</td>\n",
              "      <td>0.269658</td>\n",
              "      <td>0.359544</td>\n",
              "      <td>0.539317</td>\n",
              "      <td>0.180</td>\n",
              "      <td>0.321159</td>\n",
              "      <td>0.169706</td>\n",
              "      <td>0.848528</td>\n",
              "      <td>0.127279</td>\n",
              "      <td>0.169706</td>\n",
              "      <td>0.254558</td>\n",
              "      <td>0.573017</td>\n",
              "      <td>0.302791</td>\n",
              "      <td>1.513957</td>\n",
              "      <td>0.227094</td>\n",
              "      <td>0.302791</td>\n",
              "      <td>0.454187</td>\n",
              "      <td>0.1600</td>\n",
              "      <td>0.800000</td>\n",
              "      <td>0.120000</td>\n",
              "      <td>0.160000</td>\n",
              "      <td>0.240000</td>\n",
              "      <td>4.0</td>\n",
              "      <td>0.600000</td>\n",
              "      <td>0.800000</td>\n",
              "      <td>1.200000</td>\n",
              "      <td>0.09</td>\n",
              "      <td>0.12</td>\n",
              "      <td>0.18</td>\n",
              "      <td>0.16</td>\n",
              "      <td>0.24</td>\n",
              "      <td>0.36</td>\n",
              "      <td>1</td>\n",
              "    </tr>\n",
              "    <tr>\n",
              "      <th>216937</th>\n",
              "      <td>0</td>\n",
              "      <td>6</td>\n",
              "      <td>0</td>\n",
              "      <td>1</td>\n",
              "      <td>0</td>\n",
              "      <td>0</td>\n",
              "      <td>9</td>\n",
              "      <td>0</td>\n",
              "      <td>1</td>\n",
              "      <td>0</td>\n",
              "      <td>0.9</td>\n",
              "      <td>0.3</td>\n",
              "      <td>0.711952</td>\n",
              "      <td>3</td>\n",
              "      <td>0.400000</td>\n",
              "      <td>0.970654</td>\n",
              "      <td>0.372424</td>\n",
              "      <td>3.464102</td>\n",
              "      <td>0.5</td>\n",
              "      <td>0.4</td>\n",
              "      <td>0.6</td>\n",
              "      <td>2</td>\n",
              "      <td>2</td>\n",
              "      <td>8</td>\n",
              "      <td>2</td>\n",
              "      <td>8</td>\n",
              "      <td>4</td>\n",
              "      <td>10</td>\n",
              "      <td>3</td>\n",
              "      <td>2</td>\n",
              "      <td>1</td>\n",
              "      <td>6</td>\n",
              "      <td>0</td>\n",
              "      <td>1</td>\n",
              "      <td>1</td>\n",
              "      <td>0</td>\n",
              "      <td>0</td>\n",
              "      <td>0</td>\n",
              "      <td>1</td>\n",
              "      <td>0</td>\n",
              "      <td>0</td>\n",
              "      <td>0</td>\n",
              "      <td>0</td>\n",
              "      <td>1</td>\n",
              "      <td>1</td>\n",
              "      <td>0</td>\n",
              "      <td>0</td>\n",
              "      <td>0</td>\n",
              "      <td>0</td>\n",
              "      <td>0</td>\n",
              "      <td>...</td>\n",
              "      <td>3.117691</td>\n",
              "      <td>0.45</td>\n",
              "      <td>0.36</td>\n",
              "      <td>0.54</td>\n",
              "      <td>0.09</td>\n",
              "      <td>0.213585</td>\n",
              "      <td>0.120000</td>\n",
              "      <td>0.291196</td>\n",
              "      <td>0.111727</td>\n",
              "      <td>1.039230</td>\n",
              "      <td>0.15</td>\n",
              "      <td>0.12</td>\n",
              "      <td>0.18</td>\n",
              "      <td>0.506875</td>\n",
              "      <td>0.284781</td>\n",
              "      <td>0.691059</td>\n",
              "      <td>0.265148</td>\n",
              "      <td>2.466272</td>\n",
              "      <td>0.355976</td>\n",
              "      <td>0.284781</td>\n",
              "      <td>0.427171</td>\n",
              "      <td>0.160</td>\n",
              "      <td>0.388262</td>\n",
              "      <td>0.148970</td>\n",
              "      <td>1.385641</td>\n",
              "      <td>0.200000</td>\n",
              "      <td>0.160000</td>\n",
              "      <td>0.240000</td>\n",
              "      <td>0.942169</td>\n",
              "      <td>0.361495</td>\n",
              "      <td>3.362445</td>\n",
              "      <td>0.485327</td>\n",
              "      <td>0.388262</td>\n",
              "      <td>0.582392</td>\n",
              "      <td>0.1387</td>\n",
              "      <td>1.290116</td>\n",
              "      <td>0.186212</td>\n",
              "      <td>0.148970</td>\n",
              "      <td>0.223455</td>\n",
              "      <td>12.0</td>\n",
              "      <td>1.732051</td>\n",
              "      <td>1.385641</td>\n",
              "      <td>2.078461</td>\n",
              "      <td>0.25</td>\n",
              "      <td>0.20</td>\n",
              "      <td>0.30</td>\n",
              "      <td>0.16</td>\n",
              "      <td>0.24</td>\n",
              "      <td>0.36</td>\n",
              "      <td>1</td>\n",
              "    </tr>\n",
              "    <tr>\n",
              "      <th>216938</th>\n",
              "      <td>0</td>\n",
              "      <td>2</td>\n",
              "      <td>1</td>\n",
              "      <td>0</td>\n",
              "      <td>0</td>\n",
              "      <td>0</td>\n",
              "      <td>2</td>\n",
              "      <td>0</td>\n",
              "      <td>0</td>\n",
              "      <td>1</td>\n",
              "      <td>0.6</td>\n",
              "      <td>0.1</td>\n",
              "      <td>0.577170</td>\n",
              "      <td>2</td>\n",
              "      <td>0.316228</td>\n",
              "      <td>0.876295</td>\n",
              "      <td>0.320780</td>\n",
              "      <td>3.741657</td>\n",
              "      <td>0.5</td>\n",
              "      <td>0.2</td>\n",
              "      <td>0.6</td>\n",
              "      <td>3</td>\n",
              "      <td>0</td>\n",
              "      <td>9</td>\n",
              "      <td>3</td>\n",
              "      <td>10</td>\n",
              "      <td>4</td>\n",
              "      <td>11</td>\n",
              "      <td>5</td>\n",
              "      <td>0</td>\n",
              "      <td>4</td>\n",
              "      <td>4</td>\n",
              "      <td>0</td>\n",
              "      <td>0</td>\n",
              "      <td>1</td>\n",
              "      <td>0</td>\n",
              "      <td>1</td>\n",
              "      <td>0</td>\n",
              "      <td>0</td>\n",
              "      <td>1</td>\n",
              "      <td>0</td>\n",
              "      <td>0</td>\n",
              "      <td>1</td>\n",
              "      <td>0</td>\n",
              "      <td>1</td>\n",
              "      <td>0</td>\n",
              "      <td>0</td>\n",
              "      <td>0</td>\n",
              "      <td>0</td>\n",
              "      <td>0</td>\n",
              "      <td>...</td>\n",
              "      <td>2.244994</td>\n",
              "      <td>0.30</td>\n",
              "      <td>0.12</td>\n",
              "      <td>0.36</td>\n",
              "      <td>0.01</td>\n",
              "      <td>0.057717</td>\n",
              "      <td>0.031623</td>\n",
              "      <td>0.087629</td>\n",
              "      <td>0.032078</td>\n",
              "      <td>0.374166</td>\n",
              "      <td>0.05</td>\n",
              "      <td>0.02</td>\n",
              "      <td>0.06</td>\n",
              "      <td>0.333125</td>\n",
              "      <td>0.182517</td>\n",
              "      <td>0.505771</td>\n",
              "      <td>0.185145</td>\n",
              "      <td>2.159572</td>\n",
              "      <td>0.288585</td>\n",
              "      <td>0.115434</td>\n",
              "      <td>0.346302</td>\n",
              "      <td>0.100</td>\n",
              "      <td>0.277109</td>\n",
              "      <td>0.101440</td>\n",
              "      <td>1.183216</td>\n",
              "      <td>0.158114</td>\n",
              "      <td>0.063246</td>\n",
              "      <td>0.189737</td>\n",
              "      <td>0.767893</td>\n",
              "      <td>0.281098</td>\n",
              "      <td>3.278795</td>\n",
              "      <td>0.438147</td>\n",
              "      <td>0.175259</td>\n",
              "      <td>0.525777</td>\n",
              "      <td>0.1029</td>\n",
              "      <td>1.200250</td>\n",
              "      <td>0.160390</td>\n",
              "      <td>0.064156</td>\n",
              "      <td>0.192468</td>\n",
              "      <td>14.0</td>\n",
              "      <td>1.870829</td>\n",
              "      <td>0.748331</td>\n",
              "      <td>2.244994</td>\n",
              "      <td>0.25</td>\n",
              "      <td>0.10</td>\n",
              "      <td>0.30</td>\n",
              "      <td>0.04</td>\n",
              "      <td>0.12</td>\n",
              "      <td>0.36</td>\n",
              "      <td>1</td>\n",
              "    </tr>\n",
              "    <tr>\n",
              "      <th>216939</th>\n",
              "      <td>1</td>\n",
              "      <td>1</td>\n",
              "      <td>0</td>\n",
              "      <td>0</td>\n",
              "      <td>1</td>\n",
              "      <td>0</td>\n",
              "      <td>13</td>\n",
              "      <td>1</td>\n",
              "      <td>0</td>\n",
              "      <td>0</td>\n",
              "      <td>0.6</td>\n",
              "      <td>0.4</td>\n",
              "      <td>1.095160</td>\n",
              "      <td>2</td>\n",
              "      <td>0.374166</td>\n",
              "      <td>0.752558</td>\n",
              "      <td>0.328634</td>\n",
              "      <td>3.464102</td>\n",
              "      <td>0.2</td>\n",
              "      <td>0.6</td>\n",
              "      <td>0.3</td>\n",
              "      <td>1</td>\n",
              "      <td>1</td>\n",
              "      <td>8</td>\n",
              "      <td>2</td>\n",
              "      <td>11</td>\n",
              "      <td>0</td>\n",
              "      <td>13</td>\n",
              "      <td>7</td>\n",
              "      <td>2</td>\n",
              "      <td>4</td>\n",
              "      <td>9</td>\n",
              "      <td>1</td>\n",
              "      <td>1</td>\n",
              "      <td>1</td>\n",
              "      <td>0</td>\n",
              "      <td>0</td>\n",
              "      <td>0</td>\n",
              "      <td>0</td>\n",
              "      <td>1</td>\n",
              "      <td>0</td>\n",
              "      <td>0</td>\n",
              "      <td>1</td>\n",
              "      <td>0</td>\n",
              "      <td>1</td>\n",
              "      <td>0</td>\n",
              "      <td>0</td>\n",
              "      <td>0</td>\n",
              "      <td>0</td>\n",
              "      <td>0</td>\n",
              "      <td>...</td>\n",
              "      <td>2.078461</td>\n",
              "      <td>0.12</td>\n",
              "      <td>0.36</td>\n",
              "      <td>0.18</td>\n",
              "      <td>0.16</td>\n",
              "      <td>0.438064</td>\n",
              "      <td>0.149666</td>\n",
              "      <td>0.301023</td>\n",
              "      <td>0.131453</td>\n",
              "      <td>1.385641</td>\n",
              "      <td>0.08</td>\n",
              "      <td>0.24</td>\n",
              "      <td>0.12</td>\n",
              "      <td>1.199375</td>\n",
              "      <td>0.409771</td>\n",
              "      <td>0.824171</td>\n",
              "      <td>0.359906</td>\n",
              "      <td>3.793745</td>\n",
              "      <td>0.219032</td>\n",
              "      <td>0.657096</td>\n",
              "      <td>0.328548</td>\n",
              "      <td>0.140</td>\n",
              "      <td>0.281581</td>\n",
              "      <td>0.122963</td>\n",
              "      <td>1.296148</td>\n",
              "      <td>0.074833</td>\n",
              "      <td>0.224499</td>\n",
              "      <td>0.112250</td>\n",
              "      <td>0.566343</td>\n",
              "      <td>0.247316</td>\n",
              "      <td>2.606936</td>\n",
              "      <td>0.150512</td>\n",
              "      <td>0.451535</td>\n",
              "      <td>0.225767</td>\n",
              "      <td>0.1080</td>\n",
              "      <td>1.138420</td>\n",
              "      <td>0.065727</td>\n",
              "      <td>0.197180</td>\n",
              "      <td>0.098590</td>\n",
              "      <td>12.0</td>\n",
              "      <td>0.692820</td>\n",
              "      <td>2.078461</td>\n",
              "      <td>1.039230</td>\n",
              "      <td>0.04</td>\n",
              "      <td>0.12</td>\n",
              "      <td>0.06</td>\n",
              "      <td>0.36</td>\n",
              "      <td>0.18</td>\n",
              "      <td>0.09</td>\n",
              "      <td>1</td>\n",
              "    </tr>\n",
              "  </tbody>\n",
              "</table>\n",
              "<p>216940 rows × 133 columns</p>\n",
              "</div>"
            ],
            "text/plain": [
              "        ps_ind_01  ps_ind_03  ps_ind_06_bin  ps_ind_07_bin  ps_ind_08_bin  \\\n",
              "0               1          1              1              0              0   \n",
              "1               5          7              1              0              0   \n",
              "2               4          3              1              0              0   \n",
              "3               6          6              1              0              0   \n",
              "4               5          5              0              0              1   \n",
              "...           ...        ...            ...            ...            ...   \n",
              "216935          5          7              0              0              1   \n",
              "216936          1          5              0              0              1   \n",
              "216937          0          6              0              1              0   \n",
              "216938          0          2              1              0              0   \n",
              "216939          1          1              0              0              1   \n",
              "\n",
              "        ps_ind_09_bin  ps_ind_15  ps_ind_16_bin  ps_ind_17_bin  ps_ind_18_bin  \\\n",
              "0                   0         11              0              1              0   \n",
              "1                   0          5              0              0              1   \n",
              "2                   0          4              1              0              0   \n",
              "3                   0          8              1              0              0   \n",
              "4                   0         10              1              0              0   \n",
              "...               ...        ...            ...            ...            ...   \n",
              "216935              0          8              0              1              0   \n",
              "216936              0          4              0              0              1   \n",
              "216937              0          9              0              1              0   \n",
              "216938              0          2              0              0              1   \n",
              "216939              0         13              1              0              0   \n",
              "\n",
              "        ps_reg_01  ps_reg_02  ps_reg_03  ps_car_11  ps_car_12  ps_car_13  \\\n",
              "0             0.6        0.6   0.838153          1   0.368782   0.540603   \n",
              "1             0.9        0.6   0.728440          1   0.424264   0.382953   \n",
              "2             0.9        0.6   0.869267          3   0.400000   0.814271   \n",
              "3             0.6        1.5   1.705872          2   0.400000   0.838387   \n",
              "4             0.8        0.8   1.086566          3   0.400000   0.905777   \n",
              "...           ...        ...        ...        ...        ...        ...   \n",
              "216935        0.6        0.4   1.537652          1   0.424264   1.269111   \n",
              "216936        0.3        0.4   0.898861          2   0.424264   0.756979   \n",
              "216937        0.9        0.3   0.711952          3   0.400000   0.970654   \n",
              "216938        0.6        0.1   0.577170          2   0.316228   0.876295   \n",
              "216939        0.6        0.4   1.095160          2   0.374166   0.752558   \n",
              "\n",
              "        ps_car_14  ps_car_15  ps_calc_01  ps_calc_02  ps_calc_03  ps_calc_04  \\\n",
              "0        0.345688   2.000000         0.9         0.3         0.0           3   \n",
              "1        0.378814   0.000000         0.2         0.0         0.6           1   \n",
              "2        0.402368   3.316625         0.3         0.9         0.1           4   \n",
              "3        0.378418   3.605551         0.8         0.4         0.1           3   \n",
              "4        0.384838   3.605551         0.6         0.5         0.9           3   \n",
              "...           ...        ...         ...         ...         ...         ...   \n",
              "216935   0.384708   3.162278         0.5         0.1         0.5           3   \n",
              "216936   0.400000   2.000000         0.3         0.4         0.6           1   \n",
              "216937   0.372424   3.464102         0.5         0.4         0.6           2   \n",
              "216938   0.320780   3.741657         0.5         0.2         0.6           3   \n",
              "216939   0.328634   3.464102         0.2         0.6         0.3           1   \n",
              "\n",
              "        ps_calc_05  ps_calc_06  ps_calc_07  ps_calc_08  ps_calc_09  \\\n",
              "0                0           7           3           8           4   \n",
              "1                1           7           5          10           4   \n",
              "2                1           8           5          10           2   \n",
              "3                3           7           2          11           3   \n",
              "4                3           5           2           9           1   \n",
              "...            ...         ...         ...         ...         ...   \n",
              "216935           4           9           1          10           2   \n",
              "216936           1           8           2           9           5   \n",
              "216937           2           8           2           8           4   \n",
              "216938           0           9           3          10           4   \n",
              "216939           1           8           2          11           0   \n",
              "\n",
              "        ps_calc_10  ps_calc_11  ps_calc_12  ps_calc_13  ps_calc_14  \\\n",
              "0                8           1           0           4           6   \n",
              "1               11           3           0           3           7   \n",
              "2                8           7           2           3          10   \n",
              "3               10           2           2           0          14   \n",
              "4                6           5           1           6           8   \n",
              "...            ...         ...         ...         ...         ...   \n",
              "216935           9          10           1           5           7   \n",
              "216936           9           9           2           1           5   \n",
              "216937          10           3           2           1           6   \n",
              "216938          11           5           0           4           4   \n",
              "216939          13           7           2           4           9   \n",
              "\n",
              "        ps_calc_15_bin  ps_calc_16_bin  ps_calc_17_bin  ps_calc_18_bin  \\\n",
              "0                    0               1               1               0   \n",
              "1                    0               0               0               0   \n",
              "2                    0               1               0               1   \n",
              "3                    0               0               0               0   \n",
              "4                    0               1               1               1   \n",
              "...                ...             ...             ...             ...   \n",
              "216935               0               1               1               0   \n",
              "216936               0               1               0               0   \n",
              "216937               0               1               1               0   \n",
              "216938               0               0               1               0   \n",
              "216939               1               1               1               0   \n",
              "\n",
              "        ps_calc_19_bin  ps_calc_20_bin  ps_ind_02_cat_1  ps_ind_02_cat_2  \\\n",
              "0                    0               1                1                0   \n",
              "1                    1               0                1                0   \n",
              "2                    0               1                1                0   \n",
              "3                    0               0                1                0   \n",
              "4                    0               1                1                0   \n",
              "...                ...             ...              ...              ...   \n",
              "216935               0               0                1                0   \n",
              "216936               0               0                1                0   \n",
              "216937               0               0                1                0   \n",
              "216938               1               0                0                1   \n",
              "216939               0               0                0                1   \n",
              "\n",
              "        ps_ind_02_cat_3  ps_ind_02_cat_4  ps_ind_04_cat_0  ps_ind_04_cat_1  \\\n",
              "0                     0                0                0                1   \n",
              "1                     0                0                0                1   \n",
              "2                     0                0                0                1   \n",
              "3                     0                0                1                0   \n",
              "4                     0                0                1                0   \n",
              "...                 ...              ...              ...              ...   \n",
              "216935                0                0                1                0   \n",
              "216936                0                0                1                0   \n",
              "216937                0                0                0                1   \n",
              "216938                0                0                1                0   \n",
              "216939                0                0                1                0   \n",
              "\n",
              "        ps_ind_05_cat_0  ps_ind_05_cat_2  ps_ind_05_cat_4  ps_ind_05_cat_6  \\\n",
              "0                     1                0                0                0   \n",
              "1                     0                0                0                0   \n",
              "2                     1                0                0                0   \n",
              "3                     1                0                0                0   \n",
              "4                     1                0                0                0   \n",
              "...                 ...              ...              ...              ...   \n",
              "216935                0                0                0                0   \n",
              "216936                1                0                0                0   \n",
              "216937                1                0                0                0   \n",
              "216938                1                0                0                0   \n",
              "216939                1                0                0                0   \n",
              "\n",
              "        ps_car_01_cat_3  ps_car_01_cat_4  ...  ps_reg_01 ps_car_15  \\\n",
              "0                     0                0  ...             1.200000   \n",
              "1                     0                0  ...             0.000000   \n",
              "2                     0                0  ...             2.984962   \n",
              "3                     0                0  ...             2.163331   \n",
              "4                     0                0  ...             2.884441   \n",
              "...                 ...              ...  ...                  ...   \n",
              "216935                0                0  ...             1.897367   \n",
              "216936                0                0  ...             0.600000   \n",
              "216937                0                0  ...             3.117691   \n",
              "216938                0                0  ...             2.244994   \n",
              "216939                0                0  ...             2.078461   \n",
              "\n",
              "        ps_reg_01 ps_calc_01  ps_reg_01 ps_calc_02  ps_reg_01 ps_calc_03  \\\n",
              "0                       0.54                  0.18                  0.00   \n",
              "1                       0.18                  0.00                  0.54   \n",
              "2                       0.27                  0.81                  0.09   \n",
              "3                       0.48                  0.24                  0.06   \n",
              "4                       0.48                  0.40                  0.72   \n",
              "...                      ...                   ...                   ...   \n",
              "216935                  0.30                  0.06                  0.30   \n",
              "216936                  0.09                  0.12                  0.18   \n",
              "216937                  0.45                  0.36                  0.54   \n",
              "216938                  0.30                  0.12                  0.36   \n",
              "216939                  0.12                  0.36                  0.18   \n",
              "\n",
              "        ps_reg_02^2  ps_reg_02 ps_reg_03  ps_reg_02 ps_car_12  \\\n",
              "0              0.36             0.502892             0.221269   \n",
              "1              0.36             0.437064             0.254558   \n",
              "2              0.36             0.521560             0.240000   \n",
              "3              2.25             2.558808             0.600000   \n",
              "4              0.64             0.869253             0.320000   \n",
              "...             ...                  ...                  ...   \n",
              "216935         0.16             0.615061             0.169706   \n",
              "216936         0.16             0.359544             0.169706   \n",
              "216937         0.09             0.213585             0.120000   \n",
              "216938         0.01             0.057717             0.031623   \n",
              "216939         0.16             0.438064             0.149666   \n",
              "\n",
              "        ps_reg_02 ps_car_13  ps_reg_02 ps_car_14  ps_reg_02 ps_car_15  \\\n",
              "0                  0.324362             0.207413             1.200000   \n",
              "1                  0.229772             0.227288             0.000000   \n",
              "2                  0.488563             0.241421             1.989975   \n",
              "3                  1.257580             0.567627             5.408327   \n",
              "4                  0.724622             0.307870             2.884441   \n",
              "...                     ...                  ...                  ...   \n",
              "216935             0.507645             0.153883             1.264911   \n",
              "216936             0.302791             0.160000             0.800000   \n",
              "216937             0.291196             0.111727             1.039230   \n",
              "216938             0.087629             0.032078             0.374166   \n",
              "216939             0.301023             0.131453             1.385641   \n",
              "\n",
              "        ps_reg_02 ps_calc_01  ps_reg_02 ps_calc_02  ps_reg_02 ps_calc_03  \\\n",
              "0                       0.54                  0.18                  0.00   \n",
              "1                       0.12                  0.00                  0.36   \n",
              "2                       0.18                  0.54                  0.06   \n",
              "3                       1.20                  0.60                  0.15   \n",
              "4                       0.48                  0.40                  0.72   \n",
              "...                      ...                   ...                   ...   \n",
              "216935                  0.20                  0.04                  0.20   \n",
              "216936                  0.12                  0.16                  0.24   \n",
              "216937                  0.15                  0.12                  0.18   \n",
              "216938                  0.05                  0.02                  0.06   \n",
              "216939                  0.08                  0.24                  0.12   \n",
              "\n",
              "        ps_reg_03^2  ps_reg_03 ps_car_12  ps_reg_03 ps_car_13  \\\n",
              "0          0.702500             0.309095             0.453108   \n",
              "1          0.530625             0.309051             0.278958   \n",
              "2          0.755625             0.347707             0.707819   \n",
              "3          2.910000             0.682349             1.430181   \n",
              "4          1.180625             0.434626             0.984186   \n",
              "...             ...                  ...                  ...   \n",
              "216935     2.364375             0.652371             1.951452   \n",
              "216936     0.807951             0.381354             0.680419   \n",
              "216937     0.506875             0.284781             0.691059   \n",
              "216938     0.333125             0.182517             0.505771   \n",
              "216939     1.199375             0.409771             0.824171   \n",
              "\n",
              "        ps_reg_03 ps_car_14  ps_reg_03 ps_car_15  ps_reg_03 ps_calc_01  \\\n",
              "0                  0.289739             1.676305              0.754337   \n",
              "1                  0.275943             0.000000              0.145688   \n",
              "2                  0.349765             2.883032              0.260780   \n",
              "3                  0.645532             6.150610              1.364698   \n",
              "4                  0.418151             3.917668              0.651939   \n",
              "...                     ...                  ...                   ...   \n",
              "216935             0.591547             4.862484              0.768826   \n",
              "216936             0.359544             1.797722              0.269658   \n",
              "216937             0.265148             2.466272              0.355976   \n",
              "216938             0.185145             2.159572              0.288585   \n",
              "216939             0.359906             3.793745              0.219032   \n",
              "\n",
              "        ps_reg_03 ps_calc_02  ps_reg_03 ps_calc_03  ps_car_12^2  \\\n",
              "0                   0.251446              0.000000        0.136   \n",
              "1                   0.000000              0.437064        0.180   \n",
              "2                   0.782340              0.086927        0.160   \n",
              "3                   0.682349              0.170587        0.160   \n",
              "4                   0.543283              0.977909        0.160   \n",
              "...                      ...                   ...          ...   \n",
              "216935              0.153765              0.768826        0.180   \n",
              "216936              0.359544              0.539317        0.180   \n",
              "216937              0.284781              0.427171        0.160   \n",
              "216938              0.115434              0.346302        0.100   \n",
              "216939              0.657096              0.328548        0.140   \n",
              "\n",
              "        ps_car_12 ps_car_13  ps_car_12 ps_car_14  ps_car_12 ps_car_15  \\\n",
              "0                  0.199365             0.127483             0.737564   \n",
              "1                  0.162473             0.160717             0.000000   \n",
              "2                  0.325708             0.160947             1.326650   \n",
              "3                  0.335355             0.151367             1.442221   \n",
              "4                  0.362311             0.153935             1.442221   \n",
              "...                     ...                  ...                  ...   \n",
              "216935             0.538438             0.163218             1.341641   \n",
              "216936             0.321159             0.169706             0.848528   \n",
              "216937             0.388262             0.148970             1.385641   \n",
              "216938             0.277109             0.101440             1.183216   \n",
              "216939             0.281581             0.122963             1.296148   \n",
              "\n",
              "        ps_car_12 ps_calc_01  ps_car_12 ps_calc_02  ps_car_12 ps_calc_03  \\\n",
              "0                   0.331904              0.110635              0.000000   \n",
              "1                   0.084853              0.000000              0.254558   \n",
              "2                   0.120000              0.360000              0.040000   \n",
              "3                   0.320000              0.160000              0.040000   \n",
              "4                   0.240000              0.200000              0.360000   \n",
              "...                      ...                   ...                   ...   \n",
              "216935              0.212132              0.042426              0.212132   \n",
              "216936              0.127279              0.169706              0.254558   \n",
              "216937              0.200000              0.160000              0.240000   \n",
              "216938              0.158114              0.063246              0.189737   \n",
              "216939              0.074833              0.224499              0.112250   \n",
              "\n",
              "        ps_car_13^2  ps_car_13 ps_car_14  ps_car_13 ps_car_15  \\\n",
              "0          0.292252             0.186880             1.081207   \n",
              "1          0.146653             0.145068             0.000000   \n",
              "2          0.663037             0.327637             2.700631   \n",
              "3          0.702893             0.317260             3.022847   \n",
              "4          0.820432             0.348577             3.265825   \n",
              "...             ...                  ...                  ...   \n",
              "216935     1.610644             0.488237             4.013282   \n",
              "216936     0.573017             0.302791             1.513957   \n",
              "216937     0.942169             0.361495             3.362445   \n",
              "216938     0.767893             0.281098             3.278795   \n",
              "216939     0.566343             0.247316             2.606936   \n",
              "\n",
              "        ps_car_13 ps_calc_01  ps_car_13 ps_calc_02  ps_car_13 ps_calc_03  \\\n",
              "0                   0.486543              0.162181              0.000000   \n",
              "1                   0.076591              0.000000              0.229772   \n",
              "2                   0.244281              0.732844              0.081427   \n",
              "3                   0.670710              0.335355              0.083839   \n",
              "4                   0.543466              0.452888              0.815199   \n",
              "...                      ...                   ...                   ...   \n",
              "216935              0.634556              0.126911              0.634556   \n",
              "216936              0.227094              0.302791              0.454187   \n",
              "216937              0.485327              0.388262              0.582392   \n",
              "216938              0.438147              0.175259              0.525777   \n",
              "216939              0.150512              0.451535              0.225767   \n",
              "\n",
              "        ps_car_14^2  ps_car_14 ps_car_15  ps_car_14 ps_calc_01  \\\n",
              "0            0.1195             0.691375              0.311119   \n",
              "1            0.1435             0.000000              0.075763   \n",
              "2            0.1619             1.334504              0.120710   \n",
              "3            0.1432             1.364405              0.302734   \n",
              "4            0.1481             1.387552              0.230903   \n",
              "...             ...                  ...                   ...   \n",
              "216935       0.1480             1.216553              0.192354   \n",
              "216936       0.1600             0.800000              0.120000   \n",
              "216937       0.1387             1.290116              0.186212   \n",
              "216938       0.1029             1.200250              0.160390   \n",
              "216939       0.1080             1.138420              0.065727   \n",
              "\n",
              "        ps_car_14 ps_calc_02  ps_car_14 ps_calc_03  ps_car_15^2  \\\n",
              "0                   0.103706              0.000000          4.0   \n",
              "1                   0.000000              0.227288          0.0   \n",
              "2                   0.362131              0.040237         11.0   \n",
              "3                   0.151367              0.037842         13.0   \n",
              "4                   0.192419              0.346354         13.0   \n",
              "...                      ...                   ...          ...   \n",
              "216935              0.038471              0.192354         10.0   \n",
              "216936              0.160000              0.240000          4.0   \n",
              "216937              0.148970              0.223455         12.0   \n",
              "216938              0.064156              0.192468         14.0   \n",
              "216939              0.197180              0.098590         12.0   \n",
              "\n",
              "        ps_car_15 ps_calc_01  ps_car_15 ps_calc_02  ps_car_15 ps_calc_03  \\\n",
              "0                   1.800000              0.600000              0.000000   \n",
              "1                   0.000000              0.000000              0.000000   \n",
              "2                   0.994987              2.984962              0.331662   \n",
              "3                   2.884441              1.442221              0.360555   \n",
              "4                   2.163331              1.802776              3.244996   \n",
              "...                      ...                   ...                   ...   \n",
              "216935              1.581139              0.316228              1.581139   \n",
              "216936              0.600000              0.800000              1.200000   \n",
              "216937              1.732051              1.385641              2.078461   \n",
              "216938              1.870829              0.748331              2.244994   \n",
              "216939              0.692820              2.078461              1.039230   \n",
              "\n",
              "        ps_calc_01^2  ps_calc_01 ps_calc_02  ps_calc_01 ps_calc_03  \\\n",
              "0               0.81                   0.27                   0.00   \n",
              "1               0.04                   0.00                   0.12   \n",
              "2               0.09                   0.27                   0.03   \n",
              "3               0.64                   0.32                   0.08   \n",
              "4               0.36                   0.30                   0.54   \n",
              "...              ...                    ...                    ...   \n",
              "216935          0.25                   0.05                   0.25   \n",
              "216936          0.09                   0.12                   0.18   \n",
              "216937          0.25                   0.20                   0.30   \n",
              "216938          0.25                   0.10                   0.30   \n",
              "216939          0.04                   0.12                   0.06   \n",
              "\n",
              "        ps_calc_02^2  ps_calc_02 ps_calc_03  ps_calc_03^2  target  \n",
              "0               0.09                   0.00          0.00       0  \n",
              "1               0.00                   0.00          0.36       0  \n",
              "2               0.81                   0.09          0.01       0  \n",
              "3               0.16                   0.04          0.01       0  \n",
              "4               0.25                   0.45          0.81       0  \n",
              "...              ...                    ...           ...     ...  \n",
              "216935          0.01                   0.05          0.25       1  \n",
              "216936          0.16                   0.24          0.36       1  \n",
              "216937          0.16                   0.24          0.36       1  \n",
              "216938          0.04                   0.12          0.36       1  \n",
              "216939          0.36                   0.18          0.09       1  \n",
              "\n",
              "[216940 rows x 133 columns]"
            ]
          },
          "metadata": {
            "tags": []
          },
          "execution_count": 57
        }
      ]
    },
    {
      "cell_type": "markdown",
      "metadata": {
        "id": "CAAbtqTfTUWo"
      },
      "source": [
        "# Feature scaling\n",
        "\n",
        "As mentioned before, we can apply standard scaling to the training data.\n",
        "- 전에 말했듯이, 우리는 표준 스케일링을 훈련데이터에 적용할 수 있다.\n",
        "\n",
        "Some classifiers perform better when this is done.\n",
        "- 몇몇 분류기는 한 것보다 더 좋은 성능을 보여준다.\n",
        "\n"
      ]
    },
    {
      "cell_type": "code",
      "metadata": {
        "id": "xO-xwlJWTpkD",
        "colab": {
          "base_uri": "https://localhost:8080/"
        },
        "outputId": "501dd3df-cf9c-4654-e996-d5e4b5c9eedb"
      },
      "source": [
        "scaler = StandardScaler()\n",
        "scaler.fit_transform(train.drop(['target'], axis = 1))"
      ],
      "execution_count": 55,
      "outputs": [
        {
          "output_type": "execute_result",
          "data": {
            "text/plain": [
              "array([[-0.45941104, -1.26665356,  1.25877984, ..., -0.72553616,\n",
              "        -1.01071913, -1.06173767],\n",
              "       [ 1.55538958,  0.95034274,  1.25877984, ..., -1.06120876,\n",
              "        -1.01071913,  0.27907892],\n",
              "       [ 1.05168943, -0.52765479,  1.25877984, ...,  1.95984463,\n",
              "        -0.56215309, -1.02449277],\n",
              "       ...,\n",
              "       [-0.9631112 ,  0.58084336, -0.7944201 , ..., -0.46445747,\n",
              "         0.18545696,  0.27907892],\n",
              "       [-0.9631112 , -0.89715418,  1.25877984, ..., -0.91202093,\n",
              "        -0.41263108,  0.27907892],\n",
              "       [-0.45941104, -1.26665356, -0.7944201 , ...,  0.28148164,\n",
              "        -0.11358706, -0.72653353]])"
            ]
          },
          "metadata": {
            "tags": []
          },
          "execution_count": 55
        }
      ]
    },
    {
      "cell_type": "markdown",
      "metadata": {
        "id": "vkC8cZjYTw2-"
      },
      "source": [
        "# Conclusion\n",
        "\n",
        "Hopefully this notebook helped you with some tips on how to start with  this competition. \n",
        "- 이 노트북이 몇몇 팁과 경연을 어떻게 시작하는지 도움이 되면 좋겠다.\n",
        "\n"
      ]
    },
    {
      "cell_type": "code",
      "metadata": {
        "id": "qRA_4jmaUAyG"
      },
      "source": [
        ""
      ],
      "execution_count": null,
      "outputs": []
    }
  ]
}